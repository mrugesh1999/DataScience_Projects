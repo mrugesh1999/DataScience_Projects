{
 "cells": [
  {
   "cell_type": "markdown",
   "metadata": {},
   "source": [
    "___\n",
    "\n",
    "<a href='http://www.pieriandata.com'> <img src='../Pierian_Data_Logo.png' /></a>\n",
    "___\n",
    "# Plotly and Cufflinks"
   ]
  },
  {
   "cell_type": "markdown",
   "metadata": {},
   "source": [
    "Plotly is a library that allows you to create interactive plots that you can use in dashboards or websites (you can save them as html files or static images).\n",
    "\n",
    "## Installation\n",
    "\n",
    "In order for this all to work, you'll need to install plotly and cufflinks to call plots directly off of a pandas dataframe. These libraries are not currently available through **conda** but are available through **pip**. Install the libraries at your command line/terminal using:\n",
    "\n",
    "    pip install plotly\n",
    "    pip install cufflinks\n",
    "\n",
    "** NOTE: Make sure you only have one installation of Python on your computer when you do this, otherwise the installation may not work. **\n",
    "\n",
    "## Imports and Set-up"
   ]
  },
  {
   "cell_type": "code",
   "execution_count": 68,
   "metadata": {
    "collapsed": true
   },
   "outputs": [],
   "source": [
    "import pandas as pd\n",
    "import numpy as np\n",
    "%matplotlib inline"
   ]
  },
  {
   "cell_type": "code",
   "execution_count": 69,
   "metadata": {
    "collapsed": false
   },
   "outputs": [
    {
     "name": "stdout",
     "output_type": "stream",
     "text": [
      "5.15.0\n"
     ]
    }
   ],
   "source": [
    "from plotly import __version__\n",
    "from plotly.offline import download_plotlyjs, init_notebook_mode, plot, iplot\n",
    "\n",
    "print(__version__) # requires version >= 1.9.0"
   ]
  },
  {
   "cell_type": "code",
   "execution_count": 70,
   "metadata": {
    "collapsed": true
   },
   "outputs": [],
   "source": [
    "import cufflinks as cf"
   ]
  },
  {
   "cell_type": "code",
   "execution_count": 71,
   "metadata": {
    "collapsed": false
   },
   "outputs": [
    {
     "data": {
      "text/html": [
       "        <script type=\"text/javascript\">\n",
       "        window.PlotlyConfig = {MathJaxConfig: 'local'};\n",
       "        if (window.MathJax && window.MathJax.Hub && window.MathJax.Hub.Config) {window.MathJax.Hub.Config({SVG: {font: \"STIX-Web\"}});}\n",
       "        if (typeof require !== 'undefined') {\n",
       "        require.undef(\"plotly\");\n",
       "        requirejs.config({\n",
       "            paths: {\n",
       "                'plotly': ['https://cdn.plot.ly/plotly-2.24.1.min']\n",
       "            }\n",
       "        });\n",
       "        require(['plotly'], function(Plotly) {\n",
       "            window._Plotly = Plotly;\n",
       "        });\n",
       "        }\n",
       "        </script>\n",
       "        "
      ]
     },
     "metadata": {},
     "output_type": "display_data"
    }
   ],
   "source": [
    "# For Notebooks\n",
    "init_notebook_mode(connected=True)"
   ]
  },
  {
   "cell_type": "code",
   "execution_count": 72,
   "metadata": {
    "collapsed": false
   },
   "outputs": [
    {
     "data": {
      "text/html": [
       "        <script type=\"text/javascript\">\n",
       "        window.PlotlyConfig = {MathJaxConfig: 'local'};\n",
       "        if (window.MathJax && window.MathJax.Hub && window.MathJax.Hub.Config) {window.MathJax.Hub.Config({SVG: {font: \"STIX-Web\"}});}\n",
       "        if (typeof require !== 'undefined') {\n",
       "        require.undef(\"plotly\");\n",
       "        requirejs.config({\n",
       "            paths: {\n",
       "                'plotly': ['https://cdn.plot.ly/plotly-2.24.1.min']\n",
       "            }\n",
       "        });\n",
       "        require(['plotly'], function(Plotly) {\n",
       "            window._Plotly = Plotly;\n",
       "        });\n",
       "        }\n",
       "        </script>\n",
       "        "
      ]
     },
     "metadata": {},
     "output_type": "display_data"
    }
   ],
   "source": [
    "# For offline use\n",
    "cf.go_offline()"
   ]
  },
  {
   "cell_type": "markdown",
   "metadata": {},
   "source": [
    "### Fake Data"
   ]
  },
  {
   "cell_type": "code",
   "execution_count": 73,
   "metadata": {
    "collapsed": false
   },
   "outputs": [],
   "source": [
    "df = pd.DataFrame(np.random.randn(100,4),columns='A B C D'.split())"
   ]
  },
  {
   "cell_type": "code",
   "execution_count": 74,
   "metadata": {
    "collapsed": false
   },
   "outputs": [
    {
     "data": {
      "text/html": [
       "<div>\n",
       "<style scoped>\n",
       "    .dataframe tbody tr th:only-of-type {\n",
       "        vertical-align: middle;\n",
       "    }\n",
       "\n",
       "    .dataframe tbody tr th {\n",
       "        vertical-align: top;\n",
       "    }\n",
       "\n",
       "    .dataframe thead th {\n",
       "        text-align: right;\n",
       "    }\n",
       "</style>\n",
       "<table border=\"1\" class=\"dataframe\">\n",
       "  <thead>\n",
       "    <tr style=\"text-align: right;\">\n",
       "      <th></th>\n",
       "      <th>A</th>\n",
       "      <th>B</th>\n",
       "      <th>C</th>\n",
       "      <th>D</th>\n",
       "    </tr>\n",
       "  </thead>\n",
       "  <tbody>\n",
       "    <tr>\n",
       "      <th>0</th>\n",
       "      <td>-1.719043</td>\n",
       "      <td>-0.745365</td>\n",
       "      <td>-0.274968</td>\n",
       "      <td>0.360778</td>\n",
       "    </tr>\n",
       "    <tr>\n",
       "      <th>1</th>\n",
       "      <td>-1.044421</td>\n",
       "      <td>-0.732486</td>\n",
       "      <td>1.933574</td>\n",
       "      <td>-1.736483</td>\n",
       "    </tr>\n",
       "    <tr>\n",
       "      <th>2</th>\n",
       "      <td>-1.228155</td>\n",
       "      <td>2.571441</td>\n",
       "      <td>-0.665120</td>\n",
       "      <td>1.370195</td>\n",
       "    </tr>\n",
       "    <tr>\n",
       "      <th>3</th>\n",
       "      <td>-0.188100</td>\n",
       "      <td>-1.328801</td>\n",
       "      <td>-0.925232</td>\n",
       "      <td>-1.571880</td>\n",
       "    </tr>\n",
       "    <tr>\n",
       "      <th>4</th>\n",
       "      <td>-0.023667</td>\n",
       "      <td>-0.375715</td>\n",
       "      <td>1.077892</td>\n",
       "      <td>-0.057564</td>\n",
       "    </tr>\n",
       "  </tbody>\n",
       "</table>\n",
       "</div>"
      ],
      "text/plain": [
       "          A         B         C         D\n",
       "0 -1.719043 -0.745365 -0.274968  0.360778\n",
       "1 -1.044421 -0.732486  1.933574 -1.736483\n",
       "2 -1.228155  2.571441 -0.665120  1.370195\n",
       "3 -0.188100 -1.328801 -0.925232 -1.571880\n",
       "4 -0.023667 -0.375715  1.077892 -0.057564"
      ]
     },
     "execution_count": 74,
     "metadata": {},
     "output_type": "execute_result"
    }
   ],
   "source": [
    "df.head()"
   ]
  },
  {
   "cell_type": "code",
   "execution_count": 75,
   "metadata": {
    "collapsed": true
   },
   "outputs": [],
   "source": [
    "df2 = pd.DataFrame({'Category':['A','B','C'],'Values':[32,43,50]})"
   ]
  },
  {
   "cell_type": "code",
   "execution_count": 76,
   "metadata": {
    "collapsed": false
   },
   "outputs": [
    {
     "data": {
      "text/html": [
       "<div>\n",
       "<style scoped>\n",
       "    .dataframe tbody tr th:only-of-type {\n",
       "        vertical-align: middle;\n",
       "    }\n",
       "\n",
       "    .dataframe tbody tr th {\n",
       "        vertical-align: top;\n",
       "    }\n",
       "\n",
       "    .dataframe thead th {\n",
       "        text-align: right;\n",
       "    }\n",
       "</style>\n",
       "<table border=\"1\" class=\"dataframe\">\n",
       "  <thead>\n",
       "    <tr style=\"text-align: right;\">\n",
       "      <th></th>\n",
       "      <th>Category</th>\n",
       "      <th>Values</th>\n",
       "    </tr>\n",
       "  </thead>\n",
       "  <tbody>\n",
       "    <tr>\n",
       "      <th>0</th>\n",
       "      <td>A</td>\n",
       "      <td>32</td>\n",
       "    </tr>\n",
       "    <tr>\n",
       "      <th>1</th>\n",
       "      <td>B</td>\n",
       "      <td>43</td>\n",
       "    </tr>\n",
       "    <tr>\n",
       "      <th>2</th>\n",
       "      <td>C</td>\n",
       "      <td>50</td>\n",
       "    </tr>\n",
       "  </tbody>\n",
       "</table>\n",
       "</div>"
      ],
      "text/plain": [
       "  Category  Values\n",
       "0        A      32\n",
       "1        B      43\n",
       "2        C      50"
      ]
     },
     "execution_count": 76,
     "metadata": {},
     "output_type": "execute_result"
    }
   ],
   "source": [
    "df2.head()"
   ]
  },
  {
   "cell_type": "markdown",
   "metadata": {},
   "source": [
    "## Using Cufflinks and iplot()\n",
    "\n",
    "* scatter\n",
    "* bar\n",
    "* box\n",
    "* spread\n",
    "* ratio\n",
    "* heatmap\n",
    "* surface\n",
    "* histogram\n",
    "* bubble"
   ]
  },
  {
   "cell_type": "markdown",
   "metadata": {},
   "source": [
    "## Scatter"
   ]
  },
  {
   "cell_type": "code",
   "execution_count": 77,
   "metadata": {
    "collapsed": false
   },
   "outputs": [
    {
     "data": {
      "application/vnd.plotly.v1+json": {
       "config": {
        "linkText": "Export to plot.ly",
        "plotlyServerURL": "https://plot.ly",
        "showLink": true
       },
       "data": [
        {
         "line": {
          "color": "rgba(255, 153, 51, 1.0)",
          "dash": "solid",
          "shape": "linear",
          "width": 1.3
         },
         "marker": {
          "size": 10,
          "symbol": "circle"
         },
         "mode": "markers",
         "name": "B",
         "text": "",
         "type": "scatter",
         "x": [
          -1.7190432325639267,
          -1.0444212488203901,
          -1.2281548596652592,
          -0.1880998649496823,
          -0.023666518836465148,
          0.27316113327019337,
          0.1392557211801331,
          -0.1494975001196965,
          -0.3281889047311518,
          0.7630128577687965,
          -0.9887978159070222,
          1.7602940270080043,
          -0.2443307029648765,
          0.0605555077267923,
          0.1608818236220502,
          1.4725369594926774,
          0.7975054750093041,
          -1.2597645955801993,
          -0.2836042636557704,
          -1.3410643134511464,
          -3.082807509142449,
          0.10040955668920086,
          0.1190737877344889,
          -0.5194247208533813,
          -0.16041717951496873,
          -0.42019672544201253,
          -1.04630908270048,
          -1.0746470636561334,
          -0.2507817944882134,
          1.3128743750521201,
          0.47677732348050544,
          -0.5016507885943113,
          -0.407164342153989,
          -0.4952068718492648,
          -1.9667141629945057,
          0.330738501568156,
          0.8231660176547433,
          -0.5410515779966526,
          -0.46213876737850607,
          0.7763166570459573,
          -0.6854161078703633,
          0.9258852531425174,
          0.4452776659573741,
          0.1433919156308816,
          -0.5098633064390098,
          -1.6418834096841597,
          -0.9962361443896429,
          0.22733971103411632,
          1.8023099350953908,
          -0.46223753528257855,
          1.2024043335033523,
          -0.021680216105745824,
          -0.11402535562032319,
          -1.4421018473008114,
          -1.9768110804667434,
          0.771427797107187,
          -1.0961710380387748,
          0.5565420326255095,
          -1.2145782582885567,
          0.30716424383178914,
          -0.12051682741956476,
          0.08116981124048986,
          0.44409374469694546,
          0.32083407252942153,
          0.3284735979520984,
          1.2192042097398912,
          -0.08975218466167159,
          -0.7140739603542511,
          0.4929877565568179,
          -1.2495573399079385,
          -0.6551128437891885,
          -0.8055926026047565,
          0.9759313697721583,
          -0.32086986532559747,
          0.24938951455511105,
          1.0442989049164786,
          -0.21363696146902908,
          0.570467105783283,
          0.2018693877141919,
          -0.13677987220970744,
          1.141767519963179,
          -0.006674965663933419,
          -1.4001570009577424,
          -1.223387694657123,
          -1.5242392898964017,
          0.36198253172389483,
          -1.1542234126310464,
          -0.0432496695709186,
          -0.5385172809397573,
          -0.22561010953102295,
          -0.8815368257685243,
          0.03440737070312135,
          0.380176200295355,
          0.5451192543663047,
          2.1009187284632276,
          1.2262948214107132,
          -1.1259771549283395,
          -0.4092797319064413,
          0.8238088159521023,
          2.701443028227148
         ],
         "y": [
          -0.7453650578061853,
          -0.732485868230905,
          2.571440856130466,
          -1.3288014757770887,
          -0.37571548259490545,
          1.353542151236892,
          1.93286073520079,
          2.0533955712126146,
          -0.6382279278868261,
          1.006911855066834,
          -0.8508485018441402,
          -0.3345162882904823,
          0.8196876101635465,
          -0.5182830042287909,
          -0.8872208937328169,
          -0.6977613360071452,
          0.8329749491099315,
          1.6278156329603701,
          -0.5918599160082817,
          0.5979676482099805,
          -0.21096248033595624,
          0.6580358342875058,
          0.07754165507905827,
          -0.3918294815826402,
          -0.12282736170431181,
          -0.4380063170871286,
          0.24626681996064265,
          -0.4750318627570162,
          -0.2941999491946126,
          -1.5270439756558192,
          -0.18562428035420844,
          -0.5423611512392887,
          -1.2264486791305123,
          0.3676093812347672,
          1.033419704658409,
          -0.6567831499467796,
          -0.7032492021918825,
          -1.1557532341470151,
          0.5600311571157386,
          -0.9334259060271239,
          -0.5989668140682524,
          -1.3131661082909658,
          -0.9527241875250738,
          2.1076321001344995,
          0.7907645450042046,
          0.045317753071620864,
          -0.5422493792125058,
          0.09857118965031991,
          0.6052916763925353,
          -0.392869883278384,
          -2.1728167312609594,
          0.19129452413895515,
          -0.4482696369760158,
          0.7536670650604307,
          3.0297697508518535,
          -1.4843336527711002,
          0.24516289995024912,
          -0.07823342244748287,
          1.8600695154382882,
          0.1652695904259634,
          0.5803836626659503,
          0.23363792298583005,
          1.9757625435411996,
          0.2668853669235514,
          -0.9279029959151173,
          -0.4834953930206035,
          -0.6366637869200468,
          -0.15419250778739807,
          -1.0199977291771138,
          0.927786461653511,
          0.4029687170081699,
          0.8255307678139705,
          0.6168162267979052,
          0.6284463701216723,
          -1.9754562759861336,
          -2.104602026931329,
          0.9544746502463938,
          -1.0692132136829424,
          0.7449650141369406,
          0.34937979315948636,
          1.2680493437929372,
          0.45804927462531686,
          1.5888458959012468,
          -0.6233348854103765,
          -0.46910717109893024,
          -1.9199036442570905,
          1.8333260115694225,
          0.44932592617168915,
          -0.8415764549515934,
          -1.8682125418564481,
          -0.11105533756615614,
          0.17216434633769956,
          0.6110137590737573,
          0.8806559097453874,
          -1.3571457712679595,
          1.6712324155356806,
          -0.9400650924848841,
          -1.2679553064567328,
          -0.885456193058384,
          0.22823409955739418
         ]
        }
       ],
       "layout": {
        "legend": {
         "bgcolor": "#F5F6F9",
         "font": {
          "color": "#4D5663"
         }
        },
        "paper_bgcolor": "#F5F6F9",
        "plot_bgcolor": "#F5F6F9",
        "template": {
         "data": {
          "bar": [
           {
            "error_x": {
             "color": "#2a3f5f"
            },
            "error_y": {
             "color": "#2a3f5f"
            },
            "marker": {
             "line": {
              "color": "#E5ECF6",
              "width": 0.5
             },
             "pattern": {
              "fillmode": "overlay",
              "size": 10,
              "solidity": 0.2
             }
            },
            "type": "bar"
           }
          ],
          "barpolar": [
           {
            "marker": {
             "line": {
              "color": "#E5ECF6",
              "width": 0.5
             },
             "pattern": {
              "fillmode": "overlay",
              "size": 10,
              "solidity": 0.2
             }
            },
            "type": "barpolar"
           }
          ],
          "carpet": [
           {
            "aaxis": {
             "endlinecolor": "#2a3f5f",
             "gridcolor": "white",
             "linecolor": "white",
             "minorgridcolor": "white",
             "startlinecolor": "#2a3f5f"
            },
            "baxis": {
             "endlinecolor": "#2a3f5f",
             "gridcolor": "white",
             "linecolor": "white",
             "minorgridcolor": "white",
             "startlinecolor": "#2a3f5f"
            },
            "type": "carpet"
           }
          ],
          "choropleth": [
           {
            "colorbar": {
             "outlinewidth": 0,
             "ticks": ""
            },
            "type": "choropleth"
           }
          ],
          "contour": [
           {
            "colorbar": {
             "outlinewidth": 0,
             "ticks": ""
            },
            "colorscale": [
             [
              0,
              "#0d0887"
             ],
             [
              0.1111111111111111,
              "#46039f"
             ],
             [
              0.2222222222222222,
              "#7201a8"
             ],
             [
              0.3333333333333333,
              "#9c179e"
             ],
             [
              0.4444444444444444,
              "#bd3786"
             ],
             [
              0.5555555555555556,
              "#d8576b"
             ],
             [
              0.6666666666666666,
              "#ed7953"
             ],
             [
              0.7777777777777778,
              "#fb9f3a"
             ],
             [
              0.8888888888888888,
              "#fdca26"
             ],
             [
              1,
              "#f0f921"
             ]
            ],
            "type": "contour"
           }
          ],
          "contourcarpet": [
           {
            "colorbar": {
             "outlinewidth": 0,
             "ticks": ""
            },
            "type": "contourcarpet"
           }
          ],
          "heatmap": [
           {
            "colorbar": {
             "outlinewidth": 0,
             "ticks": ""
            },
            "colorscale": [
             [
              0,
              "#0d0887"
             ],
             [
              0.1111111111111111,
              "#46039f"
             ],
             [
              0.2222222222222222,
              "#7201a8"
             ],
             [
              0.3333333333333333,
              "#9c179e"
             ],
             [
              0.4444444444444444,
              "#bd3786"
             ],
             [
              0.5555555555555556,
              "#d8576b"
             ],
             [
              0.6666666666666666,
              "#ed7953"
             ],
             [
              0.7777777777777778,
              "#fb9f3a"
             ],
             [
              0.8888888888888888,
              "#fdca26"
             ],
             [
              1,
              "#f0f921"
             ]
            ],
            "type": "heatmap"
           }
          ],
          "heatmapgl": [
           {
            "colorbar": {
             "outlinewidth": 0,
             "ticks": ""
            },
            "colorscale": [
             [
              0,
              "#0d0887"
             ],
             [
              0.1111111111111111,
              "#46039f"
             ],
             [
              0.2222222222222222,
              "#7201a8"
             ],
             [
              0.3333333333333333,
              "#9c179e"
             ],
             [
              0.4444444444444444,
              "#bd3786"
             ],
             [
              0.5555555555555556,
              "#d8576b"
             ],
             [
              0.6666666666666666,
              "#ed7953"
             ],
             [
              0.7777777777777778,
              "#fb9f3a"
             ],
             [
              0.8888888888888888,
              "#fdca26"
             ],
             [
              1,
              "#f0f921"
             ]
            ],
            "type": "heatmapgl"
           }
          ],
          "histogram": [
           {
            "marker": {
             "pattern": {
              "fillmode": "overlay",
              "size": 10,
              "solidity": 0.2
             }
            },
            "type": "histogram"
           }
          ],
          "histogram2d": [
           {
            "colorbar": {
             "outlinewidth": 0,
             "ticks": ""
            },
            "colorscale": [
             [
              0,
              "#0d0887"
             ],
             [
              0.1111111111111111,
              "#46039f"
             ],
             [
              0.2222222222222222,
              "#7201a8"
             ],
             [
              0.3333333333333333,
              "#9c179e"
             ],
             [
              0.4444444444444444,
              "#bd3786"
             ],
             [
              0.5555555555555556,
              "#d8576b"
             ],
             [
              0.6666666666666666,
              "#ed7953"
             ],
             [
              0.7777777777777778,
              "#fb9f3a"
             ],
             [
              0.8888888888888888,
              "#fdca26"
             ],
             [
              1,
              "#f0f921"
             ]
            ],
            "type": "histogram2d"
           }
          ],
          "histogram2dcontour": [
           {
            "colorbar": {
             "outlinewidth": 0,
             "ticks": ""
            },
            "colorscale": [
             [
              0,
              "#0d0887"
             ],
             [
              0.1111111111111111,
              "#46039f"
             ],
             [
              0.2222222222222222,
              "#7201a8"
             ],
             [
              0.3333333333333333,
              "#9c179e"
             ],
             [
              0.4444444444444444,
              "#bd3786"
             ],
             [
              0.5555555555555556,
              "#d8576b"
             ],
             [
              0.6666666666666666,
              "#ed7953"
             ],
             [
              0.7777777777777778,
              "#fb9f3a"
             ],
             [
              0.8888888888888888,
              "#fdca26"
             ],
             [
              1,
              "#f0f921"
             ]
            ],
            "type": "histogram2dcontour"
           }
          ],
          "mesh3d": [
           {
            "colorbar": {
             "outlinewidth": 0,
             "ticks": ""
            },
            "type": "mesh3d"
           }
          ],
          "parcoords": [
           {
            "line": {
             "colorbar": {
              "outlinewidth": 0,
              "ticks": ""
             }
            },
            "type": "parcoords"
           }
          ],
          "pie": [
           {
            "automargin": true,
            "type": "pie"
           }
          ],
          "scatter": [
           {
            "fillpattern": {
             "fillmode": "overlay",
             "size": 10,
             "solidity": 0.2
            },
            "type": "scatter"
           }
          ],
          "scatter3d": [
           {
            "line": {
             "colorbar": {
              "outlinewidth": 0,
              "ticks": ""
             }
            },
            "marker": {
             "colorbar": {
              "outlinewidth": 0,
              "ticks": ""
             }
            },
            "type": "scatter3d"
           }
          ],
          "scattercarpet": [
           {
            "marker": {
             "colorbar": {
              "outlinewidth": 0,
              "ticks": ""
             }
            },
            "type": "scattercarpet"
           }
          ],
          "scattergeo": [
           {
            "marker": {
             "colorbar": {
              "outlinewidth": 0,
              "ticks": ""
             }
            },
            "type": "scattergeo"
           }
          ],
          "scattergl": [
           {
            "marker": {
             "colorbar": {
              "outlinewidth": 0,
              "ticks": ""
             }
            },
            "type": "scattergl"
           }
          ],
          "scattermapbox": [
           {
            "marker": {
             "colorbar": {
              "outlinewidth": 0,
              "ticks": ""
             }
            },
            "type": "scattermapbox"
           }
          ],
          "scatterpolar": [
           {
            "marker": {
             "colorbar": {
              "outlinewidth": 0,
              "ticks": ""
             }
            },
            "type": "scatterpolar"
           }
          ],
          "scatterpolargl": [
           {
            "marker": {
             "colorbar": {
              "outlinewidth": 0,
              "ticks": ""
             }
            },
            "type": "scatterpolargl"
           }
          ],
          "scatterternary": [
           {
            "marker": {
             "colorbar": {
              "outlinewidth": 0,
              "ticks": ""
             }
            },
            "type": "scatterternary"
           }
          ],
          "surface": [
           {
            "colorbar": {
             "outlinewidth": 0,
             "ticks": ""
            },
            "colorscale": [
             [
              0,
              "#0d0887"
             ],
             [
              0.1111111111111111,
              "#46039f"
             ],
             [
              0.2222222222222222,
              "#7201a8"
             ],
             [
              0.3333333333333333,
              "#9c179e"
             ],
             [
              0.4444444444444444,
              "#bd3786"
             ],
             [
              0.5555555555555556,
              "#d8576b"
             ],
             [
              0.6666666666666666,
              "#ed7953"
             ],
             [
              0.7777777777777778,
              "#fb9f3a"
             ],
             [
              0.8888888888888888,
              "#fdca26"
             ],
             [
              1,
              "#f0f921"
             ]
            ],
            "type": "surface"
           }
          ],
          "table": [
           {
            "cells": {
             "fill": {
              "color": "#EBF0F8"
             },
             "line": {
              "color": "white"
             }
            },
            "header": {
             "fill": {
              "color": "#C8D4E3"
             },
             "line": {
              "color": "white"
             }
            },
            "type": "table"
           }
          ]
         },
         "layout": {
          "annotationdefaults": {
           "arrowcolor": "#2a3f5f",
           "arrowhead": 0,
           "arrowwidth": 1
          },
          "autotypenumbers": "strict",
          "coloraxis": {
           "colorbar": {
            "outlinewidth": 0,
            "ticks": ""
           }
          },
          "colorscale": {
           "diverging": [
            [
             0,
             "#8e0152"
            ],
            [
             0.1,
             "#c51b7d"
            ],
            [
             0.2,
             "#de77ae"
            ],
            [
             0.3,
             "#f1b6da"
            ],
            [
             0.4,
             "#fde0ef"
            ],
            [
             0.5,
             "#f7f7f7"
            ],
            [
             0.6,
             "#e6f5d0"
            ],
            [
             0.7,
             "#b8e186"
            ],
            [
             0.8,
             "#7fbc41"
            ],
            [
             0.9,
             "#4d9221"
            ],
            [
             1,
             "#276419"
            ]
           ],
           "sequential": [
            [
             0,
             "#0d0887"
            ],
            [
             0.1111111111111111,
             "#46039f"
            ],
            [
             0.2222222222222222,
             "#7201a8"
            ],
            [
             0.3333333333333333,
             "#9c179e"
            ],
            [
             0.4444444444444444,
             "#bd3786"
            ],
            [
             0.5555555555555556,
             "#d8576b"
            ],
            [
             0.6666666666666666,
             "#ed7953"
            ],
            [
             0.7777777777777778,
             "#fb9f3a"
            ],
            [
             0.8888888888888888,
             "#fdca26"
            ],
            [
             1,
             "#f0f921"
            ]
           ],
           "sequentialminus": [
            [
             0,
             "#0d0887"
            ],
            [
             0.1111111111111111,
             "#46039f"
            ],
            [
             0.2222222222222222,
             "#7201a8"
            ],
            [
             0.3333333333333333,
             "#9c179e"
            ],
            [
             0.4444444444444444,
             "#bd3786"
            ],
            [
             0.5555555555555556,
             "#d8576b"
            ],
            [
             0.6666666666666666,
             "#ed7953"
            ],
            [
             0.7777777777777778,
             "#fb9f3a"
            ],
            [
             0.8888888888888888,
             "#fdca26"
            ],
            [
             1,
             "#f0f921"
            ]
           ]
          },
          "colorway": [
           "#636efa",
           "#EF553B",
           "#00cc96",
           "#ab63fa",
           "#FFA15A",
           "#19d3f3",
           "#FF6692",
           "#B6E880",
           "#FF97FF",
           "#FECB52"
          ],
          "font": {
           "color": "#2a3f5f"
          },
          "geo": {
           "bgcolor": "white",
           "lakecolor": "white",
           "landcolor": "#E5ECF6",
           "showlakes": true,
           "showland": true,
           "subunitcolor": "white"
          },
          "hoverlabel": {
           "align": "left"
          },
          "hovermode": "closest",
          "mapbox": {
           "style": "light"
          },
          "paper_bgcolor": "white",
          "plot_bgcolor": "#E5ECF6",
          "polar": {
           "angularaxis": {
            "gridcolor": "white",
            "linecolor": "white",
            "ticks": ""
           },
           "bgcolor": "#E5ECF6",
           "radialaxis": {
            "gridcolor": "white",
            "linecolor": "white",
            "ticks": ""
           }
          },
          "scene": {
           "xaxis": {
            "backgroundcolor": "#E5ECF6",
            "gridcolor": "white",
            "gridwidth": 2,
            "linecolor": "white",
            "showbackground": true,
            "ticks": "",
            "zerolinecolor": "white"
           },
           "yaxis": {
            "backgroundcolor": "#E5ECF6",
            "gridcolor": "white",
            "gridwidth": 2,
            "linecolor": "white",
            "showbackground": true,
            "ticks": "",
            "zerolinecolor": "white"
           },
           "zaxis": {
            "backgroundcolor": "#E5ECF6",
            "gridcolor": "white",
            "gridwidth": 2,
            "linecolor": "white",
            "showbackground": true,
            "ticks": "",
            "zerolinecolor": "white"
           }
          },
          "shapedefaults": {
           "line": {
            "color": "#2a3f5f"
           }
          },
          "ternary": {
           "aaxis": {
            "gridcolor": "white",
            "linecolor": "white",
            "ticks": ""
           },
           "baxis": {
            "gridcolor": "white",
            "linecolor": "white",
            "ticks": ""
           },
           "bgcolor": "#E5ECF6",
           "caxis": {
            "gridcolor": "white",
            "linecolor": "white",
            "ticks": ""
           }
          },
          "title": {
           "x": 0.05
          },
          "xaxis": {
           "automargin": true,
           "gridcolor": "white",
           "linecolor": "white",
           "ticks": "",
           "title": {
            "standoff": 15
           },
           "zerolinecolor": "white",
           "zerolinewidth": 2
          },
          "yaxis": {
           "automargin": true,
           "gridcolor": "white",
           "linecolor": "white",
           "ticks": "",
           "title": {
            "standoff": 15
           },
           "zerolinecolor": "white",
           "zerolinewidth": 2
          }
         }
        },
        "title": {
         "font": {
          "color": "#4D5663"
         }
        },
        "xaxis": {
         "gridcolor": "#E1E5ED",
         "showgrid": true,
         "tickfont": {
          "color": "#4D5663"
         },
         "title": {
          "font": {
           "color": "#4D5663"
          },
          "text": ""
         },
         "zerolinecolor": "#E1E5ED"
        },
        "yaxis": {
         "gridcolor": "#E1E5ED",
         "showgrid": true,
         "tickfont": {
          "color": "#4D5663"
         },
         "title": {
          "font": {
           "color": "#4D5663"
          },
          "text": ""
         },
         "zerolinecolor": "#E1E5ED"
        }
       }
      },
      "text/html": [
       "<div>                            <div id=\"4b1be857-6b11-4414-8a1b-9a5b4e2002bd\" class=\"plotly-graph-div\" style=\"height:525px; width:100%;\"></div>            <script type=\"text/javascript\">                require([\"plotly\"], function(Plotly) {                    window.PLOTLYENV=window.PLOTLYENV || {};\n",
       "                    window.PLOTLYENV.BASE_URL='https://plot.ly';                                    if (document.getElementById(\"4b1be857-6b11-4414-8a1b-9a5b4e2002bd\")) {                    Plotly.newPlot(                        \"4b1be857-6b11-4414-8a1b-9a5b4e2002bd\",                        [{\"line\":{\"color\":\"rgba(255, 153, 51, 1.0)\",\"dash\":\"solid\",\"shape\":\"linear\",\"width\":1.3},\"marker\":{\"size\":10,\"symbol\":\"circle\"},\"mode\":\"markers\",\"name\":\"B\",\"text\":\"\",\"x\":[-1.7190432325639267,-1.0444212488203901,-1.2281548596652592,-0.1880998649496823,-0.023666518836465148,0.27316113327019337,0.1392557211801331,-0.1494975001196965,-0.3281889047311518,0.7630128577687965,-0.9887978159070222,1.7602940270080043,-0.2443307029648765,0.0605555077267923,0.1608818236220502,1.4725369594926774,0.7975054750093041,-1.2597645955801993,-0.2836042636557704,-1.3410643134511464,-3.082807509142449,0.10040955668920086,0.1190737877344889,-0.5194247208533813,-0.16041717951496873,-0.42019672544201253,-1.04630908270048,-1.0746470636561334,-0.2507817944882134,1.3128743750521201,0.47677732348050544,-0.5016507885943113,-0.407164342153989,-0.4952068718492648,-1.9667141629945057,0.330738501568156,0.8231660176547433,-0.5410515779966526,-0.46213876737850607,0.7763166570459573,-0.6854161078703633,0.9258852531425174,0.4452776659573741,0.1433919156308816,-0.5098633064390098,-1.6418834096841597,-0.9962361443896429,0.22733971103411632,1.8023099350953908,-0.46223753528257855,1.2024043335033523,-0.021680216105745824,-0.11402535562032319,-1.4421018473008114,-1.9768110804667434,0.771427797107187,-1.0961710380387748,0.5565420326255095,-1.2145782582885567,0.30716424383178914,-0.12051682741956476,0.08116981124048986,0.44409374469694546,0.32083407252942153,0.3284735979520984,1.2192042097398912,-0.08975218466167159,-0.7140739603542511,0.4929877565568179,-1.2495573399079385,-0.6551128437891885,-0.8055926026047565,0.9759313697721583,-0.32086986532559747,0.24938951455511105,1.0442989049164786,-0.21363696146902908,0.570467105783283,0.2018693877141919,-0.13677987220970744,1.141767519963179,-0.006674965663933419,-1.4001570009577424,-1.223387694657123,-1.5242392898964017,0.36198253172389483,-1.1542234126310464,-0.0432496695709186,-0.5385172809397573,-0.22561010953102295,-0.8815368257685243,0.03440737070312135,0.380176200295355,0.5451192543663047,2.1009187284632276,1.2262948214107132,-1.1259771549283395,-0.4092797319064413,0.8238088159521023,2.701443028227148],\"y\":[-0.7453650578061853,-0.732485868230905,2.571440856130466,-1.3288014757770887,-0.37571548259490545,1.353542151236892,1.93286073520079,2.0533955712126146,-0.6382279278868261,1.006911855066834,-0.8508485018441402,-0.3345162882904823,0.8196876101635465,-0.5182830042287909,-0.8872208937328169,-0.6977613360071452,0.8329749491099315,1.6278156329603701,-0.5918599160082817,0.5979676482099805,-0.21096248033595624,0.6580358342875058,0.07754165507905827,-0.3918294815826402,-0.12282736170431181,-0.4380063170871286,0.24626681996064265,-0.4750318627570162,-0.2941999491946126,-1.5270439756558192,-0.18562428035420844,-0.5423611512392887,-1.2264486791305123,0.3676093812347672,1.033419704658409,-0.6567831499467796,-0.7032492021918825,-1.1557532341470151,0.5600311571157386,-0.9334259060271239,-0.5989668140682524,-1.3131661082909658,-0.9527241875250738,2.1076321001344995,0.7907645450042046,0.045317753071620864,-0.5422493792125058,0.09857118965031991,0.6052916763925353,-0.392869883278384,-2.1728167312609594,0.19129452413895515,-0.4482696369760158,0.7536670650604307,3.0297697508518535,-1.4843336527711002,0.24516289995024912,-0.07823342244748287,1.8600695154382882,0.1652695904259634,0.5803836626659503,0.23363792298583005,1.9757625435411996,0.2668853669235514,-0.9279029959151173,-0.4834953930206035,-0.6366637869200468,-0.15419250778739807,-1.0199977291771138,0.927786461653511,0.4029687170081699,0.8255307678139705,0.6168162267979052,0.6284463701216723,-1.9754562759861336,-2.104602026931329,0.9544746502463938,-1.0692132136829424,0.7449650141369406,0.34937979315948636,1.2680493437929372,0.45804927462531686,1.5888458959012468,-0.6233348854103765,-0.46910717109893024,-1.9199036442570905,1.8333260115694225,0.44932592617168915,-0.8415764549515934,-1.8682125418564481,-0.11105533756615614,0.17216434633769956,0.6110137590737573,0.8806559097453874,-1.3571457712679595,1.6712324155356806,-0.9400650924848841,-1.2679553064567328,-0.885456193058384,0.22823409955739418],\"type\":\"scatter\"}],                        {\"legend\":{\"bgcolor\":\"#F5F6F9\",\"font\":{\"color\":\"#4D5663\"}},\"paper_bgcolor\":\"#F5F6F9\",\"plot_bgcolor\":\"#F5F6F9\",\"template\":{\"data\":{\"barpolar\":[{\"marker\":{\"line\":{\"color\":\"#E5ECF6\",\"width\":0.5},\"pattern\":{\"fillmode\":\"overlay\",\"size\":10,\"solidity\":0.2}},\"type\":\"barpolar\"}],\"bar\":[{\"error_x\":{\"color\":\"#2a3f5f\"},\"error_y\":{\"color\":\"#2a3f5f\"},\"marker\":{\"line\":{\"color\":\"#E5ECF6\",\"width\":0.5},\"pattern\":{\"fillmode\":\"overlay\",\"size\":10,\"solidity\":0.2}},\"type\":\"bar\"}],\"carpet\":[{\"aaxis\":{\"endlinecolor\":\"#2a3f5f\",\"gridcolor\":\"white\",\"linecolor\":\"white\",\"minorgridcolor\":\"white\",\"startlinecolor\":\"#2a3f5f\"},\"baxis\":{\"endlinecolor\":\"#2a3f5f\",\"gridcolor\":\"white\",\"linecolor\":\"white\",\"minorgridcolor\":\"white\",\"startlinecolor\":\"#2a3f5f\"},\"type\":\"carpet\"}],\"choropleth\":[{\"colorbar\":{\"outlinewidth\":0,\"ticks\":\"\"},\"type\":\"choropleth\"}],\"contourcarpet\":[{\"colorbar\":{\"outlinewidth\":0,\"ticks\":\"\"},\"type\":\"contourcarpet\"}],\"contour\":[{\"colorbar\":{\"outlinewidth\":0,\"ticks\":\"\"},\"colorscale\":[[0.0,\"#0d0887\"],[0.1111111111111111,\"#46039f\"],[0.2222222222222222,\"#7201a8\"],[0.3333333333333333,\"#9c179e\"],[0.4444444444444444,\"#bd3786\"],[0.5555555555555556,\"#d8576b\"],[0.6666666666666666,\"#ed7953\"],[0.7777777777777778,\"#fb9f3a\"],[0.8888888888888888,\"#fdca26\"],[1.0,\"#f0f921\"]],\"type\":\"contour\"}],\"heatmapgl\":[{\"colorbar\":{\"outlinewidth\":0,\"ticks\":\"\"},\"colorscale\":[[0.0,\"#0d0887\"],[0.1111111111111111,\"#46039f\"],[0.2222222222222222,\"#7201a8\"],[0.3333333333333333,\"#9c179e\"],[0.4444444444444444,\"#bd3786\"],[0.5555555555555556,\"#d8576b\"],[0.6666666666666666,\"#ed7953\"],[0.7777777777777778,\"#fb9f3a\"],[0.8888888888888888,\"#fdca26\"],[1.0,\"#f0f921\"]],\"type\":\"heatmapgl\"}],\"heatmap\":[{\"colorbar\":{\"outlinewidth\":0,\"ticks\":\"\"},\"colorscale\":[[0.0,\"#0d0887\"],[0.1111111111111111,\"#46039f\"],[0.2222222222222222,\"#7201a8\"],[0.3333333333333333,\"#9c179e\"],[0.4444444444444444,\"#bd3786\"],[0.5555555555555556,\"#d8576b\"],[0.6666666666666666,\"#ed7953\"],[0.7777777777777778,\"#fb9f3a\"],[0.8888888888888888,\"#fdca26\"],[1.0,\"#f0f921\"]],\"type\":\"heatmap\"}],\"histogram2dcontour\":[{\"colorbar\":{\"outlinewidth\":0,\"ticks\":\"\"},\"colorscale\":[[0.0,\"#0d0887\"],[0.1111111111111111,\"#46039f\"],[0.2222222222222222,\"#7201a8\"],[0.3333333333333333,\"#9c179e\"],[0.4444444444444444,\"#bd3786\"],[0.5555555555555556,\"#d8576b\"],[0.6666666666666666,\"#ed7953\"],[0.7777777777777778,\"#fb9f3a\"],[0.8888888888888888,\"#fdca26\"],[1.0,\"#f0f921\"]],\"type\":\"histogram2dcontour\"}],\"histogram2d\":[{\"colorbar\":{\"outlinewidth\":0,\"ticks\":\"\"},\"colorscale\":[[0.0,\"#0d0887\"],[0.1111111111111111,\"#46039f\"],[0.2222222222222222,\"#7201a8\"],[0.3333333333333333,\"#9c179e\"],[0.4444444444444444,\"#bd3786\"],[0.5555555555555556,\"#d8576b\"],[0.6666666666666666,\"#ed7953\"],[0.7777777777777778,\"#fb9f3a\"],[0.8888888888888888,\"#fdca26\"],[1.0,\"#f0f921\"]],\"type\":\"histogram2d\"}],\"histogram\":[{\"marker\":{\"pattern\":{\"fillmode\":\"overlay\",\"size\":10,\"solidity\":0.2}},\"type\":\"histogram\"}],\"mesh3d\":[{\"colorbar\":{\"outlinewidth\":0,\"ticks\":\"\"},\"type\":\"mesh3d\"}],\"parcoords\":[{\"line\":{\"colorbar\":{\"outlinewidth\":0,\"ticks\":\"\"}},\"type\":\"parcoords\"}],\"pie\":[{\"automargin\":true,\"type\":\"pie\"}],\"scatter3d\":[{\"line\":{\"colorbar\":{\"outlinewidth\":0,\"ticks\":\"\"}},\"marker\":{\"colorbar\":{\"outlinewidth\":0,\"ticks\":\"\"}},\"type\":\"scatter3d\"}],\"scattercarpet\":[{\"marker\":{\"colorbar\":{\"outlinewidth\":0,\"ticks\":\"\"}},\"type\":\"scattercarpet\"}],\"scattergeo\":[{\"marker\":{\"colorbar\":{\"outlinewidth\":0,\"ticks\":\"\"}},\"type\":\"scattergeo\"}],\"scattergl\":[{\"marker\":{\"colorbar\":{\"outlinewidth\":0,\"ticks\":\"\"}},\"type\":\"scattergl\"}],\"scattermapbox\":[{\"marker\":{\"colorbar\":{\"outlinewidth\":0,\"ticks\":\"\"}},\"type\":\"scattermapbox\"}],\"scatterpolargl\":[{\"marker\":{\"colorbar\":{\"outlinewidth\":0,\"ticks\":\"\"}},\"type\":\"scatterpolargl\"}],\"scatterpolar\":[{\"marker\":{\"colorbar\":{\"outlinewidth\":0,\"ticks\":\"\"}},\"type\":\"scatterpolar\"}],\"scatter\":[{\"fillpattern\":{\"fillmode\":\"overlay\",\"size\":10,\"solidity\":0.2},\"type\":\"scatter\"}],\"scatterternary\":[{\"marker\":{\"colorbar\":{\"outlinewidth\":0,\"ticks\":\"\"}},\"type\":\"scatterternary\"}],\"surface\":[{\"colorbar\":{\"outlinewidth\":0,\"ticks\":\"\"},\"colorscale\":[[0.0,\"#0d0887\"],[0.1111111111111111,\"#46039f\"],[0.2222222222222222,\"#7201a8\"],[0.3333333333333333,\"#9c179e\"],[0.4444444444444444,\"#bd3786\"],[0.5555555555555556,\"#d8576b\"],[0.6666666666666666,\"#ed7953\"],[0.7777777777777778,\"#fb9f3a\"],[0.8888888888888888,\"#fdca26\"],[1.0,\"#f0f921\"]],\"type\":\"surface\"}],\"table\":[{\"cells\":{\"fill\":{\"color\":\"#EBF0F8\"},\"line\":{\"color\":\"white\"}},\"header\":{\"fill\":{\"color\":\"#C8D4E3\"},\"line\":{\"color\":\"white\"}},\"type\":\"table\"}]},\"layout\":{\"annotationdefaults\":{\"arrowcolor\":\"#2a3f5f\",\"arrowhead\":0,\"arrowwidth\":1},\"autotypenumbers\":\"strict\",\"coloraxis\":{\"colorbar\":{\"outlinewidth\":0,\"ticks\":\"\"}},\"colorscale\":{\"diverging\":[[0,\"#8e0152\"],[0.1,\"#c51b7d\"],[0.2,\"#de77ae\"],[0.3,\"#f1b6da\"],[0.4,\"#fde0ef\"],[0.5,\"#f7f7f7\"],[0.6,\"#e6f5d0\"],[0.7,\"#b8e186\"],[0.8,\"#7fbc41\"],[0.9,\"#4d9221\"],[1,\"#276419\"]],\"sequential\":[[0.0,\"#0d0887\"],[0.1111111111111111,\"#46039f\"],[0.2222222222222222,\"#7201a8\"],[0.3333333333333333,\"#9c179e\"],[0.4444444444444444,\"#bd3786\"],[0.5555555555555556,\"#d8576b\"],[0.6666666666666666,\"#ed7953\"],[0.7777777777777778,\"#fb9f3a\"],[0.8888888888888888,\"#fdca26\"],[1.0,\"#f0f921\"]],\"sequentialminus\":[[0.0,\"#0d0887\"],[0.1111111111111111,\"#46039f\"],[0.2222222222222222,\"#7201a8\"],[0.3333333333333333,\"#9c179e\"],[0.4444444444444444,\"#bd3786\"],[0.5555555555555556,\"#d8576b\"],[0.6666666666666666,\"#ed7953\"],[0.7777777777777778,\"#fb9f3a\"],[0.8888888888888888,\"#fdca26\"],[1.0,\"#f0f921\"]]},\"colorway\":[\"#636efa\",\"#EF553B\",\"#00cc96\",\"#ab63fa\",\"#FFA15A\",\"#19d3f3\",\"#FF6692\",\"#B6E880\",\"#FF97FF\",\"#FECB52\"],\"font\":{\"color\":\"#2a3f5f\"},\"geo\":{\"bgcolor\":\"white\",\"lakecolor\":\"white\",\"landcolor\":\"#E5ECF6\",\"showlakes\":true,\"showland\":true,\"subunitcolor\":\"white\"},\"hoverlabel\":{\"align\":\"left\"},\"hovermode\":\"closest\",\"mapbox\":{\"style\":\"light\"},\"paper_bgcolor\":\"white\",\"plot_bgcolor\":\"#E5ECF6\",\"polar\":{\"angularaxis\":{\"gridcolor\":\"white\",\"linecolor\":\"white\",\"ticks\":\"\"},\"bgcolor\":\"#E5ECF6\",\"radialaxis\":{\"gridcolor\":\"white\",\"linecolor\":\"white\",\"ticks\":\"\"}},\"scene\":{\"xaxis\":{\"backgroundcolor\":\"#E5ECF6\",\"gridcolor\":\"white\",\"gridwidth\":2,\"linecolor\":\"white\",\"showbackground\":true,\"ticks\":\"\",\"zerolinecolor\":\"white\"},\"yaxis\":{\"backgroundcolor\":\"#E5ECF6\",\"gridcolor\":\"white\",\"gridwidth\":2,\"linecolor\":\"white\",\"showbackground\":true,\"ticks\":\"\",\"zerolinecolor\":\"white\"},\"zaxis\":{\"backgroundcolor\":\"#E5ECF6\",\"gridcolor\":\"white\",\"gridwidth\":2,\"linecolor\":\"white\",\"showbackground\":true,\"ticks\":\"\",\"zerolinecolor\":\"white\"}},\"shapedefaults\":{\"line\":{\"color\":\"#2a3f5f\"}},\"ternary\":{\"aaxis\":{\"gridcolor\":\"white\",\"linecolor\":\"white\",\"ticks\":\"\"},\"baxis\":{\"gridcolor\":\"white\",\"linecolor\":\"white\",\"ticks\":\"\"},\"bgcolor\":\"#E5ECF6\",\"caxis\":{\"gridcolor\":\"white\",\"linecolor\":\"white\",\"ticks\":\"\"}},\"title\":{\"x\":0.05},\"xaxis\":{\"automargin\":true,\"gridcolor\":\"white\",\"linecolor\":\"white\",\"ticks\":\"\",\"title\":{\"standoff\":15},\"zerolinecolor\":\"white\",\"zerolinewidth\":2},\"yaxis\":{\"automargin\":true,\"gridcolor\":\"white\",\"linecolor\":\"white\",\"ticks\":\"\",\"title\":{\"standoff\":15},\"zerolinecolor\":\"white\",\"zerolinewidth\":2}}},\"title\":{\"font\":{\"color\":\"#4D5663\"}},\"xaxis\":{\"gridcolor\":\"#E1E5ED\",\"showgrid\":true,\"tickfont\":{\"color\":\"#4D5663\"},\"title\":{\"font\":{\"color\":\"#4D5663\"},\"text\":\"\"},\"zerolinecolor\":\"#E1E5ED\"},\"yaxis\":{\"gridcolor\":\"#E1E5ED\",\"showgrid\":true,\"tickfont\":{\"color\":\"#4D5663\"},\"title\":{\"font\":{\"color\":\"#4D5663\"},\"text\":\"\"},\"zerolinecolor\":\"#E1E5ED\"}},                        {\"showLink\": true, \"linkText\": \"Export to plot.ly\", \"plotlyServerURL\": \"https://plot.ly\", \"responsive\": true}                    ).then(function(){\n",
       "                            \n",
       "var gd = document.getElementById('4b1be857-6b11-4414-8a1b-9a5b4e2002bd');\n",
       "var x = new MutationObserver(function (mutations, observer) {{\n",
       "        var display = window.getComputedStyle(gd).display;\n",
       "        if (!display || display === 'none') {{\n",
       "            console.log([gd, 'removed!']);\n",
       "            Plotly.purge(gd);\n",
       "            observer.disconnect();\n",
       "        }}\n",
       "}});\n",
       "\n",
       "// Listen for the removal of the full notebook cells\n",
       "var notebookContainer = gd.closest('#notebook-container');\n",
       "if (notebookContainer) {{\n",
       "    x.observe(notebookContainer, {childList: true});\n",
       "}}\n",
       "\n",
       "// Listen for the clearing of the current output cell\n",
       "var outputEl = gd.closest('.output');\n",
       "if (outputEl) {{\n",
       "    x.observe(outputEl, {childList: true});\n",
       "}}\n",
       "\n",
       "                        })                };                });            </script>        </div>"
      ]
     },
     "metadata": {},
     "output_type": "display_data"
    }
   ],
   "source": [
    "df.iplot(kind='scatter',x='A',y='B',mode='markers',size=10)"
   ]
  },
  {
   "cell_type": "markdown",
   "metadata": {},
   "source": [
    "## Bar Plots"
   ]
  },
  {
   "cell_type": "code",
   "execution_count": 78,
   "metadata": {
    "collapsed": false
   },
   "outputs": [
    {
     "data": {
      "application/vnd.plotly.v1+json": {
       "config": {
        "linkText": "Export to plot.ly",
        "plotlyServerURL": "https://plot.ly",
        "showLink": true
       },
       "data": [
        {
         "marker": {
          "color": "rgba(255, 153, 51, 0.6)",
          "line": {
           "color": "rgba(255, 153, 51, 1.0)",
           "width": 1
          }
         },
         "name": "Values",
         "orientation": "v",
         "text": "",
         "type": "bar",
         "x": [
          "A",
          "B",
          "C"
         ],
         "y": [
          32,
          43,
          50
         ]
        }
       ],
       "layout": {
        "legend": {
         "bgcolor": "#F5F6F9",
         "font": {
          "color": "#4D5663"
         }
        },
        "paper_bgcolor": "#F5F6F9",
        "plot_bgcolor": "#F5F6F9",
        "template": {
         "data": {
          "bar": [
           {
            "error_x": {
             "color": "#2a3f5f"
            },
            "error_y": {
             "color": "#2a3f5f"
            },
            "marker": {
             "line": {
              "color": "#E5ECF6",
              "width": 0.5
             },
             "pattern": {
              "fillmode": "overlay",
              "size": 10,
              "solidity": 0.2
             }
            },
            "type": "bar"
           }
          ],
          "barpolar": [
           {
            "marker": {
             "line": {
              "color": "#E5ECF6",
              "width": 0.5
             },
             "pattern": {
              "fillmode": "overlay",
              "size": 10,
              "solidity": 0.2
             }
            },
            "type": "barpolar"
           }
          ],
          "carpet": [
           {
            "aaxis": {
             "endlinecolor": "#2a3f5f",
             "gridcolor": "white",
             "linecolor": "white",
             "minorgridcolor": "white",
             "startlinecolor": "#2a3f5f"
            },
            "baxis": {
             "endlinecolor": "#2a3f5f",
             "gridcolor": "white",
             "linecolor": "white",
             "minorgridcolor": "white",
             "startlinecolor": "#2a3f5f"
            },
            "type": "carpet"
           }
          ],
          "choropleth": [
           {
            "colorbar": {
             "outlinewidth": 0,
             "ticks": ""
            },
            "type": "choropleth"
           }
          ],
          "contour": [
           {
            "colorbar": {
             "outlinewidth": 0,
             "ticks": ""
            },
            "colorscale": [
             [
              0,
              "#0d0887"
             ],
             [
              0.1111111111111111,
              "#46039f"
             ],
             [
              0.2222222222222222,
              "#7201a8"
             ],
             [
              0.3333333333333333,
              "#9c179e"
             ],
             [
              0.4444444444444444,
              "#bd3786"
             ],
             [
              0.5555555555555556,
              "#d8576b"
             ],
             [
              0.6666666666666666,
              "#ed7953"
             ],
             [
              0.7777777777777778,
              "#fb9f3a"
             ],
             [
              0.8888888888888888,
              "#fdca26"
             ],
             [
              1,
              "#f0f921"
             ]
            ],
            "type": "contour"
           }
          ],
          "contourcarpet": [
           {
            "colorbar": {
             "outlinewidth": 0,
             "ticks": ""
            },
            "type": "contourcarpet"
           }
          ],
          "heatmap": [
           {
            "colorbar": {
             "outlinewidth": 0,
             "ticks": ""
            },
            "colorscale": [
             [
              0,
              "#0d0887"
             ],
             [
              0.1111111111111111,
              "#46039f"
             ],
             [
              0.2222222222222222,
              "#7201a8"
             ],
             [
              0.3333333333333333,
              "#9c179e"
             ],
             [
              0.4444444444444444,
              "#bd3786"
             ],
             [
              0.5555555555555556,
              "#d8576b"
             ],
             [
              0.6666666666666666,
              "#ed7953"
             ],
             [
              0.7777777777777778,
              "#fb9f3a"
             ],
             [
              0.8888888888888888,
              "#fdca26"
             ],
             [
              1,
              "#f0f921"
             ]
            ],
            "type": "heatmap"
           }
          ],
          "heatmapgl": [
           {
            "colorbar": {
             "outlinewidth": 0,
             "ticks": ""
            },
            "colorscale": [
             [
              0,
              "#0d0887"
             ],
             [
              0.1111111111111111,
              "#46039f"
             ],
             [
              0.2222222222222222,
              "#7201a8"
             ],
             [
              0.3333333333333333,
              "#9c179e"
             ],
             [
              0.4444444444444444,
              "#bd3786"
             ],
             [
              0.5555555555555556,
              "#d8576b"
             ],
             [
              0.6666666666666666,
              "#ed7953"
             ],
             [
              0.7777777777777778,
              "#fb9f3a"
             ],
             [
              0.8888888888888888,
              "#fdca26"
             ],
             [
              1,
              "#f0f921"
             ]
            ],
            "type": "heatmapgl"
           }
          ],
          "histogram": [
           {
            "marker": {
             "pattern": {
              "fillmode": "overlay",
              "size": 10,
              "solidity": 0.2
             }
            },
            "type": "histogram"
           }
          ],
          "histogram2d": [
           {
            "colorbar": {
             "outlinewidth": 0,
             "ticks": ""
            },
            "colorscale": [
             [
              0,
              "#0d0887"
             ],
             [
              0.1111111111111111,
              "#46039f"
             ],
             [
              0.2222222222222222,
              "#7201a8"
             ],
             [
              0.3333333333333333,
              "#9c179e"
             ],
             [
              0.4444444444444444,
              "#bd3786"
             ],
             [
              0.5555555555555556,
              "#d8576b"
             ],
             [
              0.6666666666666666,
              "#ed7953"
             ],
             [
              0.7777777777777778,
              "#fb9f3a"
             ],
             [
              0.8888888888888888,
              "#fdca26"
             ],
             [
              1,
              "#f0f921"
             ]
            ],
            "type": "histogram2d"
           }
          ],
          "histogram2dcontour": [
           {
            "colorbar": {
             "outlinewidth": 0,
             "ticks": ""
            },
            "colorscale": [
             [
              0,
              "#0d0887"
             ],
             [
              0.1111111111111111,
              "#46039f"
             ],
             [
              0.2222222222222222,
              "#7201a8"
             ],
             [
              0.3333333333333333,
              "#9c179e"
             ],
             [
              0.4444444444444444,
              "#bd3786"
             ],
             [
              0.5555555555555556,
              "#d8576b"
             ],
             [
              0.6666666666666666,
              "#ed7953"
             ],
             [
              0.7777777777777778,
              "#fb9f3a"
             ],
             [
              0.8888888888888888,
              "#fdca26"
             ],
             [
              1,
              "#f0f921"
             ]
            ],
            "type": "histogram2dcontour"
           }
          ],
          "mesh3d": [
           {
            "colorbar": {
             "outlinewidth": 0,
             "ticks": ""
            },
            "type": "mesh3d"
           }
          ],
          "parcoords": [
           {
            "line": {
             "colorbar": {
              "outlinewidth": 0,
              "ticks": ""
             }
            },
            "type": "parcoords"
           }
          ],
          "pie": [
           {
            "automargin": true,
            "type": "pie"
           }
          ],
          "scatter": [
           {
            "fillpattern": {
             "fillmode": "overlay",
             "size": 10,
             "solidity": 0.2
            },
            "type": "scatter"
           }
          ],
          "scatter3d": [
           {
            "line": {
             "colorbar": {
              "outlinewidth": 0,
              "ticks": ""
             }
            },
            "marker": {
             "colorbar": {
              "outlinewidth": 0,
              "ticks": ""
             }
            },
            "type": "scatter3d"
           }
          ],
          "scattercarpet": [
           {
            "marker": {
             "colorbar": {
              "outlinewidth": 0,
              "ticks": ""
             }
            },
            "type": "scattercarpet"
           }
          ],
          "scattergeo": [
           {
            "marker": {
             "colorbar": {
              "outlinewidth": 0,
              "ticks": ""
             }
            },
            "type": "scattergeo"
           }
          ],
          "scattergl": [
           {
            "marker": {
             "colorbar": {
              "outlinewidth": 0,
              "ticks": ""
             }
            },
            "type": "scattergl"
           }
          ],
          "scattermapbox": [
           {
            "marker": {
             "colorbar": {
              "outlinewidth": 0,
              "ticks": ""
             }
            },
            "type": "scattermapbox"
           }
          ],
          "scatterpolar": [
           {
            "marker": {
             "colorbar": {
              "outlinewidth": 0,
              "ticks": ""
             }
            },
            "type": "scatterpolar"
           }
          ],
          "scatterpolargl": [
           {
            "marker": {
             "colorbar": {
              "outlinewidth": 0,
              "ticks": ""
             }
            },
            "type": "scatterpolargl"
           }
          ],
          "scatterternary": [
           {
            "marker": {
             "colorbar": {
              "outlinewidth": 0,
              "ticks": ""
             }
            },
            "type": "scatterternary"
           }
          ],
          "surface": [
           {
            "colorbar": {
             "outlinewidth": 0,
             "ticks": ""
            },
            "colorscale": [
             [
              0,
              "#0d0887"
             ],
             [
              0.1111111111111111,
              "#46039f"
             ],
             [
              0.2222222222222222,
              "#7201a8"
             ],
             [
              0.3333333333333333,
              "#9c179e"
             ],
             [
              0.4444444444444444,
              "#bd3786"
             ],
             [
              0.5555555555555556,
              "#d8576b"
             ],
             [
              0.6666666666666666,
              "#ed7953"
             ],
             [
              0.7777777777777778,
              "#fb9f3a"
             ],
             [
              0.8888888888888888,
              "#fdca26"
             ],
             [
              1,
              "#f0f921"
             ]
            ],
            "type": "surface"
           }
          ],
          "table": [
           {
            "cells": {
             "fill": {
              "color": "#EBF0F8"
             },
             "line": {
              "color": "white"
             }
            },
            "header": {
             "fill": {
              "color": "#C8D4E3"
             },
             "line": {
              "color": "white"
             }
            },
            "type": "table"
           }
          ]
         },
         "layout": {
          "annotationdefaults": {
           "arrowcolor": "#2a3f5f",
           "arrowhead": 0,
           "arrowwidth": 1
          },
          "autotypenumbers": "strict",
          "coloraxis": {
           "colorbar": {
            "outlinewidth": 0,
            "ticks": ""
           }
          },
          "colorscale": {
           "diverging": [
            [
             0,
             "#8e0152"
            ],
            [
             0.1,
             "#c51b7d"
            ],
            [
             0.2,
             "#de77ae"
            ],
            [
             0.3,
             "#f1b6da"
            ],
            [
             0.4,
             "#fde0ef"
            ],
            [
             0.5,
             "#f7f7f7"
            ],
            [
             0.6,
             "#e6f5d0"
            ],
            [
             0.7,
             "#b8e186"
            ],
            [
             0.8,
             "#7fbc41"
            ],
            [
             0.9,
             "#4d9221"
            ],
            [
             1,
             "#276419"
            ]
           ],
           "sequential": [
            [
             0,
             "#0d0887"
            ],
            [
             0.1111111111111111,
             "#46039f"
            ],
            [
             0.2222222222222222,
             "#7201a8"
            ],
            [
             0.3333333333333333,
             "#9c179e"
            ],
            [
             0.4444444444444444,
             "#bd3786"
            ],
            [
             0.5555555555555556,
             "#d8576b"
            ],
            [
             0.6666666666666666,
             "#ed7953"
            ],
            [
             0.7777777777777778,
             "#fb9f3a"
            ],
            [
             0.8888888888888888,
             "#fdca26"
            ],
            [
             1,
             "#f0f921"
            ]
           ],
           "sequentialminus": [
            [
             0,
             "#0d0887"
            ],
            [
             0.1111111111111111,
             "#46039f"
            ],
            [
             0.2222222222222222,
             "#7201a8"
            ],
            [
             0.3333333333333333,
             "#9c179e"
            ],
            [
             0.4444444444444444,
             "#bd3786"
            ],
            [
             0.5555555555555556,
             "#d8576b"
            ],
            [
             0.6666666666666666,
             "#ed7953"
            ],
            [
             0.7777777777777778,
             "#fb9f3a"
            ],
            [
             0.8888888888888888,
             "#fdca26"
            ],
            [
             1,
             "#f0f921"
            ]
           ]
          },
          "colorway": [
           "#636efa",
           "#EF553B",
           "#00cc96",
           "#ab63fa",
           "#FFA15A",
           "#19d3f3",
           "#FF6692",
           "#B6E880",
           "#FF97FF",
           "#FECB52"
          ],
          "font": {
           "color": "#2a3f5f"
          },
          "geo": {
           "bgcolor": "white",
           "lakecolor": "white",
           "landcolor": "#E5ECF6",
           "showlakes": true,
           "showland": true,
           "subunitcolor": "white"
          },
          "hoverlabel": {
           "align": "left"
          },
          "hovermode": "closest",
          "mapbox": {
           "style": "light"
          },
          "paper_bgcolor": "white",
          "plot_bgcolor": "#E5ECF6",
          "polar": {
           "angularaxis": {
            "gridcolor": "white",
            "linecolor": "white",
            "ticks": ""
           },
           "bgcolor": "#E5ECF6",
           "radialaxis": {
            "gridcolor": "white",
            "linecolor": "white",
            "ticks": ""
           }
          },
          "scene": {
           "xaxis": {
            "backgroundcolor": "#E5ECF6",
            "gridcolor": "white",
            "gridwidth": 2,
            "linecolor": "white",
            "showbackground": true,
            "ticks": "",
            "zerolinecolor": "white"
           },
           "yaxis": {
            "backgroundcolor": "#E5ECF6",
            "gridcolor": "white",
            "gridwidth": 2,
            "linecolor": "white",
            "showbackground": true,
            "ticks": "",
            "zerolinecolor": "white"
           },
           "zaxis": {
            "backgroundcolor": "#E5ECF6",
            "gridcolor": "white",
            "gridwidth": 2,
            "linecolor": "white",
            "showbackground": true,
            "ticks": "",
            "zerolinecolor": "white"
           }
          },
          "shapedefaults": {
           "line": {
            "color": "#2a3f5f"
           }
          },
          "ternary": {
           "aaxis": {
            "gridcolor": "white",
            "linecolor": "white",
            "ticks": ""
           },
           "baxis": {
            "gridcolor": "white",
            "linecolor": "white",
            "ticks": ""
           },
           "bgcolor": "#E5ECF6",
           "caxis": {
            "gridcolor": "white",
            "linecolor": "white",
            "ticks": ""
           }
          },
          "title": {
           "x": 0.05
          },
          "xaxis": {
           "automargin": true,
           "gridcolor": "white",
           "linecolor": "white",
           "ticks": "",
           "title": {
            "standoff": 15
           },
           "zerolinecolor": "white",
           "zerolinewidth": 2
          },
          "yaxis": {
           "automargin": true,
           "gridcolor": "white",
           "linecolor": "white",
           "ticks": "",
           "title": {
            "standoff": 15
           },
           "zerolinecolor": "white",
           "zerolinewidth": 2
          }
         }
        },
        "title": {
         "font": {
          "color": "#4D5663"
         }
        },
        "xaxis": {
         "gridcolor": "#E1E5ED",
         "showgrid": true,
         "tickfont": {
          "color": "#4D5663"
         },
         "title": {
          "font": {
           "color": "#4D5663"
          },
          "text": ""
         },
         "zerolinecolor": "#E1E5ED"
        },
        "yaxis": {
         "gridcolor": "#E1E5ED",
         "showgrid": true,
         "tickfont": {
          "color": "#4D5663"
         },
         "title": {
          "font": {
           "color": "#4D5663"
          },
          "text": ""
         },
         "zerolinecolor": "#E1E5ED"
        }
       }
      },
      "text/html": [
       "<div>                            <div id=\"eff8937e-a953-4aac-aaf4-bf21c8ce9cbd\" class=\"plotly-graph-div\" style=\"height:525px; width:100%;\"></div>            <script type=\"text/javascript\">                require([\"plotly\"], function(Plotly) {                    window.PLOTLYENV=window.PLOTLYENV || {};\n",
       "                    window.PLOTLYENV.BASE_URL='https://plot.ly';                                    if (document.getElementById(\"eff8937e-a953-4aac-aaf4-bf21c8ce9cbd\")) {                    Plotly.newPlot(                        \"eff8937e-a953-4aac-aaf4-bf21c8ce9cbd\",                        [{\"marker\":{\"color\":\"rgba(255, 153, 51, 0.6)\",\"line\":{\"color\":\"rgba(255, 153, 51, 1.0)\",\"width\":1}},\"name\":\"Values\",\"orientation\":\"v\",\"text\":\"\",\"x\":[\"A\",\"B\",\"C\"],\"y\":[32,43,50],\"type\":\"bar\"}],                        {\"legend\":{\"bgcolor\":\"#F5F6F9\",\"font\":{\"color\":\"#4D5663\"}},\"paper_bgcolor\":\"#F5F6F9\",\"plot_bgcolor\":\"#F5F6F9\",\"template\":{\"data\":{\"barpolar\":[{\"marker\":{\"line\":{\"color\":\"#E5ECF6\",\"width\":0.5},\"pattern\":{\"fillmode\":\"overlay\",\"size\":10,\"solidity\":0.2}},\"type\":\"barpolar\"}],\"bar\":[{\"error_x\":{\"color\":\"#2a3f5f\"},\"error_y\":{\"color\":\"#2a3f5f\"},\"marker\":{\"line\":{\"color\":\"#E5ECF6\",\"width\":0.5},\"pattern\":{\"fillmode\":\"overlay\",\"size\":10,\"solidity\":0.2}},\"type\":\"bar\"}],\"carpet\":[{\"aaxis\":{\"endlinecolor\":\"#2a3f5f\",\"gridcolor\":\"white\",\"linecolor\":\"white\",\"minorgridcolor\":\"white\",\"startlinecolor\":\"#2a3f5f\"},\"baxis\":{\"endlinecolor\":\"#2a3f5f\",\"gridcolor\":\"white\",\"linecolor\":\"white\",\"minorgridcolor\":\"white\",\"startlinecolor\":\"#2a3f5f\"},\"type\":\"carpet\"}],\"choropleth\":[{\"colorbar\":{\"outlinewidth\":0,\"ticks\":\"\"},\"type\":\"choropleth\"}],\"contourcarpet\":[{\"colorbar\":{\"outlinewidth\":0,\"ticks\":\"\"},\"type\":\"contourcarpet\"}],\"contour\":[{\"colorbar\":{\"outlinewidth\":0,\"ticks\":\"\"},\"colorscale\":[[0.0,\"#0d0887\"],[0.1111111111111111,\"#46039f\"],[0.2222222222222222,\"#7201a8\"],[0.3333333333333333,\"#9c179e\"],[0.4444444444444444,\"#bd3786\"],[0.5555555555555556,\"#d8576b\"],[0.6666666666666666,\"#ed7953\"],[0.7777777777777778,\"#fb9f3a\"],[0.8888888888888888,\"#fdca26\"],[1.0,\"#f0f921\"]],\"type\":\"contour\"}],\"heatmapgl\":[{\"colorbar\":{\"outlinewidth\":0,\"ticks\":\"\"},\"colorscale\":[[0.0,\"#0d0887\"],[0.1111111111111111,\"#46039f\"],[0.2222222222222222,\"#7201a8\"],[0.3333333333333333,\"#9c179e\"],[0.4444444444444444,\"#bd3786\"],[0.5555555555555556,\"#d8576b\"],[0.6666666666666666,\"#ed7953\"],[0.7777777777777778,\"#fb9f3a\"],[0.8888888888888888,\"#fdca26\"],[1.0,\"#f0f921\"]],\"type\":\"heatmapgl\"}],\"heatmap\":[{\"colorbar\":{\"outlinewidth\":0,\"ticks\":\"\"},\"colorscale\":[[0.0,\"#0d0887\"],[0.1111111111111111,\"#46039f\"],[0.2222222222222222,\"#7201a8\"],[0.3333333333333333,\"#9c179e\"],[0.4444444444444444,\"#bd3786\"],[0.5555555555555556,\"#d8576b\"],[0.6666666666666666,\"#ed7953\"],[0.7777777777777778,\"#fb9f3a\"],[0.8888888888888888,\"#fdca26\"],[1.0,\"#f0f921\"]],\"type\":\"heatmap\"}],\"histogram2dcontour\":[{\"colorbar\":{\"outlinewidth\":0,\"ticks\":\"\"},\"colorscale\":[[0.0,\"#0d0887\"],[0.1111111111111111,\"#46039f\"],[0.2222222222222222,\"#7201a8\"],[0.3333333333333333,\"#9c179e\"],[0.4444444444444444,\"#bd3786\"],[0.5555555555555556,\"#d8576b\"],[0.6666666666666666,\"#ed7953\"],[0.7777777777777778,\"#fb9f3a\"],[0.8888888888888888,\"#fdca26\"],[1.0,\"#f0f921\"]],\"type\":\"histogram2dcontour\"}],\"histogram2d\":[{\"colorbar\":{\"outlinewidth\":0,\"ticks\":\"\"},\"colorscale\":[[0.0,\"#0d0887\"],[0.1111111111111111,\"#46039f\"],[0.2222222222222222,\"#7201a8\"],[0.3333333333333333,\"#9c179e\"],[0.4444444444444444,\"#bd3786\"],[0.5555555555555556,\"#d8576b\"],[0.6666666666666666,\"#ed7953\"],[0.7777777777777778,\"#fb9f3a\"],[0.8888888888888888,\"#fdca26\"],[1.0,\"#f0f921\"]],\"type\":\"histogram2d\"}],\"histogram\":[{\"marker\":{\"pattern\":{\"fillmode\":\"overlay\",\"size\":10,\"solidity\":0.2}},\"type\":\"histogram\"}],\"mesh3d\":[{\"colorbar\":{\"outlinewidth\":0,\"ticks\":\"\"},\"type\":\"mesh3d\"}],\"parcoords\":[{\"line\":{\"colorbar\":{\"outlinewidth\":0,\"ticks\":\"\"}},\"type\":\"parcoords\"}],\"pie\":[{\"automargin\":true,\"type\":\"pie\"}],\"scatter3d\":[{\"line\":{\"colorbar\":{\"outlinewidth\":0,\"ticks\":\"\"}},\"marker\":{\"colorbar\":{\"outlinewidth\":0,\"ticks\":\"\"}},\"type\":\"scatter3d\"}],\"scattercarpet\":[{\"marker\":{\"colorbar\":{\"outlinewidth\":0,\"ticks\":\"\"}},\"type\":\"scattercarpet\"}],\"scattergeo\":[{\"marker\":{\"colorbar\":{\"outlinewidth\":0,\"ticks\":\"\"}},\"type\":\"scattergeo\"}],\"scattergl\":[{\"marker\":{\"colorbar\":{\"outlinewidth\":0,\"ticks\":\"\"}},\"type\":\"scattergl\"}],\"scattermapbox\":[{\"marker\":{\"colorbar\":{\"outlinewidth\":0,\"ticks\":\"\"}},\"type\":\"scattermapbox\"}],\"scatterpolargl\":[{\"marker\":{\"colorbar\":{\"outlinewidth\":0,\"ticks\":\"\"}},\"type\":\"scatterpolargl\"}],\"scatterpolar\":[{\"marker\":{\"colorbar\":{\"outlinewidth\":0,\"ticks\":\"\"}},\"type\":\"scatterpolar\"}],\"scatter\":[{\"fillpattern\":{\"fillmode\":\"overlay\",\"size\":10,\"solidity\":0.2},\"type\":\"scatter\"}],\"scatterternary\":[{\"marker\":{\"colorbar\":{\"outlinewidth\":0,\"ticks\":\"\"}},\"type\":\"scatterternary\"}],\"surface\":[{\"colorbar\":{\"outlinewidth\":0,\"ticks\":\"\"},\"colorscale\":[[0.0,\"#0d0887\"],[0.1111111111111111,\"#46039f\"],[0.2222222222222222,\"#7201a8\"],[0.3333333333333333,\"#9c179e\"],[0.4444444444444444,\"#bd3786\"],[0.5555555555555556,\"#d8576b\"],[0.6666666666666666,\"#ed7953\"],[0.7777777777777778,\"#fb9f3a\"],[0.8888888888888888,\"#fdca26\"],[1.0,\"#f0f921\"]],\"type\":\"surface\"}],\"table\":[{\"cells\":{\"fill\":{\"color\":\"#EBF0F8\"},\"line\":{\"color\":\"white\"}},\"header\":{\"fill\":{\"color\":\"#C8D4E3\"},\"line\":{\"color\":\"white\"}},\"type\":\"table\"}]},\"layout\":{\"annotationdefaults\":{\"arrowcolor\":\"#2a3f5f\",\"arrowhead\":0,\"arrowwidth\":1},\"autotypenumbers\":\"strict\",\"coloraxis\":{\"colorbar\":{\"outlinewidth\":0,\"ticks\":\"\"}},\"colorscale\":{\"diverging\":[[0,\"#8e0152\"],[0.1,\"#c51b7d\"],[0.2,\"#de77ae\"],[0.3,\"#f1b6da\"],[0.4,\"#fde0ef\"],[0.5,\"#f7f7f7\"],[0.6,\"#e6f5d0\"],[0.7,\"#b8e186\"],[0.8,\"#7fbc41\"],[0.9,\"#4d9221\"],[1,\"#276419\"]],\"sequential\":[[0.0,\"#0d0887\"],[0.1111111111111111,\"#46039f\"],[0.2222222222222222,\"#7201a8\"],[0.3333333333333333,\"#9c179e\"],[0.4444444444444444,\"#bd3786\"],[0.5555555555555556,\"#d8576b\"],[0.6666666666666666,\"#ed7953\"],[0.7777777777777778,\"#fb9f3a\"],[0.8888888888888888,\"#fdca26\"],[1.0,\"#f0f921\"]],\"sequentialminus\":[[0.0,\"#0d0887\"],[0.1111111111111111,\"#46039f\"],[0.2222222222222222,\"#7201a8\"],[0.3333333333333333,\"#9c179e\"],[0.4444444444444444,\"#bd3786\"],[0.5555555555555556,\"#d8576b\"],[0.6666666666666666,\"#ed7953\"],[0.7777777777777778,\"#fb9f3a\"],[0.8888888888888888,\"#fdca26\"],[1.0,\"#f0f921\"]]},\"colorway\":[\"#636efa\",\"#EF553B\",\"#00cc96\",\"#ab63fa\",\"#FFA15A\",\"#19d3f3\",\"#FF6692\",\"#B6E880\",\"#FF97FF\",\"#FECB52\"],\"font\":{\"color\":\"#2a3f5f\"},\"geo\":{\"bgcolor\":\"white\",\"lakecolor\":\"white\",\"landcolor\":\"#E5ECF6\",\"showlakes\":true,\"showland\":true,\"subunitcolor\":\"white\"},\"hoverlabel\":{\"align\":\"left\"},\"hovermode\":\"closest\",\"mapbox\":{\"style\":\"light\"},\"paper_bgcolor\":\"white\",\"plot_bgcolor\":\"#E5ECF6\",\"polar\":{\"angularaxis\":{\"gridcolor\":\"white\",\"linecolor\":\"white\",\"ticks\":\"\"},\"bgcolor\":\"#E5ECF6\",\"radialaxis\":{\"gridcolor\":\"white\",\"linecolor\":\"white\",\"ticks\":\"\"}},\"scene\":{\"xaxis\":{\"backgroundcolor\":\"#E5ECF6\",\"gridcolor\":\"white\",\"gridwidth\":2,\"linecolor\":\"white\",\"showbackground\":true,\"ticks\":\"\",\"zerolinecolor\":\"white\"},\"yaxis\":{\"backgroundcolor\":\"#E5ECF6\",\"gridcolor\":\"white\",\"gridwidth\":2,\"linecolor\":\"white\",\"showbackground\":true,\"ticks\":\"\",\"zerolinecolor\":\"white\"},\"zaxis\":{\"backgroundcolor\":\"#E5ECF6\",\"gridcolor\":\"white\",\"gridwidth\":2,\"linecolor\":\"white\",\"showbackground\":true,\"ticks\":\"\",\"zerolinecolor\":\"white\"}},\"shapedefaults\":{\"line\":{\"color\":\"#2a3f5f\"}},\"ternary\":{\"aaxis\":{\"gridcolor\":\"white\",\"linecolor\":\"white\",\"ticks\":\"\"},\"baxis\":{\"gridcolor\":\"white\",\"linecolor\":\"white\",\"ticks\":\"\"},\"bgcolor\":\"#E5ECF6\",\"caxis\":{\"gridcolor\":\"white\",\"linecolor\":\"white\",\"ticks\":\"\"}},\"title\":{\"x\":0.05},\"xaxis\":{\"automargin\":true,\"gridcolor\":\"white\",\"linecolor\":\"white\",\"ticks\":\"\",\"title\":{\"standoff\":15},\"zerolinecolor\":\"white\",\"zerolinewidth\":2},\"yaxis\":{\"automargin\":true,\"gridcolor\":\"white\",\"linecolor\":\"white\",\"ticks\":\"\",\"title\":{\"standoff\":15},\"zerolinecolor\":\"white\",\"zerolinewidth\":2}}},\"title\":{\"font\":{\"color\":\"#4D5663\"}},\"xaxis\":{\"gridcolor\":\"#E1E5ED\",\"showgrid\":true,\"tickfont\":{\"color\":\"#4D5663\"},\"title\":{\"font\":{\"color\":\"#4D5663\"},\"text\":\"\"},\"zerolinecolor\":\"#E1E5ED\"},\"yaxis\":{\"gridcolor\":\"#E1E5ED\",\"showgrid\":true,\"tickfont\":{\"color\":\"#4D5663\"},\"title\":{\"font\":{\"color\":\"#4D5663\"},\"text\":\"\"},\"zerolinecolor\":\"#E1E5ED\"}},                        {\"showLink\": true, \"linkText\": \"Export to plot.ly\", \"plotlyServerURL\": \"https://plot.ly\", \"responsive\": true}                    ).then(function(){\n",
       "                            \n",
       "var gd = document.getElementById('eff8937e-a953-4aac-aaf4-bf21c8ce9cbd');\n",
       "var x = new MutationObserver(function (mutations, observer) {{\n",
       "        var display = window.getComputedStyle(gd).display;\n",
       "        if (!display || display === 'none') {{\n",
       "            console.log([gd, 'removed!']);\n",
       "            Plotly.purge(gd);\n",
       "            observer.disconnect();\n",
       "        }}\n",
       "}});\n",
       "\n",
       "// Listen for the removal of the full notebook cells\n",
       "var notebookContainer = gd.closest('#notebook-container');\n",
       "if (notebookContainer) {{\n",
       "    x.observe(notebookContainer, {childList: true});\n",
       "}}\n",
       "\n",
       "// Listen for the clearing of the current output cell\n",
       "var outputEl = gd.closest('.output');\n",
       "if (outputEl) {{\n",
       "    x.observe(outputEl, {childList: true});\n",
       "}}\n",
       "\n",
       "                        })                };                });            </script>        </div>"
      ]
     },
     "metadata": {},
     "output_type": "display_data"
    }
   ],
   "source": [
    "df2.iplot(kind='bar',x='Category',y='Values')"
   ]
  },
  {
   "cell_type": "code",
   "execution_count": 79,
   "metadata": {
    "collapsed": false
   },
   "outputs": [
    {
     "data": {
      "application/vnd.plotly.v1+json": {
       "config": {
        "linkText": "Export to plot.ly",
        "plotlyServerURL": "https://plot.ly",
        "showLink": true
       },
       "data": [
        {
         "marker": {
          "color": "rgba(255, 153, 51, 0.6)",
          "line": {
           "color": "rgba(255, 153, 51, 1.0)",
           "width": 1
          }
         },
         "name": "None",
         "orientation": "v",
         "text": "",
         "type": "bar",
         "x": [
          "A",
          "B",
          "C",
          "D"
         ],
         "y": [
          100,
          100,
          100,
          100
         ]
        }
       ],
       "layout": {
        "legend": {
         "bgcolor": "#F5F6F9",
         "font": {
          "color": "#4D5663"
         }
        },
        "paper_bgcolor": "#F5F6F9",
        "plot_bgcolor": "#F5F6F9",
        "template": {
         "data": {
          "bar": [
           {
            "error_x": {
             "color": "#2a3f5f"
            },
            "error_y": {
             "color": "#2a3f5f"
            },
            "marker": {
             "line": {
              "color": "#E5ECF6",
              "width": 0.5
             },
             "pattern": {
              "fillmode": "overlay",
              "size": 10,
              "solidity": 0.2
             }
            },
            "type": "bar"
           }
          ],
          "barpolar": [
           {
            "marker": {
             "line": {
              "color": "#E5ECF6",
              "width": 0.5
             },
             "pattern": {
              "fillmode": "overlay",
              "size": 10,
              "solidity": 0.2
             }
            },
            "type": "barpolar"
           }
          ],
          "carpet": [
           {
            "aaxis": {
             "endlinecolor": "#2a3f5f",
             "gridcolor": "white",
             "linecolor": "white",
             "minorgridcolor": "white",
             "startlinecolor": "#2a3f5f"
            },
            "baxis": {
             "endlinecolor": "#2a3f5f",
             "gridcolor": "white",
             "linecolor": "white",
             "minorgridcolor": "white",
             "startlinecolor": "#2a3f5f"
            },
            "type": "carpet"
           }
          ],
          "choropleth": [
           {
            "colorbar": {
             "outlinewidth": 0,
             "ticks": ""
            },
            "type": "choropleth"
           }
          ],
          "contour": [
           {
            "colorbar": {
             "outlinewidth": 0,
             "ticks": ""
            },
            "colorscale": [
             [
              0,
              "#0d0887"
             ],
             [
              0.1111111111111111,
              "#46039f"
             ],
             [
              0.2222222222222222,
              "#7201a8"
             ],
             [
              0.3333333333333333,
              "#9c179e"
             ],
             [
              0.4444444444444444,
              "#bd3786"
             ],
             [
              0.5555555555555556,
              "#d8576b"
             ],
             [
              0.6666666666666666,
              "#ed7953"
             ],
             [
              0.7777777777777778,
              "#fb9f3a"
             ],
             [
              0.8888888888888888,
              "#fdca26"
             ],
             [
              1,
              "#f0f921"
             ]
            ],
            "type": "contour"
           }
          ],
          "contourcarpet": [
           {
            "colorbar": {
             "outlinewidth": 0,
             "ticks": ""
            },
            "type": "contourcarpet"
           }
          ],
          "heatmap": [
           {
            "colorbar": {
             "outlinewidth": 0,
             "ticks": ""
            },
            "colorscale": [
             [
              0,
              "#0d0887"
             ],
             [
              0.1111111111111111,
              "#46039f"
             ],
             [
              0.2222222222222222,
              "#7201a8"
             ],
             [
              0.3333333333333333,
              "#9c179e"
             ],
             [
              0.4444444444444444,
              "#bd3786"
             ],
             [
              0.5555555555555556,
              "#d8576b"
             ],
             [
              0.6666666666666666,
              "#ed7953"
             ],
             [
              0.7777777777777778,
              "#fb9f3a"
             ],
             [
              0.8888888888888888,
              "#fdca26"
             ],
             [
              1,
              "#f0f921"
             ]
            ],
            "type": "heatmap"
           }
          ],
          "heatmapgl": [
           {
            "colorbar": {
             "outlinewidth": 0,
             "ticks": ""
            },
            "colorscale": [
             [
              0,
              "#0d0887"
             ],
             [
              0.1111111111111111,
              "#46039f"
             ],
             [
              0.2222222222222222,
              "#7201a8"
             ],
             [
              0.3333333333333333,
              "#9c179e"
             ],
             [
              0.4444444444444444,
              "#bd3786"
             ],
             [
              0.5555555555555556,
              "#d8576b"
             ],
             [
              0.6666666666666666,
              "#ed7953"
             ],
             [
              0.7777777777777778,
              "#fb9f3a"
             ],
             [
              0.8888888888888888,
              "#fdca26"
             ],
             [
              1,
              "#f0f921"
             ]
            ],
            "type": "heatmapgl"
           }
          ],
          "histogram": [
           {
            "marker": {
             "pattern": {
              "fillmode": "overlay",
              "size": 10,
              "solidity": 0.2
             }
            },
            "type": "histogram"
           }
          ],
          "histogram2d": [
           {
            "colorbar": {
             "outlinewidth": 0,
             "ticks": ""
            },
            "colorscale": [
             [
              0,
              "#0d0887"
             ],
             [
              0.1111111111111111,
              "#46039f"
             ],
             [
              0.2222222222222222,
              "#7201a8"
             ],
             [
              0.3333333333333333,
              "#9c179e"
             ],
             [
              0.4444444444444444,
              "#bd3786"
             ],
             [
              0.5555555555555556,
              "#d8576b"
             ],
             [
              0.6666666666666666,
              "#ed7953"
             ],
             [
              0.7777777777777778,
              "#fb9f3a"
             ],
             [
              0.8888888888888888,
              "#fdca26"
             ],
             [
              1,
              "#f0f921"
             ]
            ],
            "type": "histogram2d"
           }
          ],
          "histogram2dcontour": [
           {
            "colorbar": {
             "outlinewidth": 0,
             "ticks": ""
            },
            "colorscale": [
             [
              0,
              "#0d0887"
             ],
             [
              0.1111111111111111,
              "#46039f"
             ],
             [
              0.2222222222222222,
              "#7201a8"
             ],
             [
              0.3333333333333333,
              "#9c179e"
             ],
             [
              0.4444444444444444,
              "#bd3786"
             ],
             [
              0.5555555555555556,
              "#d8576b"
             ],
             [
              0.6666666666666666,
              "#ed7953"
             ],
             [
              0.7777777777777778,
              "#fb9f3a"
             ],
             [
              0.8888888888888888,
              "#fdca26"
             ],
             [
              1,
              "#f0f921"
             ]
            ],
            "type": "histogram2dcontour"
           }
          ],
          "mesh3d": [
           {
            "colorbar": {
             "outlinewidth": 0,
             "ticks": ""
            },
            "type": "mesh3d"
           }
          ],
          "parcoords": [
           {
            "line": {
             "colorbar": {
              "outlinewidth": 0,
              "ticks": ""
             }
            },
            "type": "parcoords"
           }
          ],
          "pie": [
           {
            "automargin": true,
            "type": "pie"
           }
          ],
          "scatter": [
           {
            "fillpattern": {
             "fillmode": "overlay",
             "size": 10,
             "solidity": 0.2
            },
            "type": "scatter"
           }
          ],
          "scatter3d": [
           {
            "line": {
             "colorbar": {
              "outlinewidth": 0,
              "ticks": ""
             }
            },
            "marker": {
             "colorbar": {
              "outlinewidth": 0,
              "ticks": ""
             }
            },
            "type": "scatter3d"
           }
          ],
          "scattercarpet": [
           {
            "marker": {
             "colorbar": {
              "outlinewidth": 0,
              "ticks": ""
             }
            },
            "type": "scattercarpet"
           }
          ],
          "scattergeo": [
           {
            "marker": {
             "colorbar": {
              "outlinewidth": 0,
              "ticks": ""
             }
            },
            "type": "scattergeo"
           }
          ],
          "scattergl": [
           {
            "marker": {
             "colorbar": {
              "outlinewidth": 0,
              "ticks": ""
             }
            },
            "type": "scattergl"
           }
          ],
          "scattermapbox": [
           {
            "marker": {
             "colorbar": {
              "outlinewidth": 0,
              "ticks": ""
             }
            },
            "type": "scattermapbox"
           }
          ],
          "scatterpolar": [
           {
            "marker": {
             "colorbar": {
              "outlinewidth": 0,
              "ticks": ""
             }
            },
            "type": "scatterpolar"
           }
          ],
          "scatterpolargl": [
           {
            "marker": {
             "colorbar": {
              "outlinewidth": 0,
              "ticks": ""
             }
            },
            "type": "scatterpolargl"
           }
          ],
          "scatterternary": [
           {
            "marker": {
             "colorbar": {
              "outlinewidth": 0,
              "ticks": ""
             }
            },
            "type": "scatterternary"
           }
          ],
          "surface": [
           {
            "colorbar": {
             "outlinewidth": 0,
             "ticks": ""
            },
            "colorscale": [
             [
              0,
              "#0d0887"
             ],
             [
              0.1111111111111111,
              "#46039f"
             ],
             [
              0.2222222222222222,
              "#7201a8"
             ],
             [
              0.3333333333333333,
              "#9c179e"
             ],
             [
              0.4444444444444444,
              "#bd3786"
             ],
             [
              0.5555555555555556,
              "#d8576b"
             ],
             [
              0.6666666666666666,
              "#ed7953"
             ],
             [
              0.7777777777777778,
              "#fb9f3a"
             ],
             [
              0.8888888888888888,
              "#fdca26"
             ],
             [
              1,
              "#f0f921"
             ]
            ],
            "type": "surface"
           }
          ],
          "table": [
           {
            "cells": {
             "fill": {
              "color": "#EBF0F8"
             },
             "line": {
              "color": "white"
             }
            },
            "header": {
             "fill": {
              "color": "#C8D4E3"
             },
             "line": {
              "color": "white"
             }
            },
            "type": "table"
           }
          ]
         },
         "layout": {
          "annotationdefaults": {
           "arrowcolor": "#2a3f5f",
           "arrowhead": 0,
           "arrowwidth": 1
          },
          "autotypenumbers": "strict",
          "coloraxis": {
           "colorbar": {
            "outlinewidth": 0,
            "ticks": ""
           }
          },
          "colorscale": {
           "diverging": [
            [
             0,
             "#8e0152"
            ],
            [
             0.1,
             "#c51b7d"
            ],
            [
             0.2,
             "#de77ae"
            ],
            [
             0.3,
             "#f1b6da"
            ],
            [
             0.4,
             "#fde0ef"
            ],
            [
             0.5,
             "#f7f7f7"
            ],
            [
             0.6,
             "#e6f5d0"
            ],
            [
             0.7,
             "#b8e186"
            ],
            [
             0.8,
             "#7fbc41"
            ],
            [
             0.9,
             "#4d9221"
            ],
            [
             1,
             "#276419"
            ]
           ],
           "sequential": [
            [
             0,
             "#0d0887"
            ],
            [
             0.1111111111111111,
             "#46039f"
            ],
            [
             0.2222222222222222,
             "#7201a8"
            ],
            [
             0.3333333333333333,
             "#9c179e"
            ],
            [
             0.4444444444444444,
             "#bd3786"
            ],
            [
             0.5555555555555556,
             "#d8576b"
            ],
            [
             0.6666666666666666,
             "#ed7953"
            ],
            [
             0.7777777777777778,
             "#fb9f3a"
            ],
            [
             0.8888888888888888,
             "#fdca26"
            ],
            [
             1,
             "#f0f921"
            ]
           ],
           "sequentialminus": [
            [
             0,
             "#0d0887"
            ],
            [
             0.1111111111111111,
             "#46039f"
            ],
            [
             0.2222222222222222,
             "#7201a8"
            ],
            [
             0.3333333333333333,
             "#9c179e"
            ],
            [
             0.4444444444444444,
             "#bd3786"
            ],
            [
             0.5555555555555556,
             "#d8576b"
            ],
            [
             0.6666666666666666,
             "#ed7953"
            ],
            [
             0.7777777777777778,
             "#fb9f3a"
            ],
            [
             0.8888888888888888,
             "#fdca26"
            ],
            [
             1,
             "#f0f921"
            ]
           ]
          },
          "colorway": [
           "#636efa",
           "#EF553B",
           "#00cc96",
           "#ab63fa",
           "#FFA15A",
           "#19d3f3",
           "#FF6692",
           "#B6E880",
           "#FF97FF",
           "#FECB52"
          ],
          "font": {
           "color": "#2a3f5f"
          },
          "geo": {
           "bgcolor": "white",
           "lakecolor": "white",
           "landcolor": "#E5ECF6",
           "showlakes": true,
           "showland": true,
           "subunitcolor": "white"
          },
          "hoverlabel": {
           "align": "left"
          },
          "hovermode": "closest",
          "mapbox": {
           "style": "light"
          },
          "paper_bgcolor": "white",
          "plot_bgcolor": "#E5ECF6",
          "polar": {
           "angularaxis": {
            "gridcolor": "white",
            "linecolor": "white",
            "ticks": ""
           },
           "bgcolor": "#E5ECF6",
           "radialaxis": {
            "gridcolor": "white",
            "linecolor": "white",
            "ticks": ""
           }
          },
          "scene": {
           "xaxis": {
            "backgroundcolor": "#E5ECF6",
            "gridcolor": "white",
            "gridwidth": 2,
            "linecolor": "white",
            "showbackground": true,
            "ticks": "",
            "zerolinecolor": "white"
           },
           "yaxis": {
            "backgroundcolor": "#E5ECF6",
            "gridcolor": "white",
            "gridwidth": 2,
            "linecolor": "white",
            "showbackground": true,
            "ticks": "",
            "zerolinecolor": "white"
           },
           "zaxis": {
            "backgroundcolor": "#E5ECF6",
            "gridcolor": "white",
            "gridwidth": 2,
            "linecolor": "white",
            "showbackground": true,
            "ticks": "",
            "zerolinecolor": "white"
           }
          },
          "shapedefaults": {
           "line": {
            "color": "#2a3f5f"
           }
          },
          "ternary": {
           "aaxis": {
            "gridcolor": "white",
            "linecolor": "white",
            "ticks": ""
           },
           "baxis": {
            "gridcolor": "white",
            "linecolor": "white",
            "ticks": ""
           },
           "bgcolor": "#E5ECF6",
           "caxis": {
            "gridcolor": "white",
            "linecolor": "white",
            "ticks": ""
           }
          },
          "title": {
           "x": 0.05
          },
          "xaxis": {
           "automargin": true,
           "gridcolor": "white",
           "linecolor": "white",
           "ticks": "",
           "title": {
            "standoff": 15
           },
           "zerolinecolor": "white",
           "zerolinewidth": 2
          },
          "yaxis": {
           "automargin": true,
           "gridcolor": "white",
           "linecolor": "white",
           "ticks": "",
           "title": {
            "standoff": 15
           },
           "zerolinecolor": "white",
           "zerolinewidth": 2
          }
         }
        },
        "title": {
         "font": {
          "color": "#4D5663"
         }
        },
        "xaxis": {
         "gridcolor": "#E1E5ED",
         "showgrid": true,
         "tickfont": {
          "color": "#4D5663"
         },
         "title": {
          "font": {
           "color": "#4D5663"
          },
          "text": ""
         },
         "zerolinecolor": "#E1E5ED"
        },
        "yaxis": {
         "gridcolor": "#E1E5ED",
         "showgrid": true,
         "tickfont": {
          "color": "#4D5663"
         },
         "title": {
          "font": {
           "color": "#4D5663"
          },
          "text": ""
         },
         "zerolinecolor": "#E1E5ED"
        }
       }
      },
      "text/html": [
       "<div>                            <div id=\"c02543ef-f71a-477d-8a21-34dd0c2edb71\" class=\"plotly-graph-div\" style=\"height:525px; width:100%;\"></div>            <script type=\"text/javascript\">                require([\"plotly\"], function(Plotly) {                    window.PLOTLYENV=window.PLOTLYENV || {};\n",
       "                    window.PLOTLYENV.BASE_URL='https://plot.ly';                                    if (document.getElementById(\"c02543ef-f71a-477d-8a21-34dd0c2edb71\")) {                    Plotly.newPlot(                        \"c02543ef-f71a-477d-8a21-34dd0c2edb71\",                        [{\"marker\":{\"color\":\"rgba(255, 153, 51, 0.6)\",\"line\":{\"color\":\"rgba(255, 153, 51, 1.0)\",\"width\":1}},\"name\":\"None\",\"orientation\":\"v\",\"text\":\"\",\"x\":[\"A\",\"B\",\"C\",\"D\"],\"y\":[100,100,100,100],\"type\":\"bar\"}],                        {\"legend\":{\"bgcolor\":\"#F5F6F9\",\"font\":{\"color\":\"#4D5663\"}},\"paper_bgcolor\":\"#F5F6F9\",\"plot_bgcolor\":\"#F5F6F9\",\"template\":{\"data\":{\"barpolar\":[{\"marker\":{\"line\":{\"color\":\"#E5ECF6\",\"width\":0.5},\"pattern\":{\"fillmode\":\"overlay\",\"size\":10,\"solidity\":0.2}},\"type\":\"barpolar\"}],\"bar\":[{\"error_x\":{\"color\":\"#2a3f5f\"},\"error_y\":{\"color\":\"#2a3f5f\"},\"marker\":{\"line\":{\"color\":\"#E5ECF6\",\"width\":0.5},\"pattern\":{\"fillmode\":\"overlay\",\"size\":10,\"solidity\":0.2}},\"type\":\"bar\"}],\"carpet\":[{\"aaxis\":{\"endlinecolor\":\"#2a3f5f\",\"gridcolor\":\"white\",\"linecolor\":\"white\",\"minorgridcolor\":\"white\",\"startlinecolor\":\"#2a3f5f\"},\"baxis\":{\"endlinecolor\":\"#2a3f5f\",\"gridcolor\":\"white\",\"linecolor\":\"white\",\"minorgridcolor\":\"white\",\"startlinecolor\":\"#2a3f5f\"},\"type\":\"carpet\"}],\"choropleth\":[{\"colorbar\":{\"outlinewidth\":0,\"ticks\":\"\"},\"type\":\"choropleth\"}],\"contourcarpet\":[{\"colorbar\":{\"outlinewidth\":0,\"ticks\":\"\"},\"type\":\"contourcarpet\"}],\"contour\":[{\"colorbar\":{\"outlinewidth\":0,\"ticks\":\"\"},\"colorscale\":[[0.0,\"#0d0887\"],[0.1111111111111111,\"#46039f\"],[0.2222222222222222,\"#7201a8\"],[0.3333333333333333,\"#9c179e\"],[0.4444444444444444,\"#bd3786\"],[0.5555555555555556,\"#d8576b\"],[0.6666666666666666,\"#ed7953\"],[0.7777777777777778,\"#fb9f3a\"],[0.8888888888888888,\"#fdca26\"],[1.0,\"#f0f921\"]],\"type\":\"contour\"}],\"heatmapgl\":[{\"colorbar\":{\"outlinewidth\":0,\"ticks\":\"\"},\"colorscale\":[[0.0,\"#0d0887\"],[0.1111111111111111,\"#46039f\"],[0.2222222222222222,\"#7201a8\"],[0.3333333333333333,\"#9c179e\"],[0.4444444444444444,\"#bd3786\"],[0.5555555555555556,\"#d8576b\"],[0.6666666666666666,\"#ed7953\"],[0.7777777777777778,\"#fb9f3a\"],[0.8888888888888888,\"#fdca26\"],[1.0,\"#f0f921\"]],\"type\":\"heatmapgl\"}],\"heatmap\":[{\"colorbar\":{\"outlinewidth\":0,\"ticks\":\"\"},\"colorscale\":[[0.0,\"#0d0887\"],[0.1111111111111111,\"#46039f\"],[0.2222222222222222,\"#7201a8\"],[0.3333333333333333,\"#9c179e\"],[0.4444444444444444,\"#bd3786\"],[0.5555555555555556,\"#d8576b\"],[0.6666666666666666,\"#ed7953\"],[0.7777777777777778,\"#fb9f3a\"],[0.8888888888888888,\"#fdca26\"],[1.0,\"#f0f921\"]],\"type\":\"heatmap\"}],\"histogram2dcontour\":[{\"colorbar\":{\"outlinewidth\":0,\"ticks\":\"\"},\"colorscale\":[[0.0,\"#0d0887\"],[0.1111111111111111,\"#46039f\"],[0.2222222222222222,\"#7201a8\"],[0.3333333333333333,\"#9c179e\"],[0.4444444444444444,\"#bd3786\"],[0.5555555555555556,\"#d8576b\"],[0.6666666666666666,\"#ed7953\"],[0.7777777777777778,\"#fb9f3a\"],[0.8888888888888888,\"#fdca26\"],[1.0,\"#f0f921\"]],\"type\":\"histogram2dcontour\"}],\"histogram2d\":[{\"colorbar\":{\"outlinewidth\":0,\"ticks\":\"\"},\"colorscale\":[[0.0,\"#0d0887\"],[0.1111111111111111,\"#46039f\"],[0.2222222222222222,\"#7201a8\"],[0.3333333333333333,\"#9c179e\"],[0.4444444444444444,\"#bd3786\"],[0.5555555555555556,\"#d8576b\"],[0.6666666666666666,\"#ed7953\"],[0.7777777777777778,\"#fb9f3a\"],[0.8888888888888888,\"#fdca26\"],[1.0,\"#f0f921\"]],\"type\":\"histogram2d\"}],\"histogram\":[{\"marker\":{\"pattern\":{\"fillmode\":\"overlay\",\"size\":10,\"solidity\":0.2}},\"type\":\"histogram\"}],\"mesh3d\":[{\"colorbar\":{\"outlinewidth\":0,\"ticks\":\"\"},\"type\":\"mesh3d\"}],\"parcoords\":[{\"line\":{\"colorbar\":{\"outlinewidth\":0,\"ticks\":\"\"}},\"type\":\"parcoords\"}],\"pie\":[{\"automargin\":true,\"type\":\"pie\"}],\"scatter3d\":[{\"line\":{\"colorbar\":{\"outlinewidth\":0,\"ticks\":\"\"}},\"marker\":{\"colorbar\":{\"outlinewidth\":0,\"ticks\":\"\"}},\"type\":\"scatter3d\"}],\"scattercarpet\":[{\"marker\":{\"colorbar\":{\"outlinewidth\":0,\"ticks\":\"\"}},\"type\":\"scattercarpet\"}],\"scattergeo\":[{\"marker\":{\"colorbar\":{\"outlinewidth\":0,\"ticks\":\"\"}},\"type\":\"scattergeo\"}],\"scattergl\":[{\"marker\":{\"colorbar\":{\"outlinewidth\":0,\"ticks\":\"\"}},\"type\":\"scattergl\"}],\"scattermapbox\":[{\"marker\":{\"colorbar\":{\"outlinewidth\":0,\"ticks\":\"\"}},\"type\":\"scattermapbox\"}],\"scatterpolargl\":[{\"marker\":{\"colorbar\":{\"outlinewidth\":0,\"ticks\":\"\"}},\"type\":\"scatterpolargl\"}],\"scatterpolar\":[{\"marker\":{\"colorbar\":{\"outlinewidth\":0,\"ticks\":\"\"}},\"type\":\"scatterpolar\"}],\"scatter\":[{\"fillpattern\":{\"fillmode\":\"overlay\",\"size\":10,\"solidity\":0.2},\"type\":\"scatter\"}],\"scatterternary\":[{\"marker\":{\"colorbar\":{\"outlinewidth\":0,\"ticks\":\"\"}},\"type\":\"scatterternary\"}],\"surface\":[{\"colorbar\":{\"outlinewidth\":0,\"ticks\":\"\"},\"colorscale\":[[0.0,\"#0d0887\"],[0.1111111111111111,\"#46039f\"],[0.2222222222222222,\"#7201a8\"],[0.3333333333333333,\"#9c179e\"],[0.4444444444444444,\"#bd3786\"],[0.5555555555555556,\"#d8576b\"],[0.6666666666666666,\"#ed7953\"],[0.7777777777777778,\"#fb9f3a\"],[0.8888888888888888,\"#fdca26\"],[1.0,\"#f0f921\"]],\"type\":\"surface\"}],\"table\":[{\"cells\":{\"fill\":{\"color\":\"#EBF0F8\"},\"line\":{\"color\":\"white\"}},\"header\":{\"fill\":{\"color\":\"#C8D4E3\"},\"line\":{\"color\":\"white\"}},\"type\":\"table\"}]},\"layout\":{\"annotationdefaults\":{\"arrowcolor\":\"#2a3f5f\",\"arrowhead\":0,\"arrowwidth\":1},\"autotypenumbers\":\"strict\",\"coloraxis\":{\"colorbar\":{\"outlinewidth\":0,\"ticks\":\"\"}},\"colorscale\":{\"diverging\":[[0,\"#8e0152\"],[0.1,\"#c51b7d\"],[0.2,\"#de77ae\"],[0.3,\"#f1b6da\"],[0.4,\"#fde0ef\"],[0.5,\"#f7f7f7\"],[0.6,\"#e6f5d0\"],[0.7,\"#b8e186\"],[0.8,\"#7fbc41\"],[0.9,\"#4d9221\"],[1,\"#276419\"]],\"sequential\":[[0.0,\"#0d0887\"],[0.1111111111111111,\"#46039f\"],[0.2222222222222222,\"#7201a8\"],[0.3333333333333333,\"#9c179e\"],[0.4444444444444444,\"#bd3786\"],[0.5555555555555556,\"#d8576b\"],[0.6666666666666666,\"#ed7953\"],[0.7777777777777778,\"#fb9f3a\"],[0.8888888888888888,\"#fdca26\"],[1.0,\"#f0f921\"]],\"sequentialminus\":[[0.0,\"#0d0887\"],[0.1111111111111111,\"#46039f\"],[0.2222222222222222,\"#7201a8\"],[0.3333333333333333,\"#9c179e\"],[0.4444444444444444,\"#bd3786\"],[0.5555555555555556,\"#d8576b\"],[0.6666666666666666,\"#ed7953\"],[0.7777777777777778,\"#fb9f3a\"],[0.8888888888888888,\"#fdca26\"],[1.0,\"#f0f921\"]]},\"colorway\":[\"#636efa\",\"#EF553B\",\"#00cc96\",\"#ab63fa\",\"#FFA15A\",\"#19d3f3\",\"#FF6692\",\"#B6E880\",\"#FF97FF\",\"#FECB52\"],\"font\":{\"color\":\"#2a3f5f\"},\"geo\":{\"bgcolor\":\"white\",\"lakecolor\":\"white\",\"landcolor\":\"#E5ECF6\",\"showlakes\":true,\"showland\":true,\"subunitcolor\":\"white\"},\"hoverlabel\":{\"align\":\"left\"},\"hovermode\":\"closest\",\"mapbox\":{\"style\":\"light\"},\"paper_bgcolor\":\"white\",\"plot_bgcolor\":\"#E5ECF6\",\"polar\":{\"angularaxis\":{\"gridcolor\":\"white\",\"linecolor\":\"white\",\"ticks\":\"\"},\"bgcolor\":\"#E5ECF6\",\"radialaxis\":{\"gridcolor\":\"white\",\"linecolor\":\"white\",\"ticks\":\"\"}},\"scene\":{\"xaxis\":{\"backgroundcolor\":\"#E5ECF6\",\"gridcolor\":\"white\",\"gridwidth\":2,\"linecolor\":\"white\",\"showbackground\":true,\"ticks\":\"\",\"zerolinecolor\":\"white\"},\"yaxis\":{\"backgroundcolor\":\"#E5ECF6\",\"gridcolor\":\"white\",\"gridwidth\":2,\"linecolor\":\"white\",\"showbackground\":true,\"ticks\":\"\",\"zerolinecolor\":\"white\"},\"zaxis\":{\"backgroundcolor\":\"#E5ECF6\",\"gridcolor\":\"white\",\"gridwidth\":2,\"linecolor\":\"white\",\"showbackground\":true,\"ticks\":\"\",\"zerolinecolor\":\"white\"}},\"shapedefaults\":{\"line\":{\"color\":\"#2a3f5f\"}},\"ternary\":{\"aaxis\":{\"gridcolor\":\"white\",\"linecolor\":\"white\",\"ticks\":\"\"},\"baxis\":{\"gridcolor\":\"white\",\"linecolor\":\"white\",\"ticks\":\"\"},\"bgcolor\":\"#E5ECF6\",\"caxis\":{\"gridcolor\":\"white\",\"linecolor\":\"white\",\"ticks\":\"\"}},\"title\":{\"x\":0.05},\"xaxis\":{\"automargin\":true,\"gridcolor\":\"white\",\"linecolor\":\"white\",\"ticks\":\"\",\"title\":{\"standoff\":15},\"zerolinecolor\":\"white\",\"zerolinewidth\":2},\"yaxis\":{\"automargin\":true,\"gridcolor\":\"white\",\"linecolor\":\"white\",\"ticks\":\"\",\"title\":{\"standoff\":15},\"zerolinecolor\":\"white\",\"zerolinewidth\":2}}},\"title\":{\"font\":{\"color\":\"#4D5663\"}},\"xaxis\":{\"gridcolor\":\"#E1E5ED\",\"showgrid\":true,\"tickfont\":{\"color\":\"#4D5663\"},\"title\":{\"font\":{\"color\":\"#4D5663\"},\"text\":\"\"},\"zerolinecolor\":\"#E1E5ED\"},\"yaxis\":{\"gridcolor\":\"#E1E5ED\",\"showgrid\":true,\"tickfont\":{\"color\":\"#4D5663\"},\"title\":{\"font\":{\"color\":\"#4D5663\"},\"text\":\"\"},\"zerolinecolor\":\"#E1E5ED\"}},                        {\"showLink\": true, \"linkText\": \"Export to plot.ly\", \"plotlyServerURL\": \"https://plot.ly\", \"responsive\": true}                    ).then(function(){\n",
       "                            \n",
       "var gd = document.getElementById('c02543ef-f71a-477d-8a21-34dd0c2edb71');\n",
       "var x = new MutationObserver(function (mutations, observer) {{\n",
       "        var display = window.getComputedStyle(gd).display;\n",
       "        if (!display || display === 'none') {{\n",
       "            console.log([gd, 'removed!']);\n",
       "            Plotly.purge(gd);\n",
       "            observer.disconnect();\n",
       "        }}\n",
       "}});\n",
       "\n",
       "// Listen for the removal of the full notebook cells\n",
       "var notebookContainer = gd.closest('#notebook-container');\n",
       "if (notebookContainer) {{\n",
       "    x.observe(notebookContainer, {childList: true});\n",
       "}}\n",
       "\n",
       "// Listen for the clearing of the current output cell\n",
       "var outputEl = gd.closest('.output');\n",
       "if (outputEl) {{\n",
       "    x.observe(outputEl, {childList: true});\n",
       "}}\n",
       "\n",
       "                        })                };                });            </script>        </div>"
      ]
     },
     "metadata": {},
     "output_type": "display_data"
    }
   ],
   "source": [
    "df.count().iplot(kind='bar')"
   ]
  },
  {
   "cell_type": "markdown",
   "metadata": {},
   "source": [
    "## Boxplots"
   ]
  },
  {
   "cell_type": "code",
   "execution_count": 80,
   "metadata": {
    "collapsed": false
   },
   "outputs": [
    {
     "data": {
      "application/vnd.plotly.v1+json": {
       "config": {
        "linkText": "Export to plot.ly",
        "plotlyServerURL": "https://plot.ly",
        "showLink": true
       },
       "data": [
        {
         "boxpoints": false,
         "line": {
          "width": 1.3
         },
         "marker": {
          "color": "rgba(255, 153, 51, 1.0)"
         },
         "name": "A",
         "orientation": "v",
         "type": "box",
         "y": [
          -1.7190432325639267,
          -1.0444212488203901,
          -1.2281548596652592,
          -0.1880998649496823,
          -0.023666518836465148,
          0.27316113327019337,
          0.1392557211801331,
          -0.1494975001196965,
          -0.3281889047311518,
          0.7630128577687965,
          -0.9887978159070222,
          1.7602940270080043,
          -0.2443307029648765,
          0.0605555077267923,
          0.1608818236220502,
          1.4725369594926774,
          0.7975054750093041,
          -1.2597645955801993,
          -0.2836042636557704,
          -1.3410643134511464,
          -3.082807509142449,
          0.10040955668920086,
          0.1190737877344889,
          -0.5194247208533813,
          -0.16041717951496873,
          -0.42019672544201253,
          -1.04630908270048,
          -1.0746470636561334,
          -0.2507817944882134,
          1.3128743750521201,
          0.47677732348050544,
          -0.5016507885943113,
          -0.407164342153989,
          -0.4952068718492648,
          -1.9667141629945057,
          0.330738501568156,
          0.8231660176547433,
          -0.5410515779966526,
          -0.46213876737850607,
          0.7763166570459573,
          -0.6854161078703633,
          0.9258852531425174,
          0.4452776659573741,
          0.1433919156308816,
          -0.5098633064390098,
          -1.6418834096841597,
          -0.9962361443896429,
          0.22733971103411632,
          1.8023099350953908,
          -0.46223753528257855,
          1.2024043335033523,
          -0.021680216105745824,
          -0.11402535562032319,
          -1.4421018473008114,
          -1.9768110804667434,
          0.771427797107187,
          -1.0961710380387748,
          0.5565420326255095,
          -1.2145782582885567,
          0.30716424383178914,
          -0.12051682741956476,
          0.08116981124048986,
          0.44409374469694546,
          0.32083407252942153,
          0.3284735979520984,
          1.2192042097398912,
          -0.08975218466167159,
          -0.7140739603542511,
          0.4929877565568179,
          -1.2495573399079385,
          -0.6551128437891885,
          -0.8055926026047565,
          0.9759313697721583,
          -0.32086986532559747,
          0.24938951455511105,
          1.0442989049164786,
          -0.21363696146902908,
          0.570467105783283,
          0.2018693877141919,
          -0.13677987220970744,
          1.141767519963179,
          -0.006674965663933419,
          -1.4001570009577424,
          -1.223387694657123,
          -1.5242392898964017,
          0.36198253172389483,
          -1.1542234126310464,
          -0.0432496695709186,
          -0.5385172809397573,
          -0.22561010953102295,
          -0.8815368257685243,
          0.03440737070312135,
          0.380176200295355,
          0.5451192543663047,
          2.1009187284632276,
          1.2262948214107132,
          -1.1259771549283395,
          -0.4092797319064413,
          0.8238088159521023,
          2.701443028227148
         ]
        },
        {
         "boxpoints": false,
         "line": {
          "width": 1.3
         },
         "marker": {
          "color": "rgba(55, 128, 191, 1.0)"
         },
         "name": "B",
         "orientation": "v",
         "type": "box",
         "y": [
          -0.7453650578061853,
          -0.732485868230905,
          2.571440856130466,
          -1.3288014757770887,
          -0.37571548259490545,
          1.353542151236892,
          1.93286073520079,
          2.0533955712126146,
          -0.6382279278868261,
          1.006911855066834,
          -0.8508485018441402,
          -0.3345162882904823,
          0.8196876101635465,
          -0.5182830042287909,
          -0.8872208937328169,
          -0.6977613360071452,
          0.8329749491099315,
          1.6278156329603701,
          -0.5918599160082817,
          0.5979676482099805,
          -0.21096248033595624,
          0.6580358342875058,
          0.07754165507905827,
          -0.3918294815826402,
          -0.12282736170431181,
          -0.4380063170871286,
          0.24626681996064265,
          -0.4750318627570162,
          -0.2941999491946126,
          -1.5270439756558192,
          -0.18562428035420844,
          -0.5423611512392887,
          -1.2264486791305123,
          0.3676093812347672,
          1.033419704658409,
          -0.6567831499467796,
          -0.7032492021918825,
          -1.1557532341470151,
          0.5600311571157386,
          -0.9334259060271239,
          -0.5989668140682524,
          -1.3131661082909658,
          -0.9527241875250738,
          2.1076321001344995,
          0.7907645450042046,
          0.045317753071620864,
          -0.5422493792125058,
          0.09857118965031991,
          0.6052916763925353,
          -0.392869883278384,
          -2.1728167312609594,
          0.19129452413895515,
          -0.4482696369760158,
          0.7536670650604307,
          3.0297697508518535,
          -1.4843336527711002,
          0.24516289995024912,
          -0.07823342244748287,
          1.8600695154382882,
          0.1652695904259634,
          0.5803836626659503,
          0.23363792298583005,
          1.9757625435411996,
          0.2668853669235514,
          -0.9279029959151173,
          -0.4834953930206035,
          -0.6366637869200468,
          -0.15419250778739807,
          -1.0199977291771138,
          0.927786461653511,
          0.4029687170081699,
          0.8255307678139705,
          0.6168162267979052,
          0.6284463701216723,
          -1.9754562759861336,
          -2.104602026931329,
          0.9544746502463938,
          -1.0692132136829424,
          0.7449650141369406,
          0.34937979315948636,
          1.2680493437929372,
          0.45804927462531686,
          1.5888458959012468,
          -0.6233348854103765,
          -0.46910717109893024,
          -1.9199036442570905,
          1.8333260115694225,
          0.44932592617168915,
          -0.8415764549515934,
          -1.8682125418564481,
          -0.11105533756615614,
          0.17216434633769956,
          0.6110137590737573,
          0.8806559097453874,
          -1.3571457712679595,
          1.6712324155356806,
          -0.9400650924848841,
          -1.2679553064567328,
          -0.885456193058384,
          0.22823409955739418
         ]
        },
        {
         "boxpoints": false,
         "line": {
          "width": 1.3
         },
         "marker": {
          "color": "rgba(50, 171, 96, 1.0)"
         },
         "name": "C",
         "orientation": "v",
         "type": "box",
         "y": [
          -0.2749675429277293,
          1.9335738697817635,
          -0.665119830943065,
          -0.9252316804236914,
          1.0778923066152155,
          0.09614114435062843,
          -1.3013861632886932,
          -0.16683601823644134,
          -0.8287054846972015,
          -0.5754212693290882,
          -0.5333213753996034,
          0.670677131854899,
          0.6299184200543384,
          -0.20771670278614038,
          0.5326574703993484,
          -0.335603024423566,
          1.1158322125620264,
          0.465600987062726,
          1.2648695639487362,
          0.9643342871739559,
          1.0121368707060108,
          1.2593190048982323,
          -0.663309963598204,
          1.644255108143534,
          -0.9734410059359437,
          0.4377929440560526,
          0.8412287490834214,
          1.130785939539371,
          -1.6025673570846466,
          1.0058558286498844,
          -1.3754887279084487,
          -2.417982272375856,
          1.5154293905760403,
          -0.0770243980088766,
          0.2518943344359841,
          -0.49834527210663154,
          -1.7223016131675526,
          -0.6071283327981475,
          0.20026527026858776,
          -1.1900577442502676,
          -0.12645879968706566,
          -1.0640645206341206,
          -1.1808148826835738,
          0.9127152879851413,
          -2.3296362911548396,
          -0.5082559735896763,
          -0.523612349427821,
          0.2825608273518654,
          -0.5986937853542252,
          1.5886041083870857,
          0.5077542474050725,
          -0.23080366161010027,
          -1.6616857287890443,
          -0.7108527760230315,
          0.28025870639864114,
          0.032113514679689044,
          0.13641754500856487,
          -0.5508822684203448,
          -0.7516436959296743,
          -1.5120659105433971,
          -0.4930572945673687,
          -1.275143852446616,
          -0.2825458276470288,
          1.4905823434824856,
          2.1551477746808154,
          -0.9310367567773862,
          -1.061054264155902,
          1.0665214541362709,
          -1.8751765830661236,
          0.653153059453366,
          1.4506347515072997,
          -0.9590560765123353,
          -0.24383642257046884,
          1.6048707595410525,
          0.7071398167413696,
          0.004568993411117865,
          0.5129872622888353,
          -0.39286412014569133,
          -0.5221150039952728,
          1.3346594180348332,
          -0.7024981853269824,
          -0.11414500595587583,
          1.2003488756137317,
          1.7493417681494021,
          0.6752143546481547,
          -0.8184935604263186,
          -0.2581829311970378,
          0.9280082927314212,
          -0.6604373754484952,
          -0.18625962628404644,
          0.16822538927592579,
          0.6297523928533115,
          0.6924571249670833,
          0.28395965797574535,
          -1.3144078645262325,
          0.3839284076826824,
          -0.1993281290111844,
          -1.2003550856895944,
          1.1836024206075546,
          -0.12913662513353683
         ]
        },
        {
         "boxpoints": false,
         "line": {
          "width": 1.3
         },
         "marker": {
          "color": "rgba(128, 0, 128, 1.0)"
         },
         "name": "D",
         "orientation": "v",
         "type": "box",
         "y": [
          0.3607780144857141,
          -1.736483245906638,
          1.370195273582514,
          -1.5718797598932561,
          -0.05756355422800969,
          -0.6772751114683593,
          -0.07529215899163981,
          -0.1452912408818085,
          0.49035405932254233,
          0.30234597945250474,
          0.6842480903876552,
          -0.40599823004490554,
          1.2582020482948042,
          0.21291115134881447,
          -0.015374437747275623,
          0.6390283572173161,
          -0.027764230845340396,
          0.09392743468720419,
          0.2007828003880154,
          0.7914466592262185,
          -0.8818917132934164,
          -0.5354115159200049,
          0.9787343037816126,
          0.9041879207648577,
          0.580346319482985,
          0.5587553277693843,
          -0.5767422132236388,
          1.7041155268185804,
          0.35955119695135196,
          1.4470150968554383,
          0.5709417055446602,
          2.517413082856456,
          -2.41261764029486,
          0.8167752802539817,
          -0.950665900490461,
          0.019441322827203806,
          1.3445172531158445,
          0.09164091168883791,
          -0.9804558464000153,
          0.9950278644440643,
          2.040039457635569,
          0.8233652503576577,
          0.09320935942000907,
          0.7824692929688539,
          -0.033251792009062156,
          0.8309132583341456,
          -2.055074057365009,
          2.3001823769277983,
          1.4735387567281197,
          1.0523117396903963,
          -0.07069267403463227,
          -0.20586395159910603,
          -0.2449212954706954,
          -0.9193848496056759,
          0.8022003396951617,
          -0.4274016250026047,
          -0.8607571099585395,
          -0.12271895141875051,
          -1.0896364079342726,
          0.33004573423334593,
          2.420637688738529,
          0.048025965534223704,
          0.49528546231342674,
          -0.2778627476477282,
          -1.849100950543068,
          -0.0019751977459464398,
          0.2647954570670259,
          -0.62459940196595,
          -0.22351139186585264,
          -0.4726220462557567,
          -1.0175813974574868,
          -0.2703853511514275,
          0.3392617094139369,
          2.3134911319417726,
          0.554213911969139,
          -0.37538440210672497,
          -0.3187688768183547,
          0.9828674479352021,
          -0.7491799245032438,
          -0.9399274251094801,
          -0.1524355810165516,
          0.617404590362444,
          -1.4671006696257103,
          -0.07320755120663704,
          -0.5423822124016995,
          0.6862267390834078,
          0.8431217639131952,
          0.4796437026135891,
          -0.6350121466739759,
          0.003730501791416347,
          -0.10942054044250821,
          1.15951300833599,
          -1.0405210380598184,
          0.6998039483445962,
          -0.3150735159220903,
          -0.7932227671372611,
          0.8005035393487423,
          -1.863356499942961,
          1.779389968330466,
          -0.1498312213827943
         ]
        }
       ],
       "layout": {
        "legend": {
         "bgcolor": "#F5F6F9",
         "font": {
          "color": "#4D5663"
         }
        },
        "paper_bgcolor": "#F5F6F9",
        "plot_bgcolor": "#F5F6F9",
        "template": {
         "data": {
          "bar": [
           {
            "error_x": {
             "color": "#2a3f5f"
            },
            "error_y": {
             "color": "#2a3f5f"
            },
            "marker": {
             "line": {
              "color": "#E5ECF6",
              "width": 0.5
             },
             "pattern": {
              "fillmode": "overlay",
              "size": 10,
              "solidity": 0.2
             }
            },
            "type": "bar"
           }
          ],
          "barpolar": [
           {
            "marker": {
             "line": {
              "color": "#E5ECF6",
              "width": 0.5
             },
             "pattern": {
              "fillmode": "overlay",
              "size": 10,
              "solidity": 0.2
             }
            },
            "type": "barpolar"
           }
          ],
          "carpet": [
           {
            "aaxis": {
             "endlinecolor": "#2a3f5f",
             "gridcolor": "white",
             "linecolor": "white",
             "minorgridcolor": "white",
             "startlinecolor": "#2a3f5f"
            },
            "baxis": {
             "endlinecolor": "#2a3f5f",
             "gridcolor": "white",
             "linecolor": "white",
             "minorgridcolor": "white",
             "startlinecolor": "#2a3f5f"
            },
            "type": "carpet"
           }
          ],
          "choropleth": [
           {
            "colorbar": {
             "outlinewidth": 0,
             "ticks": ""
            },
            "type": "choropleth"
           }
          ],
          "contour": [
           {
            "colorbar": {
             "outlinewidth": 0,
             "ticks": ""
            },
            "colorscale": [
             [
              0,
              "#0d0887"
             ],
             [
              0.1111111111111111,
              "#46039f"
             ],
             [
              0.2222222222222222,
              "#7201a8"
             ],
             [
              0.3333333333333333,
              "#9c179e"
             ],
             [
              0.4444444444444444,
              "#bd3786"
             ],
             [
              0.5555555555555556,
              "#d8576b"
             ],
             [
              0.6666666666666666,
              "#ed7953"
             ],
             [
              0.7777777777777778,
              "#fb9f3a"
             ],
             [
              0.8888888888888888,
              "#fdca26"
             ],
             [
              1,
              "#f0f921"
             ]
            ],
            "type": "contour"
           }
          ],
          "contourcarpet": [
           {
            "colorbar": {
             "outlinewidth": 0,
             "ticks": ""
            },
            "type": "contourcarpet"
           }
          ],
          "heatmap": [
           {
            "colorbar": {
             "outlinewidth": 0,
             "ticks": ""
            },
            "colorscale": [
             [
              0,
              "#0d0887"
             ],
             [
              0.1111111111111111,
              "#46039f"
             ],
             [
              0.2222222222222222,
              "#7201a8"
             ],
             [
              0.3333333333333333,
              "#9c179e"
             ],
             [
              0.4444444444444444,
              "#bd3786"
             ],
             [
              0.5555555555555556,
              "#d8576b"
             ],
             [
              0.6666666666666666,
              "#ed7953"
             ],
             [
              0.7777777777777778,
              "#fb9f3a"
             ],
             [
              0.8888888888888888,
              "#fdca26"
             ],
             [
              1,
              "#f0f921"
             ]
            ],
            "type": "heatmap"
           }
          ],
          "heatmapgl": [
           {
            "colorbar": {
             "outlinewidth": 0,
             "ticks": ""
            },
            "colorscale": [
             [
              0,
              "#0d0887"
             ],
             [
              0.1111111111111111,
              "#46039f"
             ],
             [
              0.2222222222222222,
              "#7201a8"
             ],
             [
              0.3333333333333333,
              "#9c179e"
             ],
             [
              0.4444444444444444,
              "#bd3786"
             ],
             [
              0.5555555555555556,
              "#d8576b"
             ],
             [
              0.6666666666666666,
              "#ed7953"
             ],
             [
              0.7777777777777778,
              "#fb9f3a"
             ],
             [
              0.8888888888888888,
              "#fdca26"
             ],
             [
              1,
              "#f0f921"
             ]
            ],
            "type": "heatmapgl"
           }
          ],
          "histogram": [
           {
            "marker": {
             "pattern": {
              "fillmode": "overlay",
              "size": 10,
              "solidity": 0.2
             }
            },
            "type": "histogram"
           }
          ],
          "histogram2d": [
           {
            "colorbar": {
             "outlinewidth": 0,
             "ticks": ""
            },
            "colorscale": [
             [
              0,
              "#0d0887"
             ],
             [
              0.1111111111111111,
              "#46039f"
             ],
             [
              0.2222222222222222,
              "#7201a8"
             ],
             [
              0.3333333333333333,
              "#9c179e"
             ],
             [
              0.4444444444444444,
              "#bd3786"
             ],
             [
              0.5555555555555556,
              "#d8576b"
             ],
             [
              0.6666666666666666,
              "#ed7953"
             ],
             [
              0.7777777777777778,
              "#fb9f3a"
             ],
             [
              0.8888888888888888,
              "#fdca26"
             ],
             [
              1,
              "#f0f921"
             ]
            ],
            "type": "histogram2d"
           }
          ],
          "histogram2dcontour": [
           {
            "colorbar": {
             "outlinewidth": 0,
             "ticks": ""
            },
            "colorscale": [
             [
              0,
              "#0d0887"
             ],
             [
              0.1111111111111111,
              "#46039f"
             ],
             [
              0.2222222222222222,
              "#7201a8"
             ],
             [
              0.3333333333333333,
              "#9c179e"
             ],
             [
              0.4444444444444444,
              "#bd3786"
             ],
             [
              0.5555555555555556,
              "#d8576b"
             ],
             [
              0.6666666666666666,
              "#ed7953"
             ],
             [
              0.7777777777777778,
              "#fb9f3a"
             ],
             [
              0.8888888888888888,
              "#fdca26"
             ],
             [
              1,
              "#f0f921"
             ]
            ],
            "type": "histogram2dcontour"
           }
          ],
          "mesh3d": [
           {
            "colorbar": {
             "outlinewidth": 0,
             "ticks": ""
            },
            "type": "mesh3d"
           }
          ],
          "parcoords": [
           {
            "line": {
             "colorbar": {
              "outlinewidth": 0,
              "ticks": ""
             }
            },
            "type": "parcoords"
           }
          ],
          "pie": [
           {
            "automargin": true,
            "type": "pie"
           }
          ],
          "scatter": [
           {
            "fillpattern": {
             "fillmode": "overlay",
             "size": 10,
             "solidity": 0.2
            },
            "type": "scatter"
           }
          ],
          "scatter3d": [
           {
            "line": {
             "colorbar": {
              "outlinewidth": 0,
              "ticks": ""
             }
            },
            "marker": {
             "colorbar": {
              "outlinewidth": 0,
              "ticks": ""
             }
            },
            "type": "scatter3d"
           }
          ],
          "scattercarpet": [
           {
            "marker": {
             "colorbar": {
              "outlinewidth": 0,
              "ticks": ""
             }
            },
            "type": "scattercarpet"
           }
          ],
          "scattergeo": [
           {
            "marker": {
             "colorbar": {
              "outlinewidth": 0,
              "ticks": ""
             }
            },
            "type": "scattergeo"
           }
          ],
          "scattergl": [
           {
            "marker": {
             "colorbar": {
              "outlinewidth": 0,
              "ticks": ""
             }
            },
            "type": "scattergl"
           }
          ],
          "scattermapbox": [
           {
            "marker": {
             "colorbar": {
              "outlinewidth": 0,
              "ticks": ""
             }
            },
            "type": "scattermapbox"
           }
          ],
          "scatterpolar": [
           {
            "marker": {
             "colorbar": {
              "outlinewidth": 0,
              "ticks": ""
             }
            },
            "type": "scatterpolar"
           }
          ],
          "scatterpolargl": [
           {
            "marker": {
             "colorbar": {
              "outlinewidth": 0,
              "ticks": ""
             }
            },
            "type": "scatterpolargl"
           }
          ],
          "scatterternary": [
           {
            "marker": {
             "colorbar": {
              "outlinewidth": 0,
              "ticks": ""
             }
            },
            "type": "scatterternary"
           }
          ],
          "surface": [
           {
            "colorbar": {
             "outlinewidth": 0,
             "ticks": ""
            },
            "colorscale": [
             [
              0,
              "#0d0887"
             ],
             [
              0.1111111111111111,
              "#46039f"
             ],
             [
              0.2222222222222222,
              "#7201a8"
             ],
             [
              0.3333333333333333,
              "#9c179e"
             ],
             [
              0.4444444444444444,
              "#bd3786"
             ],
             [
              0.5555555555555556,
              "#d8576b"
             ],
             [
              0.6666666666666666,
              "#ed7953"
             ],
             [
              0.7777777777777778,
              "#fb9f3a"
             ],
             [
              0.8888888888888888,
              "#fdca26"
             ],
             [
              1,
              "#f0f921"
             ]
            ],
            "type": "surface"
           }
          ],
          "table": [
           {
            "cells": {
             "fill": {
              "color": "#EBF0F8"
             },
             "line": {
              "color": "white"
             }
            },
            "header": {
             "fill": {
              "color": "#C8D4E3"
             },
             "line": {
              "color": "white"
             }
            },
            "type": "table"
           }
          ]
         },
         "layout": {
          "annotationdefaults": {
           "arrowcolor": "#2a3f5f",
           "arrowhead": 0,
           "arrowwidth": 1
          },
          "autotypenumbers": "strict",
          "coloraxis": {
           "colorbar": {
            "outlinewidth": 0,
            "ticks": ""
           }
          },
          "colorscale": {
           "diverging": [
            [
             0,
             "#8e0152"
            ],
            [
             0.1,
             "#c51b7d"
            ],
            [
             0.2,
             "#de77ae"
            ],
            [
             0.3,
             "#f1b6da"
            ],
            [
             0.4,
             "#fde0ef"
            ],
            [
             0.5,
             "#f7f7f7"
            ],
            [
             0.6,
             "#e6f5d0"
            ],
            [
             0.7,
             "#b8e186"
            ],
            [
             0.8,
             "#7fbc41"
            ],
            [
             0.9,
             "#4d9221"
            ],
            [
             1,
             "#276419"
            ]
           ],
           "sequential": [
            [
             0,
             "#0d0887"
            ],
            [
             0.1111111111111111,
             "#46039f"
            ],
            [
             0.2222222222222222,
             "#7201a8"
            ],
            [
             0.3333333333333333,
             "#9c179e"
            ],
            [
             0.4444444444444444,
             "#bd3786"
            ],
            [
             0.5555555555555556,
             "#d8576b"
            ],
            [
             0.6666666666666666,
             "#ed7953"
            ],
            [
             0.7777777777777778,
             "#fb9f3a"
            ],
            [
             0.8888888888888888,
             "#fdca26"
            ],
            [
             1,
             "#f0f921"
            ]
           ],
           "sequentialminus": [
            [
             0,
             "#0d0887"
            ],
            [
             0.1111111111111111,
             "#46039f"
            ],
            [
             0.2222222222222222,
             "#7201a8"
            ],
            [
             0.3333333333333333,
             "#9c179e"
            ],
            [
             0.4444444444444444,
             "#bd3786"
            ],
            [
             0.5555555555555556,
             "#d8576b"
            ],
            [
             0.6666666666666666,
             "#ed7953"
            ],
            [
             0.7777777777777778,
             "#fb9f3a"
            ],
            [
             0.8888888888888888,
             "#fdca26"
            ],
            [
             1,
             "#f0f921"
            ]
           ]
          },
          "colorway": [
           "#636efa",
           "#EF553B",
           "#00cc96",
           "#ab63fa",
           "#FFA15A",
           "#19d3f3",
           "#FF6692",
           "#B6E880",
           "#FF97FF",
           "#FECB52"
          ],
          "font": {
           "color": "#2a3f5f"
          },
          "geo": {
           "bgcolor": "white",
           "lakecolor": "white",
           "landcolor": "#E5ECF6",
           "showlakes": true,
           "showland": true,
           "subunitcolor": "white"
          },
          "hoverlabel": {
           "align": "left"
          },
          "hovermode": "closest",
          "mapbox": {
           "style": "light"
          },
          "paper_bgcolor": "white",
          "plot_bgcolor": "#E5ECF6",
          "polar": {
           "angularaxis": {
            "gridcolor": "white",
            "linecolor": "white",
            "ticks": ""
           },
           "bgcolor": "#E5ECF6",
           "radialaxis": {
            "gridcolor": "white",
            "linecolor": "white",
            "ticks": ""
           }
          },
          "scene": {
           "xaxis": {
            "backgroundcolor": "#E5ECF6",
            "gridcolor": "white",
            "gridwidth": 2,
            "linecolor": "white",
            "showbackground": true,
            "ticks": "",
            "zerolinecolor": "white"
           },
           "yaxis": {
            "backgroundcolor": "#E5ECF6",
            "gridcolor": "white",
            "gridwidth": 2,
            "linecolor": "white",
            "showbackground": true,
            "ticks": "",
            "zerolinecolor": "white"
           },
           "zaxis": {
            "backgroundcolor": "#E5ECF6",
            "gridcolor": "white",
            "gridwidth": 2,
            "linecolor": "white",
            "showbackground": true,
            "ticks": "",
            "zerolinecolor": "white"
           }
          },
          "shapedefaults": {
           "line": {
            "color": "#2a3f5f"
           }
          },
          "ternary": {
           "aaxis": {
            "gridcolor": "white",
            "linecolor": "white",
            "ticks": ""
           },
           "baxis": {
            "gridcolor": "white",
            "linecolor": "white",
            "ticks": ""
           },
           "bgcolor": "#E5ECF6",
           "caxis": {
            "gridcolor": "white",
            "linecolor": "white",
            "ticks": ""
           }
          },
          "title": {
           "x": 0.05
          },
          "xaxis": {
           "automargin": true,
           "gridcolor": "white",
           "linecolor": "white",
           "ticks": "",
           "title": {
            "standoff": 15
           },
           "zerolinecolor": "white",
           "zerolinewidth": 2
          },
          "yaxis": {
           "automargin": true,
           "gridcolor": "white",
           "linecolor": "white",
           "ticks": "",
           "title": {
            "standoff": 15
           },
           "zerolinecolor": "white",
           "zerolinewidth": 2
          }
         }
        },
        "title": {
         "font": {
          "color": "#4D5663"
         }
        },
        "xaxis": {
         "gridcolor": "#E1E5ED",
         "showgrid": true,
         "tickfont": {
          "color": "#4D5663"
         },
         "title": {
          "font": {
           "color": "#4D5663"
          },
          "text": ""
         },
         "zerolinecolor": "#E1E5ED"
        },
        "yaxis": {
         "gridcolor": "#E1E5ED",
         "showgrid": true,
         "tickfont": {
          "color": "#4D5663"
         },
         "title": {
          "font": {
           "color": "#4D5663"
          },
          "text": ""
         },
         "zerolinecolor": "#E1E5ED"
        }
       }
      },
      "text/html": [
       "<div>                            <div id=\"9c82d47d-81dd-4798-b684-1b8e0f8fdfb5\" class=\"plotly-graph-div\" style=\"height:525px; width:100%;\"></div>            <script type=\"text/javascript\">                require([\"plotly\"], function(Plotly) {                    window.PLOTLYENV=window.PLOTLYENV || {};\n",
       "                    window.PLOTLYENV.BASE_URL='https://plot.ly';                                    if (document.getElementById(\"9c82d47d-81dd-4798-b684-1b8e0f8fdfb5\")) {                    Plotly.newPlot(                        \"9c82d47d-81dd-4798-b684-1b8e0f8fdfb5\",                        [{\"boxpoints\":false,\"line\":{\"width\":1.3},\"marker\":{\"color\":\"rgba(255, 153, 51, 1.0)\"},\"name\":\"A\",\"orientation\":\"v\",\"y\":[-1.7190432325639267,-1.0444212488203901,-1.2281548596652592,-0.1880998649496823,-0.023666518836465148,0.27316113327019337,0.1392557211801331,-0.1494975001196965,-0.3281889047311518,0.7630128577687965,-0.9887978159070222,1.7602940270080043,-0.2443307029648765,0.0605555077267923,0.1608818236220502,1.4725369594926774,0.7975054750093041,-1.2597645955801993,-0.2836042636557704,-1.3410643134511464,-3.082807509142449,0.10040955668920086,0.1190737877344889,-0.5194247208533813,-0.16041717951496873,-0.42019672544201253,-1.04630908270048,-1.0746470636561334,-0.2507817944882134,1.3128743750521201,0.47677732348050544,-0.5016507885943113,-0.407164342153989,-0.4952068718492648,-1.9667141629945057,0.330738501568156,0.8231660176547433,-0.5410515779966526,-0.46213876737850607,0.7763166570459573,-0.6854161078703633,0.9258852531425174,0.4452776659573741,0.1433919156308816,-0.5098633064390098,-1.6418834096841597,-0.9962361443896429,0.22733971103411632,1.8023099350953908,-0.46223753528257855,1.2024043335033523,-0.021680216105745824,-0.11402535562032319,-1.4421018473008114,-1.9768110804667434,0.771427797107187,-1.0961710380387748,0.5565420326255095,-1.2145782582885567,0.30716424383178914,-0.12051682741956476,0.08116981124048986,0.44409374469694546,0.32083407252942153,0.3284735979520984,1.2192042097398912,-0.08975218466167159,-0.7140739603542511,0.4929877565568179,-1.2495573399079385,-0.6551128437891885,-0.8055926026047565,0.9759313697721583,-0.32086986532559747,0.24938951455511105,1.0442989049164786,-0.21363696146902908,0.570467105783283,0.2018693877141919,-0.13677987220970744,1.141767519963179,-0.006674965663933419,-1.4001570009577424,-1.223387694657123,-1.5242392898964017,0.36198253172389483,-1.1542234126310464,-0.0432496695709186,-0.5385172809397573,-0.22561010953102295,-0.8815368257685243,0.03440737070312135,0.380176200295355,0.5451192543663047,2.1009187284632276,1.2262948214107132,-1.1259771549283395,-0.4092797319064413,0.8238088159521023,2.701443028227148],\"type\":\"box\"},{\"boxpoints\":false,\"line\":{\"width\":1.3},\"marker\":{\"color\":\"rgba(55, 128, 191, 1.0)\"},\"name\":\"B\",\"orientation\":\"v\",\"y\":[-0.7453650578061853,-0.732485868230905,2.571440856130466,-1.3288014757770887,-0.37571548259490545,1.353542151236892,1.93286073520079,2.0533955712126146,-0.6382279278868261,1.006911855066834,-0.8508485018441402,-0.3345162882904823,0.8196876101635465,-0.5182830042287909,-0.8872208937328169,-0.6977613360071452,0.8329749491099315,1.6278156329603701,-0.5918599160082817,0.5979676482099805,-0.21096248033595624,0.6580358342875058,0.07754165507905827,-0.3918294815826402,-0.12282736170431181,-0.4380063170871286,0.24626681996064265,-0.4750318627570162,-0.2941999491946126,-1.5270439756558192,-0.18562428035420844,-0.5423611512392887,-1.2264486791305123,0.3676093812347672,1.033419704658409,-0.6567831499467796,-0.7032492021918825,-1.1557532341470151,0.5600311571157386,-0.9334259060271239,-0.5989668140682524,-1.3131661082909658,-0.9527241875250738,2.1076321001344995,0.7907645450042046,0.045317753071620864,-0.5422493792125058,0.09857118965031991,0.6052916763925353,-0.392869883278384,-2.1728167312609594,0.19129452413895515,-0.4482696369760158,0.7536670650604307,3.0297697508518535,-1.4843336527711002,0.24516289995024912,-0.07823342244748287,1.8600695154382882,0.1652695904259634,0.5803836626659503,0.23363792298583005,1.9757625435411996,0.2668853669235514,-0.9279029959151173,-0.4834953930206035,-0.6366637869200468,-0.15419250778739807,-1.0199977291771138,0.927786461653511,0.4029687170081699,0.8255307678139705,0.6168162267979052,0.6284463701216723,-1.9754562759861336,-2.104602026931329,0.9544746502463938,-1.0692132136829424,0.7449650141369406,0.34937979315948636,1.2680493437929372,0.45804927462531686,1.5888458959012468,-0.6233348854103765,-0.46910717109893024,-1.9199036442570905,1.8333260115694225,0.44932592617168915,-0.8415764549515934,-1.8682125418564481,-0.11105533756615614,0.17216434633769956,0.6110137590737573,0.8806559097453874,-1.3571457712679595,1.6712324155356806,-0.9400650924848841,-1.2679553064567328,-0.885456193058384,0.22823409955739418],\"type\":\"box\"},{\"boxpoints\":false,\"line\":{\"width\":1.3},\"marker\":{\"color\":\"rgba(50, 171, 96, 1.0)\"},\"name\":\"C\",\"orientation\":\"v\",\"y\":[-0.2749675429277293,1.9335738697817635,-0.665119830943065,-0.9252316804236914,1.0778923066152155,0.09614114435062843,-1.3013861632886932,-0.16683601823644134,-0.8287054846972015,-0.5754212693290882,-0.5333213753996034,0.670677131854899,0.6299184200543384,-0.20771670278614038,0.5326574703993484,-0.335603024423566,1.1158322125620264,0.465600987062726,1.2648695639487362,0.9643342871739559,1.0121368707060108,1.2593190048982323,-0.663309963598204,1.644255108143534,-0.9734410059359437,0.4377929440560526,0.8412287490834214,1.130785939539371,-1.6025673570846466,1.0058558286498844,-1.3754887279084487,-2.417982272375856,1.5154293905760403,-0.0770243980088766,0.2518943344359841,-0.49834527210663154,-1.7223016131675526,-0.6071283327981475,0.20026527026858776,-1.1900577442502676,-0.12645879968706566,-1.0640645206341206,-1.1808148826835738,0.9127152879851413,-2.3296362911548396,-0.5082559735896763,-0.523612349427821,0.2825608273518654,-0.5986937853542252,1.5886041083870857,0.5077542474050725,-0.23080366161010027,-1.6616857287890443,-0.7108527760230315,0.28025870639864114,0.032113514679689044,0.13641754500856487,-0.5508822684203448,-0.7516436959296743,-1.5120659105433971,-0.4930572945673687,-1.275143852446616,-0.2825458276470288,1.4905823434824856,2.1551477746808154,-0.9310367567773862,-1.061054264155902,1.0665214541362709,-1.8751765830661236,0.653153059453366,1.4506347515072997,-0.9590560765123353,-0.24383642257046884,1.6048707595410525,0.7071398167413696,0.004568993411117865,0.5129872622888353,-0.39286412014569133,-0.5221150039952728,1.3346594180348332,-0.7024981853269824,-0.11414500595587583,1.2003488756137317,1.7493417681494021,0.6752143546481547,-0.8184935604263186,-0.2581829311970378,0.9280082927314212,-0.6604373754484952,-0.18625962628404644,0.16822538927592579,0.6297523928533115,0.6924571249670833,0.28395965797574535,-1.3144078645262325,0.3839284076826824,-0.1993281290111844,-1.2003550856895944,1.1836024206075546,-0.12913662513353683],\"type\":\"box\"},{\"boxpoints\":false,\"line\":{\"width\":1.3},\"marker\":{\"color\":\"rgba(128, 0, 128, 1.0)\"},\"name\":\"D\",\"orientation\":\"v\",\"y\":[0.3607780144857141,-1.736483245906638,1.370195273582514,-1.5718797598932561,-0.05756355422800969,-0.6772751114683593,-0.07529215899163981,-0.1452912408818085,0.49035405932254233,0.30234597945250474,0.6842480903876552,-0.40599823004490554,1.2582020482948042,0.21291115134881447,-0.015374437747275623,0.6390283572173161,-0.027764230845340396,0.09392743468720419,0.2007828003880154,0.7914466592262185,-0.8818917132934164,-0.5354115159200049,0.9787343037816126,0.9041879207648577,0.580346319482985,0.5587553277693843,-0.5767422132236388,1.7041155268185804,0.35955119695135196,1.4470150968554383,0.5709417055446602,2.517413082856456,-2.41261764029486,0.8167752802539817,-0.950665900490461,0.019441322827203806,1.3445172531158445,0.09164091168883791,-0.9804558464000153,0.9950278644440643,2.040039457635569,0.8233652503576577,0.09320935942000907,0.7824692929688539,-0.033251792009062156,0.8309132583341456,-2.055074057365009,2.3001823769277983,1.4735387567281197,1.0523117396903963,-0.07069267403463227,-0.20586395159910603,-0.2449212954706954,-0.9193848496056759,0.8022003396951617,-0.4274016250026047,-0.8607571099585395,-0.12271895141875051,-1.0896364079342726,0.33004573423334593,2.420637688738529,0.048025965534223704,0.49528546231342674,-0.2778627476477282,-1.849100950543068,-0.0019751977459464398,0.2647954570670259,-0.62459940196595,-0.22351139186585264,-0.4726220462557567,-1.0175813974574868,-0.2703853511514275,0.3392617094139369,2.3134911319417726,0.554213911969139,-0.37538440210672497,-0.3187688768183547,0.9828674479352021,-0.7491799245032438,-0.9399274251094801,-0.1524355810165516,0.617404590362444,-1.4671006696257103,-0.07320755120663704,-0.5423822124016995,0.6862267390834078,0.8431217639131952,0.4796437026135891,-0.6350121466739759,0.003730501791416347,-0.10942054044250821,1.15951300833599,-1.0405210380598184,0.6998039483445962,-0.3150735159220903,-0.7932227671372611,0.8005035393487423,-1.863356499942961,1.779389968330466,-0.1498312213827943],\"type\":\"box\"}],                        {\"legend\":{\"bgcolor\":\"#F5F6F9\",\"font\":{\"color\":\"#4D5663\"}},\"paper_bgcolor\":\"#F5F6F9\",\"plot_bgcolor\":\"#F5F6F9\",\"template\":{\"data\":{\"barpolar\":[{\"marker\":{\"line\":{\"color\":\"#E5ECF6\",\"width\":0.5},\"pattern\":{\"fillmode\":\"overlay\",\"size\":10,\"solidity\":0.2}},\"type\":\"barpolar\"}],\"bar\":[{\"error_x\":{\"color\":\"#2a3f5f\"},\"error_y\":{\"color\":\"#2a3f5f\"},\"marker\":{\"line\":{\"color\":\"#E5ECF6\",\"width\":0.5},\"pattern\":{\"fillmode\":\"overlay\",\"size\":10,\"solidity\":0.2}},\"type\":\"bar\"}],\"carpet\":[{\"aaxis\":{\"endlinecolor\":\"#2a3f5f\",\"gridcolor\":\"white\",\"linecolor\":\"white\",\"minorgridcolor\":\"white\",\"startlinecolor\":\"#2a3f5f\"},\"baxis\":{\"endlinecolor\":\"#2a3f5f\",\"gridcolor\":\"white\",\"linecolor\":\"white\",\"minorgridcolor\":\"white\",\"startlinecolor\":\"#2a3f5f\"},\"type\":\"carpet\"}],\"choropleth\":[{\"colorbar\":{\"outlinewidth\":0,\"ticks\":\"\"},\"type\":\"choropleth\"}],\"contourcarpet\":[{\"colorbar\":{\"outlinewidth\":0,\"ticks\":\"\"},\"type\":\"contourcarpet\"}],\"contour\":[{\"colorbar\":{\"outlinewidth\":0,\"ticks\":\"\"},\"colorscale\":[[0.0,\"#0d0887\"],[0.1111111111111111,\"#46039f\"],[0.2222222222222222,\"#7201a8\"],[0.3333333333333333,\"#9c179e\"],[0.4444444444444444,\"#bd3786\"],[0.5555555555555556,\"#d8576b\"],[0.6666666666666666,\"#ed7953\"],[0.7777777777777778,\"#fb9f3a\"],[0.8888888888888888,\"#fdca26\"],[1.0,\"#f0f921\"]],\"type\":\"contour\"}],\"heatmapgl\":[{\"colorbar\":{\"outlinewidth\":0,\"ticks\":\"\"},\"colorscale\":[[0.0,\"#0d0887\"],[0.1111111111111111,\"#46039f\"],[0.2222222222222222,\"#7201a8\"],[0.3333333333333333,\"#9c179e\"],[0.4444444444444444,\"#bd3786\"],[0.5555555555555556,\"#d8576b\"],[0.6666666666666666,\"#ed7953\"],[0.7777777777777778,\"#fb9f3a\"],[0.8888888888888888,\"#fdca26\"],[1.0,\"#f0f921\"]],\"type\":\"heatmapgl\"}],\"heatmap\":[{\"colorbar\":{\"outlinewidth\":0,\"ticks\":\"\"},\"colorscale\":[[0.0,\"#0d0887\"],[0.1111111111111111,\"#46039f\"],[0.2222222222222222,\"#7201a8\"],[0.3333333333333333,\"#9c179e\"],[0.4444444444444444,\"#bd3786\"],[0.5555555555555556,\"#d8576b\"],[0.6666666666666666,\"#ed7953\"],[0.7777777777777778,\"#fb9f3a\"],[0.8888888888888888,\"#fdca26\"],[1.0,\"#f0f921\"]],\"type\":\"heatmap\"}],\"histogram2dcontour\":[{\"colorbar\":{\"outlinewidth\":0,\"ticks\":\"\"},\"colorscale\":[[0.0,\"#0d0887\"],[0.1111111111111111,\"#46039f\"],[0.2222222222222222,\"#7201a8\"],[0.3333333333333333,\"#9c179e\"],[0.4444444444444444,\"#bd3786\"],[0.5555555555555556,\"#d8576b\"],[0.6666666666666666,\"#ed7953\"],[0.7777777777777778,\"#fb9f3a\"],[0.8888888888888888,\"#fdca26\"],[1.0,\"#f0f921\"]],\"type\":\"histogram2dcontour\"}],\"histogram2d\":[{\"colorbar\":{\"outlinewidth\":0,\"ticks\":\"\"},\"colorscale\":[[0.0,\"#0d0887\"],[0.1111111111111111,\"#46039f\"],[0.2222222222222222,\"#7201a8\"],[0.3333333333333333,\"#9c179e\"],[0.4444444444444444,\"#bd3786\"],[0.5555555555555556,\"#d8576b\"],[0.6666666666666666,\"#ed7953\"],[0.7777777777777778,\"#fb9f3a\"],[0.8888888888888888,\"#fdca26\"],[1.0,\"#f0f921\"]],\"type\":\"histogram2d\"}],\"histogram\":[{\"marker\":{\"pattern\":{\"fillmode\":\"overlay\",\"size\":10,\"solidity\":0.2}},\"type\":\"histogram\"}],\"mesh3d\":[{\"colorbar\":{\"outlinewidth\":0,\"ticks\":\"\"},\"type\":\"mesh3d\"}],\"parcoords\":[{\"line\":{\"colorbar\":{\"outlinewidth\":0,\"ticks\":\"\"}},\"type\":\"parcoords\"}],\"pie\":[{\"automargin\":true,\"type\":\"pie\"}],\"scatter3d\":[{\"line\":{\"colorbar\":{\"outlinewidth\":0,\"ticks\":\"\"}},\"marker\":{\"colorbar\":{\"outlinewidth\":0,\"ticks\":\"\"}},\"type\":\"scatter3d\"}],\"scattercarpet\":[{\"marker\":{\"colorbar\":{\"outlinewidth\":0,\"ticks\":\"\"}},\"type\":\"scattercarpet\"}],\"scattergeo\":[{\"marker\":{\"colorbar\":{\"outlinewidth\":0,\"ticks\":\"\"}},\"type\":\"scattergeo\"}],\"scattergl\":[{\"marker\":{\"colorbar\":{\"outlinewidth\":0,\"ticks\":\"\"}},\"type\":\"scattergl\"}],\"scattermapbox\":[{\"marker\":{\"colorbar\":{\"outlinewidth\":0,\"ticks\":\"\"}},\"type\":\"scattermapbox\"}],\"scatterpolargl\":[{\"marker\":{\"colorbar\":{\"outlinewidth\":0,\"ticks\":\"\"}},\"type\":\"scatterpolargl\"}],\"scatterpolar\":[{\"marker\":{\"colorbar\":{\"outlinewidth\":0,\"ticks\":\"\"}},\"type\":\"scatterpolar\"}],\"scatter\":[{\"fillpattern\":{\"fillmode\":\"overlay\",\"size\":10,\"solidity\":0.2},\"type\":\"scatter\"}],\"scatterternary\":[{\"marker\":{\"colorbar\":{\"outlinewidth\":0,\"ticks\":\"\"}},\"type\":\"scatterternary\"}],\"surface\":[{\"colorbar\":{\"outlinewidth\":0,\"ticks\":\"\"},\"colorscale\":[[0.0,\"#0d0887\"],[0.1111111111111111,\"#46039f\"],[0.2222222222222222,\"#7201a8\"],[0.3333333333333333,\"#9c179e\"],[0.4444444444444444,\"#bd3786\"],[0.5555555555555556,\"#d8576b\"],[0.6666666666666666,\"#ed7953\"],[0.7777777777777778,\"#fb9f3a\"],[0.8888888888888888,\"#fdca26\"],[1.0,\"#f0f921\"]],\"type\":\"surface\"}],\"table\":[{\"cells\":{\"fill\":{\"color\":\"#EBF0F8\"},\"line\":{\"color\":\"white\"}},\"header\":{\"fill\":{\"color\":\"#C8D4E3\"},\"line\":{\"color\":\"white\"}},\"type\":\"table\"}]},\"layout\":{\"annotationdefaults\":{\"arrowcolor\":\"#2a3f5f\",\"arrowhead\":0,\"arrowwidth\":1},\"autotypenumbers\":\"strict\",\"coloraxis\":{\"colorbar\":{\"outlinewidth\":0,\"ticks\":\"\"}},\"colorscale\":{\"diverging\":[[0,\"#8e0152\"],[0.1,\"#c51b7d\"],[0.2,\"#de77ae\"],[0.3,\"#f1b6da\"],[0.4,\"#fde0ef\"],[0.5,\"#f7f7f7\"],[0.6,\"#e6f5d0\"],[0.7,\"#b8e186\"],[0.8,\"#7fbc41\"],[0.9,\"#4d9221\"],[1,\"#276419\"]],\"sequential\":[[0.0,\"#0d0887\"],[0.1111111111111111,\"#46039f\"],[0.2222222222222222,\"#7201a8\"],[0.3333333333333333,\"#9c179e\"],[0.4444444444444444,\"#bd3786\"],[0.5555555555555556,\"#d8576b\"],[0.6666666666666666,\"#ed7953\"],[0.7777777777777778,\"#fb9f3a\"],[0.8888888888888888,\"#fdca26\"],[1.0,\"#f0f921\"]],\"sequentialminus\":[[0.0,\"#0d0887\"],[0.1111111111111111,\"#46039f\"],[0.2222222222222222,\"#7201a8\"],[0.3333333333333333,\"#9c179e\"],[0.4444444444444444,\"#bd3786\"],[0.5555555555555556,\"#d8576b\"],[0.6666666666666666,\"#ed7953\"],[0.7777777777777778,\"#fb9f3a\"],[0.8888888888888888,\"#fdca26\"],[1.0,\"#f0f921\"]]},\"colorway\":[\"#636efa\",\"#EF553B\",\"#00cc96\",\"#ab63fa\",\"#FFA15A\",\"#19d3f3\",\"#FF6692\",\"#B6E880\",\"#FF97FF\",\"#FECB52\"],\"font\":{\"color\":\"#2a3f5f\"},\"geo\":{\"bgcolor\":\"white\",\"lakecolor\":\"white\",\"landcolor\":\"#E5ECF6\",\"showlakes\":true,\"showland\":true,\"subunitcolor\":\"white\"},\"hoverlabel\":{\"align\":\"left\"},\"hovermode\":\"closest\",\"mapbox\":{\"style\":\"light\"},\"paper_bgcolor\":\"white\",\"plot_bgcolor\":\"#E5ECF6\",\"polar\":{\"angularaxis\":{\"gridcolor\":\"white\",\"linecolor\":\"white\",\"ticks\":\"\"},\"bgcolor\":\"#E5ECF6\",\"radialaxis\":{\"gridcolor\":\"white\",\"linecolor\":\"white\",\"ticks\":\"\"}},\"scene\":{\"xaxis\":{\"backgroundcolor\":\"#E5ECF6\",\"gridcolor\":\"white\",\"gridwidth\":2,\"linecolor\":\"white\",\"showbackground\":true,\"ticks\":\"\",\"zerolinecolor\":\"white\"},\"yaxis\":{\"backgroundcolor\":\"#E5ECF6\",\"gridcolor\":\"white\",\"gridwidth\":2,\"linecolor\":\"white\",\"showbackground\":true,\"ticks\":\"\",\"zerolinecolor\":\"white\"},\"zaxis\":{\"backgroundcolor\":\"#E5ECF6\",\"gridcolor\":\"white\",\"gridwidth\":2,\"linecolor\":\"white\",\"showbackground\":true,\"ticks\":\"\",\"zerolinecolor\":\"white\"}},\"shapedefaults\":{\"line\":{\"color\":\"#2a3f5f\"}},\"ternary\":{\"aaxis\":{\"gridcolor\":\"white\",\"linecolor\":\"white\",\"ticks\":\"\"},\"baxis\":{\"gridcolor\":\"white\",\"linecolor\":\"white\",\"ticks\":\"\"},\"bgcolor\":\"#E5ECF6\",\"caxis\":{\"gridcolor\":\"white\",\"linecolor\":\"white\",\"ticks\":\"\"}},\"title\":{\"x\":0.05},\"xaxis\":{\"automargin\":true,\"gridcolor\":\"white\",\"linecolor\":\"white\",\"ticks\":\"\",\"title\":{\"standoff\":15},\"zerolinecolor\":\"white\",\"zerolinewidth\":2},\"yaxis\":{\"automargin\":true,\"gridcolor\":\"white\",\"linecolor\":\"white\",\"ticks\":\"\",\"title\":{\"standoff\":15},\"zerolinecolor\":\"white\",\"zerolinewidth\":2}}},\"title\":{\"font\":{\"color\":\"#4D5663\"}},\"xaxis\":{\"gridcolor\":\"#E1E5ED\",\"showgrid\":true,\"tickfont\":{\"color\":\"#4D5663\"},\"title\":{\"font\":{\"color\":\"#4D5663\"},\"text\":\"\"},\"zerolinecolor\":\"#E1E5ED\"},\"yaxis\":{\"gridcolor\":\"#E1E5ED\",\"showgrid\":true,\"tickfont\":{\"color\":\"#4D5663\"},\"title\":{\"font\":{\"color\":\"#4D5663\"},\"text\":\"\"},\"zerolinecolor\":\"#E1E5ED\"}},                        {\"showLink\": true, \"linkText\": \"Export to plot.ly\", \"plotlyServerURL\": \"https://plot.ly\", \"responsive\": true}                    ).then(function(){\n",
       "                            \n",
       "var gd = document.getElementById('9c82d47d-81dd-4798-b684-1b8e0f8fdfb5');\n",
       "var x = new MutationObserver(function (mutations, observer) {{\n",
       "        var display = window.getComputedStyle(gd).display;\n",
       "        if (!display || display === 'none') {{\n",
       "            console.log([gd, 'removed!']);\n",
       "            Plotly.purge(gd);\n",
       "            observer.disconnect();\n",
       "        }}\n",
       "}});\n",
       "\n",
       "// Listen for the removal of the full notebook cells\n",
       "var notebookContainer = gd.closest('#notebook-container');\n",
       "if (notebookContainer) {{\n",
       "    x.observe(notebookContainer, {childList: true});\n",
       "}}\n",
       "\n",
       "// Listen for the clearing of the current output cell\n",
       "var outputEl = gd.closest('.output');\n",
       "if (outputEl) {{\n",
       "    x.observe(outputEl, {childList: true});\n",
       "}}\n",
       "\n",
       "                        })                };                });            </script>        </div>"
      ]
     },
     "metadata": {},
     "output_type": "display_data"
    }
   ],
   "source": [
    "df.iplot(kind='box')"
   ]
  },
  {
   "cell_type": "markdown",
   "metadata": {},
   "source": [
    "## 3d Surface"
   ]
  },
  {
   "cell_type": "code",
   "execution_count": 81,
   "metadata": {
    "collapsed": false
   },
   "outputs": [
    {
     "data": {
      "application/vnd.plotly.v1+json": {
       "config": {
        "linkText": "Export to plot.ly",
        "plotlyServerURL": "https://plot.ly",
        "showLink": true
       },
       "data": [
        {
         "colorscale": [
          [
           0,
           "rgb(165,0,38)"
          ],
          [
           0.1,
           "rgb(215,48,39)"
          ],
          [
           0.2,
           "rgb(244,109,67)"
          ],
          [
           0.3,
           "rgb(253,174,97)"
          ],
          [
           0.4,
           "rgb(254,224,144)"
          ],
          [
           0.5,
           "rgb(255,255,191)"
          ],
          [
           0.6,
           "rgb(224,243,248)"
          ],
          [
           0.7,
           "rgb(171,217,233)"
          ],
          [
           0.8,
           "rgb(116,173,209)"
          ],
          [
           0.9,
           "rgb(69,117,180)"
          ],
          [
           1,
           "rgb(49,54,149)"
          ]
         ],
         "type": "surface",
         "x": [
          0,
          1,
          2,
          3,
          4
         ],
         "y": [
          "x",
          "y",
          "z"
         ],
         "z": [
          [
           1,
           2,
           3,
           4,
           5
          ],
          [
           10,
           20,
           30,
           20,
           10
          ],
          [
           5,
           4,
           3,
           2,
           1
          ]
         ]
        }
       ],
       "layout": {
        "legend": {
         "bgcolor": "#F5F6F9",
         "font": {
          "color": "#4D5663"
         }
        },
        "paper_bgcolor": "#F5F6F9",
        "plot_bgcolor": "#F5F6F9",
        "template": {
         "data": {
          "bar": [
           {
            "error_x": {
             "color": "#2a3f5f"
            },
            "error_y": {
             "color": "#2a3f5f"
            },
            "marker": {
             "line": {
              "color": "#E5ECF6",
              "width": 0.5
             },
             "pattern": {
              "fillmode": "overlay",
              "size": 10,
              "solidity": 0.2
             }
            },
            "type": "bar"
           }
          ],
          "barpolar": [
           {
            "marker": {
             "line": {
              "color": "#E5ECF6",
              "width": 0.5
             },
             "pattern": {
              "fillmode": "overlay",
              "size": 10,
              "solidity": 0.2
             }
            },
            "type": "barpolar"
           }
          ],
          "carpet": [
           {
            "aaxis": {
             "endlinecolor": "#2a3f5f",
             "gridcolor": "white",
             "linecolor": "white",
             "minorgridcolor": "white",
             "startlinecolor": "#2a3f5f"
            },
            "baxis": {
             "endlinecolor": "#2a3f5f",
             "gridcolor": "white",
             "linecolor": "white",
             "minorgridcolor": "white",
             "startlinecolor": "#2a3f5f"
            },
            "type": "carpet"
           }
          ],
          "choropleth": [
           {
            "colorbar": {
             "outlinewidth": 0,
             "ticks": ""
            },
            "type": "choropleth"
           }
          ],
          "contour": [
           {
            "colorbar": {
             "outlinewidth": 0,
             "ticks": ""
            },
            "colorscale": [
             [
              0,
              "#0d0887"
             ],
             [
              0.1111111111111111,
              "#46039f"
             ],
             [
              0.2222222222222222,
              "#7201a8"
             ],
             [
              0.3333333333333333,
              "#9c179e"
             ],
             [
              0.4444444444444444,
              "#bd3786"
             ],
             [
              0.5555555555555556,
              "#d8576b"
             ],
             [
              0.6666666666666666,
              "#ed7953"
             ],
             [
              0.7777777777777778,
              "#fb9f3a"
             ],
             [
              0.8888888888888888,
              "#fdca26"
             ],
             [
              1,
              "#f0f921"
             ]
            ],
            "type": "contour"
           }
          ],
          "contourcarpet": [
           {
            "colorbar": {
             "outlinewidth": 0,
             "ticks": ""
            },
            "type": "contourcarpet"
           }
          ],
          "heatmap": [
           {
            "colorbar": {
             "outlinewidth": 0,
             "ticks": ""
            },
            "colorscale": [
             [
              0,
              "#0d0887"
             ],
             [
              0.1111111111111111,
              "#46039f"
             ],
             [
              0.2222222222222222,
              "#7201a8"
             ],
             [
              0.3333333333333333,
              "#9c179e"
             ],
             [
              0.4444444444444444,
              "#bd3786"
             ],
             [
              0.5555555555555556,
              "#d8576b"
             ],
             [
              0.6666666666666666,
              "#ed7953"
             ],
             [
              0.7777777777777778,
              "#fb9f3a"
             ],
             [
              0.8888888888888888,
              "#fdca26"
             ],
             [
              1,
              "#f0f921"
             ]
            ],
            "type": "heatmap"
           }
          ],
          "heatmapgl": [
           {
            "colorbar": {
             "outlinewidth": 0,
             "ticks": ""
            },
            "colorscale": [
             [
              0,
              "#0d0887"
             ],
             [
              0.1111111111111111,
              "#46039f"
             ],
             [
              0.2222222222222222,
              "#7201a8"
             ],
             [
              0.3333333333333333,
              "#9c179e"
             ],
             [
              0.4444444444444444,
              "#bd3786"
             ],
             [
              0.5555555555555556,
              "#d8576b"
             ],
             [
              0.6666666666666666,
              "#ed7953"
             ],
             [
              0.7777777777777778,
              "#fb9f3a"
             ],
             [
              0.8888888888888888,
              "#fdca26"
             ],
             [
              1,
              "#f0f921"
             ]
            ],
            "type": "heatmapgl"
           }
          ],
          "histogram": [
           {
            "marker": {
             "pattern": {
              "fillmode": "overlay",
              "size": 10,
              "solidity": 0.2
             }
            },
            "type": "histogram"
           }
          ],
          "histogram2d": [
           {
            "colorbar": {
             "outlinewidth": 0,
             "ticks": ""
            },
            "colorscale": [
             [
              0,
              "#0d0887"
             ],
             [
              0.1111111111111111,
              "#46039f"
             ],
             [
              0.2222222222222222,
              "#7201a8"
             ],
             [
              0.3333333333333333,
              "#9c179e"
             ],
             [
              0.4444444444444444,
              "#bd3786"
             ],
             [
              0.5555555555555556,
              "#d8576b"
             ],
             [
              0.6666666666666666,
              "#ed7953"
             ],
             [
              0.7777777777777778,
              "#fb9f3a"
             ],
             [
              0.8888888888888888,
              "#fdca26"
             ],
             [
              1,
              "#f0f921"
             ]
            ],
            "type": "histogram2d"
           }
          ],
          "histogram2dcontour": [
           {
            "colorbar": {
             "outlinewidth": 0,
             "ticks": ""
            },
            "colorscale": [
             [
              0,
              "#0d0887"
             ],
             [
              0.1111111111111111,
              "#46039f"
             ],
             [
              0.2222222222222222,
              "#7201a8"
             ],
             [
              0.3333333333333333,
              "#9c179e"
             ],
             [
              0.4444444444444444,
              "#bd3786"
             ],
             [
              0.5555555555555556,
              "#d8576b"
             ],
             [
              0.6666666666666666,
              "#ed7953"
             ],
             [
              0.7777777777777778,
              "#fb9f3a"
             ],
             [
              0.8888888888888888,
              "#fdca26"
             ],
             [
              1,
              "#f0f921"
             ]
            ],
            "type": "histogram2dcontour"
           }
          ],
          "mesh3d": [
           {
            "colorbar": {
             "outlinewidth": 0,
             "ticks": ""
            },
            "type": "mesh3d"
           }
          ],
          "parcoords": [
           {
            "line": {
             "colorbar": {
              "outlinewidth": 0,
              "ticks": ""
             }
            },
            "type": "parcoords"
           }
          ],
          "pie": [
           {
            "automargin": true,
            "type": "pie"
           }
          ],
          "scatter": [
           {
            "fillpattern": {
             "fillmode": "overlay",
             "size": 10,
             "solidity": 0.2
            },
            "type": "scatter"
           }
          ],
          "scatter3d": [
           {
            "line": {
             "colorbar": {
              "outlinewidth": 0,
              "ticks": ""
             }
            },
            "marker": {
             "colorbar": {
              "outlinewidth": 0,
              "ticks": ""
             }
            },
            "type": "scatter3d"
           }
          ],
          "scattercarpet": [
           {
            "marker": {
             "colorbar": {
              "outlinewidth": 0,
              "ticks": ""
             }
            },
            "type": "scattercarpet"
           }
          ],
          "scattergeo": [
           {
            "marker": {
             "colorbar": {
              "outlinewidth": 0,
              "ticks": ""
             }
            },
            "type": "scattergeo"
           }
          ],
          "scattergl": [
           {
            "marker": {
             "colorbar": {
              "outlinewidth": 0,
              "ticks": ""
             }
            },
            "type": "scattergl"
           }
          ],
          "scattermapbox": [
           {
            "marker": {
             "colorbar": {
              "outlinewidth": 0,
              "ticks": ""
             }
            },
            "type": "scattermapbox"
           }
          ],
          "scatterpolar": [
           {
            "marker": {
             "colorbar": {
              "outlinewidth": 0,
              "ticks": ""
             }
            },
            "type": "scatterpolar"
           }
          ],
          "scatterpolargl": [
           {
            "marker": {
             "colorbar": {
              "outlinewidth": 0,
              "ticks": ""
             }
            },
            "type": "scatterpolargl"
           }
          ],
          "scatterternary": [
           {
            "marker": {
             "colorbar": {
              "outlinewidth": 0,
              "ticks": ""
             }
            },
            "type": "scatterternary"
           }
          ],
          "surface": [
           {
            "colorbar": {
             "outlinewidth": 0,
             "ticks": ""
            },
            "colorscale": [
             [
              0,
              "#0d0887"
             ],
             [
              0.1111111111111111,
              "#46039f"
             ],
             [
              0.2222222222222222,
              "#7201a8"
             ],
             [
              0.3333333333333333,
              "#9c179e"
             ],
             [
              0.4444444444444444,
              "#bd3786"
             ],
             [
              0.5555555555555556,
              "#d8576b"
             ],
             [
              0.6666666666666666,
              "#ed7953"
             ],
             [
              0.7777777777777778,
              "#fb9f3a"
             ],
             [
              0.8888888888888888,
              "#fdca26"
             ],
             [
              1,
              "#f0f921"
             ]
            ],
            "type": "surface"
           }
          ],
          "table": [
           {
            "cells": {
             "fill": {
              "color": "#EBF0F8"
             },
             "line": {
              "color": "white"
             }
            },
            "header": {
             "fill": {
              "color": "#C8D4E3"
             },
             "line": {
              "color": "white"
             }
            },
            "type": "table"
           }
          ]
         },
         "layout": {
          "annotationdefaults": {
           "arrowcolor": "#2a3f5f",
           "arrowhead": 0,
           "arrowwidth": 1
          },
          "autotypenumbers": "strict",
          "coloraxis": {
           "colorbar": {
            "outlinewidth": 0,
            "ticks": ""
           }
          },
          "colorscale": {
           "diverging": [
            [
             0,
             "#8e0152"
            ],
            [
             0.1,
             "#c51b7d"
            ],
            [
             0.2,
             "#de77ae"
            ],
            [
             0.3,
             "#f1b6da"
            ],
            [
             0.4,
             "#fde0ef"
            ],
            [
             0.5,
             "#f7f7f7"
            ],
            [
             0.6,
             "#e6f5d0"
            ],
            [
             0.7,
             "#b8e186"
            ],
            [
             0.8,
             "#7fbc41"
            ],
            [
             0.9,
             "#4d9221"
            ],
            [
             1,
             "#276419"
            ]
           ],
           "sequential": [
            [
             0,
             "#0d0887"
            ],
            [
             0.1111111111111111,
             "#46039f"
            ],
            [
             0.2222222222222222,
             "#7201a8"
            ],
            [
             0.3333333333333333,
             "#9c179e"
            ],
            [
             0.4444444444444444,
             "#bd3786"
            ],
            [
             0.5555555555555556,
             "#d8576b"
            ],
            [
             0.6666666666666666,
             "#ed7953"
            ],
            [
             0.7777777777777778,
             "#fb9f3a"
            ],
            [
             0.8888888888888888,
             "#fdca26"
            ],
            [
             1,
             "#f0f921"
            ]
           ],
           "sequentialminus": [
            [
             0,
             "#0d0887"
            ],
            [
             0.1111111111111111,
             "#46039f"
            ],
            [
             0.2222222222222222,
             "#7201a8"
            ],
            [
             0.3333333333333333,
             "#9c179e"
            ],
            [
             0.4444444444444444,
             "#bd3786"
            ],
            [
             0.5555555555555556,
             "#d8576b"
            ],
            [
             0.6666666666666666,
             "#ed7953"
            ],
            [
             0.7777777777777778,
             "#fb9f3a"
            ],
            [
             0.8888888888888888,
             "#fdca26"
            ],
            [
             1,
             "#f0f921"
            ]
           ]
          },
          "colorway": [
           "#636efa",
           "#EF553B",
           "#00cc96",
           "#ab63fa",
           "#FFA15A",
           "#19d3f3",
           "#FF6692",
           "#B6E880",
           "#FF97FF",
           "#FECB52"
          ],
          "font": {
           "color": "#2a3f5f"
          },
          "geo": {
           "bgcolor": "white",
           "lakecolor": "white",
           "landcolor": "#E5ECF6",
           "showlakes": true,
           "showland": true,
           "subunitcolor": "white"
          },
          "hoverlabel": {
           "align": "left"
          },
          "hovermode": "closest",
          "mapbox": {
           "style": "light"
          },
          "paper_bgcolor": "white",
          "plot_bgcolor": "#E5ECF6",
          "polar": {
           "angularaxis": {
            "gridcolor": "white",
            "linecolor": "white",
            "ticks": ""
           },
           "bgcolor": "#E5ECF6",
           "radialaxis": {
            "gridcolor": "white",
            "linecolor": "white",
            "ticks": ""
           }
          },
          "scene": {
           "xaxis": {
            "backgroundcolor": "#E5ECF6",
            "gridcolor": "white",
            "gridwidth": 2,
            "linecolor": "white",
            "showbackground": true,
            "ticks": "",
            "zerolinecolor": "white"
           },
           "yaxis": {
            "backgroundcolor": "#E5ECF6",
            "gridcolor": "white",
            "gridwidth": 2,
            "linecolor": "white",
            "showbackground": true,
            "ticks": "",
            "zerolinecolor": "white"
           },
           "zaxis": {
            "backgroundcolor": "#E5ECF6",
            "gridcolor": "white",
            "gridwidth": 2,
            "linecolor": "white",
            "showbackground": true,
            "ticks": "",
            "zerolinecolor": "white"
           }
          },
          "shapedefaults": {
           "line": {
            "color": "#2a3f5f"
           }
          },
          "ternary": {
           "aaxis": {
            "gridcolor": "white",
            "linecolor": "white",
            "ticks": ""
           },
           "baxis": {
            "gridcolor": "white",
            "linecolor": "white",
            "ticks": ""
           },
           "bgcolor": "#E5ECF6",
           "caxis": {
            "gridcolor": "white",
            "linecolor": "white",
            "ticks": ""
           }
          },
          "title": {
           "x": 0.05
          },
          "xaxis": {
           "automargin": true,
           "gridcolor": "white",
           "linecolor": "white",
           "ticks": "",
           "title": {
            "standoff": 15
           },
           "zerolinecolor": "white",
           "zerolinewidth": 2
          },
          "yaxis": {
           "automargin": true,
           "gridcolor": "white",
           "linecolor": "white",
           "ticks": "",
           "title": {
            "standoff": 15
           },
           "zerolinecolor": "white",
           "zerolinewidth": 2
          }
         }
        },
        "title": {
         "font": {
          "color": "#4D5663"
         }
        },
        "xaxis": {
         "gridcolor": "#E1E5ED",
         "showgrid": true,
         "tickfont": {
          "color": "#4D5663"
         },
         "title": {
          "font": {
           "color": "#4D5663"
          },
          "text": ""
         },
         "zerolinecolor": "#E1E5ED"
        },
        "yaxis": {
         "gridcolor": "#E1E5ED",
         "showgrid": true,
         "tickfont": {
          "color": "#4D5663"
         },
         "title": {
          "font": {
           "color": "#4D5663"
          },
          "text": ""
         },
         "zerolinecolor": "#E1E5ED"
        }
       }
      },
      "text/html": [
       "<div>                            <div id=\"41dd4b26-070a-4283-94d7-09978e84df34\" class=\"plotly-graph-div\" style=\"height:525px; width:100%;\"></div>            <script type=\"text/javascript\">                require([\"plotly\"], function(Plotly) {                    window.PLOTLYENV=window.PLOTLYENV || {};\n",
       "                    window.PLOTLYENV.BASE_URL='https://plot.ly';                                    if (document.getElementById(\"41dd4b26-070a-4283-94d7-09978e84df34\")) {                    Plotly.newPlot(                        \"41dd4b26-070a-4283-94d7-09978e84df34\",                        [{\"colorscale\":[[0.0,\"rgb(165,0,38)\"],[0.1,\"rgb(215,48,39)\"],[0.2,\"rgb(244,109,67)\"],[0.3,\"rgb(253,174,97)\"],[0.4,\"rgb(254,224,144)\"],[0.5,\"rgb(255,255,191)\"],[0.6,\"rgb(224,243,248)\"],[0.7,\"rgb(171,217,233)\"],[0.8,\"rgb(116,173,209)\"],[0.9,\"rgb(69,117,180)\"],[1.0,\"rgb(49,54,149)\"]],\"x\":[0,1,2,3,4],\"y\":[\"x\",\"y\",\"z\"],\"z\":[[1,2,3,4,5],[10,20,30,20,10],[5,4,3,2,1]],\"type\":\"surface\"}],                        {\"legend\":{\"bgcolor\":\"#F5F6F9\",\"font\":{\"color\":\"#4D5663\"}},\"paper_bgcolor\":\"#F5F6F9\",\"plot_bgcolor\":\"#F5F6F9\",\"template\":{\"data\":{\"barpolar\":[{\"marker\":{\"line\":{\"color\":\"#E5ECF6\",\"width\":0.5},\"pattern\":{\"fillmode\":\"overlay\",\"size\":10,\"solidity\":0.2}},\"type\":\"barpolar\"}],\"bar\":[{\"error_x\":{\"color\":\"#2a3f5f\"},\"error_y\":{\"color\":\"#2a3f5f\"},\"marker\":{\"line\":{\"color\":\"#E5ECF6\",\"width\":0.5},\"pattern\":{\"fillmode\":\"overlay\",\"size\":10,\"solidity\":0.2}},\"type\":\"bar\"}],\"carpet\":[{\"aaxis\":{\"endlinecolor\":\"#2a3f5f\",\"gridcolor\":\"white\",\"linecolor\":\"white\",\"minorgridcolor\":\"white\",\"startlinecolor\":\"#2a3f5f\"},\"baxis\":{\"endlinecolor\":\"#2a3f5f\",\"gridcolor\":\"white\",\"linecolor\":\"white\",\"minorgridcolor\":\"white\",\"startlinecolor\":\"#2a3f5f\"},\"type\":\"carpet\"}],\"choropleth\":[{\"colorbar\":{\"outlinewidth\":0,\"ticks\":\"\"},\"type\":\"choropleth\"}],\"contourcarpet\":[{\"colorbar\":{\"outlinewidth\":0,\"ticks\":\"\"},\"type\":\"contourcarpet\"}],\"contour\":[{\"colorbar\":{\"outlinewidth\":0,\"ticks\":\"\"},\"colorscale\":[[0.0,\"#0d0887\"],[0.1111111111111111,\"#46039f\"],[0.2222222222222222,\"#7201a8\"],[0.3333333333333333,\"#9c179e\"],[0.4444444444444444,\"#bd3786\"],[0.5555555555555556,\"#d8576b\"],[0.6666666666666666,\"#ed7953\"],[0.7777777777777778,\"#fb9f3a\"],[0.8888888888888888,\"#fdca26\"],[1.0,\"#f0f921\"]],\"type\":\"contour\"}],\"heatmapgl\":[{\"colorbar\":{\"outlinewidth\":0,\"ticks\":\"\"},\"colorscale\":[[0.0,\"#0d0887\"],[0.1111111111111111,\"#46039f\"],[0.2222222222222222,\"#7201a8\"],[0.3333333333333333,\"#9c179e\"],[0.4444444444444444,\"#bd3786\"],[0.5555555555555556,\"#d8576b\"],[0.6666666666666666,\"#ed7953\"],[0.7777777777777778,\"#fb9f3a\"],[0.8888888888888888,\"#fdca26\"],[1.0,\"#f0f921\"]],\"type\":\"heatmapgl\"}],\"heatmap\":[{\"colorbar\":{\"outlinewidth\":0,\"ticks\":\"\"},\"colorscale\":[[0.0,\"#0d0887\"],[0.1111111111111111,\"#46039f\"],[0.2222222222222222,\"#7201a8\"],[0.3333333333333333,\"#9c179e\"],[0.4444444444444444,\"#bd3786\"],[0.5555555555555556,\"#d8576b\"],[0.6666666666666666,\"#ed7953\"],[0.7777777777777778,\"#fb9f3a\"],[0.8888888888888888,\"#fdca26\"],[1.0,\"#f0f921\"]],\"type\":\"heatmap\"}],\"histogram2dcontour\":[{\"colorbar\":{\"outlinewidth\":0,\"ticks\":\"\"},\"colorscale\":[[0.0,\"#0d0887\"],[0.1111111111111111,\"#46039f\"],[0.2222222222222222,\"#7201a8\"],[0.3333333333333333,\"#9c179e\"],[0.4444444444444444,\"#bd3786\"],[0.5555555555555556,\"#d8576b\"],[0.6666666666666666,\"#ed7953\"],[0.7777777777777778,\"#fb9f3a\"],[0.8888888888888888,\"#fdca26\"],[1.0,\"#f0f921\"]],\"type\":\"histogram2dcontour\"}],\"histogram2d\":[{\"colorbar\":{\"outlinewidth\":0,\"ticks\":\"\"},\"colorscale\":[[0.0,\"#0d0887\"],[0.1111111111111111,\"#46039f\"],[0.2222222222222222,\"#7201a8\"],[0.3333333333333333,\"#9c179e\"],[0.4444444444444444,\"#bd3786\"],[0.5555555555555556,\"#d8576b\"],[0.6666666666666666,\"#ed7953\"],[0.7777777777777778,\"#fb9f3a\"],[0.8888888888888888,\"#fdca26\"],[1.0,\"#f0f921\"]],\"type\":\"histogram2d\"}],\"histogram\":[{\"marker\":{\"pattern\":{\"fillmode\":\"overlay\",\"size\":10,\"solidity\":0.2}},\"type\":\"histogram\"}],\"mesh3d\":[{\"colorbar\":{\"outlinewidth\":0,\"ticks\":\"\"},\"type\":\"mesh3d\"}],\"parcoords\":[{\"line\":{\"colorbar\":{\"outlinewidth\":0,\"ticks\":\"\"}},\"type\":\"parcoords\"}],\"pie\":[{\"automargin\":true,\"type\":\"pie\"}],\"scatter3d\":[{\"line\":{\"colorbar\":{\"outlinewidth\":0,\"ticks\":\"\"}},\"marker\":{\"colorbar\":{\"outlinewidth\":0,\"ticks\":\"\"}},\"type\":\"scatter3d\"}],\"scattercarpet\":[{\"marker\":{\"colorbar\":{\"outlinewidth\":0,\"ticks\":\"\"}},\"type\":\"scattercarpet\"}],\"scattergeo\":[{\"marker\":{\"colorbar\":{\"outlinewidth\":0,\"ticks\":\"\"}},\"type\":\"scattergeo\"}],\"scattergl\":[{\"marker\":{\"colorbar\":{\"outlinewidth\":0,\"ticks\":\"\"}},\"type\":\"scattergl\"}],\"scattermapbox\":[{\"marker\":{\"colorbar\":{\"outlinewidth\":0,\"ticks\":\"\"}},\"type\":\"scattermapbox\"}],\"scatterpolargl\":[{\"marker\":{\"colorbar\":{\"outlinewidth\":0,\"ticks\":\"\"}},\"type\":\"scatterpolargl\"}],\"scatterpolar\":[{\"marker\":{\"colorbar\":{\"outlinewidth\":0,\"ticks\":\"\"}},\"type\":\"scatterpolar\"}],\"scatter\":[{\"fillpattern\":{\"fillmode\":\"overlay\",\"size\":10,\"solidity\":0.2},\"type\":\"scatter\"}],\"scatterternary\":[{\"marker\":{\"colorbar\":{\"outlinewidth\":0,\"ticks\":\"\"}},\"type\":\"scatterternary\"}],\"surface\":[{\"colorbar\":{\"outlinewidth\":0,\"ticks\":\"\"},\"colorscale\":[[0.0,\"#0d0887\"],[0.1111111111111111,\"#46039f\"],[0.2222222222222222,\"#7201a8\"],[0.3333333333333333,\"#9c179e\"],[0.4444444444444444,\"#bd3786\"],[0.5555555555555556,\"#d8576b\"],[0.6666666666666666,\"#ed7953\"],[0.7777777777777778,\"#fb9f3a\"],[0.8888888888888888,\"#fdca26\"],[1.0,\"#f0f921\"]],\"type\":\"surface\"}],\"table\":[{\"cells\":{\"fill\":{\"color\":\"#EBF0F8\"},\"line\":{\"color\":\"white\"}},\"header\":{\"fill\":{\"color\":\"#C8D4E3\"},\"line\":{\"color\":\"white\"}},\"type\":\"table\"}]},\"layout\":{\"annotationdefaults\":{\"arrowcolor\":\"#2a3f5f\",\"arrowhead\":0,\"arrowwidth\":1},\"autotypenumbers\":\"strict\",\"coloraxis\":{\"colorbar\":{\"outlinewidth\":0,\"ticks\":\"\"}},\"colorscale\":{\"diverging\":[[0,\"#8e0152\"],[0.1,\"#c51b7d\"],[0.2,\"#de77ae\"],[0.3,\"#f1b6da\"],[0.4,\"#fde0ef\"],[0.5,\"#f7f7f7\"],[0.6,\"#e6f5d0\"],[0.7,\"#b8e186\"],[0.8,\"#7fbc41\"],[0.9,\"#4d9221\"],[1,\"#276419\"]],\"sequential\":[[0.0,\"#0d0887\"],[0.1111111111111111,\"#46039f\"],[0.2222222222222222,\"#7201a8\"],[0.3333333333333333,\"#9c179e\"],[0.4444444444444444,\"#bd3786\"],[0.5555555555555556,\"#d8576b\"],[0.6666666666666666,\"#ed7953\"],[0.7777777777777778,\"#fb9f3a\"],[0.8888888888888888,\"#fdca26\"],[1.0,\"#f0f921\"]],\"sequentialminus\":[[0.0,\"#0d0887\"],[0.1111111111111111,\"#46039f\"],[0.2222222222222222,\"#7201a8\"],[0.3333333333333333,\"#9c179e\"],[0.4444444444444444,\"#bd3786\"],[0.5555555555555556,\"#d8576b\"],[0.6666666666666666,\"#ed7953\"],[0.7777777777777778,\"#fb9f3a\"],[0.8888888888888888,\"#fdca26\"],[1.0,\"#f0f921\"]]},\"colorway\":[\"#636efa\",\"#EF553B\",\"#00cc96\",\"#ab63fa\",\"#FFA15A\",\"#19d3f3\",\"#FF6692\",\"#B6E880\",\"#FF97FF\",\"#FECB52\"],\"font\":{\"color\":\"#2a3f5f\"},\"geo\":{\"bgcolor\":\"white\",\"lakecolor\":\"white\",\"landcolor\":\"#E5ECF6\",\"showlakes\":true,\"showland\":true,\"subunitcolor\":\"white\"},\"hoverlabel\":{\"align\":\"left\"},\"hovermode\":\"closest\",\"mapbox\":{\"style\":\"light\"},\"paper_bgcolor\":\"white\",\"plot_bgcolor\":\"#E5ECF6\",\"polar\":{\"angularaxis\":{\"gridcolor\":\"white\",\"linecolor\":\"white\",\"ticks\":\"\"},\"bgcolor\":\"#E5ECF6\",\"radialaxis\":{\"gridcolor\":\"white\",\"linecolor\":\"white\",\"ticks\":\"\"}},\"scene\":{\"xaxis\":{\"backgroundcolor\":\"#E5ECF6\",\"gridcolor\":\"white\",\"gridwidth\":2,\"linecolor\":\"white\",\"showbackground\":true,\"ticks\":\"\",\"zerolinecolor\":\"white\"},\"yaxis\":{\"backgroundcolor\":\"#E5ECF6\",\"gridcolor\":\"white\",\"gridwidth\":2,\"linecolor\":\"white\",\"showbackground\":true,\"ticks\":\"\",\"zerolinecolor\":\"white\"},\"zaxis\":{\"backgroundcolor\":\"#E5ECF6\",\"gridcolor\":\"white\",\"gridwidth\":2,\"linecolor\":\"white\",\"showbackground\":true,\"ticks\":\"\",\"zerolinecolor\":\"white\"}},\"shapedefaults\":{\"line\":{\"color\":\"#2a3f5f\"}},\"ternary\":{\"aaxis\":{\"gridcolor\":\"white\",\"linecolor\":\"white\",\"ticks\":\"\"},\"baxis\":{\"gridcolor\":\"white\",\"linecolor\":\"white\",\"ticks\":\"\"},\"bgcolor\":\"#E5ECF6\",\"caxis\":{\"gridcolor\":\"white\",\"linecolor\":\"white\",\"ticks\":\"\"}},\"title\":{\"x\":0.05},\"xaxis\":{\"automargin\":true,\"gridcolor\":\"white\",\"linecolor\":\"white\",\"ticks\":\"\",\"title\":{\"standoff\":15},\"zerolinecolor\":\"white\",\"zerolinewidth\":2},\"yaxis\":{\"automargin\":true,\"gridcolor\":\"white\",\"linecolor\":\"white\",\"ticks\":\"\",\"title\":{\"standoff\":15},\"zerolinecolor\":\"white\",\"zerolinewidth\":2}}},\"title\":{\"font\":{\"color\":\"#4D5663\"}},\"xaxis\":{\"gridcolor\":\"#E1E5ED\",\"showgrid\":true,\"tickfont\":{\"color\":\"#4D5663\"},\"title\":{\"font\":{\"color\":\"#4D5663\"},\"text\":\"\"},\"zerolinecolor\":\"#E1E5ED\"},\"yaxis\":{\"gridcolor\":\"#E1E5ED\",\"showgrid\":true,\"tickfont\":{\"color\":\"#4D5663\"},\"title\":{\"font\":{\"color\":\"#4D5663\"},\"text\":\"\"},\"zerolinecolor\":\"#E1E5ED\"}},                        {\"showLink\": true, \"linkText\": \"Export to plot.ly\", \"plotlyServerURL\": \"https://plot.ly\", \"responsive\": true}                    ).then(function(){\n",
       "                            \n",
       "var gd = document.getElementById('41dd4b26-070a-4283-94d7-09978e84df34');\n",
       "var x = new MutationObserver(function (mutations, observer) {{\n",
       "        var display = window.getComputedStyle(gd).display;\n",
       "        if (!display || display === 'none') {{\n",
       "            console.log([gd, 'removed!']);\n",
       "            Plotly.purge(gd);\n",
       "            observer.disconnect();\n",
       "        }}\n",
       "}});\n",
       "\n",
       "// Listen for the removal of the full notebook cells\n",
       "var notebookContainer = gd.closest('#notebook-container');\n",
       "if (notebookContainer) {{\n",
       "    x.observe(notebookContainer, {childList: true});\n",
       "}}\n",
       "\n",
       "// Listen for the clearing of the current output cell\n",
       "var outputEl = gd.closest('.output');\n",
       "if (outputEl) {{\n",
       "    x.observe(outputEl, {childList: true});\n",
       "}}\n",
       "\n",
       "                        })                };                });            </script>        </div>"
      ]
     },
     "metadata": {},
     "output_type": "display_data"
    }
   ],
   "source": [
    "df3 = pd.DataFrame({'x':[1,2,3,4,5],'y':[10,20,30,20,10],'z':[5,4,3,2,1]})\n",
    "df3.iplot(kind='surface',colorscale='rdylbu')"
   ]
  },
  {
   "cell_type": "markdown",
   "metadata": {},
   "source": [
    "## Spread"
   ]
  },
  {
   "cell_type": "code",
   "execution_count": 84,
   "metadata": {
    "collapsed": false
   },
   "outputs": [
    {
     "ename": "AttributeError",
     "evalue": "module 'pandas' has no attribute 'np'",
     "output_type": "error",
     "traceback": [
      "\u001b[1;31m---------------------------------------------------------------------------\u001b[0m",
      "\u001b[1;31mAttributeError\u001b[0m                            Traceback (most recent call last)",
      "\u001b[1;32mc:\\Users\\m1568006\\Desktop\\Test_venv\\.venv\\08-Plotly-and-Cufflinks\\01-Plotly and Cufflinks.ipynb Cell 24\u001b[0m line \u001b[0;36m1\n\u001b[1;32m----> <a href='vscode-notebook-cell:/c%3A/Users/m1568006/Desktop/Test_venv/.venv/08-Plotly-and-Cufflinks/01-Plotly%20and%20Cufflinks.ipynb#X32sZmlsZQ%3D%3D?line=0'>1</a>\u001b[0m df\u001b[39m.\u001b[39;49miplot(kind\u001b[39m=\u001b[39;49m\u001b[39m'\u001b[39;49m\u001b[39mspread\u001b[39;49m\u001b[39m'\u001b[39;49m)\n",
      "File \u001b[1;32mc:\\Users\\m1568006\\Desktop\\Test_venv\\.venv\\Lib\\site-packages\\cufflinks\\plotlytools.py:849\u001b[0m, in \u001b[0;36m_iplot\u001b[1;34m(self, kind, data, layout, filename, sharing, title, xTitle, yTitle, zTitle, theme, colors, colorscale, fill, width, dash, mode, interpolation, symbol, size, barmode, sortbars, bargap, bargroupgap, bins, histnorm, histfunc, orientation, boxpoints, annotations, keys, bestfit, bestfit_colors, mean, mean_colors, categories, x, y, z, text, gridcolor, zerolinecolor, margin, labels, values, secondary_y, secondary_y_title, subplots, shape, error_x, error_y, error_type, locations, lon, lat, asFrame, asDates, asFigure, asImage, dimensions, asPlot, asUrl, online, **kwargs)\u001b[0m\n\u001b[0;32m    847\u001b[0m \u001b[39mif\u001b[39;00m kind\u001b[39m==\u001b[39m\u001b[39m'\u001b[39m\u001b[39mspread\u001b[39m\u001b[39m'\u001b[39m:\n\u001b[0;32m    848\u001b[0m \ttrace\u001b[39m=\u001b[39m\u001b[39mself\u001b[39m\u001b[39m.\u001b[39mapply(\u001b[39mlambda\u001b[39;00m x:x[\u001b[39m0\u001b[39m]\u001b[39m-\u001b[39mx[\u001b[39m1\u001b[39m],axis\u001b[39m=\u001b[39m\u001b[39m1\u001b[39m)\n\u001b[1;32m--> 849\u001b[0m \tpositive\u001b[39m=\u001b[39mtrace\u001b[39m.\u001b[39;49mapply(\u001b[39mlambda\u001b[39;49;00m x:x \u001b[39mif\u001b[39;49;00m x\u001b[39m>\u001b[39;49m\u001b[39m=\u001b[39;49m\u001b[39m0\u001b[39;49m \u001b[39melse\u001b[39;49;00m pd\u001b[39m.\u001b[39;49mnp\u001b[39m.\u001b[39;49mnan)\n\u001b[0;32m    850\u001b[0m \tnegative\u001b[39m=\u001b[39mtrace\u001b[39m.\u001b[39mapply(\u001b[39mlambda\u001b[39;00m x:x \u001b[39mif\u001b[39;00m x\u001b[39m<\u001b[39m\u001b[39m0\u001b[39m \u001b[39melse\u001b[39;00m pd\u001b[39m.\u001b[39mnp\u001b[39m.\u001b[39mnan)\n\u001b[0;32m    851\u001b[0m \ttrace\u001b[39m=\u001b[39mpd\u001b[39m.\u001b[39mDataFrame({\u001b[39m'\u001b[39m\u001b[39mpositive\u001b[39m\u001b[39m'\u001b[39m:positive,\u001b[39m'\u001b[39m\u001b[39mnegative\u001b[39m\u001b[39m'\u001b[39m:negative})\n",
      "File \u001b[1;32mc:\\Users\\m1568006\\Desktop\\Test_venv\\.venv\\Lib\\site-packages\\pandas\\core\\series.py:4630\u001b[0m, in \u001b[0;36mSeries.apply\u001b[1;34m(self, func, convert_dtype, args, **kwargs)\u001b[0m\n\u001b[0;32m   4520\u001b[0m \u001b[39mdef\u001b[39;00m \u001b[39mapply\u001b[39m(\n\u001b[0;32m   4521\u001b[0m     \u001b[39mself\u001b[39m,\n\u001b[0;32m   4522\u001b[0m     func: AggFuncType,\n\u001b[1;32m   (...)\u001b[0m\n\u001b[0;32m   4525\u001b[0m     \u001b[39m*\u001b[39m\u001b[39m*\u001b[39mkwargs,\n\u001b[0;32m   4526\u001b[0m ) \u001b[39m-\u001b[39m\u001b[39m>\u001b[39m DataFrame \u001b[39m|\u001b[39m Series:\n\u001b[0;32m   4527\u001b[0m \u001b[39m    \u001b[39m\u001b[39m\"\"\"\u001b[39;00m\n\u001b[0;32m   4528\u001b[0m \u001b[39m    Invoke function on values of Series.\u001b[39;00m\n\u001b[0;32m   4529\u001b[0m \n\u001b[1;32m   (...)\u001b[0m\n\u001b[0;32m   4628\u001b[0m \u001b[39m    dtype: float64\u001b[39;00m\n\u001b[0;32m   4629\u001b[0m \u001b[39m    \"\"\"\u001b[39;00m\n\u001b[1;32m-> 4630\u001b[0m     \u001b[39mreturn\u001b[39;00m SeriesApply(\u001b[39mself\u001b[39;49m, func, convert_dtype, args, kwargs)\u001b[39m.\u001b[39;49mapply()\n",
      "File \u001b[1;32mc:\\Users\\m1568006\\Desktop\\Test_venv\\.venv\\Lib\\site-packages\\pandas\\core\\apply.py:1025\u001b[0m, in \u001b[0;36mSeriesApply.apply\u001b[1;34m(self)\u001b[0m\n\u001b[0;32m   1022\u001b[0m     \u001b[39mreturn\u001b[39;00m \u001b[39mself\u001b[39m\u001b[39m.\u001b[39mapply_str()\n\u001b[0;32m   1024\u001b[0m \u001b[39m# self.f is Callable\u001b[39;00m\n\u001b[1;32m-> 1025\u001b[0m \u001b[39mreturn\u001b[39;00m \u001b[39mself\u001b[39;49m\u001b[39m.\u001b[39;49mapply_standard()\n",
      "File \u001b[1;32mc:\\Users\\m1568006\\Desktop\\Test_venv\\.venv\\Lib\\site-packages\\pandas\\core\\apply.py:1076\u001b[0m, in \u001b[0;36mSeriesApply.apply_standard\u001b[1;34m(self)\u001b[0m\n\u001b[0;32m   1074\u001b[0m     \u001b[39melse\u001b[39;00m:\n\u001b[0;32m   1075\u001b[0m         values \u001b[39m=\u001b[39m obj\u001b[39m.\u001b[39mastype(\u001b[39mobject\u001b[39m)\u001b[39m.\u001b[39m_values\n\u001b[1;32m-> 1076\u001b[0m         mapped \u001b[39m=\u001b[39m lib\u001b[39m.\u001b[39;49mmap_infer(\n\u001b[0;32m   1077\u001b[0m             values,\n\u001b[0;32m   1078\u001b[0m             f,\n\u001b[0;32m   1079\u001b[0m             convert\u001b[39m=\u001b[39;49m\u001b[39mself\u001b[39;49m\u001b[39m.\u001b[39;49mconvert_dtype,\n\u001b[0;32m   1080\u001b[0m         )\n\u001b[0;32m   1082\u001b[0m \u001b[39mif\u001b[39;00m \u001b[39mlen\u001b[39m(mapped) \u001b[39mand\u001b[39;00m \u001b[39misinstance\u001b[39m(mapped[\u001b[39m0\u001b[39m], ABCSeries):\n\u001b[0;32m   1083\u001b[0m     \u001b[39m# GH#43986 Need to do list(mapped) in order to get treated as nested\u001b[39;00m\n\u001b[0;32m   1084\u001b[0m     \u001b[39m#  See also GH#25959 regarding EA support\u001b[39;00m\n\u001b[0;32m   1085\u001b[0m     \u001b[39mreturn\u001b[39;00m obj\u001b[39m.\u001b[39m_constructor_expanddim(\u001b[39mlist\u001b[39m(mapped), index\u001b[39m=\u001b[39mobj\u001b[39m.\u001b[39mindex)\n",
      "File \u001b[1;32mc:\\Users\\m1568006\\Desktop\\Test_venv\\.venv\\Lib\\site-packages\\pandas\\_libs\\lib.pyx:2834\u001b[0m, in \u001b[0;36mpandas._libs.lib.map_infer\u001b[1;34m()\u001b[0m\n",
      "File \u001b[1;32mc:\\Users\\m1568006\\Desktop\\Test_venv\\.venv\\Lib\\site-packages\\cufflinks\\plotlytools.py:849\u001b[0m, in \u001b[0;36m_iplot.<locals>.<lambda>\u001b[1;34m(x)\u001b[0m\n\u001b[0;32m    847\u001b[0m \u001b[39mif\u001b[39;00m kind\u001b[39m==\u001b[39m\u001b[39m'\u001b[39m\u001b[39mspread\u001b[39m\u001b[39m'\u001b[39m:\n\u001b[0;32m    848\u001b[0m \ttrace\u001b[39m=\u001b[39m\u001b[39mself\u001b[39m\u001b[39m.\u001b[39mapply(\u001b[39mlambda\u001b[39;00m x:x[\u001b[39m0\u001b[39m]\u001b[39m-\u001b[39mx[\u001b[39m1\u001b[39m],axis\u001b[39m=\u001b[39m\u001b[39m1\u001b[39m)\n\u001b[1;32m--> 849\u001b[0m \tpositive\u001b[39m=\u001b[39mtrace\u001b[39m.\u001b[39mapply(\u001b[39mlambda\u001b[39;00m x:x \u001b[39mif\u001b[39;00m x\u001b[39m>\u001b[39m\u001b[39m=\u001b[39m\u001b[39m0\u001b[39m \u001b[39melse\u001b[39;00m pd\u001b[39m.\u001b[39;49mnp\u001b[39m.\u001b[39mnan)\n\u001b[0;32m    850\u001b[0m \tnegative\u001b[39m=\u001b[39mtrace\u001b[39m.\u001b[39mapply(\u001b[39mlambda\u001b[39;00m x:x \u001b[39mif\u001b[39;00m x\u001b[39m<\u001b[39m\u001b[39m0\u001b[39m \u001b[39melse\u001b[39;00m pd\u001b[39m.\u001b[39mnp\u001b[39m.\u001b[39mnan)\n\u001b[0;32m    851\u001b[0m \ttrace\u001b[39m=\u001b[39mpd\u001b[39m.\u001b[39mDataFrame({\u001b[39m'\u001b[39m\u001b[39mpositive\u001b[39m\u001b[39m'\u001b[39m:positive,\u001b[39m'\u001b[39m\u001b[39mnegative\u001b[39m\u001b[39m'\u001b[39m:negative})\n",
      "\u001b[1;31mAttributeError\u001b[0m: module 'pandas' has no attribute 'np'"
     ]
    }
   ],
   "source": [
    "df.iplot(kind='spread')\n"
   ]
  },
  {
   "cell_type": "markdown",
   "metadata": {},
   "source": [
    "## histogram"
   ]
  },
  {
   "cell_type": "code",
   "execution_count": 85,
   "metadata": {
    "collapsed": false
   },
   "outputs": [
    {
     "data": {
      "application/vnd.plotly.v1+json": {
       "config": {
        "linkText": "Export to plot.ly",
        "plotlyServerURL": "https://plot.ly",
        "showLink": true
       },
       "data": [
        {
         "histfunc": "count",
         "histnorm": "",
         "marker": {
          "color": "rgba(255, 153, 51, 1.0)",
          "line": {
           "color": "#4D5663",
           "width": 1.3
          }
         },
         "name": "A",
         "nbinsx": 25,
         "opacity": 0.8,
         "orientation": "v",
         "type": "histogram",
         "x": [
          -1.7190432325639267,
          -1.0444212488203901,
          -1.2281548596652592,
          -0.1880998649496823,
          -0.023666518836465148,
          0.27316113327019337,
          0.1392557211801331,
          -0.1494975001196965,
          -0.3281889047311518,
          0.7630128577687965,
          -0.9887978159070222,
          1.7602940270080043,
          -0.2443307029648765,
          0.0605555077267923,
          0.1608818236220502,
          1.4725369594926774,
          0.7975054750093041,
          -1.2597645955801993,
          -0.2836042636557704,
          -1.3410643134511464,
          -3.082807509142449,
          0.10040955668920086,
          0.1190737877344889,
          -0.5194247208533813,
          -0.16041717951496873,
          -0.42019672544201253,
          -1.04630908270048,
          -1.0746470636561334,
          -0.2507817944882134,
          1.3128743750521201,
          0.47677732348050544,
          -0.5016507885943113,
          -0.407164342153989,
          -0.4952068718492648,
          -1.9667141629945057,
          0.330738501568156,
          0.8231660176547433,
          -0.5410515779966526,
          -0.46213876737850607,
          0.7763166570459573,
          -0.6854161078703633,
          0.9258852531425174,
          0.4452776659573741,
          0.1433919156308816,
          -0.5098633064390098,
          -1.6418834096841597,
          -0.9962361443896429,
          0.22733971103411632,
          1.8023099350953908,
          -0.46223753528257855,
          1.2024043335033523,
          -0.021680216105745824,
          -0.11402535562032319,
          -1.4421018473008114,
          -1.9768110804667434,
          0.771427797107187,
          -1.0961710380387748,
          0.5565420326255095,
          -1.2145782582885567,
          0.30716424383178914,
          -0.12051682741956476,
          0.08116981124048986,
          0.44409374469694546,
          0.32083407252942153,
          0.3284735979520984,
          1.2192042097398912,
          -0.08975218466167159,
          -0.7140739603542511,
          0.4929877565568179,
          -1.2495573399079385,
          -0.6551128437891885,
          -0.8055926026047565,
          0.9759313697721583,
          -0.32086986532559747,
          0.24938951455511105,
          1.0442989049164786,
          -0.21363696146902908,
          0.570467105783283,
          0.2018693877141919,
          -0.13677987220970744,
          1.141767519963179,
          -0.006674965663933419,
          -1.4001570009577424,
          -1.223387694657123,
          -1.5242392898964017,
          0.36198253172389483,
          -1.1542234126310464,
          -0.0432496695709186,
          -0.5385172809397573,
          -0.22561010953102295,
          -0.8815368257685243,
          0.03440737070312135,
          0.380176200295355,
          0.5451192543663047,
          2.1009187284632276,
          1.2262948214107132,
          -1.1259771549283395,
          -0.4092797319064413,
          0.8238088159521023,
          2.701443028227148
         ]
        }
       ],
       "layout": {
        "barmode": "overlay",
        "legend": {
         "bgcolor": "#F5F6F9",
         "font": {
          "color": "#4D5663"
         }
        },
        "paper_bgcolor": "#F5F6F9",
        "plot_bgcolor": "#F5F6F9",
        "template": {
         "data": {
          "bar": [
           {
            "error_x": {
             "color": "#2a3f5f"
            },
            "error_y": {
             "color": "#2a3f5f"
            },
            "marker": {
             "line": {
              "color": "#E5ECF6",
              "width": 0.5
             },
             "pattern": {
              "fillmode": "overlay",
              "size": 10,
              "solidity": 0.2
             }
            },
            "type": "bar"
           }
          ],
          "barpolar": [
           {
            "marker": {
             "line": {
              "color": "#E5ECF6",
              "width": 0.5
             },
             "pattern": {
              "fillmode": "overlay",
              "size": 10,
              "solidity": 0.2
             }
            },
            "type": "barpolar"
           }
          ],
          "carpet": [
           {
            "aaxis": {
             "endlinecolor": "#2a3f5f",
             "gridcolor": "white",
             "linecolor": "white",
             "minorgridcolor": "white",
             "startlinecolor": "#2a3f5f"
            },
            "baxis": {
             "endlinecolor": "#2a3f5f",
             "gridcolor": "white",
             "linecolor": "white",
             "minorgridcolor": "white",
             "startlinecolor": "#2a3f5f"
            },
            "type": "carpet"
           }
          ],
          "choropleth": [
           {
            "colorbar": {
             "outlinewidth": 0,
             "ticks": ""
            },
            "type": "choropleth"
           }
          ],
          "contour": [
           {
            "colorbar": {
             "outlinewidth": 0,
             "ticks": ""
            },
            "colorscale": [
             [
              0,
              "#0d0887"
             ],
             [
              0.1111111111111111,
              "#46039f"
             ],
             [
              0.2222222222222222,
              "#7201a8"
             ],
             [
              0.3333333333333333,
              "#9c179e"
             ],
             [
              0.4444444444444444,
              "#bd3786"
             ],
             [
              0.5555555555555556,
              "#d8576b"
             ],
             [
              0.6666666666666666,
              "#ed7953"
             ],
             [
              0.7777777777777778,
              "#fb9f3a"
             ],
             [
              0.8888888888888888,
              "#fdca26"
             ],
             [
              1,
              "#f0f921"
             ]
            ],
            "type": "contour"
           }
          ],
          "contourcarpet": [
           {
            "colorbar": {
             "outlinewidth": 0,
             "ticks": ""
            },
            "type": "contourcarpet"
           }
          ],
          "heatmap": [
           {
            "colorbar": {
             "outlinewidth": 0,
             "ticks": ""
            },
            "colorscale": [
             [
              0,
              "#0d0887"
             ],
             [
              0.1111111111111111,
              "#46039f"
             ],
             [
              0.2222222222222222,
              "#7201a8"
             ],
             [
              0.3333333333333333,
              "#9c179e"
             ],
             [
              0.4444444444444444,
              "#bd3786"
             ],
             [
              0.5555555555555556,
              "#d8576b"
             ],
             [
              0.6666666666666666,
              "#ed7953"
             ],
             [
              0.7777777777777778,
              "#fb9f3a"
             ],
             [
              0.8888888888888888,
              "#fdca26"
             ],
             [
              1,
              "#f0f921"
             ]
            ],
            "type": "heatmap"
           }
          ],
          "heatmapgl": [
           {
            "colorbar": {
             "outlinewidth": 0,
             "ticks": ""
            },
            "colorscale": [
             [
              0,
              "#0d0887"
             ],
             [
              0.1111111111111111,
              "#46039f"
             ],
             [
              0.2222222222222222,
              "#7201a8"
             ],
             [
              0.3333333333333333,
              "#9c179e"
             ],
             [
              0.4444444444444444,
              "#bd3786"
             ],
             [
              0.5555555555555556,
              "#d8576b"
             ],
             [
              0.6666666666666666,
              "#ed7953"
             ],
             [
              0.7777777777777778,
              "#fb9f3a"
             ],
             [
              0.8888888888888888,
              "#fdca26"
             ],
             [
              1,
              "#f0f921"
             ]
            ],
            "type": "heatmapgl"
           }
          ],
          "histogram": [
           {
            "marker": {
             "pattern": {
              "fillmode": "overlay",
              "size": 10,
              "solidity": 0.2
             }
            },
            "type": "histogram"
           }
          ],
          "histogram2d": [
           {
            "colorbar": {
             "outlinewidth": 0,
             "ticks": ""
            },
            "colorscale": [
             [
              0,
              "#0d0887"
             ],
             [
              0.1111111111111111,
              "#46039f"
             ],
             [
              0.2222222222222222,
              "#7201a8"
             ],
             [
              0.3333333333333333,
              "#9c179e"
             ],
             [
              0.4444444444444444,
              "#bd3786"
             ],
             [
              0.5555555555555556,
              "#d8576b"
             ],
             [
              0.6666666666666666,
              "#ed7953"
             ],
             [
              0.7777777777777778,
              "#fb9f3a"
             ],
             [
              0.8888888888888888,
              "#fdca26"
             ],
             [
              1,
              "#f0f921"
             ]
            ],
            "type": "histogram2d"
           }
          ],
          "histogram2dcontour": [
           {
            "colorbar": {
             "outlinewidth": 0,
             "ticks": ""
            },
            "colorscale": [
             [
              0,
              "#0d0887"
             ],
             [
              0.1111111111111111,
              "#46039f"
             ],
             [
              0.2222222222222222,
              "#7201a8"
             ],
             [
              0.3333333333333333,
              "#9c179e"
             ],
             [
              0.4444444444444444,
              "#bd3786"
             ],
             [
              0.5555555555555556,
              "#d8576b"
             ],
             [
              0.6666666666666666,
              "#ed7953"
             ],
             [
              0.7777777777777778,
              "#fb9f3a"
             ],
             [
              0.8888888888888888,
              "#fdca26"
             ],
             [
              1,
              "#f0f921"
             ]
            ],
            "type": "histogram2dcontour"
           }
          ],
          "mesh3d": [
           {
            "colorbar": {
             "outlinewidth": 0,
             "ticks": ""
            },
            "type": "mesh3d"
           }
          ],
          "parcoords": [
           {
            "line": {
             "colorbar": {
              "outlinewidth": 0,
              "ticks": ""
             }
            },
            "type": "parcoords"
           }
          ],
          "pie": [
           {
            "automargin": true,
            "type": "pie"
           }
          ],
          "scatter": [
           {
            "fillpattern": {
             "fillmode": "overlay",
             "size": 10,
             "solidity": 0.2
            },
            "type": "scatter"
           }
          ],
          "scatter3d": [
           {
            "line": {
             "colorbar": {
              "outlinewidth": 0,
              "ticks": ""
             }
            },
            "marker": {
             "colorbar": {
              "outlinewidth": 0,
              "ticks": ""
             }
            },
            "type": "scatter3d"
           }
          ],
          "scattercarpet": [
           {
            "marker": {
             "colorbar": {
              "outlinewidth": 0,
              "ticks": ""
             }
            },
            "type": "scattercarpet"
           }
          ],
          "scattergeo": [
           {
            "marker": {
             "colorbar": {
              "outlinewidth": 0,
              "ticks": ""
             }
            },
            "type": "scattergeo"
           }
          ],
          "scattergl": [
           {
            "marker": {
             "colorbar": {
              "outlinewidth": 0,
              "ticks": ""
             }
            },
            "type": "scattergl"
           }
          ],
          "scattermapbox": [
           {
            "marker": {
             "colorbar": {
              "outlinewidth": 0,
              "ticks": ""
             }
            },
            "type": "scattermapbox"
           }
          ],
          "scatterpolar": [
           {
            "marker": {
             "colorbar": {
              "outlinewidth": 0,
              "ticks": ""
             }
            },
            "type": "scatterpolar"
           }
          ],
          "scatterpolargl": [
           {
            "marker": {
             "colorbar": {
              "outlinewidth": 0,
              "ticks": ""
             }
            },
            "type": "scatterpolargl"
           }
          ],
          "scatterternary": [
           {
            "marker": {
             "colorbar": {
              "outlinewidth": 0,
              "ticks": ""
             }
            },
            "type": "scatterternary"
           }
          ],
          "surface": [
           {
            "colorbar": {
             "outlinewidth": 0,
             "ticks": ""
            },
            "colorscale": [
             [
              0,
              "#0d0887"
             ],
             [
              0.1111111111111111,
              "#46039f"
             ],
             [
              0.2222222222222222,
              "#7201a8"
             ],
             [
              0.3333333333333333,
              "#9c179e"
             ],
             [
              0.4444444444444444,
              "#bd3786"
             ],
             [
              0.5555555555555556,
              "#d8576b"
             ],
             [
              0.6666666666666666,
              "#ed7953"
             ],
             [
              0.7777777777777778,
              "#fb9f3a"
             ],
             [
              0.8888888888888888,
              "#fdca26"
             ],
             [
              1,
              "#f0f921"
             ]
            ],
            "type": "surface"
           }
          ],
          "table": [
           {
            "cells": {
             "fill": {
              "color": "#EBF0F8"
             },
             "line": {
              "color": "white"
             }
            },
            "header": {
             "fill": {
              "color": "#C8D4E3"
             },
             "line": {
              "color": "white"
             }
            },
            "type": "table"
           }
          ]
         },
         "layout": {
          "annotationdefaults": {
           "arrowcolor": "#2a3f5f",
           "arrowhead": 0,
           "arrowwidth": 1
          },
          "autotypenumbers": "strict",
          "coloraxis": {
           "colorbar": {
            "outlinewidth": 0,
            "ticks": ""
           }
          },
          "colorscale": {
           "diverging": [
            [
             0,
             "#8e0152"
            ],
            [
             0.1,
             "#c51b7d"
            ],
            [
             0.2,
             "#de77ae"
            ],
            [
             0.3,
             "#f1b6da"
            ],
            [
             0.4,
             "#fde0ef"
            ],
            [
             0.5,
             "#f7f7f7"
            ],
            [
             0.6,
             "#e6f5d0"
            ],
            [
             0.7,
             "#b8e186"
            ],
            [
             0.8,
             "#7fbc41"
            ],
            [
             0.9,
             "#4d9221"
            ],
            [
             1,
             "#276419"
            ]
           ],
           "sequential": [
            [
             0,
             "#0d0887"
            ],
            [
             0.1111111111111111,
             "#46039f"
            ],
            [
             0.2222222222222222,
             "#7201a8"
            ],
            [
             0.3333333333333333,
             "#9c179e"
            ],
            [
             0.4444444444444444,
             "#bd3786"
            ],
            [
             0.5555555555555556,
             "#d8576b"
            ],
            [
             0.6666666666666666,
             "#ed7953"
            ],
            [
             0.7777777777777778,
             "#fb9f3a"
            ],
            [
             0.8888888888888888,
             "#fdca26"
            ],
            [
             1,
             "#f0f921"
            ]
           ],
           "sequentialminus": [
            [
             0,
             "#0d0887"
            ],
            [
             0.1111111111111111,
             "#46039f"
            ],
            [
             0.2222222222222222,
             "#7201a8"
            ],
            [
             0.3333333333333333,
             "#9c179e"
            ],
            [
             0.4444444444444444,
             "#bd3786"
            ],
            [
             0.5555555555555556,
             "#d8576b"
            ],
            [
             0.6666666666666666,
             "#ed7953"
            ],
            [
             0.7777777777777778,
             "#fb9f3a"
            ],
            [
             0.8888888888888888,
             "#fdca26"
            ],
            [
             1,
             "#f0f921"
            ]
           ]
          },
          "colorway": [
           "#636efa",
           "#EF553B",
           "#00cc96",
           "#ab63fa",
           "#FFA15A",
           "#19d3f3",
           "#FF6692",
           "#B6E880",
           "#FF97FF",
           "#FECB52"
          ],
          "font": {
           "color": "#2a3f5f"
          },
          "geo": {
           "bgcolor": "white",
           "lakecolor": "white",
           "landcolor": "#E5ECF6",
           "showlakes": true,
           "showland": true,
           "subunitcolor": "white"
          },
          "hoverlabel": {
           "align": "left"
          },
          "hovermode": "closest",
          "mapbox": {
           "style": "light"
          },
          "paper_bgcolor": "white",
          "plot_bgcolor": "#E5ECF6",
          "polar": {
           "angularaxis": {
            "gridcolor": "white",
            "linecolor": "white",
            "ticks": ""
           },
           "bgcolor": "#E5ECF6",
           "radialaxis": {
            "gridcolor": "white",
            "linecolor": "white",
            "ticks": ""
           }
          },
          "scene": {
           "xaxis": {
            "backgroundcolor": "#E5ECF6",
            "gridcolor": "white",
            "gridwidth": 2,
            "linecolor": "white",
            "showbackground": true,
            "ticks": "",
            "zerolinecolor": "white"
           },
           "yaxis": {
            "backgroundcolor": "#E5ECF6",
            "gridcolor": "white",
            "gridwidth": 2,
            "linecolor": "white",
            "showbackground": true,
            "ticks": "",
            "zerolinecolor": "white"
           },
           "zaxis": {
            "backgroundcolor": "#E5ECF6",
            "gridcolor": "white",
            "gridwidth": 2,
            "linecolor": "white",
            "showbackground": true,
            "ticks": "",
            "zerolinecolor": "white"
           }
          },
          "shapedefaults": {
           "line": {
            "color": "#2a3f5f"
           }
          },
          "ternary": {
           "aaxis": {
            "gridcolor": "white",
            "linecolor": "white",
            "ticks": ""
           },
           "baxis": {
            "gridcolor": "white",
            "linecolor": "white",
            "ticks": ""
           },
           "bgcolor": "#E5ECF6",
           "caxis": {
            "gridcolor": "white",
            "linecolor": "white",
            "ticks": ""
           }
          },
          "title": {
           "x": 0.05
          },
          "xaxis": {
           "automargin": true,
           "gridcolor": "white",
           "linecolor": "white",
           "ticks": "",
           "title": {
            "standoff": 15
           },
           "zerolinecolor": "white",
           "zerolinewidth": 2
          },
          "yaxis": {
           "automargin": true,
           "gridcolor": "white",
           "linecolor": "white",
           "ticks": "",
           "title": {
            "standoff": 15
           },
           "zerolinecolor": "white",
           "zerolinewidth": 2
          }
         }
        },
        "title": {
         "font": {
          "color": "#4D5663"
         }
        },
        "xaxis": {
         "gridcolor": "#E1E5ED",
         "showgrid": true,
         "tickfont": {
          "color": "#4D5663"
         },
         "title": {
          "font": {
           "color": "#4D5663"
          },
          "text": ""
         },
         "zerolinecolor": "#E1E5ED"
        },
        "yaxis": {
         "gridcolor": "#E1E5ED",
         "showgrid": true,
         "tickfont": {
          "color": "#4D5663"
         },
         "title": {
          "font": {
           "color": "#4D5663"
          },
          "text": ""
         },
         "zerolinecolor": "#E1E5ED"
        }
       }
      },
      "text/html": [
       "<div>                            <div id=\"228c82cd-cc69-4165-b89e-3b00147583e9\" class=\"plotly-graph-div\" style=\"height:525px; width:100%;\"></div>            <script type=\"text/javascript\">                require([\"plotly\"], function(Plotly) {                    window.PLOTLYENV=window.PLOTLYENV || {};\n",
       "                    window.PLOTLYENV.BASE_URL='https://plot.ly';                                    if (document.getElementById(\"228c82cd-cc69-4165-b89e-3b00147583e9\")) {                    Plotly.newPlot(                        \"228c82cd-cc69-4165-b89e-3b00147583e9\",                        [{\"histfunc\":\"count\",\"histnorm\":\"\",\"marker\":{\"color\":\"rgba(255, 153, 51, 1.0)\",\"line\":{\"color\":\"#4D5663\",\"width\":1.3}},\"name\":\"A\",\"nbinsx\":25,\"opacity\":0.8,\"orientation\":\"v\",\"x\":[-1.7190432325639267,-1.0444212488203901,-1.2281548596652592,-0.1880998649496823,-0.023666518836465148,0.27316113327019337,0.1392557211801331,-0.1494975001196965,-0.3281889047311518,0.7630128577687965,-0.9887978159070222,1.7602940270080043,-0.2443307029648765,0.0605555077267923,0.1608818236220502,1.4725369594926774,0.7975054750093041,-1.2597645955801993,-0.2836042636557704,-1.3410643134511464,-3.082807509142449,0.10040955668920086,0.1190737877344889,-0.5194247208533813,-0.16041717951496873,-0.42019672544201253,-1.04630908270048,-1.0746470636561334,-0.2507817944882134,1.3128743750521201,0.47677732348050544,-0.5016507885943113,-0.407164342153989,-0.4952068718492648,-1.9667141629945057,0.330738501568156,0.8231660176547433,-0.5410515779966526,-0.46213876737850607,0.7763166570459573,-0.6854161078703633,0.9258852531425174,0.4452776659573741,0.1433919156308816,-0.5098633064390098,-1.6418834096841597,-0.9962361443896429,0.22733971103411632,1.8023099350953908,-0.46223753528257855,1.2024043335033523,-0.021680216105745824,-0.11402535562032319,-1.4421018473008114,-1.9768110804667434,0.771427797107187,-1.0961710380387748,0.5565420326255095,-1.2145782582885567,0.30716424383178914,-0.12051682741956476,0.08116981124048986,0.44409374469694546,0.32083407252942153,0.3284735979520984,1.2192042097398912,-0.08975218466167159,-0.7140739603542511,0.4929877565568179,-1.2495573399079385,-0.6551128437891885,-0.8055926026047565,0.9759313697721583,-0.32086986532559747,0.24938951455511105,1.0442989049164786,-0.21363696146902908,0.570467105783283,0.2018693877141919,-0.13677987220970744,1.141767519963179,-0.006674965663933419,-1.4001570009577424,-1.223387694657123,-1.5242392898964017,0.36198253172389483,-1.1542234126310464,-0.0432496695709186,-0.5385172809397573,-0.22561010953102295,-0.8815368257685243,0.03440737070312135,0.380176200295355,0.5451192543663047,2.1009187284632276,1.2262948214107132,-1.1259771549283395,-0.4092797319064413,0.8238088159521023,2.701443028227148],\"type\":\"histogram\"}],                        {\"barmode\":\"overlay\",\"legend\":{\"bgcolor\":\"#F5F6F9\",\"font\":{\"color\":\"#4D5663\"}},\"paper_bgcolor\":\"#F5F6F9\",\"plot_bgcolor\":\"#F5F6F9\",\"template\":{\"data\":{\"barpolar\":[{\"marker\":{\"line\":{\"color\":\"#E5ECF6\",\"width\":0.5},\"pattern\":{\"fillmode\":\"overlay\",\"size\":10,\"solidity\":0.2}},\"type\":\"barpolar\"}],\"bar\":[{\"error_x\":{\"color\":\"#2a3f5f\"},\"error_y\":{\"color\":\"#2a3f5f\"},\"marker\":{\"line\":{\"color\":\"#E5ECF6\",\"width\":0.5},\"pattern\":{\"fillmode\":\"overlay\",\"size\":10,\"solidity\":0.2}},\"type\":\"bar\"}],\"carpet\":[{\"aaxis\":{\"endlinecolor\":\"#2a3f5f\",\"gridcolor\":\"white\",\"linecolor\":\"white\",\"minorgridcolor\":\"white\",\"startlinecolor\":\"#2a3f5f\"},\"baxis\":{\"endlinecolor\":\"#2a3f5f\",\"gridcolor\":\"white\",\"linecolor\":\"white\",\"minorgridcolor\":\"white\",\"startlinecolor\":\"#2a3f5f\"},\"type\":\"carpet\"}],\"choropleth\":[{\"colorbar\":{\"outlinewidth\":0,\"ticks\":\"\"},\"type\":\"choropleth\"}],\"contourcarpet\":[{\"colorbar\":{\"outlinewidth\":0,\"ticks\":\"\"},\"type\":\"contourcarpet\"}],\"contour\":[{\"colorbar\":{\"outlinewidth\":0,\"ticks\":\"\"},\"colorscale\":[[0.0,\"#0d0887\"],[0.1111111111111111,\"#46039f\"],[0.2222222222222222,\"#7201a8\"],[0.3333333333333333,\"#9c179e\"],[0.4444444444444444,\"#bd3786\"],[0.5555555555555556,\"#d8576b\"],[0.6666666666666666,\"#ed7953\"],[0.7777777777777778,\"#fb9f3a\"],[0.8888888888888888,\"#fdca26\"],[1.0,\"#f0f921\"]],\"type\":\"contour\"}],\"heatmapgl\":[{\"colorbar\":{\"outlinewidth\":0,\"ticks\":\"\"},\"colorscale\":[[0.0,\"#0d0887\"],[0.1111111111111111,\"#46039f\"],[0.2222222222222222,\"#7201a8\"],[0.3333333333333333,\"#9c179e\"],[0.4444444444444444,\"#bd3786\"],[0.5555555555555556,\"#d8576b\"],[0.6666666666666666,\"#ed7953\"],[0.7777777777777778,\"#fb9f3a\"],[0.8888888888888888,\"#fdca26\"],[1.0,\"#f0f921\"]],\"type\":\"heatmapgl\"}],\"heatmap\":[{\"colorbar\":{\"outlinewidth\":0,\"ticks\":\"\"},\"colorscale\":[[0.0,\"#0d0887\"],[0.1111111111111111,\"#46039f\"],[0.2222222222222222,\"#7201a8\"],[0.3333333333333333,\"#9c179e\"],[0.4444444444444444,\"#bd3786\"],[0.5555555555555556,\"#d8576b\"],[0.6666666666666666,\"#ed7953\"],[0.7777777777777778,\"#fb9f3a\"],[0.8888888888888888,\"#fdca26\"],[1.0,\"#f0f921\"]],\"type\":\"heatmap\"}],\"histogram2dcontour\":[{\"colorbar\":{\"outlinewidth\":0,\"ticks\":\"\"},\"colorscale\":[[0.0,\"#0d0887\"],[0.1111111111111111,\"#46039f\"],[0.2222222222222222,\"#7201a8\"],[0.3333333333333333,\"#9c179e\"],[0.4444444444444444,\"#bd3786\"],[0.5555555555555556,\"#d8576b\"],[0.6666666666666666,\"#ed7953\"],[0.7777777777777778,\"#fb9f3a\"],[0.8888888888888888,\"#fdca26\"],[1.0,\"#f0f921\"]],\"type\":\"histogram2dcontour\"}],\"histogram2d\":[{\"colorbar\":{\"outlinewidth\":0,\"ticks\":\"\"},\"colorscale\":[[0.0,\"#0d0887\"],[0.1111111111111111,\"#46039f\"],[0.2222222222222222,\"#7201a8\"],[0.3333333333333333,\"#9c179e\"],[0.4444444444444444,\"#bd3786\"],[0.5555555555555556,\"#d8576b\"],[0.6666666666666666,\"#ed7953\"],[0.7777777777777778,\"#fb9f3a\"],[0.8888888888888888,\"#fdca26\"],[1.0,\"#f0f921\"]],\"type\":\"histogram2d\"}],\"histogram\":[{\"marker\":{\"pattern\":{\"fillmode\":\"overlay\",\"size\":10,\"solidity\":0.2}},\"type\":\"histogram\"}],\"mesh3d\":[{\"colorbar\":{\"outlinewidth\":0,\"ticks\":\"\"},\"type\":\"mesh3d\"}],\"parcoords\":[{\"line\":{\"colorbar\":{\"outlinewidth\":0,\"ticks\":\"\"}},\"type\":\"parcoords\"}],\"pie\":[{\"automargin\":true,\"type\":\"pie\"}],\"scatter3d\":[{\"line\":{\"colorbar\":{\"outlinewidth\":0,\"ticks\":\"\"}},\"marker\":{\"colorbar\":{\"outlinewidth\":0,\"ticks\":\"\"}},\"type\":\"scatter3d\"}],\"scattercarpet\":[{\"marker\":{\"colorbar\":{\"outlinewidth\":0,\"ticks\":\"\"}},\"type\":\"scattercarpet\"}],\"scattergeo\":[{\"marker\":{\"colorbar\":{\"outlinewidth\":0,\"ticks\":\"\"}},\"type\":\"scattergeo\"}],\"scattergl\":[{\"marker\":{\"colorbar\":{\"outlinewidth\":0,\"ticks\":\"\"}},\"type\":\"scattergl\"}],\"scattermapbox\":[{\"marker\":{\"colorbar\":{\"outlinewidth\":0,\"ticks\":\"\"}},\"type\":\"scattermapbox\"}],\"scatterpolargl\":[{\"marker\":{\"colorbar\":{\"outlinewidth\":0,\"ticks\":\"\"}},\"type\":\"scatterpolargl\"}],\"scatterpolar\":[{\"marker\":{\"colorbar\":{\"outlinewidth\":0,\"ticks\":\"\"}},\"type\":\"scatterpolar\"}],\"scatter\":[{\"fillpattern\":{\"fillmode\":\"overlay\",\"size\":10,\"solidity\":0.2},\"type\":\"scatter\"}],\"scatterternary\":[{\"marker\":{\"colorbar\":{\"outlinewidth\":0,\"ticks\":\"\"}},\"type\":\"scatterternary\"}],\"surface\":[{\"colorbar\":{\"outlinewidth\":0,\"ticks\":\"\"},\"colorscale\":[[0.0,\"#0d0887\"],[0.1111111111111111,\"#46039f\"],[0.2222222222222222,\"#7201a8\"],[0.3333333333333333,\"#9c179e\"],[0.4444444444444444,\"#bd3786\"],[0.5555555555555556,\"#d8576b\"],[0.6666666666666666,\"#ed7953\"],[0.7777777777777778,\"#fb9f3a\"],[0.8888888888888888,\"#fdca26\"],[1.0,\"#f0f921\"]],\"type\":\"surface\"}],\"table\":[{\"cells\":{\"fill\":{\"color\":\"#EBF0F8\"},\"line\":{\"color\":\"white\"}},\"header\":{\"fill\":{\"color\":\"#C8D4E3\"},\"line\":{\"color\":\"white\"}},\"type\":\"table\"}]},\"layout\":{\"annotationdefaults\":{\"arrowcolor\":\"#2a3f5f\",\"arrowhead\":0,\"arrowwidth\":1},\"autotypenumbers\":\"strict\",\"coloraxis\":{\"colorbar\":{\"outlinewidth\":0,\"ticks\":\"\"}},\"colorscale\":{\"diverging\":[[0,\"#8e0152\"],[0.1,\"#c51b7d\"],[0.2,\"#de77ae\"],[0.3,\"#f1b6da\"],[0.4,\"#fde0ef\"],[0.5,\"#f7f7f7\"],[0.6,\"#e6f5d0\"],[0.7,\"#b8e186\"],[0.8,\"#7fbc41\"],[0.9,\"#4d9221\"],[1,\"#276419\"]],\"sequential\":[[0.0,\"#0d0887\"],[0.1111111111111111,\"#46039f\"],[0.2222222222222222,\"#7201a8\"],[0.3333333333333333,\"#9c179e\"],[0.4444444444444444,\"#bd3786\"],[0.5555555555555556,\"#d8576b\"],[0.6666666666666666,\"#ed7953\"],[0.7777777777777778,\"#fb9f3a\"],[0.8888888888888888,\"#fdca26\"],[1.0,\"#f0f921\"]],\"sequentialminus\":[[0.0,\"#0d0887\"],[0.1111111111111111,\"#46039f\"],[0.2222222222222222,\"#7201a8\"],[0.3333333333333333,\"#9c179e\"],[0.4444444444444444,\"#bd3786\"],[0.5555555555555556,\"#d8576b\"],[0.6666666666666666,\"#ed7953\"],[0.7777777777777778,\"#fb9f3a\"],[0.8888888888888888,\"#fdca26\"],[1.0,\"#f0f921\"]]},\"colorway\":[\"#636efa\",\"#EF553B\",\"#00cc96\",\"#ab63fa\",\"#FFA15A\",\"#19d3f3\",\"#FF6692\",\"#B6E880\",\"#FF97FF\",\"#FECB52\"],\"font\":{\"color\":\"#2a3f5f\"},\"geo\":{\"bgcolor\":\"white\",\"lakecolor\":\"white\",\"landcolor\":\"#E5ECF6\",\"showlakes\":true,\"showland\":true,\"subunitcolor\":\"white\"},\"hoverlabel\":{\"align\":\"left\"},\"hovermode\":\"closest\",\"mapbox\":{\"style\":\"light\"},\"paper_bgcolor\":\"white\",\"plot_bgcolor\":\"#E5ECF6\",\"polar\":{\"angularaxis\":{\"gridcolor\":\"white\",\"linecolor\":\"white\",\"ticks\":\"\"},\"bgcolor\":\"#E5ECF6\",\"radialaxis\":{\"gridcolor\":\"white\",\"linecolor\":\"white\",\"ticks\":\"\"}},\"scene\":{\"xaxis\":{\"backgroundcolor\":\"#E5ECF6\",\"gridcolor\":\"white\",\"gridwidth\":2,\"linecolor\":\"white\",\"showbackground\":true,\"ticks\":\"\",\"zerolinecolor\":\"white\"},\"yaxis\":{\"backgroundcolor\":\"#E5ECF6\",\"gridcolor\":\"white\",\"gridwidth\":2,\"linecolor\":\"white\",\"showbackground\":true,\"ticks\":\"\",\"zerolinecolor\":\"white\"},\"zaxis\":{\"backgroundcolor\":\"#E5ECF6\",\"gridcolor\":\"white\",\"gridwidth\":2,\"linecolor\":\"white\",\"showbackground\":true,\"ticks\":\"\",\"zerolinecolor\":\"white\"}},\"shapedefaults\":{\"line\":{\"color\":\"#2a3f5f\"}},\"ternary\":{\"aaxis\":{\"gridcolor\":\"white\",\"linecolor\":\"white\",\"ticks\":\"\"},\"baxis\":{\"gridcolor\":\"white\",\"linecolor\":\"white\",\"ticks\":\"\"},\"bgcolor\":\"#E5ECF6\",\"caxis\":{\"gridcolor\":\"white\",\"linecolor\":\"white\",\"ticks\":\"\"}},\"title\":{\"x\":0.05},\"xaxis\":{\"automargin\":true,\"gridcolor\":\"white\",\"linecolor\":\"white\",\"ticks\":\"\",\"title\":{\"standoff\":15},\"zerolinecolor\":\"white\",\"zerolinewidth\":2},\"yaxis\":{\"automargin\":true,\"gridcolor\":\"white\",\"linecolor\":\"white\",\"ticks\":\"\",\"title\":{\"standoff\":15},\"zerolinecolor\":\"white\",\"zerolinewidth\":2}}},\"title\":{\"font\":{\"color\":\"#4D5663\"}},\"xaxis\":{\"gridcolor\":\"#E1E5ED\",\"showgrid\":true,\"tickfont\":{\"color\":\"#4D5663\"},\"title\":{\"font\":{\"color\":\"#4D5663\"},\"text\":\"\"},\"zerolinecolor\":\"#E1E5ED\"},\"yaxis\":{\"gridcolor\":\"#E1E5ED\",\"showgrid\":true,\"tickfont\":{\"color\":\"#4D5663\"},\"title\":{\"font\":{\"color\":\"#4D5663\"},\"text\":\"\"},\"zerolinecolor\":\"#E1E5ED\"}},                        {\"showLink\": true, \"linkText\": \"Export to plot.ly\", \"plotlyServerURL\": \"https://plot.ly\", \"responsive\": true}                    ).then(function(){\n",
       "                            \n",
       "var gd = document.getElementById('228c82cd-cc69-4165-b89e-3b00147583e9');\n",
       "var x = new MutationObserver(function (mutations, observer) {{\n",
       "        var display = window.getComputedStyle(gd).display;\n",
       "        if (!display || display === 'none') {{\n",
       "            console.log([gd, 'removed!']);\n",
       "            Plotly.purge(gd);\n",
       "            observer.disconnect();\n",
       "        }}\n",
       "}});\n",
       "\n",
       "// Listen for the removal of the full notebook cells\n",
       "var notebookContainer = gd.closest('#notebook-container');\n",
       "if (notebookContainer) {{\n",
       "    x.observe(notebookContainer, {childList: true});\n",
       "}}\n",
       "\n",
       "// Listen for the clearing of the current output cell\n",
       "var outputEl = gd.closest('.output');\n",
       "if (outputEl) {{\n",
       "    x.observe(outputEl, {childList: true});\n",
       "}}\n",
       "\n",
       "                        })                };                });            </script>        </div>"
      ]
     },
     "metadata": {},
     "output_type": "display_data"
    }
   ],
   "source": [
    "df['A'].iplot(kind='hist',bins=25)"
   ]
  },
  {
   "cell_type": "code",
   "execution_count": 86,
   "metadata": {
    "collapsed": false
   },
   "outputs": [
    {
     "data": {
      "application/vnd.plotly.v1+json": {
       "config": {
        "linkText": "Export to plot.ly",
        "plotlyServerURL": "https://plot.ly",
        "showLink": true
       },
       "data": [
        {
         "marker": {
          "color": [
           "rgb(255, 153, 51)",
           "rgb(55, 128, 191)",
           "rgb(50, 171, 96)",
           "rgb(128, 0, 128)",
           "rgb(219, 64, 82)",
           "rgb(0, 128, 128)",
           "rgb(255, 255, 51)",
           "rgb(128, 128, 0)",
           "rgb(251, 128, 114)",
           "rgb(128, 177, 211)"
          ],
          "line": {
           "width": 1.3
          },
          "size": [
           58,
           107,
           50,
           44,
           88,
           66,
           36,
           61,
           46,
           52,
           53,
           79,
           78,
           60,
           76,
           57,
           89,
           75,
           92,
           85,
           87,
           92,
           50,
           100,
           43,
           74,
           83,
           89,
           29,
           86,
           34,
           12,
           98,
           63,
           70,
           53,
           27,
           51,
           69,
           38,
           62,
           41,
           39,
           84,
           13,
           53,
           53,
           71,
           51,
           99,
           75,
           59,
           28,
           49,
           71,
           65,
           67,
           52,
           48,
           31,
           54,
           36,
           58,
           97,
           112,
           44,
           41,
           88,
           23,
           79,
           96,
           43,
           59,
           99,
           80,
           64,
           76,
           56,
           53,
           94,
           49,
           62,
           91,
           103,
           79,
           46,
           59,
           85,
           50,
           60,
           68,
           78,
           80,
           71,
           36,
           73,
           60,
           38,
           90,
           62
          ],
          "symbol": "circle"
         },
         "mode": "markers",
         "text": "",
         "type": "scatter",
         "x": [
          -1.7190432325639267,
          -1.0444212488203901,
          -1.2281548596652592,
          -0.1880998649496823,
          -0.023666518836465148,
          0.27316113327019337,
          0.1392557211801331,
          -0.1494975001196965,
          -0.3281889047311518,
          0.7630128577687965,
          -0.9887978159070222,
          1.7602940270080043,
          -0.2443307029648765,
          0.0605555077267923,
          0.1608818236220502,
          1.4725369594926774,
          0.7975054750093041,
          -1.2597645955801993,
          -0.2836042636557704,
          -1.3410643134511464,
          -3.082807509142449,
          0.10040955668920086,
          0.1190737877344889,
          -0.5194247208533813,
          -0.16041717951496873,
          -0.42019672544201253,
          -1.04630908270048,
          -1.0746470636561334,
          -0.2507817944882134,
          1.3128743750521201,
          0.47677732348050544,
          -0.5016507885943113,
          -0.407164342153989,
          -0.4952068718492648,
          -1.9667141629945057,
          0.330738501568156,
          0.8231660176547433,
          -0.5410515779966526,
          -0.46213876737850607,
          0.7763166570459573,
          -0.6854161078703633,
          0.9258852531425174,
          0.4452776659573741,
          0.1433919156308816,
          -0.5098633064390098,
          -1.6418834096841597,
          -0.9962361443896429,
          0.22733971103411632,
          1.8023099350953908,
          -0.46223753528257855,
          1.2024043335033523,
          -0.021680216105745824,
          -0.11402535562032319,
          -1.4421018473008114,
          -1.9768110804667434,
          0.771427797107187,
          -1.0961710380387748,
          0.5565420326255095,
          -1.2145782582885567,
          0.30716424383178914,
          -0.12051682741956476,
          0.08116981124048986,
          0.44409374469694546,
          0.32083407252942153,
          0.3284735979520984,
          1.2192042097398912,
          -0.08975218466167159,
          -0.7140739603542511,
          0.4929877565568179,
          -1.2495573399079385,
          -0.6551128437891885,
          -0.8055926026047565,
          0.9759313697721583,
          -0.32086986532559747,
          0.24938951455511105,
          1.0442989049164786,
          -0.21363696146902908,
          0.570467105783283,
          0.2018693877141919,
          -0.13677987220970744,
          1.141767519963179,
          -0.006674965663933419,
          -1.4001570009577424,
          -1.223387694657123,
          -1.5242392898964017,
          0.36198253172389483,
          -1.1542234126310464,
          -0.0432496695709186,
          -0.5385172809397573,
          -0.22561010953102295,
          -0.8815368257685243,
          0.03440737070312135,
          0.380176200295355,
          0.5451192543663047,
          2.1009187284632276,
          1.2262948214107132,
          -1.1259771549283395,
          -0.4092797319064413,
          0.8238088159521023,
          2.701443028227148
         ],
         "y": [
          -0.7453650578061853,
          -0.732485868230905,
          2.571440856130466,
          -1.3288014757770887,
          -0.37571548259490545,
          1.353542151236892,
          1.93286073520079,
          2.0533955712126146,
          -0.6382279278868261,
          1.006911855066834,
          -0.8508485018441402,
          -0.3345162882904823,
          0.8196876101635465,
          -0.5182830042287909,
          -0.8872208937328169,
          -0.6977613360071452,
          0.8329749491099315,
          1.6278156329603701,
          -0.5918599160082817,
          0.5979676482099805,
          -0.21096248033595624,
          0.6580358342875058,
          0.07754165507905827,
          -0.3918294815826402,
          -0.12282736170431181,
          -0.4380063170871286,
          0.24626681996064265,
          -0.4750318627570162,
          -0.2941999491946126,
          -1.5270439756558192,
          -0.18562428035420844,
          -0.5423611512392887,
          -1.2264486791305123,
          0.3676093812347672,
          1.033419704658409,
          -0.6567831499467796,
          -0.7032492021918825,
          -1.1557532341470151,
          0.5600311571157386,
          -0.9334259060271239,
          -0.5989668140682524,
          -1.3131661082909658,
          -0.9527241875250738,
          2.1076321001344995,
          0.7907645450042046,
          0.045317753071620864,
          -0.5422493792125058,
          0.09857118965031991,
          0.6052916763925353,
          -0.392869883278384,
          -2.1728167312609594,
          0.19129452413895515,
          -0.4482696369760158,
          0.7536670650604307,
          3.0297697508518535,
          -1.4843336527711002,
          0.24516289995024912,
          -0.07823342244748287,
          1.8600695154382882,
          0.1652695904259634,
          0.5803836626659503,
          0.23363792298583005,
          1.9757625435411996,
          0.2668853669235514,
          -0.9279029959151173,
          -0.4834953930206035,
          -0.6366637869200468,
          -0.15419250778739807,
          -1.0199977291771138,
          0.927786461653511,
          0.4029687170081699,
          0.8255307678139705,
          0.6168162267979052,
          0.6284463701216723,
          -1.9754562759861336,
          -2.104602026931329,
          0.9544746502463938,
          -1.0692132136829424,
          0.7449650141369406,
          0.34937979315948636,
          1.2680493437929372,
          0.45804927462531686,
          1.5888458959012468,
          -0.6233348854103765,
          -0.46910717109893024,
          -1.9199036442570905,
          1.8333260115694225,
          0.44932592617168915,
          -0.8415764549515934,
          -1.8682125418564481,
          -0.11105533756615614,
          0.17216434633769956,
          0.6110137590737573,
          0.8806559097453874,
          -1.3571457712679595,
          1.6712324155356806,
          -0.9400650924848841,
          -1.2679553064567328,
          -0.885456193058384,
          0.22823409955739418
         ]
        }
       ],
       "layout": {
        "legend": {
         "bgcolor": "#F5F6F9",
         "font": {
          "color": "#4D5663"
         }
        },
        "paper_bgcolor": "#F5F6F9",
        "plot_bgcolor": "#F5F6F9",
        "template": {
         "data": {
          "bar": [
           {
            "error_x": {
             "color": "#2a3f5f"
            },
            "error_y": {
             "color": "#2a3f5f"
            },
            "marker": {
             "line": {
              "color": "#E5ECF6",
              "width": 0.5
             },
             "pattern": {
              "fillmode": "overlay",
              "size": 10,
              "solidity": 0.2
             }
            },
            "type": "bar"
           }
          ],
          "barpolar": [
           {
            "marker": {
             "line": {
              "color": "#E5ECF6",
              "width": 0.5
             },
             "pattern": {
              "fillmode": "overlay",
              "size": 10,
              "solidity": 0.2
             }
            },
            "type": "barpolar"
           }
          ],
          "carpet": [
           {
            "aaxis": {
             "endlinecolor": "#2a3f5f",
             "gridcolor": "white",
             "linecolor": "white",
             "minorgridcolor": "white",
             "startlinecolor": "#2a3f5f"
            },
            "baxis": {
             "endlinecolor": "#2a3f5f",
             "gridcolor": "white",
             "linecolor": "white",
             "minorgridcolor": "white",
             "startlinecolor": "#2a3f5f"
            },
            "type": "carpet"
           }
          ],
          "choropleth": [
           {
            "colorbar": {
             "outlinewidth": 0,
             "ticks": ""
            },
            "type": "choropleth"
           }
          ],
          "contour": [
           {
            "colorbar": {
             "outlinewidth": 0,
             "ticks": ""
            },
            "colorscale": [
             [
              0,
              "#0d0887"
             ],
             [
              0.1111111111111111,
              "#46039f"
             ],
             [
              0.2222222222222222,
              "#7201a8"
             ],
             [
              0.3333333333333333,
              "#9c179e"
             ],
             [
              0.4444444444444444,
              "#bd3786"
             ],
             [
              0.5555555555555556,
              "#d8576b"
             ],
             [
              0.6666666666666666,
              "#ed7953"
             ],
             [
              0.7777777777777778,
              "#fb9f3a"
             ],
             [
              0.8888888888888888,
              "#fdca26"
             ],
             [
              1,
              "#f0f921"
             ]
            ],
            "type": "contour"
           }
          ],
          "contourcarpet": [
           {
            "colorbar": {
             "outlinewidth": 0,
             "ticks": ""
            },
            "type": "contourcarpet"
           }
          ],
          "heatmap": [
           {
            "colorbar": {
             "outlinewidth": 0,
             "ticks": ""
            },
            "colorscale": [
             [
              0,
              "#0d0887"
             ],
             [
              0.1111111111111111,
              "#46039f"
             ],
             [
              0.2222222222222222,
              "#7201a8"
             ],
             [
              0.3333333333333333,
              "#9c179e"
             ],
             [
              0.4444444444444444,
              "#bd3786"
             ],
             [
              0.5555555555555556,
              "#d8576b"
             ],
             [
              0.6666666666666666,
              "#ed7953"
             ],
             [
              0.7777777777777778,
              "#fb9f3a"
             ],
             [
              0.8888888888888888,
              "#fdca26"
             ],
             [
              1,
              "#f0f921"
             ]
            ],
            "type": "heatmap"
           }
          ],
          "heatmapgl": [
           {
            "colorbar": {
             "outlinewidth": 0,
             "ticks": ""
            },
            "colorscale": [
             [
              0,
              "#0d0887"
             ],
             [
              0.1111111111111111,
              "#46039f"
             ],
             [
              0.2222222222222222,
              "#7201a8"
             ],
             [
              0.3333333333333333,
              "#9c179e"
             ],
             [
              0.4444444444444444,
              "#bd3786"
             ],
             [
              0.5555555555555556,
              "#d8576b"
             ],
             [
              0.6666666666666666,
              "#ed7953"
             ],
             [
              0.7777777777777778,
              "#fb9f3a"
             ],
             [
              0.8888888888888888,
              "#fdca26"
             ],
             [
              1,
              "#f0f921"
             ]
            ],
            "type": "heatmapgl"
           }
          ],
          "histogram": [
           {
            "marker": {
             "pattern": {
              "fillmode": "overlay",
              "size": 10,
              "solidity": 0.2
             }
            },
            "type": "histogram"
           }
          ],
          "histogram2d": [
           {
            "colorbar": {
             "outlinewidth": 0,
             "ticks": ""
            },
            "colorscale": [
             [
              0,
              "#0d0887"
             ],
             [
              0.1111111111111111,
              "#46039f"
             ],
             [
              0.2222222222222222,
              "#7201a8"
             ],
             [
              0.3333333333333333,
              "#9c179e"
             ],
             [
              0.4444444444444444,
              "#bd3786"
             ],
             [
              0.5555555555555556,
              "#d8576b"
             ],
             [
              0.6666666666666666,
              "#ed7953"
             ],
             [
              0.7777777777777778,
              "#fb9f3a"
             ],
             [
              0.8888888888888888,
              "#fdca26"
             ],
             [
              1,
              "#f0f921"
             ]
            ],
            "type": "histogram2d"
           }
          ],
          "histogram2dcontour": [
           {
            "colorbar": {
             "outlinewidth": 0,
             "ticks": ""
            },
            "colorscale": [
             [
              0,
              "#0d0887"
             ],
             [
              0.1111111111111111,
              "#46039f"
             ],
             [
              0.2222222222222222,
              "#7201a8"
             ],
             [
              0.3333333333333333,
              "#9c179e"
             ],
             [
              0.4444444444444444,
              "#bd3786"
             ],
             [
              0.5555555555555556,
              "#d8576b"
             ],
             [
              0.6666666666666666,
              "#ed7953"
             ],
             [
              0.7777777777777778,
              "#fb9f3a"
             ],
             [
              0.8888888888888888,
              "#fdca26"
             ],
             [
              1,
              "#f0f921"
             ]
            ],
            "type": "histogram2dcontour"
           }
          ],
          "mesh3d": [
           {
            "colorbar": {
             "outlinewidth": 0,
             "ticks": ""
            },
            "type": "mesh3d"
           }
          ],
          "parcoords": [
           {
            "line": {
             "colorbar": {
              "outlinewidth": 0,
              "ticks": ""
             }
            },
            "type": "parcoords"
           }
          ],
          "pie": [
           {
            "automargin": true,
            "type": "pie"
           }
          ],
          "scatter": [
           {
            "fillpattern": {
             "fillmode": "overlay",
             "size": 10,
             "solidity": 0.2
            },
            "type": "scatter"
           }
          ],
          "scatter3d": [
           {
            "line": {
             "colorbar": {
              "outlinewidth": 0,
              "ticks": ""
             }
            },
            "marker": {
             "colorbar": {
              "outlinewidth": 0,
              "ticks": ""
             }
            },
            "type": "scatter3d"
           }
          ],
          "scattercarpet": [
           {
            "marker": {
             "colorbar": {
              "outlinewidth": 0,
              "ticks": ""
             }
            },
            "type": "scattercarpet"
           }
          ],
          "scattergeo": [
           {
            "marker": {
             "colorbar": {
              "outlinewidth": 0,
              "ticks": ""
             }
            },
            "type": "scattergeo"
           }
          ],
          "scattergl": [
           {
            "marker": {
             "colorbar": {
              "outlinewidth": 0,
              "ticks": ""
             }
            },
            "type": "scattergl"
           }
          ],
          "scattermapbox": [
           {
            "marker": {
             "colorbar": {
              "outlinewidth": 0,
              "ticks": ""
             }
            },
            "type": "scattermapbox"
           }
          ],
          "scatterpolar": [
           {
            "marker": {
             "colorbar": {
              "outlinewidth": 0,
              "ticks": ""
             }
            },
            "type": "scatterpolar"
           }
          ],
          "scatterpolargl": [
           {
            "marker": {
             "colorbar": {
              "outlinewidth": 0,
              "ticks": ""
             }
            },
            "type": "scatterpolargl"
           }
          ],
          "scatterternary": [
           {
            "marker": {
             "colorbar": {
              "outlinewidth": 0,
              "ticks": ""
             }
            },
            "type": "scatterternary"
           }
          ],
          "surface": [
           {
            "colorbar": {
             "outlinewidth": 0,
             "ticks": ""
            },
            "colorscale": [
             [
              0,
              "#0d0887"
             ],
             [
              0.1111111111111111,
              "#46039f"
             ],
             [
              0.2222222222222222,
              "#7201a8"
             ],
             [
              0.3333333333333333,
              "#9c179e"
             ],
             [
              0.4444444444444444,
              "#bd3786"
             ],
             [
              0.5555555555555556,
              "#d8576b"
             ],
             [
              0.6666666666666666,
              "#ed7953"
             ],
             [
              0.7777777777777778,
              "#fb9f3a"
             ],
             [
              0.8888888888888888,
              "#fdca26"
             ],
             [
              1,
              "#f0f921"
             ]
            ],
            "type": "surface"
           }
          ],
          "table": [
           {
            "cells": {
             "fill": {
              "color": "#EBF0F8"
             },
             "line": {
              "color": "white"
             }
            },
            "header": {
             "fill": {
              "color": "#C8D4E3"
             },
             "line": {
              "color": "white"
             }
            },
            "type": "table"
           }
          ]
         },
         "layout": {
          "annotationdefaults": {
           "arrowcolor": "#2a3f5f",
           "arrowhead": 0,
           "arrowwidth": 1
          },
          "autotypenumbers": "strict",
          "coloraxis": {
           "colorbar": {
            "outlinewidth": 0,
            "ticks": ""
           }
          },
          "colorscale": {
           "diverging": [
            [
             0,
             "#8e0152"
            ],
            [
             0.1,
             "#c51b7d"
            ],
            [
             0.2,
             "#de77ae"
            ],
            [
             0.3,
             "#f1b6da"
            ],
            [
             0.4,
             "#fde0ef"
            ],
            [
             0.5,
             "#f7f7f7"
            ],
            [
             0.6,
             "#e6f5d0"
            ],
            [
             0.7,
             "#b8e186"
            ],
            [
             0.8,
             "#7fbc41"
            ],
            [
             0.9,
             "#4d9221"
            ],
            [
             1,
             "#276419"
            ]
           ],
           "sequential": [
            [
             0,
             "#0d0887"
            ],
            [
             0.1111111111111111,
             "#46039f"
            ],
            [
             0.2222222222222222,
             "#7201a8"
            ],
            [
             0.3333333333333333,
             "#9c179e"
            ],
            [
             0.4444444444444444,
             "#bd3786"
            ],
            [
             0.5555555555555556,
             "#d8576b"
            ],
            [
             0.6666666666666666,
             "#ed7953"
            ],
            [
             0.7777777777777778,
             "#fb9f3a"
            ],
            [
             0.8888888888888888,
             "#fdca26"
            ],
            [
             1,
             "#f0f921"
            ]
           ],
           "sequentialminus": [
            [
             0,
             "#0d0887"
            ],
            [
             0.1111111111111111,
             "#46039f"
            ],
            [
             0.2222222222222222,
             "#7201a8"
            ],
            [
             0.3333333333333333,
             "#9c179e"
            ],
            [
             0.4444444444444444,
             "#bd3786"
            ],
            [
             0.5555555555555556,
             "#d8576b"
            ],
            [
             0.6666666666666666,
             "#ed7953"
            ],
            [
             0.7777777777777778,
             "#fb9f3a"
            ],
            [
             0.8888888888888888,
             "#fdca26"
            ],
            [
             1,
             "#f0f921"
            ]
           ]
          },
          "colorway": [
           "#636efa",
           "#EF553B",
           "#00cc96",
           "#ab63fa",
           "#FFA15A",
           "#19d3f3",
           "#FF6692",
           "#B6E880",
           "#FF97FF",
           "#FECB52"
          ],
          "font": {
           "color": "#2a3f5f"
          },
          "geo": {
           "bgcolor": "white",
           "lakecolor": "white",
           "landcolor": "#E5ECF6",
           "showlakes": true,
           "showland": true,
           "subunitcolor": "white"
          },
          "hoverlabel": {
           "align": "left"
          },
          "hovermode": "closest",
          "mapbox": {
           "style": "light"
          },
          "paper_bgcolor": "white",
          "plot_bgcolor": "#E5ECF6",
          "polar": {
           "angularaxis": {
            "gridcolor": "white",
            "linecolor": "white",
            "ticks": ""
           },
           "bgcolor": "#E5ECF6",
           "radialaxis": {
            "gridcolor": "white",
            "linecolor": "white",
            "ticks": ""
           }
          },
          "scene": {
           "xaxis": {
            "backgroundcolor": "#E5ECF6",
            "gridcolor": "white",
            "gridwidth": 2,
            "linecolor": "white",
            "showbackground": true,
            "ticks": "",
            "zerolinecolor": "white"
           },
           "yaxis": {
            "backgroundcolor": "#E5ECF6",
            "gridcolor": "white",
            "gridwidth": 2,
            "linecolor": "white",
            "showbackground": true,
            "ticks": "",
            "zerolinecolor": "white"
           },
           "zaxis": {
            "backgroundcolor": "#E5ECF6",
            "gridcolor": "white",
            "gridwidth": 2,
            "linecolor": "white",
            "showbackground": true,
            "ticks": "",
            "zerolinecolor": "white"
           }
          },
          "shapedefaults": {
           "line": {
            "color": "#2a3f5f"
           }
          },
          "ternary": {
           "aaxis": {
            "gridcolor": "white",
            "linecolor": "white",
            "ticks": ""
           },
           "baxis": {
            "gridcolor": "white",
            "linecolor": "white",
            "ticks": ""
           },
           "bgcolor": "#E5ECF6",
           "caxis": {
            "gridcolor": "white",
            "linecolor": "white",
            "ticks": ""
           }
          },
          "title": {
           "x": 0.05
          },
          "xaxis": {
           "automargin": true,
           "gridcolor": "white",
           "linecolor": "white",
           "ticks": "",
           "title": {
            "standoff": 15
           },
           "zerolinecolor": "white",
           "zerolinewidth": 2
          },
          "yaxis": {
           "automargin": true,
           "gridcolor": "white",
           "linecolor": "white",
           "ticks": "",
           "title": {
            "standoff": 15
           },
           "zerolinecolor": "white",
           "zerolinewidth": 2
          }
         }
        },
        "title": {
         "font": {
          "color": "#4D5663"
         }
        },
        "xaxis": {
         "gridcolor": "#E1E5ED",
         "showgrid": true,
         "tickfont": {
          "color": "#4D5663"
         },
         "title": {
          "font": {
           "color": "#4D5663"
          },
          "text": ""
         },
         "zerolinecolor": "#E1E5ED"
        },
        "yaxis": {
         "gridcolor": "#E1E5ED",
         "showgrid": true,
         "tickfont": {
          "color": "#4D5663"
         },
         "title": {
          "font": {
           "color": "#4D5663"
          },
          "text": ""
         },
         "zerolinecolor": "#E1E5ED"
        }
       }
      },
      "text/html": [
       "<div>                            <div id=\"2268fdf0-031d-417f-8c8a-0f9d7c4cb458\" class=\"plotly-graph-div\" style=\"height:525px; width:100%;\"></div>            <script type=\"text/javascript\">                require([\"plotly\"], function(Plotly) {                    window.PLOTLYENV=window.PLOTLYENV || {};\n",
       "                    window.PLOTLYENV.BASE_URL='https://plot.ly';                                    if (document.getElementById(\"2268fdf0-031d-417f-8c8a-0f9d7c4cb458\")) {                    Plotly.newPlot(                        \"2268fdf0-031d-417f-8c8a-0f9d7c4cb458\",                        [{\"marker\":{\"color\":[\"rgb(255, 153, 51)\",\"rgb(55, 128, 191)\",\"rgb(50, 171, 96)\",\"rgb(128, 0, 128)\",\"rgb(219, 64, 82)\",\"rgb(0, 128, 128)\",\"rgb(255, 255, 51)\",\"rgb(128, 128, 0)\",\"rgb(251, 128, 114)\",\"rgb(128, 177, 211)\"],\"line\":{\"width\":1.3},\"size\":[58,107,50,44,88,66,36,61,46,52,53,79,78,60,76,57,89,75,92,85,87,92,50,100,43,74,83,89,29,86,34,12,98,63,70,53,27,51,69,38,62,41,39,84,13,53,53,71,51,99,75,59,28,49,71,65,67,52,48,31,54,36,58,97,112,44,41,88,23,79,96,43,59,99,80,64,76,56,53,94,49,62,91,103,79,46,59,85,50,60,68,78,80,71,36,73,60,38,90,62],\"symbol\":\"circle\"},\"mode\":\"markers\",\"text\":\"\",\"x\":[-1.7190432325639267,-1.0444212488203901,-1.2281548596652592,-0.1880998649496823,-0.023666518836465148,0.27316113327019337,0.1392557211801331,-0.1494975001196965,-0.3281889047311518,0.7630128577687965,-0.9887978159070222,1.7602940270080043,-0.2443307029648765,0.0605555077267923,0.1608818236220502,1.4725369594926774,0.7975054750093041,-1.2597645955801993,-0.2836042636557704,-1.3410643134511464,-3.082807509142449,0.10040955668920086,0.1190737877344889,-0.5194247208533813,-0.16041717951496873,-0.42019672544201253,-1.04630908270048,-1.0746470636561334,-0.2507817944882134,1.3128743750521201,0.47677732348050544,-0.5016507885943113,-0.407164342153989,-0.4952068718492648,-1.9667141629945057,0.330738501568156,0.8231660176547433,-0.5410515779966526,-0.46213876737850607,0.7763166570459573,-0.6854161078703633,0.9258852531425174,0.4452776659573741,0.1433919156308816,-0.5098633064390098,-1.6418834096841597,-0.9962361443896429,0.22733971103411632,1.8023099350953908,-0.46223753528257855,1.2024043335033523,-0.021680216105745824,-0.11402535562032319,-1.4421018473008114,-1.9768110804667434,0.771427797107187,-1.0961710380387748,0.5565420326255095,-1.2145782582885567,0.30716424383178914,-0.12051682741956476,0.08116981124048986,0.44409374469694546,0.32083407252942153,0.3284735979520984,1.2192042097398912,-0.08975218466167159,-0.7140739603542511,0.4929877565568179,-1.2495573399079385,-0.6551128437891885,-0.8055926026047565,0.9759313697721583,-0.32086986532559747,0.24938951455511105,1.0442989049164786,-0.21363696146902908,0.570467105783283,0.2018693877141919,-0.13677987220970744,1.141767519963179,-0.006674965663933419,-1.4001570009577424,-1.223387694657123,-1.5242392898964017,0.36198253172389483,-1.1542234126310464,-0.0432496695709186,-0.5385172809397573,-0.22561010953102295,-0.8815368257685243,0.03440737070312135,0.380176200295355,0.5451192543663047,2.1009187284632276,1.2262948214107132,-1.1259771549283395,-0.4092797319064413,0.8238088159521023,2.701443028227148],\"y\":[-0.7453650578061853,-0.732485868230905,2.571440856130466,-1.3288014757770887,-0.37571548259490545,1.353542151236892,1.93286073520079,2.0533955712126146,-0.6382279278868261,1.006911855066834,-0.8508485018441402,-0.3345162882904823,0.8196876101635465,-0.5182830042287909,-0.8872208937328169,-0.6977613360071452,0.8329749491099315,1.6278156329603701,-0.5918599160082817,0.5979676482099805,-0.21096248033595624,0.6580358342875058,0.07754165507905827,-0.3918294815826402,-0.12282736170431181,-0.4380063170871286,0.24626681996064265,-0.4750318627570162,-0.2941999491946126,-1.5270439756558192,-0.18562428035420844,-0.5423611512392887,-1.2264486791305123,0.3676093812347672,1.033419704658409,-0.6567831499467796,-0.7032492021918825,-1.1557532341470151,0.5600311571157386,-0.9334259060271239,-0.5989668140682524,-1.3131661082909658,-0.9527241875250738,2.1076321001344995,0.7907645450042046,0.045317753071620864,-0.5422493792125058,0.09857118965031991,0.6052916763925353,-0.392869883278384,-2.1728167312609594,0.19129452413895515,-0.4482696369760158,0.7536670650604307,3.0297697508518535,-1.4843336527711002,0.24516289995024912,-0.07823342244748287,1.8600695154382882,0.1652695904259634,0.5803836626659503,0.23363792298583005,1.9757625435411996,0.2668853669235514,-0.9279029959151173,-0.4834953930206035,-0.6366637869200468,-0.15419250778739807,-1.0199977291771138,0.927786461653511,0.4029687170081699,0.8255307678139705,0.6168162267979052,0.6284463701216723,-1.9754562759861336,-2.104602026931329,0.9544746502463938,-1.0692132136829424,0.7449650141369406,0.34937979315948636,1.2680493437929372,0.45804927462531686,1.5888458959012468,-0.6233348854103765,-0.46910717109893024,-1.9199036442570905,1.8333260115694225,0.44932592617168915,-0.8415764549515934,-1.8682125418564481,-0.11105533756615614,0.17216434633769956,0.6110137590737573,0.8806559097453874,-1.3571457712679595,1.6712324155356806,-0.9400650924848841,-1.2679553064567328,-0.885456193058384,0.22823409955739418],\"type\":\"scatter\"}],                        {\"legend\":{\"bgcolor\":\"#F5F6F9\",\"font\":{\"color\":\"#4D5663\"}},\"paper_bgcolor\":\"#F5F6F9\",\"plot_bgcolor\":\"#F5F6F9\",\"template\":{\"data\":{\"barpolar\":[{\"marker\":{\"line\":{\"color\":\"#E5ECF6\",\"width\":0.5},\"pattern\":{\"fillmode\":\"overlay\",\"size\":10,\"solidity\":0.2}},\"type\":\"barpolar\"}],\"bar\":[{\"error_x\":{\"color\":\"#2a3f5f\"},\"error_y\":{\"color\":\"#2a3f5f\"},\"marker\":{\"line\":{\"color\":\"#E5ECF6\",\"width\":0.5},\"pattern\":{\"fillmode\":\"overlay\",\"size\":10,\"solidity\":0.2}},\"type\":\"bar\"}],\"carpet\":[{\"aaxis\":{\"endlinecolor\":\"#2a3f5f\",\"gridcolor\":\"white\",\"linecolor\":\"white\",\"minorgridcolor\":\"white\",\"startlinecolor\":\"#2a3f5f\"},\"baxis\":{\"endlinecolor\":\"#2a3f5f\",\"gridcolor\":\"white\",\"linecolor\":\"white\",\"minorgridcolor\":\"white\",\"startlinecolor\":\"#2a3f5f\"},\"type\":\"carpet\"}],\"choropleth\":[{\"colorbar\":{\"outlinewidth\":0,\"ticks\":\"\"},\"type\":\"choropleth\"}],\"contourcarpet\":[{\"colorbar\":{\"outlinewidth\":0,\"ticks\":\"\"},\"type\":\"contourcarpet\"}],\"contour\":[{\"colorbar\":{\"outlinewidth\":0,\"ticks\":\"\"},\"colorscale\":[[0.0,\"#0d0887\"],[0.1111111111111111,\"#46039f\"],[0.2222222222222222,\"#7201a8\"],[0.3333333333333333,\"#9c179e\"],[0.4444444444444444,\"#bd3786\"],[0.5555555555555556,\"#d8576b\"],[0.6666666666666666,\"#ed7953\"],[0.7777777777777778,\"#fb9f3a\"],[0.8888888888888888,\"#fdca26\"],[1.0,\"#f0f921\"]],\"type\":\"contour\"}],\"heatmapgl\":[{\"colorbar\":{\"outlinewidth\":0,\"ticks\":\"\"},\"colorscale\":[[0.0,\"#0d0887\"],[0.1111111111111111,\"#46039f\"],[0.2222222222222222,\"#7201a8\"],[0.3333333333333333,\"#9c179e\"],[0.4444444444444444,\"#bd3786\"],[0.5555555555555556,\"#d8576b\"],[0.6666666666666666,\"#ed7953\"],[0.7777777777777778,\"#fb9f3a\"],[0.8888888888888888,\"#fdca26\"],[1.0,\"#f0f921\"]],\"type\":\"heatmapgl\"}],\"heatmap\":[{\"colorbar\":{\"outlinewidth\":0,\"ticks\":\"\"},\"colorscale\":[[0.0,\"#0d0887\"],[0.1111111111111111,\"#46039f\"],[0.2222222222222222,\"#7201a8\"],[0.3333333333333333,\"#9c179e\"],[0.4444444444444444,\"#bd3786\"],[0.5555555555555556,\"#d8576b\"],[0.6666666666666666,\"#ed7953\"],[0.7777777777777778,\"#fb9f3a\"],[0.8888888888888888,\"#fdca26\"],[1.0,\"#f0f921\"]],\"type\":\"heatmap\"}],\"histogram2dcontour\":[{\"colorbar\":{\"outlinewidth\":0,\"ticks\":\"\"},\"colorscale\":[[0.0,\"#0d0887\"],[0.1111111111111111,\"#46039f\"],[0.2222222222222222,\"#7201a8\"],[0.3333333333333333,\"#9c179e\"],[0.4444444444444444,\"#bd3786\"],[0.5555555555555556,\"#d8576b\"],[0.6666666666666666,\"#ed7953\"],[0.7777777777777778,\"#fb9f3a\"],[0.8888888888888888,\"#fdca26\"],[1.0,\"#f0f921\"]],\"type\":\"histogram2dcontour\"}],\"histogram2d\":[{\"colorbar\":{\"outlinewidth\":0,\"ticks\":\"\"},\"colorscale\":[[0.0,\"#0d0887\"],[0.1111111111111111,\"#46039f\"],[0.2222222222222222,\"#7201a8\"],[0.3333333333333333,\"#9c179e\"],[0.4444444444444444,\"#bd3786\"],[0.5555555555555556,\"#d8576b\"],[0.6666666666666666,\"#ed7953\"],[0.7777777777777778,\"#fb9f3a\"],[0.8888888888888888,\"#fdca26\"],[1.0,\"#f0f921\"]],\"type\":\"histogram2d\"}],\"histogram\":[{\"marker\":{\"pattern\":{\"fillmode\":\"overlay\",\"size\":10,\"solidity\":0.2}},\"type\":\"histogram\"}],\"mesh3d\":[{\"colorbar\":{\"outlinewidth\":0,\"ticks\":\"\"},\"type\":\"mesh3d\"}],\"parcoords\":[{\"line\":{\"colorbar\":{\"outlinewidth\":0,\"ticks\":\"\"}},\"type\":\"parcoords\"}],\"pie\":[{\"automargin\":true,\"type\":\"pie\"}],\"scatter3d\":[{\"line\":{\"colorbar\":{\"outlinewidth\":0,\"ticks\":\"\"}},\"marker\":{\"colorbar\":{\"outlinewidth\":0,\"ticks\":\"\"}},\"type\":\"scatter3d\"}],\"scattercarpet\":[{\"marker\":{\"colorbar\":{\"outlinewidth\":0,\"ticks\":\"\"}},\"type\":\"scattercarpet\"}],\"scattergeo\":[{\"marker\":{\"colorbar\":{\"outlinewidth\":0,\"ticks\":\"\"}},\"type\":\"scattergeo\"}],\"scattergl\":[{\"marker\":{\"colorbar\":{\"outlinewidth\":0,\"ticks\":\"\"}},\"type\":\"scattergl\"}],\"scattermapbox\":[{\"marker\":{\"colorbar\":{\"outlinewidth\":0,\"ticks\":\"\"}},\"type\":\"scattermapbox\"}],\"scatterpolargl\":[{\"marker\":{\"colorbar\":{\"outlinewidth\":0,\"ticks\":\"\"}},\"type\":\"scatterpolargl\"}],\"scatterpolar\":[{\"marker\":{\"colorbar\":{\"outlinewidth\":0,\"ticks\":\"\"}},\"type\":\"scatterpolar\"}],\"scatter\":[{\"fillpattern\":{\"fillmode\":\"overlay\",\"size\":10,\"solidity\":0.2},\"type\":\"scatter\"}],\"scatterternary\":[{\"marker\":{\"colorbar\":{\"outlinewidth\":0,\"ticks\":\"\"}},\"type\":\"scatterternary\"}],\"surface\":[{\"colorbar\":{\"outlinewidth\":0,\"ticks\":\"\"},\"colorscale\":[[0.0,\"#0d0887\"],[0.1111111111111111,\"#46039f\"],[0.2222222222222222,\"#7201a8\"],[0.3333333333333333,\"#9c179e\"],[0.4444444444444444,\"#bd3786\"],[0.5555555555555556,\"#d8576b\"],[0.6666666666666666,\"#ed7953\"],[0.7777777777777778,\"#fb9f3a\"],[0.8888888888888888,\"#fdca26\"],[1.0,\"#f0f921\"]],\"type\":\"surface\"}],\"table\":[{\"cells\":{\"fill\":{\"color\":\"#EBF0F8\"},\"line\":{\"color\":\"white\"}},\"header\":{\"fill\":{\"color\":\"#C8D4E3\"},\"line\":{\"color\":\"white\"}},\"type\":\"table\"}]},\"layout\":{\"annotationdefaults\":{\"arrowcolor\":\"#2a3f5f\",\"arrowhead\":0,\"arrowwidth\":1},\"autotypenumbers\":\"strict\",\"coloraxis\":{\"colorbar\":{\"outlinewidth\":0,\"ticks\":\"\"}},\"colorscale\":{\"diverging\":[[0,\"#8e0152\"],[0.1,\"#c51b7d\"],[0.2,\"#de77ae\"],[0.3,\"#f1b6da\"],[0.4,\"#fde0ef\"],[0.5,\"#f7f7f7\"],[0.6,\"#e6f5d0\"],[0.7,\"#b8e186\"],[0.8,\"#7fbc41\"],[0.9,\"#4d9221\"],[1,\"#276419\"]],\"sequential\":[[0.0,\"#0d0887\"],[0.1111111111111111,\"#46039f\"],[0.2222222222222222,\"#7201a8\"],[0.3333333333333333,\"#9c179e\"],[0.4444444444444444,\"#bd3786\"],[0.5555555555555556,\"#d8576b\"],[0.6666666666666666,\"#ed7953\"],[0.7777777777777778,\"#fb9f3a\"],[0.8888888888888888,\"#fdca26\"],[1.0,\"#f0f921\"]],\"sequentialminus\":[[0.0,\"#0d0887\"],[0.1111111111111111,\"#46039f\"],[0.2222222222222222,\"#7201a8\"],[0.3333333333333333,\"#9c179e\"],[0.4444444444444444,\"#bd3786\"],[0.5555555555555556,\"#d8576b\"],[0.6666666666666666,\"#ed7953\"],[0.7777777777777778,\"#fb9f3a\"],[0.8888888888888888,\"#fdca26\"],[1.0,\"#f0f921\"]]},\"colorway\":[\"#636efa\",\"#EF553B\",\"#00cc96\",\"#ab63fa\",\"#FFA15A\",\"#19d3f3\",\"#FF6692\",\"#B6E880\",\"#FF97FF\",\"#FECB52\"],\"font\":{\"color\":\"#2a3f5f\"},\"geo\":{\"bgcolor\":\"white\",\"lakecolor\":\"white\",\"landcolor\":\"#E5ECF6\",\"showlakes\":true,\"showland\":true,\"subunitcolor\":\"white\"},\"hoverlabel\":{\"align\":\"left\"},\"hovermode\":\"closest\",\"mapbox\":{\"style\":\"light\"},\"paper_bgcolor\":\"white\",\"plot_bgcolor\":\"#E5ECF6\",\"polar\":{\"angularaxis\":{\"gridcolor\":\"white\",\"linecolor\":\"white\",\"ticks\":\"\"},\"bgcolor\":\"#E5ECF6\",\"radialaxis\":{\"gridcolor\":\"white\",\"linecolor\":\"white\",\"ticks\":\"\"}},\"scene\":{\"xaxis\":{\"backgroundcolor\":\"#E5ECF6\",\"gridcolor\":\"white\",\"gridwidth\":2,\"linecolor\":\"white\",\"showbackground\":true,\"ticks\":\"\",\"zerolinecolor\":\"white\"},\"yaxis\":{\"backgroundcolor\":\"#E5ECF6\",\"gridcolor\":\"white\",\"gridwidth\":2,\"linecolor\":\"white\",\"showbackground\":true,\"ticks\":\"\",\"zerolinecolor\":\"white\"},\"zaxis\":{\"backgroundcolor\":\"#E5ECF6\",\"gridcolor\":\"white\",\"gridwidth\":2,\"linecolor\":\"white\",\"showbackground\":true,\"ticks\":\"\",\"zerolinecolor\":\"white\"}},\"shapedefaults\":{\"line\":{\"color\":\"#2a3f5f\"}},\"ternary\":{\"aaxis\":{\"gridcolor\":\"white\",\"linecolor\":\"white\",\"ticks\":\"\"},\"baxis\":{\"gridcolor\":\"white\",\"linecolor\":\"white\",\"ticks\":\"\"},\"bgcolor\":\"#E5ECF6\",\"caxis\":{\"gridcolor\":\"white\",\"linecolor\":\"white\",\"ticks\":\"\"}},\"title\":{\"x\":0.05},\"xaxis\":{\"automargin\":true,\"gridcolor\":\"white\",\"linecolor\":\"white\",\"ticks\":\"\",\"title\":{\"standoff\":15},\"zerolinecolor\":\"white\",\"zerolinewidth\":2},\"yaxis\":{\"automargin\":true,\"gridcolor\":\"white\",\"linecolor\":\"white\",\"ticks\":\"\",\"title\":{\"standoff\":15},\"zerolinecolor\":\"white\",\"zerolinewidth\":2}}},\"title\":{\"font\":{\"color\":\"#4D5663\"}},\"xaxis\":{\"gridcolor\":\"#E1E5ED\",\"showgrid\":true,\"tickfont\":{\"color\":\"#4D5663\"},\"title\":{\"font\":{\"color\":\"#4D5663\"},\"text\":\"\"},\"zerolinecolor\":\"#E1E5ED\"},\"yaxis\":{\"gridcolor\":\"#E1E5ED\",\"showgrid\":true,\"tickfont\":{\"color\":\"#4D5663\"},\"title\":{\"font\":{\"color\":\"#4D5663\"},\"text\":\"\"},\"zerolinecolor\":\"#E1E5ED\"}},                        {\"showLink\": true, \"linkText\": \"Export to plot.ly\", \"plotlyServerURL\": \"https://plot.ly\", \"responsive\": true}                    ).then(function(){\n",
       "                            \n",
       "var gd = document.getElementById('2268fdf0-031d-417f-8c8a-0f9d7c4cb458');\n",
       "var x = new MutationObserver(function (mutations, observer) {{\n",
       "        var display = window.getComputedStyle(gd).display;\n",
       "        if (!display || display === 'none') {{\n",
       "            console.log([gd, 'removed!']);\n",
       "            Plotly.purge(gd);\n",
       "            observer.disconnect();\n",
       "        }}\n",
       "}});\n",
       "\n",
       "// Listen for the removal of the full notebook cells\n",
       "var notebookContainer = gd.closest('#notebook-container');\n",
       "if (notebookContainer) {{\n",
       "    x.observe(notebookContainer, {childList: true});\n",
       "}}\n",
       "\n",
       "// Listen for the clearing of the current output cell\n",
       "var outputEl = gd.closest('.output');\n",
       "if (outputEl) {{\n",
       "    x.observe(outputEl, {childList: true});\n",
       "}}\n",
       "\n",
       "                        })                };                });            </script>        </div>"
      ]
     },
     "metadata": {},
     "output_type": "display_data"
    }
   ],
   "source": [
    "df.iplot(kind='bubble',x='A',y='B',size='C')"
   ]
  },
  {
   "cell_type": "markdown",
   "metadata": {},
   "source": [
    "## scatter_matrix()\n",
    "\n",
    "Similar to sns.pairplot()"
   ]
  },
  {
   "cell_type": "code",
   "execution_count": 87,
   "metadata": {
    "collapsed": false
   },
   "outputs": [
    {
     "data": {
      "application/vnd.plotly.v1+json": {
       "config": {
        "linkText": "Export to plot.ly",
        "plotlyServerURL": "https://plot.ly",
        "showLink": true
       },
       "data": [
        {
         "histfunc": "count",
         "histnorm": "",
         "marker": {
          "color": "rgba(255, 153, 51, 1.0)",
          "line": {
           "color": "#4D5663",
           "width": 1.3
          }
         },
         "name": "A",
         "nbinsx": 10,
         "opacity": 0.8,
         "orientation": "v",
         "type": "histogram",
         "x": [
          -1.7190432325639267,
          -1.0444212488203901,
          -1.2281548596652592,
          -0.1880998649496823,
          -0.023666518836465148,
          0.27316113327019337,
          0.1392557211801331,
          -0.1494975001196965,
          -0.3281889047311518,
          0.7630128577687965,
          -0.9887978159070222,
          1.7602940270080043,
          -0.2443307029648765,
          0.0605555077267923,
          0.1608818236220502,
          1.4725369594926774,
          0.7975054750093041,
          -1.2597645955801993,
          -0.2836042636557704,
          -1.3410643134511464,
          -3.082807509142449,
          0.10040955668920086,
          0.1190737877344889,
          -0.5194247208533813,
          -0.16041717951496873,
          -0.42019672544201253,
          -1.04630908270048,
          -1.0746470636561334,
          -0.2507817944882134,
          1.3128743750521201,
          0.47677732348050544,
          -0.5016507885943113,
          -0.407164342153989,
          -0.4952068718492648,
          -1.9667141629945057,
          0.330738501568156,
          0.8231660176547433,
          -0.5410515779966526,
          -0.46213876737850607,
          0.7763166570459573,
          -0.6854161078703633,
          0.9258852531425174,
          0.4452776659573741,
          0.1433919156308816,
          -0.5098633064390098,
          -1.6418834096841597,
          -0.9962361443896429,
          0.22733971103411632,
          1.8023099350953908,
          -0.46223753528257855,
          1.2024043335033523,
          -0.021680216105745824,
          -0.11402535562032319,
          -1.4421018473008114,
          -1.9768110804667434,
          0.771427797107187,
          -1.0961710380387748,
          0.5565420326255095,
          -1.2145782582885567,
          0.30716424383178914,
          -0.12051682741956476,
          0.08116981124048986,
          0.44409374469694546,
          0.32083407252942153,
          0.3284735979520984,
          1.2192042097398912,
          -0.08975218466167159,
          -0.7140739603542511,
          0.4929877565568179,
          -1.2495573399079385,
          -0.6551128437891885,
          -0.8055926026047565,
          0.9759313697721583,
          -0.32086986532559747,
          0.24938951455511105,
          1.0442989049164786,
          -0.21363696146902908,
          0.570467105783283,
          0.2018693877141919,
          -0.13677987220970744,
          1.141767519963179,
          -0.006674965663933419,
          -1.4001570009577424,
          -1.223387694657123,
          -1.5242392898964017,
          0.36198253172389483,
          -1.1542234126310464,
          -0.0432496695709186,
          -0.5385172809397573,
          -0.22561010953102295,
          -0.8815368257685243,
          0.03440737070312135,
          0.380176200295355,
          0.5451192543663047,
          2.1009187284632276,
          1.2262948214107132,
          -1.1259771549283395,
          -0.4092797319064413,
          0.8238088159521023,
          2.701443028227148
         ],
         "xaxis": "x",
         "yaxis": "y"
        },
        {
         "line": {
          "color": "rgba(128, 128, 128, 1.0)",
          "dash": "solid",
          "shape": "linear",
          "width": 1.3
         },
         "marker": {
          "size": 2,
          "symbol": "circle"
         },
         "mode": "markers",
         "name": "A",
         "text": "",
         "type": "scatter",
         "x": [
          -0.7453650578061853,
          -0.732485868230905,
          2.571440856130466,
          -1.3288014757770887,
          -0.37571548259490545,
          1.353542151236892,
          1.93286073520079,
          2.0533955712126146,
          -0.6382279278868261,
          1.006911855066834,
          -0.8508485018441402,
          -0.3345162882904823,
          0.8196876101635465,
          -0.5182830042287909,
          -0.8872208937328169,
          -0.6977613360071452,
          0.8329749491099315,
          1.6278156329603701,
          -0.5918599160082817,
          0.5979676482099805,
          -0.21096248033595624,
          0.6580358342875058,
          0.07754165507905827,
          -0.3918294815826402,
          -0.12282736170431181,
          -0.4380063170871286,
          0.24626681996064265,
          -0.4750318627570162,
          -0.2941999491946126,
          -1.5270439756558192,
          -0.18562428035420844,
          -0.5423611512392887,
          -1.2264486791305123,
          0.3676093812347672,
          1.033419704658409,
          -0.6567831499467796,
          -0.7032492021918825,
          -1.1557532341470151,
          0.5600311571157386,
          -0.9334259060271239,
          -0.5989668140682524,
          -1.3131661082909658,
          -0.9527241875250738,
          2.1076321001344995,
          0.7907645450042046,
          0.045317753071620864,
          -0.5422493792125058,
          0.09857118965031991,
          0.6052916763925353,
          -0.392869883278384,
          -2.1728167312609594,
          0.19129452413895515,
          -0.4482696369760158,
          0.7536670650604307,
          3.0297697508518535,
          -1.4843336527711002,
          0.24516289995024912,
          -0.07823342244748287,
          1.8600695154382882,
          0.1652695904259634,
          0.5803836626659503,
          0.23363792298583005,
          1.9757625435411996,
          0.2668853669235514,
          -0.9279029959151173,
          -0.4834953930206035,
          -0.6366637869200468,
          -0.15419250778739807,
          -1.0199977291771138,
          0.927786461653511,
          0.4029687170081699,
          0.8255307678139705,
          0.6168162267979052,
          0.6284463701216723,
          -1.9754562759861336,
          -2.104602026931329,
          0.9544746502463938,
          -1.0692132136829424,
          0.7449650141369406,
          0.34937979315948636,
          1.2680493437929372,
          0.45804927462531686,
          1.5888458959012468,
          -0.6233348854103765,
          -0.46910717109893024,
          -1.9199036442570905,
          1.8333260115694225,
          0.44932592617168915,
          -0.8415764549515934,
          -1.8682125418564481,
          -0.11105533756615614,
          0.17216434633769956,
          0.6110137590737573,
          0.8806559097453874,
          -1.3571457712679595,
          1.6712324155356806,
          -0.9400650924848841,
          -1.2679553064567328,
          -0.885456193058384,
          0.22823409955739418
         ],
         "xaxis": "x2",
         "y": [
          -1.7190432325639267,
          -1.0444212488203901,
          -1.2281548596652592,
          -0.1880998649496823,
          -0.023666518836465148,
          0.27316113327019337,
          0.1392557211801331,
          -0.1494975001196965,
          -0.3281889047311518,
          0.7630128577687965,
          -0.9887978159070222,
          1.7602940270080043,
          -0.2443307029648765,
          0.0605555077267923,
          0.1608818236220502,
          1.4725369594926774,
          0.7975054750093041,
          -1.2597645955801993,
          -0.2836042636557704,
          -1.3410643134511464,
          -3.082807509142449,
          0.10040955668920086,
          0.1190737877344889,
          -0.5194247208533813,
          -0.16041717951496873,
          -0.42019672544201253,
          -1.04630908270048,
          -1.0746470636561334,
          -0.2507817944882134,
          1.3128743750521201,
          0.47677732348050544,
          -0.5016507885943113,
          -0.407164342153989,
          -0.4952068718492648,
          -1.9667141629945057,
          0.330738501568156,
          0.8231660176547433,
          -0.5410515779966526,
          -0.46213876737850607,
          0.7763166570459573,
          -0.6854161078703633,
          0.9258852531425174,
          0.4452776659573741,
          0.1433919156308816,
          -0.5098633064390098,
          -1.6418834096841597,
          -0.9962361443896429,
          0.22733971103411632,
          1.8023099350953908,
          -0.46223753528257855,
          1.2024043335033523,
          -0.021680216105745824,
          -0.11402535562032319,
          -1.4421018473008114,
          -1.9768110804667434,
          0.771427797107187,
          -1.0961710380387748,
          0.5565420326255095,
          -1.2145782582885567,
          0.30716424383178914,
          -0.12051682741956476,
          0.08116981124048986,
          0.44409374469694546,
          0.32083407252942153,
          0.3284735979520984,
          1.2192042097398912,
          -0.08975218466167159,
          -0.7140739603542511,
          0.4929877565568179,
          -1.2495573399079385,
          -0.6551128437891885,
          -0.8055926026047565,
          0.9759313697721583,
          -0.32086986532559747,
          0.24938951455511105,
          1.0442989049164786,
          -0.21363696146902908,
          0.570467105783283,
          0.2018693877141919,
          -0.13677987220970744,
          1.141767519963179,
          -0.006674965663933419,
          -1.4001570009577424,
          -1.223387694657123,
          -1.5242392898964017,
          0.36198253172389483,
          -1.1542234126310464,
          -0.0432496695709186,
          -0.5385172809397573,
          -0.22561010953102295,
          -0.8815368257685243,
          0.03440737070312135,
          0.380176200295355,
          0.5451192543663047,
          2.1009187284632276,
          1.2262948214107132,
          -1.1259771549283395,
          -0.4092797319064413,
          0.8238088159521023,
          2.701443028227148
         ],
         "yaxis": "y2"
        },
        {
         "line": {
          "color": "rgba(128, 128, 128, 1.0)",
          "dash": "solid",
          "shape": "linear",
          "width": 1.3
         },
         "marker": {
          "size": 2,
          "symbol": "circle"
         },
         "mode": "markers",
         "name": "A",
         "text": "",
         "type": "scatter",
         "x": [
          -0.2749675429277293,
          1.9335738697817635,
          -0.665119830943065,
          -0.9252316804236914,
          1.0778923066152155,
          0.09614114435062843,
          -1.3013861632886932,
          -0.16683601823644134,
          -0.8287054846972015,
          -0.5754212693290882,
          -0.5333213753996034,
          0.670677131854899,
          0.6299184200543384,
          -0.20771670278614038,
          0.5326574703993484,
          -0.335603024423566,
          1.1158322125620264,
          0.465600987062726,
          1.2648695639487362,
          0.9643342871739559,
          1.0121368707060108,
          1.2593190048982323,
          -0.663309963598204,
          1.644255108143534,
          -0.9734410059359437,
          0.4377929440560526,
          0.8412287490834214,
          1.130785939539371,
          -1.6025673570846466,
          1.0058558286498844,
          -1.3754887279084487,
          -2.417982272375856,
          1.5154293905760403,
          -0.0770243980088766,
          0.2518943344359841,
          -0.49834527210663154,
          -1.7223016131675526,
          -0.6071283327981475,
          0.20026527026858776,
          -1.1900577442502676,
          -0.12645879968706566,
          -1.0640645206341206,
          -1.1808148826835738,
          0.9127152879851413,
          -2.3296362911548396,
          -0.5082559735896763,
          -0.523612349427821,
          0.2825608273518654,
          -0.5986937853542252,
          1.5886041083870857,
          0.5077542474050725,
          -0.23080366161010027,
          -1.6616857287890443,
          -0.7108527760230315,
          0.28025870639864114,
          0.032113514679689044,
          0.13641754500856487,
          -0.5508822684203448,
          -0.7516436959296743,
          -1.5120659105433971,
          -0.4930572945673687,
          -1.275143852446616,
          -0.2825458276470288,
          1.4905823434824856,
          2.1551477746808154,
          -0.9310367567773862,
          -1.061054264155902,
          1.0665214541362709,
          -1.8751765830661236,
          0.653153059453366,
          1.4506347515072997,
          -0.9590560765123353,
          -0.24383642257046884,
          1.6048707595410525,
          0.7071398167413696,
          0.004568993411117865,
          0.5129872622888353,
          -0.39286412014569133,
          -0.5221150039952728,
          1.3346594180348332,
          -0.7024981853269824,
          -0.11414500595587583,
          1.2003488756137317,
          1.7493417681494021,
          0.6752143546481547,
          -0.8184935604263186,
          -0.2581829311970378,
          0.9280082927314212,
          -0.6604373754484952,
          -0.18625962628404644,
          0.16822538927592579,
          0.6297523928533115,
          0.6924571249670833,
          0.28395965797574535,
          -1.3144078645262325,
          0.3839284076826824,
          -0.1993281290111844,
          -1.2003550856895944,
          1.1836024206075546,
          -0.12913662513353683
         ],
         "xaxis": "x3",
         "y": [
          -1.7190432325639267,
          -1.0444212488203901,
          -1.2281548596652592,
          -0.1880998649496823,
          -0.023666518836465148,
          0.27316113327019337,
          0.1392557211801331,
          -0.1494975001196965,
          -0.3281889047311518,
          0.7630128577687965,
          -0.9887978159070222,
          1.7602940270080043,
          -0.2443307029648765,
          0.0605555077267923,
          0.1608818236220502,
          1.4725369594926774,
          0.7975054750093041,
          -1.2597645955801993,
          -0.2836042636557704,
          -1.3410643134511464,
          -3.082807509142449,
          0.10040955668920086,
          0.1190737877344889,
          -0.5194247208533813,
          -0.16041717951496873,
          -0.42019672544201253,
          -1.04630908270048,
          -1.0746470636561334,
          -0.2507817944882134,
          1.3128743750521201,
          0.47677732348050544,
          -0.5016507885943113,
          -0.407164342153989,
          -0.4952068718492648,
          -1.9667141629945057,
          0.330738501568156,
          0.8231660176547433,
          -0.5410515779966526,
          -0.46213876737850607,
          0.7763166570459573,
          -0.6854161078703633,
          0.9258852531425174,
          0.4452776659573741,
          0.1433919156308816,
          -0.5098633064390098,
          -1.6418834096841597,
          -0.9962361443896429,
          0.22733971103411632,
          1.8023099350953908,
          -0.46223753528257855,
          1.2024043335033523,
          -0.021680216105745824,
          -0.11402535562032319,
          -1.4421018473008114,
          -1.9768110804667434,
          0.771427797107187,
          -1.0961710380387748,
          0.5565420326255095,
          -1.2145782582885567,
          0.30716424383178914,
          -0.12051682741956476,
          0.08116981124048986,
          0.44409374469694546,
          0.32083407252942153,
          0.3284735979520984,
          1.2192042097398912,
          -0.08975218466167159,
          -0.7140739603542511,
          0.4929877565568179,
          -1.2495573399079385,
          -0.6551128437891885,
          -0.8055926026047565,
          0.9759313697721583,
          -0.32086986532559747,
          0.24938951455511105,
          1.0442989049164786,
          -0.21363696146902908,
          0.570467105783283,
          0.2018693877141919,
          -0.13677987220970744,
          1.141767519963179,
          -0.006674965663933419,
          -1.4001570009577424,
          -1.223387694657123,
          -1.5242392898964017,
          0.36198253172389483,
          -1.1542234126310464,
          -0.0432496695709186,
          -0.5385172809397573,
          -0.22561010953102295,
          -0.8815368257685243,
          0.03440737070312135,
          0.380176200295355,
          0.5451192543663047,
          2.1009187284632276,
          1.2262948214107132,
          -1.1259771549283395,
          -0.4092797319064413,
          0.8238088159521023,
          2.701443028227148
         ],
         "yaxis": "y3"
        },
        {
         "line": {
          "color": "rgba(128, 128, 128, 1.0)",
          "dash": "solid",
          "shape": "linear",
          "width": 1.3
         },
         "marker": {
          "size": 2,
          "symbol": "circle"
         },
         "mode": "markers",
         "name": "A",
         "text": "",
         "type": "scatter",
         "x": [
          0.3607780144857141,
          -1.736483245906638,
          1.370195273582514,
          -1.5718797598932561,
          -0.05756355422800969,
          -0.6772751114683593,
          -0.07529215899163981,
          -0.1452912408818085,
          0.49035405932254233,
          0.30234597945250474,
          0.6842480903876552,
          -0.40599823004490554,
          1.2582020482948042,
          0.21291115134881447,
          -0.015374437747275623,
          0.6390283572173161,
          -0.027764230845340396,
          0.09392743468720419,
          0.2007828003880154,
          0.7914466592262185,
          -0.8818917132934164,
          -0.5354115159200049,
          0.9787343037816126,
          0.9041879207648577,
          0.580346319482985,
          0.5587553277693843,
          -0.5767422132236388,
          1.7041155268185804,
          0.35955119695135196,
          1.4470150968554383,
          0.5709417055446602,
          2.517413082856456,
          -2.41261764029486,
          0.8167752802539817,
          -0.950665900490461,
          0.019441322827203806,
          1.3445172531158445,
          0.09164091168883791,
          -0.9804558464000153,
          0.9950278644440643,
          2.040039457635569,
          0.8233652503576577,
          0.09320935942000907,
          0.7824692929688539,
          -0.033251792009062156,
          0.8309132583341456,
          -2.055074057365009,
          2.3001823769277983,
          1.4735387567281197,
          1.0523117396903963,
          -0.07069267403463227,
          -0.20586395159910603,
          -0.2449212954706954,
          -0.9193848496056759,
          0.8022003396951617,
          -0.4274016250026047,
          -0.8607571099585395,
          -0.12271895141875051,
          -1.0896364079342726,
          0.33004573423334593,
          2.420637688738529,
          0.048025965534223704,
          0.49528546231342674,
          -0.2778627476477282,
          -1.849100950543068,
          -0.0019751977459464398,
          0.2647954570670259,
          -0.62459940196595,
          -0.22351139186585264,
          -0.4726220462557567,
          -1.0175813974574868,
          -0.2703853511514275,
          0.3392617094139369,
          2.3134911319417726,
          0.554213911969139,
          -0.37538440210672497,
          -0.3187688768183547,
          0.9828674479352021,
          -0.7491799245032438,
          -0.9399274251094801,
          -0.1524355810165516,
          0.617404590362444,
          -1.4671006696257103,
          -0.07320755120663704,
          -0.5423822124016995,
          0.6862267390834078,
          0.8431217639131952,
          0.4796437026135891,
          -0.6350121466739759,
          0.003730501791416347,
          -0.10942054044250821,
          1.15951300833599,
          -1.0405210380598184,
          0.6998039483445962,
          -0.3150735159220903,
          -0.7932227671372611,
          0.8005035393487423,
          -1.863356499942961,
          1.779389968330466,
          -0.1498312213827943
         ],
         "xaxis": "x4",
         "y": [
          -1.7190432325639267,
          -1.0444212488203901,
          -1.2281548596652592,
          -0.1880998649496823,
          -0.023666518836465148,
          0.27316113327019337,
          0.1392557211801331,
          -0.1494975001196965,
          -0.3281889047311518,
          0.7630128577687965,
          -0.9887978159070222,
          1.7602940270080043,
          -0.2443307029648765,
          0.0605555077267923,
          0.1608818236220502,
          1.4725369594926774,
          0.7975054750093041,
          -1.2597645955801993,
          -0.2836042636557704,
          -1.3410643134511464,
          -3.082807509142449,
          0.10040955668920086,
          0.1190737877344889,
          -0.5194247208533813,
          -0.16041717951496873,
          -0.42019672544201253,
          -1.04630908270048,
          -1.0746470636561334,
          -0.2507817944882134,
          1.3128743750521201,
          0.47677732348050544,
          -0.5016507885943113,
          -0.407164342153989,
          -0.4952068718492648,
          -1.9667141629945057,
          0.330738501568156,
          0.8231660176547433,
          -0.5410515779966526,
          -0.46213876737850607,
          0.7763166570459573,
          -0.6854161078703633,
          0.9258852531425174,
          0.4452776659573741,
          0.1433919156308816,
          -0.5098633064390098,
          -1.6418834096841597,
          -0.9962361443896429,
          0.22733971103411632,
          1.8023099350953908,
          -0.46223753528257855,
          1.2024043335033523,
          -0.021680216105745824,
          -0.11402535562032319,
          -1.4421018473008114,
          -1.9768110804667434,
          0.771427797107187,
          -1.0961710380387748,
          0.5565420326255095,
          -1.2145782582885567,
          0.30716424383178914,
          -0.12051682741956476,
          0.08116981124048986,
          0.44409374469694546,
          0.32083407252942153,
          0.3284735979520984,
          1.2192042097398912,
          -0.08975218466167159,
          -0.7140739603542511,
          0.4929877565568179,
          -1.2495573399079385,
          -0.6551128437891885,
          -0.8055926026047565,
          0.9759313697721583,
          -0.32086986532559747,
          0.24938951455511105,
          1.0442989049164786,
          -0.21363696146902908,
          0.570467105783283,
          0.2018693877141919,
          -0.13677987220970744,
          1.141767519963179,
          -0.006674965663933419,
          -1.4001570009577424,
          -1.223387694657123,
          -1.5242392898964017,
          0.36198253172389483,
          -1.1542234126310464,
          -0.0432496695709186,
          -0.5385172809397573,
          -0.22561010953102295,
          -0.8815368257685243,
          0.03440737070312135,
          0.380176200295355,
          0.5451192543663047,
          2.1009187284632276,
          1.2262948214107132,
          -1.1259771549283395,
          -0.4092797319064413,
          0.8238088159521023,
          2.701443028227148
         ],
         "yaxis": "y4"
        },
        {
         "line": {
          "color": "rgba(128, 128, 128, 1.0)",
          "dash": "solid",
          "shape": "linear",
          "width": 1.3
         },
         "marker": {
          "size": 2,
          "symbol": "circle"
         },
         "mode": "markers",
         "name": "B",
         "text": "",
         "type": "scatter",
         "x": [
          -1.7190432325639267,
          -1.0444212488203901,
          -1.2281548596652592,
          -0.1880998649496823,
          -0.023666518836465148,
          0.27316113327019337,
          0.1392557211801331,
          -0.1494975001196965,
          -0.3281889047311518,
          0.7630128577687965,
          -0.9887978159070222,
          1.7602940270080043,
          -0.2443307029648765,
          0.0605555077267923,
          0.1608818236220502,
          1.4725369594926774,
          0.7975054750093041,
          -1.2597645955801993,
          -0.2836042636557704,
          -1.3410643134511464,
          -3.082807509142449,
          0.10040955668920086,
          0.1190737877344889,
          -0.5194247208533813,
          -0.16041717951496873,
          -0.42019672544201253,
          -1.04630908270048,
          -1.0746470636561334,
          -0.2507817944882134,
          1.3128743750521201,
          0.47677732348050544,
          -0.5016507885943113,
          -0.407164342153989,
          -0.4952068718492648,
          -1.9667141629945057,
          0.330738501568156,
          0.8231660176547433,
          -0.5410515779966526,
          -0.46213876737850607,
          0.7763166570459573,
          -0.6854161078703633,
          0.9258852531425174,
          0.4452776659573741,
          0.1433919156308816,
          -0.5098633064390098,
          -1.6418834096841597,
          -0.9962361443896429,
          0.22733971103411632,
          1.8023099350953908,
          -0.46223753528257855,
          1.2024043335033523,
          -0.021680216105745824,
          -0.11402535562032319,
          -1.4421018473008114,
          -1.9768110804667434,
          0.771427797107187,
          -1.0961710380387748,
          0.5565420326255095,
          -1.2145782582885567,
          0.30716424383178914,
          -0.12051682741956476,
          0.08116981124048986,
          0.44409374469694546,
          0.32083407252942153,
          0.3284735979520984,
          1.2192042097398912,
          -0.08975218466167159,
          -0.7140739603542511,
          0.4929877565568179,
          -1.2495573399079385,
          -0.6551128437891885,
          -0.8055926026047565,
          0.9759313697721583,
          -0.32086986532559747,
          0.24938951455511105,
          1.0442989049164786,
          -0.21363696146902908,
          0.570467105783283,
          0.2018693877141919,
          -0.13677987220970744,
          1.141767519963179,
          -0.006674965663933419,
          -1.4001570009577424,
          -1.223387694657123,
          -1.5242392898964017,
          0.36198253172389483,
          -1.1542234126310464,
          -0.0432496695709186,
          -0.5385172809397573,
          -0.22561010953102295,
          -0.8815368257685243,
          0.03440737070312135,
          0.380176200295355,
          0.5451192543663047,
          2.1009187284632276,
          1.2262948214107132,
          -1.1259771549283395,
          -0.4092797319064413,
          0.8238088159521023,
          2.701443028227148
         ],
         "xaxis": "x5",
         "y": [
          -0.7453650578061853,
          -0.732485868230905,
          2.571440856130466,
          -1.3288014757770887,
          -0.37571548259490545,
          1.353542151236892,
          1.93286073520079,
          2.0533955712126146,
          -0.6382279278868261,
          1.006911855066834,
          -0.8508485018441402,
          -0.3345162882904823,
          0.8196876101635465,
          -0.5182830042287909,
          -0.8872208937328169,
          -0.6977613360071452,
          0.8329749491099315,
          1.6278156329603701,
          -0.5918599160082817,
          0.5979676482099805,
          -0.21096248033595624,
          0.6580358342875058,
          0.07754165507905827,
          -0.3918294815826402,
          -0.12282736170431181,
          -0.4380063170871286,
          0.24626681996064265,
          -0.4750318627570162,
          -0.2941999491946126,
          -1.5270439756558192,
          -0.18562428035420844,
          -0.5423611512392887,
          -1.2264486791305123,
          0.3676093812347672,
          1.033419704658409,
          -0.6567831499467796,
          -0.7032492021918825,
          -1.1557532341470151,
          0.5600311571157386,
          -0.9334259060271239,
          -0.5989668140682524,
          -1.3131661082909658,
          -0.9527241875250738,
          2.1076321001344995,
          0.7907645450042046,
          0.045317753071620864,
          -0.5422493792125058,
          0.09857118965031991,
          0.6052916763925353,
          -0.392869883278384,
          -2.1728167312609594,
          0.19129452413895515,
          -0.4482696369760158,
          0.7536670650604307,
          3.0297697508518535,
          -1.4843336527711002,
          0.24516289995024912,
          -0.07823342244748287,
          1.8600695154382882,
          0.1652695904259634,
          0.5803836626659503,
          0.23363792298583005,
          1.9757625435411996,
          0.2668853669235514,
          -0.9279029959151173,
          -0.4834953930206035,
          -0.6366637869200468,
          -0.15419250778739807,
          -1.0199977291771138,
          0.927786461653511,
          0.4029687170081699,
          0.8255307678139705,
          0.6168162267979052,
          0.6284463701216723,
          -1.9754562759861336,
          -2.104602026931329,
          0.9544746502463938,
          -1.0692132136829424,
          0.7449650141369406,
          0.34937979315948636,
          1.2680493437929372,
          0.45804927462531686,
          1.5888458959012468,
          -0.6233348854103765,
          -0.46910717109893024,
          -1.9199036442570905,
          1.8333260115694225,
          0.44932592617168915,
          -0.8415764549515934,
          -1.8682125418564481,
          -0.11105533756615614,
          0.17216434633769956,
          0.6110137590737573,
          0.8806559097453874,
          -1.3571457712679595,
          1.6712324155356806,
          -0.9400650924848841,
          -1.2679553064567328,
          -0.885456193058384,
          0.22823409955739418
         ],
         "yaxis": "y5"
        },
        {
         "histfunc": "count",
         "histnorm": "",
         "marker": {
          "color": "rgba(55, 128, 191, 1.0)",
          "line": {
           "color": "#4D5663",
           "width": 1.3
          }
         },
         "name": "B",
         "nbinsx": 10,
         "opacity": 0.8,
         "orientation": "v",
         "type": "histogram",
         "x": [
          -0.7453650578061853,
          -0.732485868230905,
          2.571440856130466,
          -1.3288014757770887,
          -0.37571548259490545,
          1.353542151236892,
          1.93286073520079,
          2.0533955712126146,
          -0.6382279278868261,
          1.006911855066834,
          -0.8508485018441402,
          -0.3345162882904823,
          0.8196876101635465,
          -0.5182830042287909,
          -0.8872208937328169,
          -0.6977613360071452,
          0.8329749491099315,
          1.6278156329603701,
          -0.5918599160082817,
          0.5979676482099805,
          -0.21096248033595624,
          0.6580358342875058,
          0.07754165507905827,
          -0.3918294815826402,
          -0.12282736170431181,
          -0.4380063170871286,
          0.24626681996064265,
          -0.4750318627570162,
          -0.2941999491946126,
          -1.5270439756558192,
          -0.18562428035420844,
          -0.5423611512392887,
          -1.2264486791305123,
          0.3676093812347672,
          1.033419704658409,
          -0.6567831499467796,
          -0.7032492021918825,
          -1.1557532341470151,
          0.5600311571157386,
          -0.9334259060271239,
          -0.5989668140682524,
          -1.3131661082909658,
          -0.9527241875250738,
          2.1076321001344995,
          0.7907645450042046,
          0.045317753071620864,
          -0.5422493792125058,
          0.09857118965031991,
          0.6052916763925353,
          -0.392869883278384,
          -2.1728167312609594,
          0.19129452413895515,
          -0.4482696369760158,
          0.7536670650604307,
          3.0297697508518535,
          -1.4843336527711002,
          0.24516289995024912,
          -0.07823342244748287,
          1.8600695154382882,
          0.1652695904259634,
          0.5803836626659503,
          0.23363792298583005,
          1.9757625435411996,
          0.2668853669235514,
          -0.9279029959151173,
          -0.4834953930206035,
          -0.6366637869200468,
          -0.15419250778739807,
          -1.0199977291771138,
          0.927786461653511,
          0.4029687170081699,
          0.8255307678139705,
          0.6168162267979052,
          0.6284463701216723,
          -1.9754562759861336,
          -2.104602026931329,
          0.9544746502463938,
          -1.0692132136829424,
          0.7449650141369406,
          0.34937979315948636,
          1.2680493437929372,
          0.45804927462531686,
          1.5888458959012468,
          -0.6233348854103765,
          -0.46910717109893024,
          -1.9199036442570905,
          1.8333260115694225,
          0.44932592617168915,
          -0.8415764549515934,
          -1.8682125418564481,
          -0.11105533756615614,
          0.17216434633769956,
          0.6110137590737573,
          0.8806559097453874,
          -1.3571457712679595,
          1.6712324155356806,
          -0.9400650924848841,
          -1.2679553064567328,
          -0.885456193058384,
          0.22823409955739418
         ],
         "xaxis": "x6",
         "yaxis": "y6"
        },
        {
         "line": {
          "color": "rgba(128, 128, 128, 1.0)",
          "dash": "solid",
          "shape": "linear",
          "width": 1.3
         },
         "marker": {
          "size": 2,
          "symbol": "circle"
         },
         "mode": "markers",
         "name": "B",
         "text": "",
         "type": "scatter",
         "x": [
          -0.2749675429277293,
          1.9335738697817635,
          -0.665119830943065,
          -0.9252316804236914,
          1.0778923066152155,
          0.09614114435062843,
          -1.3013861632886932,
          -0.16683601823644134,
          -0.8287054846972015,
          -0.5754212693290882,
          -0.5333213753996034,
          0.670677131854899,
          0.6299184200543384,
          -0.20771670278614038,
          0.5326574703993484,
          -0.335603024423566,
          1.1158322125620264,
          0.465600987062726,
          1.2648695639487362,
          0.9643342871739559,
          1.0121368707060108,
          1.2593190048982323,
          -0.663309963598204,
          1.644255108143534,
          -0.9734410059359437,
          0.4377929440560526,
          0.8412287490834214,
          1.130785939539371,
          -1.6025673570846466,
          1.0058558286498844,
          -1.3754887279084487,
          -2.417982272375856,
          1.5154293905760403,
          -0.0770243980088766,
          0.2518943344359841,
          -0.49834527210663154,
          -1.7223016131675526,
          -0.6071283327981475,
          0.20026527026858776,
          -1.1900577442502676,
          -0.12645879968706566,
          -1.0640645206341206,
          -1.1808148826835738,
          0.9127152879851413,
          -2.3296362911548396,
          -0.5082559735896763,
          -0.523612349427821,
          0.2825608273518654,
          -0.5986937853542252,
          1.5886041083870857,
          0.5077542474050725,
          -0.23080366161010027,
          -1.6616857287890443,
          -0.7108527760230315,
          0.28025870639864114,
          0.032113514679689044,
          0.13641754500856487,
          -0.5508822684203448,
          -0.7516436959296743,
          -1.5120659105433971,
          -0.4930572945673687,
          -1.275143852446616,
          -0.2825458276470288,
          1.4905823434824856,
          2.1551477746808154,
          -0.9310367567773862,
          -1.061054264155902,
          1.0665214541362709,
          -1.8751765830661236,
          0.653153059453366,
          1.4506347515072997,
          -0.9590560765123353,
          -0.24383642257046884,
          1.6048707595410525,
          0.7071398167413696,
          0.004568993411117865,
          0.5129872622888353,
          -0.39286412014569133,
          -0.5221150039952728,
          1.3346594180348332,
          -0.7024981853269824,
          -0.11414500595587583,
          1.2003488756137317,
          1.7493417681494021,
          0.6752143546481547,
          -0.8184935604263186,
          -0.2581829311970378,
          0.9280082927314212,
          -0.6604373754484952,
          -0.18625962628404644,
          0.16822538927592579,
          0.6297523928533115,
          0.6924571249670833,
          0.28395965797574535,
          -1.3144078645262325,
          0.3839284076826824,
          -0.1993281290111844,
          -1.2003550856895944,
          1.1836024206075546,
          -0.12913662513353683
         ],
         "xaxis": "x7",
         "y": [
          -0.7453650578061853,
          -0.732485868230905,
          2.571440856130466,
          -1.3288014757770887,
          -0.37571548259490545,
          1.353542151236892,
          1.93286073520079,
          2.0533955712126146,
          -0.6382279278868261,
          1.006911855066834,
          -0.8508485018441402,
          -0.3345162882904823,
          0.8196876101635465,
          -0.5182830042287909,
          -0.8872208937328169,
          -0.6977613360071452,
          0.8329749491099315,
          1.6278156329603701,
          -0.5918599160082817,
          0.5979676482099805,
          -0.21096248033595624,
          0.6580358342875058,
          0.07754165507905827,
          -0.3918294815826402,
          -0.12282736170431181,
          -0.4380063170871286,
          0.24626681996064265,
          -0.4750318627570162,
          -0.2941999491946126,
          -1.5270439756558192,
          -0.18562428035420844,
          -0.5423611512392887,
          -1.2264486791305123,
          0.3676093812347672,
          1.033419704658409,
          -0.6567831499467796,
          -0.7032492021918825,
          -1.1557532341470151,
          0.5600311571157386,
          -0.9334259060271239,
          -0.5989668140682524,
          -1.3131661082909658,
          -0.9527241875250738,
          2.1076321001344995,
          0.7907645450042046,
          0.045317753071620864,
          -0.5422493792125058,
          0.09857118965031991,
          0.6052916763925353,
          -0.392869883278384,
          -2.1728167312609594,
          0.19129452413895515,
          -0.4482696369760158,
          0.7536670650604307,
          3.0297697508518535,
          -1.4843336527711002,
          0.24516289995024912,
          -0.07823342244748287,
          1.8600695154382882,
          0.1652695904259634,
          0.5803836626659503,
          0.23363792298583005,
          1.9757625435411996,
          0.2668853669235514,
          -0.9279029959151173,
          -0.4834953930206035,
          -0.6366637869200468,
          -0.15419250778739807,
          -1.0199977291771138,
          0.927786461653511,
          0.4029687170081699,
          0.8255307678139705,
          0.6168162267979052,
          0.6284463701216723,
          -1.9754562759861336,
          -2.104602026931329,
          0.9544746502463938,
          -1.0692132136829424,
          0.7449650141369406,
          0.34937979315948636,
          1.2680493437929372,
          0.45804927462531686,
          1.5888458959012468,
          -0.6233348854103765,
          -0.46910717109893024,
          -1.9199036442570905,
          1.8333260115694225,
          0.44932592617168915,
          -0.8415764549515934,
          -1.8682125418564481,
          -0.11105533756615614,
          0.17216434633769956,
          0.6110137590737573,
          0.8806559097453874,
          -1.3571457712679595,
          1.6712324155356806,
          -0.9400650924848841,
          -1.2679553064567328,
          -0.885456193058384,
          0.22823409955739418
         ],
         "yaxis": "y7"
        },
        {
         "line": {
          "color": "rgba(128, 128, 128, 1.0)",
          "dash": "solid",
          "shape": "linear",
          "width": 1.3
         },
         "marker": {
          "size": 2,
          "symbol": "circle"
         },
         "mode": "markers",
         "name": "B",
         "text": "",
         "type": "scatter",
         "x": [
          0.3607780144857141,
          -1.736483245906638,
          1.370195273582514,
          -1.5718797598932561,
          -0.05756355422800969,
          -0.6772751114683593,
          -0.07529215899163981,
          -0.1452912408818085,
          0.49035405932254233,
          0.30234597945250474,
          0.6842480903876552,
          -0.40599823004490554,
          1.2582020482948042,
          0.21291115134881447,
          -0.015374437747275623,
          0.6390283572173161,
          -0.027764230845340396,
          0.09392743468720419,
          0.2007828003880154,
          0.7914466592262185,
          -0.8818917132934164,
          -0.5354115159200049,
          0.9787343037816126,
          0.9041879207648577,
          0.580346319482985,
          0.5587553277693843,
          -0.5767422132236388,
          1.7041155268185804,
          0.35955119695135196,
          1.4470150968554383,
          0.5709417055446602,
          2.517413082856456,
          -2.41261764029486,
          0.8167752802539817,
          -0.950665900490461,
          0.019441322827203806,
          1.3445172531158445,
          0.09164091168883791,
          -0.9804558464000153,
          0.9950278644440643,
          2.040039457635569,
          0.8233652503576577,
          0.09320935942000907,
          0.7824692929688539,
          -0.033251792009062156,
          0.8309132583341456,
          -2.055074057365009,
          2.3001823769277983,
          1.4735387567281197,
          1.0523117396903963,
          -0.07069267403463227,
          -0.20586395159910603,
          -0.2449212954706954,
          -0.9193848496056759,
          0.8022003396951617,
          -0.4274016250026047,
          -0.8607571099585395,
          -0.12271895141875051,
          -1.0896364079342726,
          0.33004573423334593,
          2.420637688738529,
          0.048025965534223704,
          0.49528546231342674,
          -0.2778627476477282,
          -1.849100950543068,
          -0.0019751977459464398,
          0.2647954570670259,
          -0.62459940196595,
          -0.22351139186585264,
          -0.4726220462557567,
          -1.0175813974574868,
          -0.2703853511514275,
          0.3392617094139369,
          2.3134911319417726,
          0.554213911969139,
          -0.37538440210672497,
          -0.3187688768183547,
          0.9828674479352021,
          -0.7491799245032438,
          -0.9399274251094801,
          -0.1524355810165516,
          0.617404590362444,
          -1.4671006696257103,
          -0.07320755120663704,
          -0.5423822124016995,
          0.6862267390834078,
          0.8431217639131952,
          0.4796437026135891,
          -0.6350121466739759,
          0.003730501791416347,
          -0.10942054044250821,
          1.15951300833599,
          -1.0405210380598184,
          0.6998039483445962,
          -0.3150735159220903,
          -0.7932227671372611,
          0.8005035393487423,
          -1.863356499942961,
          1.779389968330466,
          -0.1498312213827943
         ],
         "xaxis": "x8",
         "y": [
          -0.7453650578061853,
          -0.732485868230905,
          2.571440856130466,
          -1.3288014757770887,
          -0.37571548259490545,
          1.353542151236892,
          1.93286073520079,
          2.0533955712126146,
          -0.6382279278868261,
          1.006911855066834,
          -0.8508485018441402,
          -0.3345162882904823,
          0.8196876101635465,
          -0.5182830042287909,
          -0.8872208937328169,
          -0.6977613360071452,
          0.8329749491099315,
          1.6278156329603701,
          -0.5918599160082817,
          0.5979676482099805,
          -0.21096248033595624,
          0.6580358342875058,
          0.07754165507905827,
          -0.3918294815826402,
          -0.12282736170431181,
          -0.4380063170871286,
          0.24626681996064265,
          -0.4750318627570162,
          -0.2941999491946126,
          -1.5270439756558192,
          -0.18562428035420844,
          -0.5423611512392887,
          -1.2264486791305123,
          0.3676093812347672,
          1.033419704658409,
          -0.6567831499467796,
          -0.7032492021918825,
          -1.1557532341470151,
          0.5600311571157386,
          -0.9334259060271239,
          -0.5989668140682524,
          -1.3131661082909658,
          -0.9527241875250738,
          2.1076321001344995,
          0.7907645450042046,
          0.045317753071620864,
          -0.5422493792125058,
          0.09857118965031991,
          0.6052916763925353,
          -0.392869883278384,
          -2.1728167312609594,
          0.19129452413895515,
          -0.4482696369760158,
          0.7536670650604307,
          3.0297697508518535,
          -1.4843336527711002,
          0.24516289995024912,
          -0.07823342244748287,
          1.8600695154382882,
          0.1652695904259634,
          0.5803836626659503,
          0.23363792298583005,
          1.9757625435411996,
          0.2668853669235514,
          -0.9279029959151173,
          -0.4834953930206035,
          -0.6366637869200468,
          -0.15419250778739807,
          -1.0199977291771138,
          0.927786461653511,
          0.4029687170081699,
          0.8255307678139705,
          0.6168162267979052,
          0.6284463701216723,
          -1.9754562759861336,
          -2.104602026931329,
          0.9544746502463938,
          -1.0692132136829424,
          0.7449650141369406,
          0.34937979315948636,
          1.2680493437929372,
          0.45804927462531686,
          1.5888458959012468,
          -0.6233348854103765,
          -0.46910717109893024,
          -1.9199036442570905,
          1.8333260115694225,
          0.44932592617168915,
          -0.8415764549515934,
          -1.8682125418564481,
          -0.11105533756615614,
          0.17216434633769956,
          0.6110137590737573,
          0.8806559097453874,
          -1.3571457712679595,
          1.6712324155356806,
          -0.9400650924848841,
          -1.2679553064567328,
          -0.885456193058384,
          0.22823409955739418
         ],
         "yaxis": "y8"
        },
        {
         "line": {
          "color": "rgba(128, 128, 128, 1.0)",
          "dash": "solid",
          "shape": "linear",
          "width": 1.3
         },
         "marker": {
          "size": 2,
          "symbol": "circle"
         },
         "mode": "markers",
         "name": "C",
         "text": "",
         "type": "scatter",
         "x": [
          -1.7190432325639267,
          -1.0444212488203901,
          -1.2281548596652592,
          -0.1880998649496823,
          -0.023666518836465148,
          0.27316113327019337,
          0.1392557211801331,
          -0.1494975001196965,
          -0.3281889047311518,
          0.7630128577687965,
          -0.9887978159070222,
          1.7602940270080043,
          -0.2443307029648765,
          0.0605555077267923,
          0.1608818236220502,
          1.4725369594926774,
          0.7975054750093041,
          -1.2597645955801993,
          -0.2836042636557704,
          -1.3410643134511464,
          -3.082807509142449,
          0.10040955668920086,
          0.1190737877344889,
          -0.5194247208533813,
          -0.16041717951496873,
          -0.42019672544201253,
          -1.04630908270048,
          -1.0746470636561334,
          -0.2507817944882134,
          1.3128743750521201,
          0.47677732348050544,
          -0.5016507885943113,
          -0.407164342153989,
          -0.4952068718492648,
          -1.9667141629945057,
          0.330738501568156,
          0.8231660176547433,
          -0.5410515779966526,
          -0.46213876737850607,
          0.7763166570459573,
          -0.6854161078703633,
          0.9258852531425174,
          0.4452776659573741,
          0.1433919156308816,
          -0.5098633064390098,
          -1.6418834096841597,
          -0.9962361443896429,
          0.22733971103411632,
          1.8023099350953908,
          -0.46223753528257855,
          1.2024043335033523,
          -0.021680216105745824,
          -0.11402535562032319,
          -1.4421018473008114,
          -1.9768110804667434,
          0.771427797107187,
          -1.0961710380387748,
          0.5565420326255095,
          -1.2145782582885567,
          0.30716424383178914,
          -0.12051682741956476,
          0.08116981124048986,
          0.44409374469694546,
          0.32083407252942153,
          0.3284735979520984,
          1.2192042097398912,
          -0.08975218466167159,
          -0.7140739603542511,
          0.4929877565568179,
          -1.2495573399079385,
          -0.6551128437891885,
          -0.8055926026047565,
          0.9759313697721583,
          -0.32086986532559747,
          0.24938951455511105,
          1.0442989049164786,
          -0.21363696146902908,
          0.570467105783283,
          0.2018693877141919,
          -0.13677987220970744,
          1.141767519963179,
          -0.006674965663933419,
          -1.4001570009577424,
          -1.223387694657123,
          -1.5242392898964017,
          0.36198253172389483,
          -1.1542234126310464,
          -0.0432496695709186,
          -0.5385172809397573,
          -0.22561010953102295,
          -0.8815368257685243,
          0.03440737070312135,
          0.380176200295355,
          0.5451192543663047,
          2.1009187284632276,
          1.2262948214107132,
          -1.1259771549283395,
          -0.4092797319064413,
          0.8238088159521023,
          2.701443028227148
         ],
         "xaxis": "x9",
         "y": [
          -0.2749675429277293,
          1.9335738697817635,
          -0.665119830943065,
          -0.9252316804236914,
          1.0778923066152155,
          0.09614114435062843,
          -1.3013861632886932,
          -0.16683601823644134,
          -0.8287054846972015,
          -0.5754212693290882,
          -0.5333213753996034,
          0.670677131854899,
          0.6299184200543384,
          -0.20771670278614038,
          0.5326574703993484,
          -0.335603024423566,
          1.1158322125620264,
          0.465600987062726,
          1.2648695639487362,
          0.9643342871739559,
          1.0121368707060108,
          1.2593190048982323,
          -0.663309963598204,
          1.644255108143534,
          -0.9734410059359437,
          0.4377929440560526,
          0.8412287490834214,
          1.130785939539371,
          -1.6025673570846466,
          1.0058558286498844,
          -1.3754887279084487,
          -2.417982272375856,
          1.5154293905760403,
          -0.0770243980088766,
          0.2518943344359841,
          -0.49834527210663154,
          -1.7223016131675526,
          -0.6071283327981475,
          0.20026527026858776,
          -1.1900577442502676,
          -0.12645879968706566,
          -1.0640645206341206,
          -1.1808148826835738,
          0.9127152879851413,
          -2.3296362911548396,
          -0.5082559735896763,
          -0.523612349427821,
          0.2825608273518654,
          -0.5986937853542252,
          1.5886041083870857,
          0.5077542474050725,
          -0.23080366161010027,
          -1.6616857287890443,
          -0.7108527760230315,
          0.28025870639864114,
          0.032113514679689044,
          0.13641754500856487,
          -0.5508822684203448,
          -0.7516436959296743,
          -1.5120659105433971,
          -0.4930572945673687,
          -1.275143852446616,
          -0.2825458276470288,
          1.4905823434824856,
          2.1551477746808154,
          -0.9310367567773862,
          -1.061054264155902,
          1.0665214541362709,
          -1.8751765830661236,
          0.653153059453366,
          1.4506347515072997,
          -0.9590560765123353,
          -0.24383642257046884,
          1.6048707595410525,
          0.7071398167413696,
          0.004568993411117865,
          0.5129872622888353,
          -0.39286412014569133,
          -0.5221150039952728,
          1.3346594180348332,
          -0.7024981853269824,
          -0.11414500595587583,
          1.2003488756137317,
          1.7493417681494021,
          0.6752143546481547,
          -0.8184935604263186,
          -0.2581829311970378,
          0.9280082927314212,
          -0.6604373754484952,
          -0.18625962628404644,
          0.16822538927592579,
          0.6297523928533115,
          0.6924571249670833,
          0.28395965797574535,
          -1.3144078645262325,
          0.3839284076826824,
          -0.1993281290111844,
          -1.2003550856895944,
          1.1836024206075546,
          -0.12913662513353683
         ],
         "yaxis": "y9"
        },
        {
         "line": {
          "color": "rgba(128, 128, 128, 1.0)",
          "dash": "solid",
          "shape": "linear",
          "width": 1.3
         },
         "marker": {
          "size": 2,
          "symbol": "circle"
         },
         "mode": "markers",
         "name": "C",
         "text": "",
         "type": "scatter",
         "x": [
          -0.7453650578061853,
          -0.732485868230905,
          2.571440856130466,
          -1.3288014757770887,
          -0.37571548259490545,
          1.353542151236892,
          1.93286073520079,
          2.0533955712126146,
          -0.6382279278868261,
          1.006911855066834,
          -0.8508485018441402,
          -0.3345162882904823,
          0.8196876101635465,
          -0.5182830042287909,
          -0.8872208937328169,
          -0.6977613360071452,
          0.8329749491099315,
          1.6278156329603701,
          -0.5918599160082817,
          0.5979676482099805,
          -0.21096248033595624,
          0.6580358342875058,
          0.07754165507905827,
          -0.3918294815826402,
          -0.12282736170431181,
          -0.4380063170871286,
          0.24626681996064265,
          -0.4750318627570162,
          -0.2941999491946126,
          -1.5270439756558192,
          -0.18562428035420844,
          -0.5423611512392887,
          -1.2264486791305123,
          0.3676093812347672,
          1.033419704658409,
          -0.6567831499467796,
          -0.7032492021918825,
          -1.1557532341470151,
          0.5600311571157386,
          -0.9334259060271239,
          -0.5989668140682524,
          -1.3131661082909658,
          -0.9527241875250738,
          2.1076321001344995,
          0.7907645450042046,
          0.045317753071620864,
          -0.5422493792125058,
          0.09857118965031991,
          0.6052916763925353,
          -0.392869883278384,
          -2.1728167312609594,
          0.19129452413895515,
          -0.4482696369760158,
          0.7536670650604307,
          3.0297697508518535,
          -1.4843336527711002,
          0.24516289995024912,
          -0.07823342244748287,
          1.8600695154382882,
          0.1652695904259634,
          0.5803836626659503,
          0.23363792298583005,
          1.9757625435411996,
          0.2668853669235514,
          -0.9279029959151173,
          -0.4834953930206035,
          -0.6366637869200468,
          -0.15419250778739807,
          -1.0199977291771138,
          0.927786461653511,
          0.4029687170081699,
          0.8255307678139705,
          0.6168162267979052,
          0.6284463701216723,
          -1.9754562759861336,
          -2.104602026931329,
          0.9544746502463938,
          -1.0692132136829424,
          0.7449650141369406,
          0.34937979315948636,
          1.2680493437929372,
          0.45804927462531686,
          1.5888458959012468,
          -0.6233348854103765,
          -0.46910717109893024,
          -1.9199036442570905,
          1.8333260115694225,
          0.44932592617168915,
          -0.8415764549515934,
          -1.8682125418564481,
          -0.11105533756615614,
          0.17216434633769956,
          0.6110137590737573,
          0.8806559097453874,
          -1.3571457712679595,
          1.6712324155356806,
          -0.9400650924848841,
          -1.2679553064567328,
          -0.885456193058384,
          0.22823409955739418
         ],
         "xaxis": "x10",
         "y": [
          -0.2749675429277293,
          1.9335738697817635,
          -0.665119830943065,
          -0.9252316804236914,
          1.0778923066152155,
          0.09614114435062843,
          -1.3013861632886932,
          -0.16683601823644134,
          -0.8287054846972015,
          -0.5754212693290882,
          -0.5333213753996034,
          0.670677131854899,
          0.6299184200543384,
          -0.20771670278614038,
          0.5326574703993484,
          -0.335603024423566,
          1.1158322125620264,
          0.465600987062726,
          1.2648695639487362,
          0.9643342871739559,
          1.0121368707060108,
          1.2593190048982323,
          -0.663309963598204,
          1.644255108143534,
          -0.9734410059359437,
          0.4377929440560526,
          0.8412287490834214,
          1.130785939539371,
          -1.6025673570846466,
          1.0058558286498844,
          -1.3754887279084487,
          -2.417982272375856,
          1.5154293905760403,
          -0.0770243980088766,
          0.2518943344359841,
          -0.49834527210663154,
          -1.7223016131675526,
          -0.6071283327981475,
          0.20026527026858776,
          -1.1900577442502676,
          -0.12645879968706566,
          -1.0640645206341206,
          -1.1808148826835738,
          0.9127152879851413,
          -2.3296362911548396,
          -0.5082559735896763,
          -0.523612349427821,
          0.2825608273518654,
          -0.5986937853542252,
          1.5886041083870857,
          0.5077542474050725,
          -0.23080366161010027,
          -1.6616857287890443,
          -0.7108527760230315,
          0.28025870639864114,
          0.032113514679689044,
          0.13641754500856487,
          -0.5508822684203448,
          -0.7516436959296743,
          -1.5120659105433971,
          -0.4930572945673687,
          -1.275143852446616,
          -0.2825458276470288,
          1.4905823434824856,
          2.1551477746808154,
          -0.9310367567773862,
          -1.061054264155902,
          1.0665214541362709,
          -1.8751765830661236,
          0.653153059453366,
          1.4506347515072997,
          -0.9590560765123353,
          -0.24383642257046884,
          1.6048707595410525,
          0.7071398167413696,
          0.004568993411117865,
          0.5129872622888353,
          -0.39286412014569133,
          -0.5221150039952728,
          1.3346594180348332,
          -0.7024981853269824,
          -0.11414500595587583,
          1.2003488756137317,
          1.7493417681494021,
          0.6752143546481547,
          -0.8184935604263186,
          -0.2581829311970378,
          0.9280082927314212,
          -0.6604373754484952,
          -0.18625962628404644,
          0.16822538927592579,
          0.6297523928533115,
          0.6924571249670833,
          0.28395965797574535,
          -1.3144078645262325,
          0.3839284076826824,
          -0.1993281290111844,
          -1.2003550856895944,
          1.1836024206075546,
          -0.12913662513353683
         ],
         "yaxis": "y10"
        },
        {
         "histfunc": "count",
         "histnorm": "",
         "marker": {
          "color": "rgba(50, 171, 96, 1.0)",
          "line": {
           "color": "#4D5663",
           "width": 1.3
          }
         },
         "name": "C",
         "nbinsx": 10,
         "opacity": 0.8,
         "orientation": "v",
         "type": "histogram",
         "x": [
          -0.2749675429277293,
          1.9335738697817635,
          -0.665119830943065,
          -0.9252316804236914,
          1.0778923066152155,
          0.09614114435062843,
          -1.3013861632886932,
          -0.16683601823644134,
          -0.8287054846972015,
          -0.5754212693290882,
          -0.5333213753996034,
          0.670677131854899,
          0.6299184200543384,
          -0.20771670278614038,
          0.5326574703993484,
          -0.335603024423566,
          1.1158322125620264,
          0.465600987062726,
          1.2648695639487362,
          0.9643342871739559,
          1.0121368707060108,
          1.2593190048982323,
          -0.663309963598204,
          1.644255108143534,
          -0.9734410059359437,
          0.4377929440560526,
          0.8412287490834214,
          1.130785939539371,
          -1.6025673570846466,
          1.0058558286498844,
          -1.3754887279084487,
          -2.417982272375856,
          1.5154293905760403,
          -0.0770243980088766,
          0.2518943344359841,
          -0.49834527210663154,
          -1.7223016131675526,
          -0.6071283327981475,
          0.20026527026858776,
          -1.1900577442502676,
          -0.12645879968706566,
          -1.0640645206341206,
          -1.1808148826835738,
          0.9127152879851413,
          -2.3296362911548396,
          -0.5082559735896763,
          -0.523612349427821,
          0.2825608273518654,
          -0.5986937853542252,
          1.5886041083870857,
          0.5077542474050725,
          -0.23080366161010027,
          -1.6616857287890443,
          -0.7108527760230315,
          0.28025870639864114,
          0.032113514679689044,
          0.13641754500856487,
          -0.5508822684203448,
          -0.7516436959296743,
          -1.5120659105433971,
          -0.4930572945673687,
          -1.275143852446616,
          -0.2825458276470288,
          1.4905823434824856,
          2.1551477746808154,
          -0.9310367567773862,
          -1.061054264155902,
          1.0665214541362709,
          -1.8751765830661236,
          0.653153059453366,
          1.4506347515072997,
          -0.9590560765123353,
          -0.24383642257046884,
          1.6048707595410525,
          0.7071398167413696,
          0.004568993411117865,
          0.5129872622888353,
          -0.39286412014569133,
          -0.5221150039952728,
          1.3346594180348332,
          -0.7024981853269824,
          -0.11414500595587583,
          1.2003488756137317,
          1.7493417681494021,
          0.6752143546481547,
          -0.8184935604263186,
          -0.2581829311970378,
          0.9280082927314212,
          -0.6604373754484952,
          -0.18625962628404644,
          0.16822538927592579,
          0.6297523928533115,
          0.6924571249670833,
          0.28395965797574535,
          -1.3144078645262325,
          0.3839284076826824,
          -0.1993281290111844,
          -1.2003550856895944,
          1.1836024206075546,
          -0.12913662513353683
         ],
         "xaxis": "x11",
         "yaxis": "y11"
        },
        {
         "line": {
          "color": "rgba(128, 128, 128, 1.0)",
          "dash": "solid",
          "shape": "linear",
          "width": 1.3
         },
         "marker": {
          "size": 2,
          "symbol": "circle"
         },
         "mode": "markers",
         "name": "C",
         "text": "",
         "type": "scatter",
         "x": [
          0.3607780144857141,
          -1.736483245906638,
          1.370195273582514,
          -1.5718797598932561,
          -0.05756355422800969,
          -0.6772751114683593,
          -0.07529215899163981,
          -0.1452912408818085,
          0.49035405932254233,
          0.30234597945250474,
          0.6842480903876552,
          -0.40599823004490554,
          1.2582020482948042,
          0.21291115134881447,
          -0.015374437747275623,
          0.6390283572173161,
          -0.027764230845340396,
          0.09392743468720419,
          0.2007828003880154,
          0.7914466592262185,
          -0.8818917132934164,
          -0.5354115159200049,
          0.9787343037816126,
          0.9041879207648577,
          0.580346319482985,
          0.5587553277693843,
          -0.5767422132236388,
          1.7041155268185804,
          0.35955119695135196,
          1.4470150968554383,
          0.5709417055446602,
          2.517413082856456,
          -2.41261764029486,
          0.8167752802539817,
          -0.950665900490461,
          0.019441322827203806,
          1.3445172531158445,
          0.09164091168883791,
          -0.9804558464000153,
          0.9950278644440643,
          2.040039457635569,
          0.8233652503576577,
          0.09320935942000907,
          0.7824692929688539,
          -0.033251792009062156,
          0.8309132583341456,
          -2.055074057365009,
          2.3001823769277983,
          1.4735387567281197,
          1.0523117396903963,
          -0.07069267403463227,
          -0.20586395159910603,
          -0.2449212954706954,
          -0.9193848496056759,
          0.8022003396951617,
          -0.4274016250026047,
          -0.8607571099585395,
          -0.12271895141875051,
          -1.0896364079342726,
          0.33004573423334593,
          2.420637688738529,
          0.048025965534223704,
          0.49528546231342674,
          -0.2778627476477282,
          -1.849100950543068,
          -0.0019751977459464398,
          0.2647954570670259,
          -0.62459940196595,
          -0.22351139186585264,
          -0.4726220462557567,
          -1.0175813974574868,
          -0.2703853511514275,
          0.3392617094139369,
          2.3134911319417726,
          0.554213911969139,
          -0.37538440210672497,
          -0.3187688768183547,
          0.9828674479352021,
          -0.7491799245032438,
          -0.9399274251094801,
          -0.1524355810165516,
          0.617404590362444,
          -1.4671006696257103,
          -0.07320755120663704,
          -0.5423822124016995,
          0.6862267390834078,
          0.8431217639131952,
          0.4796437026135891,
          -0.6350121466739759,
          0.003730501791416347,
          -0.10942054044250821,
          1.15951300833599,
          -1.0405210380598184,
          0.6998039483445962,
          -0.3150735159220903,
          -0.7932227671372611,
          0.8005035393487423,
          -1.863356499942961,
          1.779389968330466,
          -0.1498312213827943
         ],
         "xaxis": "x12",
         "y": [
          -0.2749675429277293,
          1.9335738697817635,
          -0.665119830943065,
          -0.9252316804236914,
          1.0778923066152155,
          0.09614114435062843,
          -1.3013861632886932,
          -0.16683601823644134,
          -0.8287054846972015,
          -0.5754212693290882,
          -0.5333213753996034,
          0.670677131854899,
          0.6299184200543384,
          -0.20771670278614038,
          0.5326574703993484,
          -0.335603024423566,
          1.1158322125620264,
          0.465600987062726,
          1.2648695639487362,
          0.9643342871739559,
          1.0121368707060108,
          1.2593190048982323,
          -0.663309963598204,
          1.644255108143534,
          -0.9734410059359437,
          0.4377929440560526,
          0.8412287490834214,
          1.130785939539371,
          -1.6025673570846466,
          1.0058558286498844,
          -1.3754887279084487,
          -2.417982272375856,
          1.5154293905760403,
          -0.0770243980088766,
          0.2518943344359841,
          -0.49834527210663154,
          -1.7223016131675526,
          -0.6071283327981475,
          0.20026527026858776,
          -1.1900577442502676,
          -0.12645879968706566,
          -1.0640645206341206,
          -1.1808148826835738,
          0.9127152879851413,
          -2.3296362911548396,
          -0.5082559735896763,
          -0.523612349427821,
          0.2825608273518654,
          -0.5986937853542252,
          1.5886041083870857,
          0.5077542474050725,
          -0.23080366161010027,
          -1.6616857287890443,
          -0.7108527760230315,
          0.28025870639864114,
          0.032113514679689044,
          0.13641754500856487,
          -0.5508822684203448,
          -0.7516436959296743,
          -1.5120659105433971,
          -0.4930572945673687,
          -1.275143852446616,
          -0.2825458276470288,
          1.4905823434824856,
          2.1551477746808154,
          -0.9310367567773862,
          -1.061054264155902,
          1.0665214541362709,
          -1.8751765830661236,
          0.653153059453366,
          1.4506347515072997,
          -0.9590560765123353,
          -0.24383642257046884,
          1.6048707595410525,
          0.7071398167413696,
          0.004568993411117865,
          0.5129872622888353,
          -0.39286412014569133,
          -0.5221150039952728,
          1.3346594180348332,
          -0.7024981853269824,
          -0.11414500595587583,
          1.2003488756137317,
          1.7493417681494021,
          0.6752143546481547,
          -0.8184935604263186,
          -0.2581829311970378,
          0.9280082927314212,
          -0.6604373754484952,
          -0.18625962628404644,
          0.16822538927592579,
          0.6297523928533115,
          0.6924571249670833,
          0.28395965797574535,
          -1.3144078645262325,
          0.3839284076826824,
          -0.1993281290111844,
          -1.2003550856895944,
          1.1836024206075546,
          -0.12913662513353683
         ],
         "yaxis": "y12"
        },
        {
         "line": {
          "color": "rgba(128, 128, 128, 1.0)",
          "dash": "solid",
          "shape": "linear",
          "width": 1.3
         },
         "marker": {
          "size": 2,
          "symbol": "circle"
         },
         "mode": "markers",
         "name": "D",
         "text": "",
         "type": "scatter",
         "x": [
          -1.7190432325639267,
          -1.0444212488203901,
          -1.2281548596652592,
          -0.1880998649496823,
          -0.023666518836465148,
          0.27316113327019337,
          0.1392557211801331,
          -0.1494975001196965,
          -0.3281889047311518,
          0.7630128577687965,
          -0.9887978159070222,
          1.7602940270080043,
          -0.2443307029648765,
          0.0605555077267923,
          0.1608818236220502,
          1.4725369594926774,
          0.7975054750093041,
          -1.2597645955801993,
          -0.2836042636557704,
          -1.3410643134511464,
          -3.082807509142449,
          0.10040955668920086,
          0.1190737877344889,
          -0.5194247208533813,
          -0.16041717951496873,
          -0.42019672544201253,
          -1.04630908270048,
          -1.0746470636561334,
          -0.2507817944882134,
          1.3128743750521201,
          0.47677732348050544,
          -0.5016507885943113,
          -0.407164342153989,
          -0.4952068718492648,
          -1.9667141629945057,
          0.330738501568156,
          0.8231660176547433,
          -0.5410515779966526,
          -0.46213876737850607,
          0.7763166570459573,
          -0.6854161078703633,
          0.9258852531425174,
          0.4452776659573741,
          0.1433919156308816,
          -0.5098633064390098,
          -1.6418834096841597,
          -0.9962361443896429,
          0.22733971103411632,
          1.8023099350953908,
          -0.46223753528257855,
          1.2024043335033523,
          -0.021680216105745824,
          -0.11402535562032319,
          -1.4421018473008114,
          -1.9768110804667434,
          0.771427797107187,
          -1.0961710380387748,
          0.5565420326255095,
          -1.2145782582885567,
          0.30716424383178914,
          -0.12051682741956476,
          0.08116981124048986,
          0.44409374469694546,
          0.32083407252942153,
          0.3284735979520984,
          1.2192042097398912,
          -0.08975218466167159,
          -0.7140739603542511,
          0.4929877565568179,
          -1.2495573399079385,
          -0.6551128437891885,
          -0.8055926026047565,
          0.9759313697721583,
          -0.32086986532559747,
          0.24938951455511105,
          1.0442989049164786,
          -0.21363696146902908,
          0.570467105783283,
          0.2018693877141919,
          -0.13677987220970744,
          1.141767519963179,
          -0.006674965663933419,
          -1.4001570009577424,
          -1.223387694657123,
          -1.5242392898964017,
          0.36198253172389483,
          -1.1542234126310464,
          -0.0432496695709186,
          -0.5385172809397573,
          -0.22561010953102295,
          -0.8815368257685243,
          0.03440737070312135,
          0.380176200295355,
          0.5451192543663047,
          2.1009187284632276,
          1.2262948214107132,
          -1.1259771549283395,
          -0.4092797319064413,
          0.8238088159521023,
          2.701443028227148
         ],
         "xaxis": "x13",
         "y": [
          0.3607780144857141,
          -1.736483245906638,
          1.370195273582514,
          -1.5718797598932561,
          -0.05756355422800969,
          -0.6772751114683593,
          -0.07529215899163981,
          -0.1452912408818085,
          0.49035405932254233,
          0.30234597945250474,
          0.6842480903876552,
          -0.40599823004490554,
          1.2582020482948042,
          0.21291115134881447,
          -0.015374437747275623,
          0.6390283572173161,
          -0.027764230845340396,
          0.09392743468720419,
          0.2007828003880154,
          0.7914466592262185,
          -0.8818917132934164,
          -0.5354115159200049,
          0.9787343037816126,
          0.9041879207648577,
          0.580346319482985,
          0.5587553277693843,
          -0.5767422132236388,
          1.7041155268185804,
          0.35955119695135196,
          1.4470150968554383,
          0.5709417055446602,
          2.517413082856456,
          -2.41261764029486,
          0.8167752802539817,
          -0.950665900490461,
          0.019441322827203806,
          1.3445172531158445,
          0.09164091168883791,
          -0.9804558464000153,
          0.9950278644440643,
          2.040039457635569,
          0.8233652503576577,
          0.09320935942000907,
          0.7824692929688539,
          -0.033251792009062156,
          0.8309132583341456,
          -2.055074057365009,
          2.3001823769277983,
          1.4735387567281197,
          1.0523117396903963,
          -0.07069267403463227,
          -0.20586395159910603,
          -0.2449212954706954,
          -0.9193848496056759,
          0.8022003396951617,
          -0.4274016250026047,
          -0.8607571099585395,
          -0.12271895141875051,
          -1.0896364079342726,
          0.33004573423334593,
          2.420637688738529,
          0.048025965534223704,
          0.49528546231342674,
          -0.2778627476477282,
          -1.849100950543068,
          -0.0019751977459464398,
          0.2647954570670259,
          -0.62459940196595,
          -0.22351139186585264,
          -0.4726220462557567,
          -1.0175813974574868,
          -0.2703853511514275,
          0.3392617094139369,
          2.3134911319417726,
          0.554213911969139,
          -0.37538440210672497,
          -0.3187688768183547,
          0.9828674479352021,
          -0.7491799245032438,
          -0.9399274251094801,
          -0.1524355810165516,
          0.617404590362444,
          -1.4671006696257103,
          -0.07320755120663704,
          -0.5423822124016995,
          0.6862267390834078,
          0.8431217639131952,
          0.4796437026135891,
          -0.6350121466739759,
          0.003730501791416347,
          -0.10942054044250821,
          1.15951300833599,
          -1.0405210380598184,
          0.6998039483445962,
          -0.3150735159220903,
          -0.7932227671372611,
          0.8005035393487423,
          -1.863356499942961,
          1.779389968330466,
          -0.1498312213827943
         ],
         "yaxis": "y13"
        },
        {
         "line": {
          "color": "rgba(128, 128, 128, 1.0)",
          "dash": "solid",
          "shape": "linear",
          "width": 1.3
         },
         "marker": {
          "size": 2,
          "symbol": "circle"
         },
         "mode": "markers",
         "name": "D",
         "text": "",
         "type": "scatter",
         "x": [
          -0.7453650578061853,
          -0.732485868230905,
          2.571440856130466,
          -1.3288014757770887,
          -0.37571548259490545,
          1.353542151236892,
          1.93286073520079,
          2.0533955712126146,
          -0.6382279278868261,
          1.006911855066834,
          -0.8508485018441402,
          -0.3345162882904823,
          0.8196876101635465,
          -0.5182830042287909,
          -0.8872208937328169,
          -0.6977613360071452,
          0.8329749491099315,
          1.6278156329603701,
          -0.5918599160082817,
          0.5979676482099805,
          -0.21096248033595624,
          0.6580358342875058,
          0.07754165507905827,
          -0.3918294815826402,
          -0.12282736170431181,
          -0.4380063170871286,
          0.24626681996064265,
          -0.4750318627570162,
          -0.2941999491946126,
          -1.5270439756558192,
          -0.18562428035420844,
          -0.5423611512392887,
          -1.2264486791305123,
          0.3676093812347672,
          1.033419704658409,
          -0.6567831499467796,
          -0.7032492021918825,
          -1.1557532341470151,
          0.5600311571157386,
          -0.9334259060271239,
          -0.5989668140682524,
          -1.3131661082909658,
          -0.9527241875250738,
          2.1076321001344995,
          0.7907645450042046,
          0.045317753071620864,
          -0.5422493792125058,
          0.09857118965031991,
          0.6052916763925353,
          -0.392869883278384,
          -2.1728167312609594,
          0.19129452413895515,
          -0.4482696369760158,
          0.7536670650604307,
          3.0297697508518535,
          -1.4843336527711002,
          0.24516289995024912,
          -0.07823342244748287,
          1.8600695154382882,
          0.1652695904259634,
          0.5803836626659503,
          0.23363792298583005,
          1.9757625435411996,
          0.2668853669235514,
          -0.9279029959151173,
          -0.4834953930206035,
          -0.6366637869200468,
          -0.15419250778739807,
          -1.0199977291771138,
          0.927786461653511,
          0.4029687170081699,
          0.8255307678139705,
          0.6168162267979052,
          0.6284463701216723,
          -1.9754562759861336,
          -2.104602026931329,
          0.9544746502463938,
          -1.0692132136829424,
          0.7449650141369406,
          0.34937979315948636,
          1.2680493437929372,
          0.45804927462531686,
          1.5888458959012468,
          -0.6233348854103765,
          -0.46910717109893024,
          -1.9199036442570905,
          1.8333260115694225,
          0.44932592617168915,
          -0.8415764549515934,
          -1.8682125418564481,
          -0.11105533756615614,
          0.17216434633769956,
          0.6110137590737573,
          0.8806559097453874,
          -1.3571457712679595,
          1.6712324155356806,
          -0.9400650924848841,
          -1.2679553064567328,
          -0.885456193058384,
          0.22823409955739418
         ],
         "xaxis": "x14",
         "y": [
          0.3607780144857141,
          -1.736483245906638,
          1.370195273582514,
          -1.5718797598932561,
          -0.05756355422800969,
          -0.6772751114683593,
          -0.07529215899163981,
          -0.1452912408818085,
          0.49035405932254233,
          0.30234597945250474,
          0.6842480903876552,
          -0.40599823004490554,
          1.2582020482948042,
          0.21291115134881447,
          -0.015374437747275623,
          0.6390283572173161,
          -0.027764230845340396,
          0.09392743468720419,
          0.2007828003880154,
          0.7914466592262185,
          -0.8818917132934164,
          -0.5354115159200049,
          0.9787343037816126,
          0.9041879207648577,
          0.580346319482985,
          0.5587553277693843,
          -0.5767422132236388,
          1.7041155268185804,
          0.35955119695135196,
          1.4470150968554383,
          0.5709417055446602,
          2.517413082856456,
          -2.41261764029486,
          0.8167752802539817,
          -0.950665900490461,
          0.019441322827203806,
          1.3445172531158445,
          0.09164091168883791,
          -0.9804558464000153,
          0.9950278644440643,
          2.040039457635569,
          0.8233652503576577,
          0.09320935942000907,
          0.7824692929688539,
          -0.033251792009062156,
          0.8309132583341456,
          -2.055074057365009,
          2.3001823769277983,
          1.4735387567281197,
          1.0523117396903963,
          -0.07069267403463227,
          -0.20586395159910603,
          -0.2449212954706954,
          -0.9193848496056759,
          0.8022003396951617,
          -0.4274016250026047,
          -0.8607571099585395,
          -0.12271895141875051,
          -1.0896364079342726,
          0.33004573423334593,
          2.420637688738529,
          0.048025965534223704,
          0.49528546231342674,
          -0.2778627476477282,
          -1.849100950543068,
          -0.0019751977459464398,
          0.2647954570670259,
          -0.62459940196595,
          -0.22351139186585264,
          -0.4726220462557567,
          -1.0175813974574868,
          -0.2703853511514275,
          0.3392617094139369,
          2.3134911319417726,
          0.554213911969139,
          -0.37538440210672497,
          -0.3187688768183547,
          0.9828674479352021,
          -0.7491799245032438,
          -0.9399274251094801,
          -0.1524355810165516,
          0.617404590362444,
          -1.4671006696257103,
          -0.07320755120663704,
          -0.5423822124016995,
          0.6862267390834078,
          0.8431217639131952,
          0.4796437026135891,
          -0.6350121466739759,
          0.003730501791416347,
          -0.10942054044250821,
          1.15951300833599,
          -1.0405210380598184,
          0.6998039483445962,
          -0.3150735159220903,
          -0.7932227671372611,
          0.8005035393487423,
          -1.863356499942961,
          1.779389968330466,
          -0.1498312213827943
         ],
         "yaxis": "y14"
        },
        {
         "line": {
          "color": "rgba(128, 128, 128, 1.0)",
          "dash": "solid",
          "shape": "linear",
          "width": 1.3
         },
         "marker": {
          "size": 2,
          "symbol": "circle"
         },
         "mode": "markers",
         "name": "D",
         "text": "",
         "type": "scatter",
         "x": [
          -0.2749675429277293,
          1.9335738697817635,
          -0.665119830943065,
          -0.9252316804236914,
          1.0778923066152155,
          0.09614114435062843,
          -1.3013861632886932,
          -0.16683601823644134,
          -0.8287054846972015,
          -0.5754212693290882,
          -0.5333213753996034,
          0.670677131854899,
          0.6299184200543384,
          -0.20771670278614038,
          0.5326574703993484,
          -0.335603024423566,
          1.1158322125620264,
          0.465600987062726,
          1.2648695639487362,
          0.9643342871739559,
          1.0121368707060108,
          1.2593190048982323,
          -0.663309963598204,
          1.644255108143534,
          -0.9734410059359437,
          0.4377929440560526,
          0.8412287490834214,
          1.130785939539371,
          -1.6025673570846466,
          1.0058558286498844,
          -1.3754887279084487,
          -2.417982272375856,
          1.5154293905760403,
          -0.0770243980088766,
          0.2518943344359841,
          -0.49834527210663154,
          -1.7223016131675526,
          -0.6071283327981475,
          0.20026527026858776,
          -1.1900577442502676,
          -0.12645879968706566,
          -1.0640645206341206,
          -1.1808148826835738,
          0.9127152879851413,
          -2.3296362911548396,
          -0.5082559735896763,
          -0.523612349427821,
          0.2825608273518654,
          -0.5986937853542252,
          1.5886041083870857,
          0.5077542474050725,
          -0.23080366161010027,
          -1.6616857287890443,
          -0.7108527760230315,
          0.28025870639864114,
          0.032113514679689044,
          0.13641754500856487,
          -0.5508822684203448,
          -0.7516436959296743,
          -1.5120659105433971,
          -0.4930572945673687,
          -1.275143852446616,
          -0.2825458276470288,
          1.4905823434824856,
          2.1551477746808154,
          -0.9310367567773862,
          -1.061054264155902,
          1.0665214541362709,
          -1.8751765830661236,
          0.653153059453366,
          1.4506347515072997,
          -0.9590560765123353,
          -0.24383642257046884,
          1.6048707595410525,
          0.7071398167413696,
          0.004568993411117865,
          0.5129872622888353,
          -0.39286412014569133,
          -0.5221150039952728,
          1.3346594180348332,
          -0.7024981853269824,
          -0.11414500595587583,
          1.2003488756137317,
          1.7493417681494021,
          0.6752143546481547,
          -0.8184935604263186,
          -0.2581829311970378,
          0.9280082927314212,
          -0.6604373754484952,
          -0.18625962628404644,
          0.16822538927592579,
          0.6297523928533115,
          0.6924571249670833,
          0.28395965797574535,
          -1.3144078645262325,
          0.3839284076826824,
          -0.1993281290111844,
          -1.2003550856895944,
          1.1836024206075546,
          -0.12913662513353683
         ],
         "xaxis": "x15",
         "y": [
          0.3607780144857141,
          -1.736483245906638,
          1.370195273582514,
          -1.5718797598932561,
          -0.05756355422800969,
          -0.6772751114683593,
          -0.07529215899163981,
          -0.1452912408818085,
          0.49035405932254233,
          0.30234597945250474,
          0.6842480903876552,
          -0.40599823004490554,
          1.2582020482948042,
          0.21291115134881447,
          -0.015374437747275623,
          0.6390283572173161,
          -0.027764230845340396,
          0.09392743468720419,
          0.2007828003880154,
          0.7914466592262185,
          -0.8818917132934164,
          -0.5354115159200049,
          0.9787343037816126,
          0.9041879207648577,
          0.580346319482985,
          0.5587553277693843,
          -0.5767422132236388,
          1.7041155268185804,
          0.35955119695135196,
          1.4470150968554383,
          0.5709417055446602,
          2.517413082856456,
          -2.41261764029486,
          0.8167752802539817,
          -0.950665900490461,
          0.019441322827203806,
          1.3445172531158445,
          0.09164091168883791,
          -0.9804558464000153,
          0.9950278644440643,
          2.040039457635569,
          0.8233652503576577,
          0.09320935942000907,
          0.7824692929688539,
          -0.033251792009062156,
          0.8309132583341456,
          -2.055074057365009,
          2.3001823769277983,
          1.4735387567281197,
          1.0523117396903963,
          -0.07069267403463227,
          -0.20586395159910603,
          -0.2449212954706954,
          -0.9193848496056759,
          0.8022003396951617,
          -0.4274016250026047,
          -0.8607571099585395,
          -0.12271895141875051,
          -1.0896364079342726,
          0.33004573423334593,
          2.420637688738529,
          0.048025965534223704,
          0.49528546231342674,
          -0.2778627476477282,
          -1.849100950543068,
          -0.0019751977459464398,
          0.2647954570670259,
          -0.62459940196595,
          -0.22351139186585264,
          -0.4726220462557567,
          -1.0175813974574868,
          -0.2703853511514275,
          0.3392617094139369,
          2.3134911319417726,
          0.554213911969139,
          -0.37538440210672497,
          -0.3187688768183547,
          0.9828674479352021,
          -0.7491799245032438,
          -0.9399274251094801,
          -0.1524355810165516,
          0.617404590362444,
          -1.4671006696257103,
          -0.07320755120663704,
          -0.5423822124016995,
          0.6862267390834078,
          0.8431217639131952,
          0.4796437026135891,
          -0.6350121466739759,
          0.003730501791416347,
          -0.10942054044250821,
          1.15951300833599,
          -1.0405210380598184,
          0.6998039483445962,
          -0.3150735159220903,
          -0.7932227671372611,
          0.8005035393487423,
          -1.863356499942961,
          1.779389968330466,
          -0.1498312213827943
         ],
         "yaxis": "y15"
        },
        {
         "histfunc": "count",
         "histnorm": "",
         "marker": {
          "color": "rgba(128, 0, 128, 1.0)",
          "line": {
           "color": "#4D5663",
           "width": 1.3
          }
         },
         "name": "D",
         "nbinsx": 10,
         "opacity": 0.8,
         "orientation": "v",
         "type": "histogram",
         "x": [
          0.3607780144857141,
          -1.736483245906638,
          1.370195273582514,
          -1.5718797598932561,
          -0.05756355422800969,
          -0.6772751114683593,
          -0.07529215899163981,
          -0.1452912408818085,
          0.49035405932254233,
          0.30234597945250474,
          0.6842480903876552,
          -0.40599823004490554,
          1.2582020482948042,
          0.21291115134881447,
          -0.015374437747275623,
          0.6390283572173161,
          -0.027764230845340396,
          0.09392743468720419,
          0.2007828003880154,
          0.7914466592262185,
          -0.8818917132934164,
          -0.5354115159200049,
          0.9787343037816126,
          0.9041879207648577,
          0.580346319482985,
          0.5587553277693843,
          -0.5767422132236388,
          1.7041155268185804,
          0.35955119695135196,
          1.4470150968554383,
          0.5709417055446602,
          2.517413082856456,
          -2.41261764029486,
          0.8167752802539817,
          -0.950665900490461,
          0.019441322827203806,
          1.3445172531158445,
          0.09164091168883791,
          -0.9804558464000153,
          0.9950278644440643,
          2.040039457635569,
          0.8233652503576577,
          0.09320935942000907,
          0.7824692929688539,
          -0.033251792009062156,
          0.8309132583341456,
          -2.055074057365009,
          2.3001823769277983,
          1.4735387567281197,
          1.0523117396903963,
          -0.07069267403463227,
          -0.20586395159910603,
          -0.2449212954706954,
          -0.9193848496056759,
          0.8022003396951617,
          -0.4274016250026047,
          -0.8607571099585395,
          -0.12271895141875051,
          -1.0896364079342726,
          0.33004573423334593,
          2.420637688738529,
          0.048025965534223704,
          0.49528546231342674,
          -0.2778627476477282,
          -1.849100950543068,
          -0.0019751977459464398,
          0.2647954570670259,
          -0.62459940196595,
          -0.22351139186585264,
          -0.4726220462557567,
          -1.0175813974574868,
          -0.2703853511514275,
          0.3392617094139369,
          2.3134911319417726,
          0.554213911969139,
          -0.37538440210672497,
          -0.3187688768183547,
          0.9828674479352021,
          -0.7491799245032438,
          -0.9399274251094801,
          -0.1524355810165516,
          0.617404590362444,
          -1.4671006696257103,
          -0.07320755120663704,
          -0.5423822124016995,
          0.6862267390834078,
          0.8431217639131952,
          0.4796437026135891,
          -0.6350121466739759,
          0.003730501791416347,
          -0.10942054044250821,
          1.15951300833599,
          -1.0405210380598184,
          0.6998039483445962,
          -0.3150735159220903,
          -0.7932227671372611,
          0.8005035393487423,
          -1.863356499942961,
          1.779389968330466,
          -0.1498312213827943
         ],
         "xaxis": "x16",
         "yaxis": "y16"
        }
       ],
       "layout": {
        "bargap": 0.02,
        "legend": {
         "bgcolor": "#F5F6F9",
         "font": {
          "color": "#4D5663"
         }
        },
        "paper_bgcolor": "#F5F6F9",
        "plot_bgcolor": "#F5F6F9",
        "showlegend": false,
        "template": {
         "data": {
          "bar": [
           {
            "error_x": {
             "color": "#2a3f5f"
            },
            "error_y": {
             "color": "#2a3f5f"
            },
            "marker": {
             "line": {
              "color": "#E5ECF6",
              "width": 0.5
             },
             "pattern": {
              "fillmode": "overlay",
              "size": 10,
              "solidity": 0.2
             }
            },
            "type": "bar"
           }
          ],
          "barpolar": [
           {
            "marker": {
             "line": {
              "color": "#E5ECF6",
              "width": 0.5
             },
             "pattern": {
              "fillmode": "overlay",
              "size": 10,
              "solidity": 0.2
             }
            },
            "type": "barpolar"
           }
          ],
          "carpet": [
           {
            "aaxis": {
             "endlinecolor": "#2a3f5f",
             "gridcolor": "white",
             "linecolor": "white",
             "minorgridcolor": "white",
             "startlinecolor": "#2a3f5f"
            },
            "baxis": {
             "endlinecolor": "#2a3f5f",
             "gridcolor": "white",
             "linecolor": "white",
             "minorgridcolor": "white",
             "startlinecolor": "#2a3f5f"
            },
            "type": "carpet"
           }
          ],
          "choropleth": [
           {
            "colorbar": {
             "outlinewidth": 0,
             "ticks": ""
            },
            "type": "choropleth"
           }
          ],
          "contour": [
           {
            "colorbar": {
             "outlinewidth": 0,
             "ticks": ""
            },
            "colorscale": [
             [
              0,
              "#0d0887"
             ],
             [
              0.1111111111111111,
              "#46039f"
             ],
             [
              0.2222222222222222,
              "#7201a8"
             ],
             [
              0.3333333333333333,
              "#9c179e"
             ],
             [
              0.4444444444444444,
              "#bd3786"
             ],
             [
              0.5555555555555556,
              "#d8576b"
             ],
             [
              0.6666666666666666,
              "#ed7953"
             ],
             [
              0.7777777777777778,
              "#fb9f3a"
             ],
             [
              0.8888888888888888,
              "#fdca26"
             ],
             [
              1,
              "#f0f921"
             ]
            ],
            "type": "contour"
           }
          ],
          "contourcarpet": [
           {
            "colorbar": {
             "outlinewidth": 0,
             "ticks": ""
            },
            "type": "contourcarpet"
           }
          ],
          "heatmap": [
           {
            "colorbar": {
             "outlinewidth": 0,
             "ticks": ""
            },
            "colorscale": [
             [
              0,
              "#0d0887"
             ],
             [
              0.1111111111111111,
              "#46039f"
             ],
             [
              0.2222222222222222,
              "#7201a8"
             ],
             [
              0.3333333333333333,
              "#9c179e"
             ],
             [
              0.4444444444444444,
              "#bd3786"
             ],
             [
              0.5555555555555556,
              "#d8576b"
             ],
             [
              0.6666666666666666,
              "#ed7953"
             ],
             [
              0.7777777777777778,
              "#fb9f3a"
             ],
             [
              0.8888888888888888,
              "#fdca26"
             ],
             [
              1,
              "#f0f921"
             ]
            ],
            "type": "heatmap"
           }
          ],
          "heatmapgl": [
           {
            "colorbar": {
             "outlinewidth": 0,
             "ticks": ""
            },
            "colorscale": [
             [
              0,
              "#0d0887"
             ],
             [
              0.1111111111111111,
              "#46039f"
             ],
             [
              0.2222222222222222,
              "#7201a8"
             ],
             [
              0.3333333333333333,
              "#9c179e"
             ],
             [
              0.4444444444444444,
              "#bd3786"
             ],
             [
              0.5555555555555556,
              "#d8576b"
             ],
             [
              0.6666666666666666,
              "#ed7953"
             ],
             [
              0.7777777777777778,
              "#fb9f3a"
             ],
             [
              0.8888888888888888,
              "#fdca26"
             ],
             [
              1,
              "#f0f921"
             ]
            ],
            "type": "heatmapgl"
           }
          ],
          "histogram": [
           {
            "marker": {
             "pattern": {
              "fillmode": "overlay",
              "size": 10,
              "solidity": 0.2
             }
            },
            "type": "histogram"
           }
          ],
          "histogram2d": [
           {
            "colorbar": {
             "outlinewidth": 0,
             "ticks": ""
            },
            "colorscale": [
             [
              0,
              "#0d0887"
             ],
             [
              0.1111111111111111,
              "#46039f"
             ],
             [
              0.2222222222222222,
              "#7201a8"
             ],
             [
              0.3333333333333333,
              "#9c179e"
             ],
             [
              0.4444444444444444,
              "#bd3786"
             ],
             [
              0.5555555555555556,
              "#d8576b"
             ],
             [
              0.6666666666666666,
              "#ed7953"
             ],
             [
              0.7777777777777778,
              "#fb9f3a"
             ],
             [
              0.8888888888888888,
              "#fdca26"
             ],
             [
              1,
              "#f0f921"
             ]
            ],
            "type": "histogram2d"
           }
          ],
          "histogram2dcontour": [
           {
            "colorbar": {
             "outlinewidth": 0,
             "ticks": ""
            },
            "colorscale": [
             [
              0,
              "#0d0887"
             ],
             [
              0.1111111111111111,
              "#46039f"
             ],
             [
              0.2222222222222222,
              "#7201a8"
             ],
             [
              0.3333333333333333,
              "#9c179e"
             ],
             [
              0.4444444444444444,
              "#bd3786"
             ],
             [
              0.5555555555555556,
              "#d8576b"
             ],
             [
              0.6666666666666666,
              "#ed7953"
             ],
             [
              0.7777777777777778,
              "#fb9f3a"
             ],
             [
              0.8888888888888888,
              "#fdca26"
             ],
             [
              1,
              "#f0f921"
             ]
            ],
            "type": "histogram2dcontour"
           }
          ],
          "mesh3d": [
           {
            "colorbar": {
             "outlinewidth": 0,
             "ticks": ""
            },
            "type": "mesh3d"
           }
          ],
          "parcoords": [
           {
            "line": {
             "colorbar": {
              "outlinewidth": 0,
              "ticks": ""
             }
            },
            "type": "parcoords"
           }
          ],
          "pie": [
           {
            "automargin": true,
            "type": "pie"
           }
          ],
          "scatter": [
           {
            "fillpattern": {
             "fillmode": "overlay",
             "size": 10,
             "solidity": 0.2
            },
            "type": "scatter"
           }
          ],
          "scatter3d": [
           {
            "line": {
             "colorbar": {
              "outlinewidth": 0,
              "ticks": ""
             }
            },
            "marker": {
             "colorbar": {
              "outlinewidth": 0,
              "ticks": ""
             }
            },
            "type": "scatter3d"
           }
          ],
          "scattercarpet": [
           {
            "marker": {
             "colorbar": {
              "outlinewidth": 0,
              "ticks": ""
             }
            },
            "type": "scattercarpet"
           }
          ],
          "scattergeo": [
           {
            "marker": {
             "colorbar": {
              "outlinewidth": 0,
              "ticks": ""
             }
            },
            "type": "scattergeo"
           }
          ],
          "scattergl": [
           {
            "marker": {
             "colorbar": {
              "outlinewidth": 0,
              "ticks": ""
             }
            },
            "type": "scattergl"
           }
          ],
          "scattermapbox": [
           {
            "marker": {
             "colorbar": {
              "outlinewidth": 0,
              "ticks": ""
             }
            },
            "type": "scattermapbox"
           }
          ],
          "scatterpolar": [
           {
            "marker": {
             "colorbar": {
              "outlinewidth": 0,
              "ticks": ""
             }
            },
            "type": "scatterpolar"
           }
          ],
          "scatterpolargl": [
           {
            "marker": {
             "colorbar": {
              "outlinewidth": 0,
              "ticks": ""
             }
            },
            "type": "scatterpolargl"
           }
          ],
          "scatterternary": [
           {
            "marker": {
             "colorbar": {
              "outlinewidth": 0,
              "ticks": ""
             }
            },
            "type": "scatterternary"
           }
          ],
          "surface": [
           {
            "colorbar": {
             "outlinewidth": 0,
             "ticks": ""
            },
            "colorscale": [
             [
              0,
              "#0d0887"
             ],
             [
              0.1111111111111111,
              "#46039f"
             ],
             [
              0.2222222222222222,
              "#7201a8"
             ],
             [
              0.3333333333333333,
              "#9c179e"
             ],
             [
              0.4444444444444444,
              "#bd3786"
             ],
             [
              0.5555555555555556,
              "#d8576b"
             ],
             [
              0.6666666666666666,
              "#ed7953"
             ],
             [
              0.7777777777777778,
              "#fb9f3a"
             ],
             [
              0.8888888888888888,
              "#fdca26"
             ],
             [
              1,
              "#f0f921"
             ]
            ],
            "type": "surface"
           }
          ],
          "table": [
           {
            "cells": {
             "fill": {
              "color": "#EBF0F8"
             },
             "line": {
              "color": "white"
             }
            },
            "header": {
             "fill": {
              "color": "#C8D4E3"
             },
             "line": {
              "color": "white"
             }
            },
            "type": "table"
           }
          ]
         },
         "layout": {
          "annotationdefaults": {
           "arrowcolor": "#2a3f5f",
           "arrowhead": 0,
           "arrowwidth": 1
          },
          "autotypenumbers": "strict",
          "coloraxis": {
           "colorbar": {
            "outlinewidth": 0,
            "ticks": ""
           }
          },
          "colorscale": {
           "diverging": [
            [
             0,
             "#8e0152"
            ],
            [
             0.1,
             "#c51b7d"
            ],
            [
             0.2,
             "#de77ae"
            ],
            [
             0.3,
             "#f1b6da"
            ],
            [
             0.4,
             "#fde0ef"
            ],
            [
             0.5,
             "#f7f7f7"
            ],
            [
             0.6,
             "#e6f5d0"
            ],
            [
             0.7,
             "#b8e186"
            ],
            [
             0.8,
             "#7fbc41"
            ],
            [
             0.9,
             "#4d9221"
            ],
            [
             1,
             "#276419"
            ]
           ],
           "sequential": [
            [
             0,
             "#0d0887"
            ],
            [
             0.1111111111111111,
             "#46039f"
            ],
            [
             0.2222222222222222,
             "#7201a8"
            ],
            [
             0.3333333333333333,
             "#9c179e"
            ],
            [
             0.4444444444444444,
             "#bd3786"
            ],
            [
             0.5555555555555556,
             "#d8576b"
            ],
            [
             0.6666666666666666,
             "#ed7953"
            ],
            [
             0.7777777777777778,
             "#fb9f3a"
            ],
            [
             0.8888888888888888,
             "#fdca26"
            ],
            [
             1,
             "#f0f921"
            ]
           ],
           "sequentialminus": [
            [
             0,
             "#0d0887"
            ],
            [
             0.1111111111111111,
             "#46039f"
            ],
            [
             0.2222222222222222,
             "#7201a8"
            ],
            [
             0.3333333333333333,
             "#9c179e"
            ],
            [
             0.4444444444444444,
             "#bd3786"
            ],
            [
             0.5555555555555556,
             "#d8576b"
            ],
            [
             0.6666666666666666,
             "#ed7953"
            ],
            [
             0.7777777777777778,
             "#fb9f3a"
            ],
            [
             0.8888888888888888,
             "#fdca26"
            ],
            [
             1,
             "#f0f921"
            ]
           ]
          },
          "colorway": [
           "#636efa",
           "#EF553B",
           "#00cc96",
           "#ab63fa",
           "#FFA15A",
           "#19d3f3",
           "#FF6692",
           "#B6E880",
           "#FF97FF",
           "#FECB52"
          ],
          "font": {
           "color": "#2a3f5f"
          },
          "geo": {
           "bgcolor": "white",
           "lakecolor": "white",
           "landcolor": "#E5ECF6",
           "showlakes": true,
           "showland": true,
           "subunitcolor": "white"
          },
          "hoverlabel": {
           "align": "left"
          },
          "hovermode": "closest",
          "mapbox": {
           "style": "light"
          },
          "paper_bgcolor": "white",
          "plot_bgcolor": "#E5ECF6",
          "polar": {
           "angularaxis": {
            "gridcolor": "white",
            "linecolor": "white",
            "ticks": ""
           },
           "bgcolor": "#E5ECF6",
           "radialaxis": {
            "gridcolor": "white",
            "linecolor": "white",
            "ticks": ""
           }
          },
          "scene": {
           "xaxis": {
            "backgroundcolor": "#E5ECF6",
            "gridcolor": "white",
            "gridwidth": 2,
            "linecolor": "white",
            "showbackground": true,
            "ticks": "",
            "zerolinecolor": "white"
           },
           "yaxis": {
            "backgroundcolor": "#E5ECF6",
            "gridcolor": "white",
            "gridwidth": 2,
            "linecolor": "white",
            "showbackground": true,
            "ticks": "",
            "zerolinecolor": "white"
           },
           "zaxis": {
            "backgroundcolor": "#E5ECF6",
            "gridcolor": "white",
            "gridwidth": 2,
            "linecolor": "white",
            "showbackground": true,
            "ticks": "",
            "zerolinecolor": "white"
           }
          },
          "shapedefaults": {
           "line": {
            "color": "#2a3f5f"
           }
          },
          "ternary": {
           "aaxis": {
            "gridcolor": "white",
            "linecolor": "white",
            "ticks": ""
           },
           "baxis": {
            "gridcolor": "white",
            "linecolor": "white",
            "ticks": ""
           },
           "bgcolor": "#E5ECF6",
           "caxis": {
            "gridcolor": "white",
            "linecolor": "white",
            "ticks": ""
           }
          },
          "title": {
           "x": 0.05
          },
          "xaxis": {
           "automargin": true,
           "gridcolor": "white",
           "linecolor": "white",
           "ticks": "",
           "title": {
            "standoff": 15
           },
           "zerolinecolor": "white",
           "zerolinewidth": 2
          },
          "yaxis": {
           "automargin": true,
           "gridcolor": "white",
           "linecolor": "white",
           "ticks": "",
           "title": {
            "standoff": 15
           },
           "zerolinecolor": "white",
           "zerolinewidth": 2
          }
         }
        },
        "title": {
         "font": {
          "color": "#4D5663"
         }
        },
        "xaxis": {
         "anchor": "y",
         "domain": [
          0,
          0.2125
         ],
         "gridcolor": "#E1E5ED",
         "showgrid": false,
         "tickfont": {
          "color": "#4D5663"
         },
         "title": {
          "font": {
           "color": "#4D5663"
          },
          "text": ""
         },
         "zerolinecolor": "#E1E5ED"
        },
        "xaxis10": {
         "anchor": "y10",
         "domain": [
          0.2625,
          0.475
         ],
         "gridcolor": "#E1E5ED",
         "showgrid": false,
         "tickfont": {
          "color": "#4D5663"
         },
         "title": {
          "font": {
           "color": "#4D5663"
          },
          "text": ""
         },
         "zerolinecolor": "#E1E5ED"
        },
        "xaxis11": {
         "anchor": "y11",
         "domain": [
          0.525,
          0.7375
         ],
         "gridcolor": "#E1E5ED",
         "showgrid": false,
         "tickfont": {
          "color": "#4D5663"
         },
         "title": {
          "font": {
           "color": "#4D5663"
          },
          "text": ""
         },
         "zerolinecolor": "#E1E5ED"
        },
        "xaxis12": {
         "anchor": "y12",
         "domain": [
          0.7875,
          1
         ],
         "gridcolor": "#E1E5ED",
         "showgrid": false,
         "tickfont": {
          "color": "#4D5663"
         },
         "title": {
          "font": {
           "color": "#4D5663"
          },
          "text": ""
         },
         "zerolinecolor": "#E1E5ED"
        },
        "xaxis13": {
         "anchor": "y13",
         "domain": [
          0,
          0.2125
         ],
         "gridcolor": "#E1E5ED",
         "showgrid": false,
         "tickfont": {
          "color": "#4D5663"
         },
         "title": {
          "font": {
           "color": "#4D5663"
          },
          "text": ""
         },
         "zerolinecolor": "#E1E5ED"
        },
        "xaxis14": {
         "anchor": "y14",
         "domain": [
          0.2625,
          0.475
         ],
         "gridcolor": "#E1E5ED",
         "showgrid": false,
         "tickfont": {
          "color": "#4D5663"
         },
         "title": {
          "font": {
           "color": "#4D5663"
          },
          "text": ""
         },
         "zerolinecolor": "#E1E5ED"
        },
        "xaxis15": {
         "anchor": "y15",
         "domain": [
          0.525,
          0.7375
         ],
         "gridcolor": "#E1E5ED",
         "showgrid": false,
         "tickfont": {
          "color": "#4D5663"
         },
         "title": {
          "font": {
           "color": "#4D5663"
          },
          "text": ""
         },
         "zerolinecolor": "#E1E5ED"
        },
        "xaxis16": {
         "anchor": "y16",
         "domain": [
          0.7875,
          1
         ],
         "gridcolor": "#E1E5ED",
         "showgrid": false,
         "tickfont": {
          "color": "#4D5663"
         },
         "title": {
          "font": {
           "color": "#4D5663"
          },
          "text": ""
         },
         "zerolinecolor": "#E1E5ED"
        },
        "xaxis2": {
         "anchor": "y2",
         "domain": [
          0.2625,
          0.475
         ],
         "gridcolor": "#E1E5ED",
         "showgrid": false,
         "tickfont": {
          "color": "#4D5663"
         },
         "title": {
          "font": {
           "color": "#4D5663"
          },
          "text": ""
         },
         "zerolinecolor": "#E1E5ED"
        },
        "xaxis3": {
         "anchor": "y3",
         "domain": [
          0.525,
          0.7375
         ],
         "gridcolor": "#E1E5ED",
         "showgrid": false,
         "tickfont": {
          "color": "#4D5663"
         },
         "title": {
          "font": {
           "color": "#4D5663"
          },
          "text": ""
         },
         "zerolinecolor": "#E1E5ED"
        },
        "xaxis4": {
         "anchor": "y4",
         "domain": [
          0.7875,
          1
         ],
         "gridcolor": "#E1E5ED",
         "showgrid": false,
         "tickfont": {
          "color": "#4D5663"
         },
         "title": {
          "font": {
           "color": "#4D5663"
          },
          "text": ""
         },
         "zerolinecolor": "#E1E5ED"
        },
        "xaxis5": {
         "anchor": "y5",
         "domain": [
          0,
          0.2125
         ],
         "gridcolor": "#E1E5ED",
         "showgrid": false,
         "tickfont": {
          "color": "#4D5663"
         },
         "title": {
          "font": {
           "color": "#4D5663"
          },
          "text": ""
         },
         "zerolinecolor": "#E1E5ED"
        },
        "xaxis6": {
         "anchor": "y6",
         "domain": [
          0.2625,
          0.475
         ],
         "gridcolor": "#E1E5ED",
         "showgrid": false,
         "tickfont": {
          "color": "#4D5663"
         },
         "title": {
          "font": {
           "color": "#4D5663"
          },
          "text": ""
         },
         "zerolinecolor": "#E1E5ED"
        },
        "xaxis7": {
         "anchor": "y7",
         "domain": [
          0.525,
          0.7375
         ],
         "gridcolor": "#E1E5ED",
         "showgrid": false,
         "tickfont": {
          "color": "#4D5663"
         },
         "title": {
          "font": {
           "color": "#4D5663"
          },
          "text": ""
         },
         "zerolinecolor": "#E1E5ED"
        },
        "xaxis8": {
         "anchor": "y8",
         "domain": [
          0.7875,
          1
         ],
         "gridcolor": "#E1E5ED",
         "showgrid": false,
         "tickfont": {
          "color": "#4D5663"
         },
         "title": {
          "font": {
           "color": "#4D5663"
          },
          "text": ""
         },
         "zerolinecolor": "#E1E5ED"
        },
        "xaxis9": {
         "anchor": "y9",
         "domain": [
          0,
          0.2125
         ],
         "gridcolor": "#E1E5ED",
         "showgrid": false,
         "tickfont": {
          "color": "#4D5663"
         },
         "title": {
          "font": {
           "color": "#4D5663"
          },
          "text": ""
         },
         "zerolinecolor": "#E1E5ED"
        },
        "yaxis": {
         "anchor": "x",
         "domain": [
          0.8025,
          1
         ],
         "gridcolor": "#E1E5ED",
         "showgrid": false,
         "tickfont": {
          "color": "#4D5663"
         },
         "title": {
          "font": {
           "color": "#4D5663"
          },
          "text": ""
         },
         "zerolinecolor": "#E1E5ED"
        },
        "yaxis10": {
         "anchor": "x10",
         "domain": [
          0.2675,
          0.465
         ],
         "gridcolor": "#E1E5ED",
         "showgrid": false,
         "tickfont": {
          "color": "#4D5663"
         },
         "title": {
          "font": {
           "color": "#4D5663"
          },
          "text": ""
         },
         "zerolinecolor": "#E1E5ED"
        },
        "yaxis11": {
         "anchor": "x11",
         "domain": [
          0.2675,
          0.465
         ],
         "gridcolor": "#E1E5ED",
         "showgrid": false,
         "tickfont": {
          "color": "#4D5663"
         },
         "title": {
          "font": {
           "color": "#4D5663"
          },
          "text": ""
         },
         "zerolinecolor": "#E1E5ED"
        },
        "yaxis12": {
         "anchor": "x12",
         "domain": [
          0.2675,
          0.465
         ],
         "gridcolor": "#E1E5ED",
         "showgrid": false,
         "tickfont": {
          "color": "#4D5663"
         },
         "title": {
          "font": {
           "color": "#4D5663"
          },
          "text": ""
         },
         "zerolinecolor": "#E1E5ED"
        },
        "yaxis13": {
         "anchor": "x13",
         "domain": [
          0,
          0.1975
         ],
         "gridcolor": "#E1E5ED",
         "showgrid": false,
         "tickfont": {
          "color": "#4D5663"
         },
         "title": {
          "font": {
           "color": "#4D5663"
          },
          "text": ""
         },
         "zerolinecolor": "#E1E5ED"
        },
        "yaxis14": {
         "anchor": "x14",
         "domain": [
          0,
          0.1975
         ],
         "gridcolor": "#E1E5ED",
         "showgrid": false,
         "tickfont": {
          "color": "#4D5663"
         },
         "title": {
          "font": {
           "color": "#4D5663"
          },
          "text": ""
         },
         "zerolinecolor": "#E1E5ED"
        },
        "yaxis15": {
         "anchor": "x15",
         "domain": [
          0,
          0.1975
         ],
         "gridcolor": "#E1E5ED",
         "showgrid": false,
         "tickfont": {
          "color": "#4D5663"
         },
         "title": {
          "font": {
           "color": "#4D5663"
          },
          "text": ""
         },
         "zerolinecolor": "#E1E5ED"
        },
        "yaxis16": {
         "anchor": "x16",
         "domain": [
          0,
          0.1975
         ],
         "gridcolor": "#E1E5ED",
         "showgrid": false,
         "tickfont": {
          "color": "#4D5663"
         },
         "title": {
          "font": {
           "color": "#4D5663"
          },
          "text": ""
         },
         "zerolinecolor": "#E1E5ED"
        },
        "yaxis2": {
         "anchor": "x2",
         "domain": [
          0.8025,
          1
         ],
         "gridcolor": "#E1E5ED",
         "showgrid": false,
         "tickfont": {
          "color": "#4D5663"
         },
         "title": {
          "font": {
           "color": "#4D5663"
          },
          "text": ""
         },
         "zerolinecolor": "#E1E5ED"
        },
        "yaxis3": {
         "anchor": "x3",
         "domain": [
          0.8025,
          1
         ],
         "gridcolor": "#E1E5ED",
         "showgrid": false,
         "tickfont": {
          "color": "#4D5663"
         },
         "title": {
          "font": {
           "color": "#4D5663"
          },
          "text": ""
         },
         "zerolinecolor": "#E1E5ED"
        },
        "yaxis4": {
         "anchor": "x4",
         "domain": [
          0.8025,
          1
         ],
         "gridcolor": "#E1E5ED",
         "showgrid": false,
         "tickfont": {
          "color": "#4D5663"
         },
         "title": {
          "font": {
           "color": "#4D5663"
          },
          "text": ""
         },
         "zerolinecolor": "#E1E5ED"
        },
        "yaxis5": {
         "anchor": "x5",
         "domain": [
          0.535,
          0.7325
         ],
         "gridcolor": "#E1E5ED",
         "showgrid": false,
         "tickfont": {
          "color": "#4D5663"
         },
         "title": {
          "font": {
           "color": "#4D5663"
          },
          "text": ""
         },
         "zerolinecolor": "#E1E5ED"
        },
        "yaxis6": {
         "anchor": "x6",
         "domain": [
          0.535,
          0.7325
         ],
         "gridcolor": "#E1E5ED",
         "showgrid": false,
         "tickfont": {
          "color": "#4D5663"
         },
         "title": {
          "font": {
           "color": "#4D5663"
          },
          "text": ""
         },
         "zerolinecolor": "#E1E5ED"
        },
        "yaxis7": {
         "anchor": "x7",
         "domain": [
          0.535,
          0.7325
         ],
         "gridcolor": "#E1E5ED",
         "showgrid": false,
         "tickfont": {
          "color": "#4D5663"
         },
         "title": {
          "font": {
           "color": "#4D5663"
          },
          "text": ""
         },
         "zerolinecolor": "#E1E5ED"
        },
        "yaxis8": {
         "anchor": "x8",
         "domain": [
          0.535,
          0.7325
         ],
         "gridcolor": "#E1E5ED",
         "showgrid": false,
         "tickfont": {
          "color": "#4D5663"
         },
         "title": {
          "font": {
           "color": "#4D5663"
          },
          "text": ""
         },
         "zerolinecolor": "#E1E5ED"
        },
        "yaxis9": {
         "anchor": "x9",
         "domain": [
          0.2675,
          0.465
         ],
         "gridcolor": "#E1E5ED",
         "showgrid": false,
         "tickfont": {
          "color": "#4D5663"
         },
         "title": {
          "font": {
           "color": "#4D5663"
          },
          "text": ""
         },
         "zerolinecolor": "#E1E5ED"
        }
       }
      },
      "text/html": [
       "<div>                            <div id=\"8f612cf2-5968-4088-99dc-2921eb84912a\" class=\"plotly-graph-div\" style=\"height:525px; width:100%;\"></div>            <script type=\"text/javascript\">                require([\"plotly\"], function(Plotly) {                    window.PLOTLYENV=window.PLOTLYENV || {};\n",
       "                    window.PLOTLYENV.BASE_URL='https://plot.ly';                                    if (document.getElementById(\"8f612cf2-5968-4088-99dc-2921eb84912a\")) {                    Plotly.newPlot(                        \"8f612cf2-5968-4088-99dc-2921eb84912a\",                        [{\"histfunc\":\"count\",\"histnorm\":\"\",\"marker\":{\"color\":\"rgba(255, 153, 51, 1.0)\",\"line\":{\"color\":\"#4D5663\",\"width\":1.3}},\"name\":\"A\",\"nbinsx\":10,\"opacity\":0.8,\"orientation\":\"v\",\"x\":[-1.7190432325639267,-1.0444212488203901,-1.2281548596652592,-0.1880998649496823,-0.023666518836465148,0.27316113327019337,0.1392557211801331,-0.1494975001196965,-0.3281889047311518,0.7630128577687965,-0.9887978159070222,1.7602940270080043,-0.2443307029648765,0.0605555077267923,0.1608818236220502,1.4725369594926774,0.7975054750093041,-1.2597645955801993,-0.2836042636557704,-1.3410643134511464,-3.082807509142449,0.10040955668920086,0.1190737877344889,-0.5194247208533813,-0.16041717951496873,-0.42019672544201253,-1.04630908270048,-1.0746470636561334,-0.2507817944882134,1.3128743750521201,0.47677732348050544,-0.5016507885943113,-0.407164342153989,-0.4952068718492648,-1.9667141629945057,0.330738501568156,0.8231660176547433,-0.5410515779966526,-0.46213876737850607,0.7763166570459573,-0.6854161078703633,0.9258852531425174,0.4452776659573741,0.1433919156308816,-0.5098633064390098,-1.6418834096841597,-0.9962361443896429,0.22733971103411632,1.8023099350953908,-0.46223753528257855,1.2024043335033523,-0.021680216105745824,-0.11402535562032319,-1.4421018473008114,-1.9768110804667434,0.771427797107187,-1.0961710380387748,0.5565420326255095,-1.2145782582885567,0.30716424383178914,-0.12051682741956476,0.08116981124048986,0.44409374469694546,0.32083407252942153,0.3284735979520984,1.2192042097398912,-0.08975218466167159,-0.7140739603542511,0.4929877565568179,-1.2495573399079385,-0.6551128437891885,-0.8055926026047565,0.9759313697721583,-0.32086986532559747,0.24938951455511105,1.0442989049164786,-0.21363696146902908,0.570467105783283,0.2018693877141919,-0.13677987220970744,1.141767519963179,-0.006674965663933419,-1.4001570009577424,-1.223387694657123,-1.5242392898964017,0.36198253172389483,-1.1542234126310464,-0.0432496695709186,-0.5385172809397573,-0.22561010953102295,-0.8815368257685243,0.03440737070312135,0.380176200295355,0.5451192543663047,2.1009187284632276,1.2262948214107132,-1.1259771549283395,-0.4092797319064413,0.8238088159521023,2.701443028227148],\"xaxis\":\"x\",\"yaxis\":\"y\",\"type\":\"histogram\"},{\"line\":{\"color\":\"rgba(128, 128, 128, 1.0)\",\"dash\":\"solid\",\"shape\":\"linear\",\"width\":1.3},\"marker\":{\"size\":2,\"symbol\":\"circle\"},\"mode\":\"markers\",\"name\":\"A\",\"text\":\"\",\"x\":[-0.7453650578061853,-0.732485868230905,2.571440856130466,-1.3288014757770887,-0.37571548259490545,1.353542151236892,1.93286073520079,2.0533955712126146,-0.6382279278868261,1.006911855066834,-0.8508485018441402,-0.3345162882904823,0.8196876101635465,-0.5182830042287909,-0.8872208937328169,-0.6977613360071452,0.8329749491099315,1.6278156329603701,-0.5918599160082817,0.5979676482099805,-0.21096248033595624,0.6580358342875058,0.07754165507905827,-0.3918294815826402,-0.12282736170431181,-0.4380063170871286,0.24626681996064265,-0.4750318627570162,-0.2941999491946126,-1.5270439756558192,-0.18562428035420844,-0.5423611512392887,-1.2264486791305123,0.3676093812347672,1.033419704658409,-0.6567831499467796,-0.7032492021918825,-1.1557532341470151,0.5600311571157386,-0.9334259060271239,-0.5989668140682524,-1.3131661082909658,-0.9527241875250738,2.1076321001344995,0.7907645450042046,0.045317753071620864,-0.5422493792125058,0.09857118965031991,0.6052916763925353,-0.392869883278384,-2.1728167312609594,0.19129452413895515,-0.4482696369760158,0.7536670650604307,3.0297697508518535,-1.4843336527711002,0.24516289995024912,-0.07823342244748287,1.8600695154382882,0.1652695904259634,0.5803836626659503,0.23363792298583005,1.9757625435411996,0.2668853669235514,-0.9279029959151173,-0.4834953930206035,-0.6366637869200468,-0.15419250778739807,-1.0199977291771138,0.927786461653511,0.4029687170081699,0.8255307678139705,0.6168162267979052,0.6284463701216723,-1.9754562759861336,-2.104602026931329,0.9544746502463938,-1.0692132136829424,0.7449650141369406,0.34937979315948636,1.2680493437929372,0.45804927462531686,1.5888458959012468,-0.6233348854103765,-0.46910717109893024,-1.9199036442570905,1.8333260115694225,0.44932592617168915,-0.8415764549515934,-1.8682125418564481,-0.11105533756615614,0.17216434633769956,0.6110137590737573,0.8806559097453874,-1.3571457712679595,1.6712324155356806,-0.9400650924848841,-1.2679553064567328,-0.885456193058384,0.22823409955739418],\"xaxis\":\"x2\",\"y\":[-1.7190432325639267,-1.0444212488203901,-1.2281548596652592,-0.1880998649496823,-0.023666518836465148,0.27316113327019337,0.1392557211801331,-0.1494975001196965,-0.3281889047311518,0.7630128577687965,-0.9887978159070222,1.7602940270080043,-0.2443307029648765,0.0605555077267923,0.1608818236220502,1.4725369594926774,0.7975054750093041,-1.2597645955801993,-0.2836042636557704,-1.3410643134511464,-3.082807509142449,0.10040955668920086,0.1190737877344889,-0.5194247208533813,-0.16041717951496873,-0.42019672544201253,-1.04630908270048,-1.0746470636561334,-0.2507817944882134,1.3128743750521201,0.47677732348050544,-0.5016507885943113,-0.407164342153989,-0.4952068718492648,-1.9667141629945057,0.330738501568156,0.8231660176547433,-0.5410515779966526,-0.46213876737850607,0.7763166570459573,-0.6854161078703633,0.9258852531425174,0.4452776659573741,0.1433919156308816,-0.5098633064390098,-1.6418834096841597,-0.9962361443896429,0.22733971103411632,1.8023099350953908,-0.46223753528257855,1.2024043335033523,-0.021680216105745824,-0.11402535562032319,-1.4421018473008114,-1.9768110804667434,0.771427797107187,-1.0961710380387748,0.5565420326255095,-1.2145782582885567,0.30716424383178914,-0.12051682741956476,0.08116981124048986,0.44409374469694546,0.32083407252942153,0.3284735979520984,1.2192042097398912,-0.08975218466167159,-0.7140739603542511,0.4929877565568179,-1.2495573399079385,-0.6551128437891885,-0.8055926026047565,0.9759313697721583,-0.32086986532559747,0.24938951455511105,1.0442989049164786,-0.21363696146902908,0.570467105783283,0.2018693877141919,-0.13677987220970744,1.141767519963179,-0.006674965663933419,-1.4001570009577424,-1.223387694657123,-1.5242392898964017,0.36198253172389483,-1.1542234126310464,-0.0432496695709186,-0.5385172809397573,-0.22561010953102295,-0.8815368257685243,0.03440737070312135,0.380176200295355,0.5451192543663047,2.1009187284632276,1.2262948214107132,-1.1259771549283395,-0.4092797319064413,0.8238088159521023,2.701443028227148],\"yaxis\":\"y2\",\"type\":\"scatter\"},{\"line\":{\"color\":\"rgba(128, 128, 128, 1.0)\",\"dash\":\"solid\",\"shape\":\"linear\",\"width\":1.3},\"marker\":{\"size\":2,\"symbol\":\"circle\"},\"mode\":\"markers\",\"name\":\"A\",\"text\":\"\",\"x\":[-0.2749675429277293,1.9335738697817635,-0.665119830943065,-0.9252316804236914,1.0778923066152155,0.09614114435062843,-1.3013861632886932,-0.16683601823644134,-0.8287054846972015,-0.5754212693290882,-0.5333213753996034,0.670677131854899,0.6299184200543384,-0.20771670278614038,0.5326574703993484,-0.335603024423566,1.1158322125620264,0.465600987062726,1.2648695639487362,0.9643342871739559,1.0121368707060108,1.2593190048982323,-0.663309963598204,1.644255108143534,-0.9734410059359437,0.4377929440560526,0.8412287490834214,1.130785939539371,-1.6025673570846466,1.0058558286498844,-1.3754887279084487,-2.417982272375856,1.5154293905760403,-0.0770243980088766,0.2518943344359841,-0.49834527210663154,-1.7223016131675526,-0.6071283327981475,0.20026527026858776,-1.1900577442502676,-0.12645879968706566,-1.0640645206341206,-1.1808148826835738,0.9127152879851413,-2.3296362911548396,-0.5082559735896763,-0.523612349427821,0.2825608273518654,-0.5986937853542252,1.5886041083870857,0.5077542474050725,-0.23080366161010027,-1.6616857287890443,-0.7108527760230315,0.28025870639864114,0.032113514679689044,0.13641754500856487,-0.5508822684203448,-0.7516436959296743,-1.5120659105433971,-0.4930572945673687,-1.275143852446616,-0.2825458276470288,1.4905823434824856,2.1551477746808154,-0.9310367567773862,-1.061054264155902,1.0665214541362709,-1.8751765830661236,0.653153059453366,1.4506347515072997,-0.9590560765123353,-0.24383642257046884,1.6048707595410525,0.7071398167413696,0.004568993411117865,0.5129872622888353,-0.39286412014569133,-0.5221150039952728,1.3346594180348332,-0.7024981853269824,-0.11414500595587583,1.2003488756137317,1.7493417681494021,0.6752143546481547,-0.8184935604263186,-0.2581829311970378,0.9280082927314212,-0.6604373754484952,-0.18625962628404644,0.16822538927592579,0.6297523928533115,0.6924571249670833,0.28395965797574535,-1.3144078645262325,0.3839284076826824,-0.1993281290111844,-1.2003550856895944,1.1836024206075546,-0.12913662513353683],\"xaxis\":\"x3\",\"y\":[-1.7190432325639267,-1.0444212488203901,-1.2281548596652592,-0.1880998649496823,-0.023666518836465148,0.27316113327019337,0.1392557211801331,-0.1494975001196965,-0.3281889047311518,0.7630128577687965,-0.9887978159070222,1.7602940270080043,-0.2443307029648765,0.0605555077267923,0.1608818236220502,1.4725369594926774,0.7975054750093041,-1.2597645955801993,-0.2836042636557704,-1.3410643134511464,-3.082807509142449,0.10040955668920086,0.1190737877344889,-0.5194247208533813,-0.16041717951496873,-0.42019672544201253,-1.04630908270048,-1.0746470636561334,-0.2507817944882134,1.3128743750521201,0.47677732348050544,-0.5016507885943113,-0.407164342153989,-0.4952068718492648,-1.9667141629945057,0.330738501568156,0.8231660176547433,-0.5410515779966526,-0.46213876737850607,0.7763166570459573,-0.6854161078703633,0.9258852531425174,0.4452776659573741,0.1433919156308816,-0.5098633064390098,-1.6418834096841597,-0.9962361443896429,0.22733971103411632,1.8023099350953908,-0.46223753528257855,1.2024043335033523,-0.021680216105745824,-0.11402535562032319,-1.4421018473008114,-1.9768110804667434,0.771427797107187,-1.0961710380387748,0.5565420326255095,-1.2145782582885567,0.30716424383178914,-0.12051682741956476,0.08116981124048986,0.44409374469694546,0.32083407252942153,0.3284735979520984,1.2192042097398912,-0.08975218466167159,-0.7140739603542511,0.4929877565568179,-1.2495573399079385,-0.6551128437891885,-0.8055926026047565,0.9759313697721583,-0.32086986532559747,0.24938951455511105,1.0442989049164786,-0.21363696146902908,0.570467105783283,0.2018693877141919,-0.13677987220970744,1.141767519963179,-0.006674965663933419,-1.4001570009577424,-1.223387694657123,-1.5242392898964017,0.36198253172389483,-1.1542234126310464,-0.0432496695709186,-0.5385172809397573,-0.22561010953102295,-0.8815368257685243,0.03440737070312135,0.380176200295355,0.5451192543663047,2.1009187284632276,1.2262948214107132,-1.1259771549283395,-0.4092797319064413,0.8238088159521023,2.701443028227148],\"yaxis\":\"y3\",\"type\":\"scatter\"},{\"line\":{\"color\":\"rgba(128, 128, 128, 1.0)\",\"dash\":\"solid\",\"shape\":\"linear\",\"width\":1.3},\"marker\":{\"size\":2,\"symbol\":\"circle\"},\"mode\":\"markers\",\"name\":\"A\",\"text\":\"\",\"x\":[0.3607780144857141,-1.736483245906638,1.370195273582514,-1.5718797598932561,-0.05756355422800969,-0.6772751114683593,-0.07529215899163981,-0.1452912408818085,0.49035405932254233,0.30234597945250474,0.6842480903876552,-0.40599823004490554,1.2582020482948042,0.21291115134881447,-0.015374437747275623,0.6390283572173161,-0.027764230845340396,0.09392743468720419,0.2007828003880154,0.7914466592262185,-0.8818917132934164,-0.5354115159200049,0.9787343037816126,0.9041879207648577,0.580346319482985,0.5587553277693843,-0.5767422132236388,1.7041155268185804,0.35955119695135196,1.4470150968554383,0.5709417055446602,2.517413082856456,-2.41261764029486,0.8167752802539817,-0.950665900490461,0.019441322827203806,1.3445172531158445,0.09164091168883791,-0.9804558464000153,0.9950278644440643,2.040039457635569,0.8233652503576577,0.09320935942000907,0.7824692929688539,-0.033251792009062156,0.8309132583341456,-2.055074057365009,2.3001823769277983,1.4735387567281197,1.0523117396903963,-0.07069267403463227,-0.20586395159910603,-0.2449212954706954,-0.9193848496056759,0.8022003396951617,-0.4274016250026047,-0.8607571099585395,-0.12271895141875051,-1.0896364079342726,0.33004573423334593,2.420637688738529,0.048025965534223704,0.49528546231342674,-0.2778627476477282,-1.849100950543068,-0.0019751977459464398,0.2647954570670259,-0.62459940196595,-0.22351139186585264,-0.4726220462557567,-1.0175813974574868,-0.2703853511514275,0.3392617094139369,2.3134911319417726,0.554213911969139,-0.37538440210672497,-0.3187688768183547,0.9828674479352021,-0.7491799245032438,-0.9399274251094801,-0.1524355810165516,0.617404590362444,-1.4671006696257103,-0.07320755120663704,-0.5423822124016995,0.6862267390834078,0.8431217639131952,0.4796437026135891,-0.6350121466739759,0.003730501791416347,-0.10942054044250821,1.15951300833599,-1.0405210380598184,0.6998039483445962,-0.3150735159220903,-0.7932227671372611,0.8005035393487423,-1.863356499942961,1.779389968330466,-0.1498312213827943],\"xaxis\":\"x4\",\"y\":[-1.7190432325639267,-1.0444212488203901,-1.2281548596652592,-0.1880998649496823,-0.023666518836465148,0.27316113327019337,0.1392557211801331,-0.1494975001196965,-0.3281889047311518,0.7630128577687965,-0.9887978159070222,1.7602940270080043,-0.2443307029648765,0.0605555077267923,0.1608818236220502,1.4725369594926774,0.7975054750093041,-1.2597645955801993,-0.2836042636557704,-1.3410643134511464,-3.082807509142449,0.10040955668920086,0.1190737877344889,-0.5194247208533813,-0.16041717951496873,-0.42019672544201253,-1.04630908270048,-1.0746470636561334,-0.2507817944882134,1.3128743750521201,0.47677732348050544,-0.5016507885943113,-0.407164342153989,-0.4952068718492648,-1.9667141629945057,0.330738501568156,0.8231660176547433,-0.5410515779966526,-0.46213876737850607,0.7763166570459573,-0.6854161078703633,0.9258852531425174,0.4452776659573741,0.1433919156308816,-0.5098633064390098,-1.6418834096841597,-0.9962361443896429,0.22733971103411632,1.8023099350953908,-0.46223753528257855,1.2024043335033523,-0.021680216105745824,-0.11402535562032319,-1.4421018473008114,-1.9768110804667434,0.771427797107187,-1.0961710380387748,0.5565420326255095,-1.2145782582885567,0.30716424383178914,-0.12051682741956476,0.08116981124048986,0.44409374469694546,0.32083407252942153,0.3284735979520984,1.2192042097398912,-0.08975218466167159,-0.7140739603542511,0.4929877565568179,-1.2495573399079385,-0.6551128437891885,-0.8055926026047565,0.9759313697721583,-0.32086986532559747,0.24938951455511105,1.0442989049164786,-0.21363696146902908,0.570467105783283,0.2018693877141919,-0.13677987220970744,1.141767519963179,-0.006674965663933419,-1.4001570009577424,-1.223387694657123,-1.5242392898964017,0.36198253172389483,-1.1542234126310464,-0.0432496695709186,-0.5385172809397573,-0.22561010953102295,-0.8815368257685243,0.03440737070312135,0.380176200295355,0.5451192543663047,2.1009187284632276,1.2262948214107132,-1.1259771549283395,-0.4092797319064413,0.8238088159521023,2.701443028227148],\"yaxis\":\"y4\",\"type\":\"scatter\"},{\"line\":{\"color\":\"rgba(128, 128, 128, 1.0)\",\"dash\":\"solid\",\"shape\":\"linear\",\"width\":1.3},\"marker\":{\"size\":2,\"symbol\":\"circle\"},\"mode\":\"markers\",\"name\":\"B\",\"text\":\"\",\"x\":[-1.7190432325639267,-1.0444212488203901,-1.2281548596652592,-0.1880998649496823,-0.023666518836465148,0.27316113327019337,0.1392557211801331,-0.1494975001196965,-0.3281889047311518,0.7630128577687965,-0.9887978159070222,1.7602940270080043,-0.2443307029648765,0.0605555077267923,0.1608818236220502,1.4725369594926774,0.7975054750093041,-1.2597645955801993,-0.2836042636557704,-1.3410643134511464,-3.082807509142449,0.10040955668920086,0.1190737877344889,-0.5194247208533813,-0.16041717951496873,-0.42019672544201253,-1.04630908270048,-1.0746470636561334,-0.2507817944882134,1.3128743750521201,0.47677732348050544,-0.5016507885943113,-0.407164342153989,-0.4952068718492648,-1.9667141629945057,0.330738501568156,0.8231660176547433,-0.5410515779966526,-0.46213876737850607,0.7763166570459573,-0.6854161078703633,0.9258852531425174,0.4452776659573741,0.1433919156308816,-0.5098633064390098,-1.6418834096841597,-0.9962361443896429,0.22733971103411632,1.8023099350953908,-0.46223753528257855,1.2024043335033523,-0.021680216105745824,-0.11402535562032319,-1.4421018473008114,-1.9768110804667434,0.771427797107187,-1.0961710380387748,0.5565420326255095,-1.2145782582885567,0.30716424383178914,-0.12051682741956476,0.08116981124048986,0.44409374469694546,0.32083407252942153,0.3284735979520984,1.2192042097398912,-0.08975218466167159,-0.7140739603542511,0.4929877565568179,-1.2495573399079385,-0.6551128437891885,-0.8055926026047565,0.9759313697721583,-0.32086986532559747,0.24938951455511105,1.0442989049164786,-0.21363696146902908,0.570467105783283,0.2018693877141919,-0.13677987220970744,1.141767519963179,-0.006674965663933419,-1.4001570009577424,-1.223387694657123,-1.5242392898964017,0.36198253172389483,-1.1542234126310464,-0.0432496695709186,-0.5385172809397573,-0.22561010953102295,-0.8815368257685243,0.03440737070312135,0.380176200295355,0.5451192543663047,2.1009187284632276,1.2262948214107132,-1.1259771549283395,-0.4092797319064413,0.8238088159521023,2.701443028227148],\"xaxis\":\"x5\",\"y\":[-0.7453650578061853,-0.732485868230905,2.571440856130466,-1.3288014757770887,-0.37571548259490545,1.353542151236892,1.93286073520079,2.0533955712126146,-0.6382279278868261,1.006911855066834,-0.8508485018441402,-0.3345162882904823,0.8196876101635465,-0.5182830042287909,-0.8872208937328169,-0.6977613360071452,0.8329749491099315,1.6278156329603701,-0.5918599160082817,0.5979676482099805,-0.21096248033595624,0.6580358342875058,0.07754165507905827,-0.3918294815826402,-0.12282736170431181,-0.4380063170871286,0.24626681996064265,-0.4750318627570162,-0.2941999491946126,-1.5270439756558192,-0.18562428035420844,-0.5423611512392887,-1.2264486791305123,0.3676093812347672,1.033419704658409,-0.6567831499467796,-0.7032492021918825,-1.1557532341470151,0.5600311571157386,-0.9334259060271239,-0.5989668140682524,-1.3131661082909658,-0.9527241875250738,2.1076321001344995,0.7907645450042046,0.045317753071620864,-0.5422493792125058,0.09857118965031991,0.6052916763925353,-0.392869883278384,-2.1728167312609594,0.19129452413895515,-0.4482696369760158,0.7536670650604307,3.0297697508518535,-1.4843336527711002,0.24516289995024912,-0.07823342244748287,1.8600695154382882,0.1652695904259634,0.5803836626659503,0.23363792298583005,1.9757625435411996,0.2668853669235514,-0.9279029959151173,-0.4834953930206035,-0.6366637869200468,-0.15419250778739807,-1.0199977291771138,0.927786461653511,0.4029687170081699,0.8255307678139705,0.6168162267979052,0.6284463701216723,-1.9754562759861336,-2.104602026931329,0.9544746502463938,-1.0692132136829424,0.7449650141369406,0.34937979315948636,1.2680493437929372,0.45804927462531686,1.5888458959012468,-0.6233348854103765,-0.46910717109893024,-1.9199036442570905,1.8333260115694225,0.44932592617168915,-0.8415764549515934,-1.8682125418564481,-0.11105533756615614,0.17216434633769956,0.6110137590737573,0.8806559097453874,-1.3571457712679595,1.6712324155356806,-0.9400650924848841,-1.2679553064567328,-0.885456193058384,0.22823409955739418],\"yaxis\":\"y5\",\"type\":\"scatter\"},{\"histfunc\":\"count\",\"histnorm\":\"\",\"marker\":{\"color\":\"rgba(55, 128, 191, 1.0)\",\"line\":{\"color\":\"#4D5663\",\"width\":1.3}},\"name\":\"B\",\"nbinsx\":10,\"opacity\":0.8,\"orientation\":\"v\",\"x\":[-0.7453650578061853,-0.732485868230905,2.571440856130466,-1.3288014757770887,-0.37571548259490545,1.353542151236892,1.93286073520079,2.0533955712126146,-0.6382279278868261,1.006911855066834,-0.8508485018441402,-0.3345162882904823,0.8196876101635465,-0.5182830042287909,-0.8872208937328169,-0.6977613360071452,0.8329749491099315,1.6278156329603701,-0.5918599160082817,0.5979676482099805,-0.21096248033595624,0.6580358342875058,0.07754165507905827,-0.3918294815826402,-0.12282736170431181,-0.4380063170871286,0.24626681996064265,-0.4750318627570162,-0.2941999491946126,-1.5270439756558192,-0.18562428035420844,-0.5423611512392887,-1.2264486791305123,0.3676093812347672,1.033419704658409,-0.6567831499467796,-0.7032492021918825,-1.1557532341470151,0.5600311571157386,-0.9334259060271239,-0.5989668140682524,-1.3131661082909658,-0.9527241875250738,2.1076321001344995,0.7907645450042046,0.045317753071620864,-0.5422493792125058,0.09857118965031991,0.6052916763925353,-0.392869883278384,-2.1728167312609594,0.19129452413895515,-0.4482696369760158,0.7536670650604307,3.0297697508518535,-1.4843336527711002,0.24516289995024912,-0.07823342244748287,1.8600695154382882,0.1652695904259634,0.5803836626659503,0.23363792298583005,1.9757625435411996,0.2668853669235514,-0.9279029959151173,-0.4834953930206035,-0.6366637869200468,-0.15419250778739807,-1.0199977291771138,0.927786461653511,0.4029687170081699,0.8255307678139705,0.6168162267979052,0.6284463701216723,-1.9754562759861336,-2.104602026931329,0.9544746502463938,-1.0692132136829424,0.7449650141369406,0.34937979315948636,1.2680493437929372,0.45804927462531686,1.5888458959012468,-0.6233348854103765,-0.46910717109893024,-1.9199036442570905,1.8333260115694225,0.44932592617168915,-0.8415764549515934,-1.8682125418564481,-0.11105533756615614,0.17216434633769956,0.6110137590737573,0.8806559097453874,-1.3571457712679595,1.6712324155356806,-0.9400650924848841,-1.2679553064567328,-0.885456193058384,0.22823409955739418],\"xaxis\":\"x6\",\"yaxis\":\"y6\",\"type\":\"histogram\"},{\"line\":{\"color\":\"rgba(128, 128, 128, 1.0)\",\"dash\":\"solid\",\"shape\":\"linear\",\"width\":1.3},\"marker\":{\"size\":2,\"symbol\":\"circle\"},\"mode\":\"markers\",\"name\":\"B\",\"text\":\"\",\"x\":[-0.2749675429277293,1.9335738697817635,-0.665119830943065,-0.9252316804236914,1.0778923066152155,0.09614114435062843,-1.3013861632886932,-0.16683601823644134,-0.8287054846972015,-0.5754212693290882,-0.5333213753996034,0.670677131854899,0.6299184200543384,-0.20771670278614038,0.5326574703993484,-0.335603024423566,1.1158322125620264,0.465600987062726,1.2648695639487362,0.9643342871739559,1.0121368707060108,1.2593190048982323,-0.663309963598204,1.644255108143534,-0.9734410059359437,0.4377929440560526,0.8412287490834214,1.130785939539371,-1.6025673570846466,1.0058558286498844,-1.3754887279084487,-2.417982272375856,1.5154293905760403,-0.0770243980088766,0.2518943344359841,-0.49834527210663154,-1.7223016131675526,-0.6071283327981475,0.20026527026858776,-1.1900577442502676,-0.12645879968706566,-1.0640645206341206,-1.1808148826835738,0.9127152879851413,-2.3296362911548396,-0.5082559735896763,-0.523612349427821,0.2825608273518654,-0.5986937853542252,1.5886041083870857,0.5077542474050725,-0.23080366161010027,-1.6616857287890443,-0.7108527760230315,0.28025870639864114,0.032113514679689044,0.13641754500856487,-0.5508822684203448,-0.7516436959296743,-1.5120659105433971,-0.4930572945673687,-1.275143852446616,-0.2825458276470288,1.4905823434824856,2.1551477746808154,-0.9310367567773862,-1.061054264155902,1.0665214541362709,-1.8751765830661236,0.653153059453366,1.4506347515072997,-0.9590560765123353,-0.24383642257046884,1.6048707595410525,0.7071398167413696,0.004568993411117865,0.5129872622888353,-0.39286412014569133,-0.5221150039952728,1.3346594180348332,-0.7024981853269824,-0.11414500595587583,1.2003488756137317,1.7493417681494021,0.6752143546481547,-0.8184935604263186,-0.2581829311970378,0.9280082927314212,-0.6604373754484952,-0.18625962628404644,0.16822538927592579,0.6297523928533115,0.6924571249670833,0.28395965797574535,-1.3144078645262325,0.3839284076826824,-0.1993281290111844,-1.2003550856895944,1.1836024206075546,-0.12913662513353683],\"xaxis\":\"x7\",\"y\":[-0.7453650578061853,-0.732485868230905,2.571440856130466,-1.3288014757770887,-0.37571548259490545,1.353542151236892,1.93286073520079,2.0533955712126146,-0.6382279278868261,1.006911855066834,-0.8508485018441402,-0.3345162882904823,0.8196876101635465,-0.5182830042287909,-0.8872208937328169,-0.6977613360071452,0.8329749491099315,1.6278156329603701,-0.5918599160082817,0.5979676482099805,-0.21096248033595624,0.6580358342875058,0.07754165507905827,-0.3918294815826402,-0.12282736170431181,-0.4380063170871286,0.24626681996064265,-0.4750318627570162,-0.2941999491946126,-1.5270439756558192,-0.18562428035420844,-0.5423611512392887,-1.2264486791305123,0.3676093812347672,1.033419704658409,-0.6567831499467796,-0.7032492021918825,-1.1557532341470151,0.5600311571157386,-0.9334259060271239,-0.5989668140682524,-1.3131661082909658,-0.9527241875250738,2.1076321001344995,0.7907645450042046,0.045317753071620864,-0.5422493792125058,0.09857118965031991,0.6052916763925353,-0.392869883278384,-2.1728167312609594,0.19129452413895515,-0.4482696369760158,0.7536670650604307,3.0297697508518535,-1.4843336527711002,0.24516289995024912,-0.07823342244748287,1.8600695154382882,0.1652695904259634,0.5803836626659503,0.23363792298583005,1.9757625435411996,0.2668853669235514,-0.9279029959151173,-0.4834953930206035,-0.6366637869200468,-0.15419250778739807,-1.0199977291771138,0.927786461653511,0.4029687170081699,0.8255307678139705,0.6168162267979052,0.6284463701216723,-1.9754562759861336,-2.104602026931329,0.9544746502463938,-1.0692132136829424,0.7449650141369406,0.34937979315948636,1.2680493437929372,0.45804927462531686,1.5888458959012468,-0.6233348854103765,-0.46910717109893024,-1.9199036442570905,1.8333260115694225,0.44932592617168915,-0.8415764549515934,-1.8682125418564481,-0.11105533756615614,0.17216434633769956,0.6110137590737573,0.8806559097453874,-1.3571457712679595,1.6712324155356806,-0.9400650924848841,-1.2679553064567328,-0.885456193058384,0.22823409955739418],\"yaxis\":\"y7\",\"type\":\"scatter\"},{\"line\":{\"color\":\"rgba(128, 128, 128, 1.0)\",\"dash\":\"solid\",\"shape\":\"linear\",\"width\":1.3},\"marker\":{\"size\":2,\"symbol\":\"circle\"},\"mode\":\"markers\",\"name\":\"B\",\"text\":\"\",\"x\":[0.3607780144857141,-1.736483245906638,1.370195273582514,-1.5718797598932561,-0.05756355422800969,-0.6772751114683593,-0.07529215899163981,-0.1452912408818085,0.49035405932254233,0.30234597945250474,0.6842480903876552,-0.40599823004490554,1.2582020482948042,0.21291115134881447,-0.015374437747275623,0.6390283572173161,-0.027764230845340396,0.09392743468720419,0.2007828003880154,0.7914466592262185,-0.8818917132934164,-0.5354115159200049,0.9787343037816126,0.9041879207648577,0.580346319482985,0.5587553277693843,-0.5767422132236388,1.7041155268185804,0.35955119695135196,1.4470150968554383,0.5709417055446602,2.517413082856456,-2.41261764029486,0.8167752802539817,-0.950665900490461,0.019441322827203806,1.3445172531158445,0.09164091168883791,-0.9804558464000153,0.9950278644440643,2.040039457635569,0.8233652503576577,0.09320935942000907,0.7824692929688539,-0.033251792009062156,0.8309132583341456,-2.055074057365009,2.3001823769277983,1.4735387567281197,1.0523117396903963,-0.07069267403463227,-0.20586395159910603,-0.2449212954706954,-0.9193848496056759,0.8022003396951617,-0.4274016250026047,-0.8607571099585395,-0.12271895141875051,-1.0896364079342726,0.33004573423334593,2.420637688738529,0.048025965534223704,0.49528546231342674,-0.2778627476477282,-1.849100950543068,-0.0019751977459464398,0.2647954570670259,-0.62459940196595,-0.22351139186585264,-0.4726220462557567,-1.0175813974574868,-0.2703853511514275,0.3392617094139369,2.3134911319417726,0.554213911969139,-0.37538440210672497,-0.3187688768183547,0.9828674479352021,-0.7491799245032438,-0.9399274251094801,-0.1524355810165516,0.617404590362444,-1.4671006696257103,-0.07320755120663704,-0.5423822124016995,0.6862267390834078,0.8431217639131952,0.4796437026135891,-0.6350121466739759,0.003730501791416347,-0.10942054044250821,1.15951300833599,-1.0405210380598184,0.6998039483445962,-0.3150735159220903,-0.7932227671372611,0.8005035393487423,-1.863356499942961,1.779389968330466,-0.1498312213827943],\"xaxis\":\"x8\",\"y\":[-0.7453650578061853,-0.732485868230905,2.571440856130466,-1.3288014757770887,-0.37571548259490545,1.353542151236892,1.93286073520079,2.0533955712126146,-0.6382279278868261,1.006911855066834,-0.8508485018441402,-0.3345162882904823,0.8196876101635465,-0.5182830042287909,-0.8872208937328169,-0.6977613360071452,0.8329749491099315,1.6278156329603701,-0.5918599160082817,0.5979676482099805,-0.21096248033595624,0.6580358342875058,0.07754165507905827,-0.3918294815826402,-0.12282736170431181,-0.4380063170871286,0.24626681996064265,-0.4750318627570162,-0.2941999491946126,-1.5270439756558192,-0.18562428035420844,-0.5423611512392887,-1.2264486791305123,0.3676093812347672,1.033419704658409,-0.6567831499467796,-0.7032492021918825,-1.1557532341470151,0.5600311571157386,-0.9334259060271239,-0.5989668140682524,-1.3131661082909658,-0.9527241875250738,2.1076321001344995,0.7907645450042046,0.045317753071620864,-0.5422493792125058,0.09857118965031991,0.6052916763925353,-0.392869883278384,-2.1728167312609594,0.19129452413895515,-0.4482696369760158,0.7536670650604307,3.0297697508518535,-1.4843336527711002,0.24516289995024912,-0.07823342244748287,1.8600695154382882,0.1652695904259634,0.5803836626659503,0.23363792298583005,1.9757625435411996,0.2668853669235514,-0.9279029959151173,-0.4834953930206035,-0.6366637869200468,-0.15419250778739807,-1.0199977291771138,0.927786461653511,0.4029687170081699,0.8255307678139705,0.6168162267979052,0.6284463701216723,-1.9754562759861336,-2.104602026931329,0.9544746502463938,-1.0692132136829424,0.7449650141369406,0.34937979315948636,1.2680493437929372,0.45804927462531686,1.5888458959012468,-0.6233348854103765,-0.46910717109893024,-1.9199036442570905,1.8333260115694225,0.44932592617168915,-0.8415764549515934,-1.8682125418564481,-0.11105533756615614,0.17216434633769956,0.6110137590737573,0.8806559097453874,-1.3571457712679595,1.6712324155356806,-0.9400650924848841,-1.2679553064567328,-0.885456193058384,0.22823409955739418],\"yaxis\":\"y8\",\"type\":\"scatter\"},{\"line\":{\"color\":\"rgba(128, 128, 128, 1.0)\",\"dash\":\"solid\",\"shape\":\"linear\",\"width\":1.3},\"marker\":{\"size\":2,\"symbol\":\"circle\"},\"mode\":\"markers\",\"name\":\"C\",\"text\":\"\",\"x\":[-1.7190432325639267,-1.0444212488203901,-1.2281548596652592,-0.1880998649496823,-0.023666518836465148,0.27316113327019337,0.1392557211801331,-0.1494975001196965,-0.3281889047311518,0.7630128577687965,-0.9887978159070222,1.7602940270080043,-0.2443307029648765,0.0605555077267923,0.1608818236220502,1.4725369594926774,0.7975054750093041,-1.2597645955801993,-0.2836042636557704,-1.3410643134511464,-3.082807509142449,0.10040955668920086,0.1190737877344889,-0.5194247208533813,-0.16041717951496873,-0.42019672544201253,-1.04630908270048,-1.0746470636561334,-0.2507817944882134,1.3128743750521201,0.47677732348050544,-0.5016507885943113,-0.407164342153989,-0.4952068718492648,-1.9667141629945057,0.330738501568156,0.8231660176547433,-0.5410515779966526,-0.46213876737850607,0.7763166570459573,-0.6854161078703633,0.9258852531425174,0.4452776659573741,0.1433919156308816,-0.5098633064390098,-1.6418834096841597,-0.9962361443896429,0.22733971103411632,1.8023099350953908,-0.46223753528257855,1.2024043335033523,-0.021680216105745824,-0.11402535562032319,-1.4421018473008114,-1.9768110804667434,0.771427797107187,-1.0961710380387748,0.5565420326255095,-1.2145782582885567,0.30716424383178914,-0.12051682741956476,0.08116981124048986,0.44409374469694546,0.32083407252942153,0.3284735979520984,1.2192042097398912,-0.08975218466167159,-0.7140739603542511,0.4929877565568179,-1.2495573399079385,-0.6551128437891885,-0.8055926026047565,0.9759313697721583,-0.32086986532559747,0.24938951455511105,1.0442989049164786,-0.21363696146902908,0.570467105783283,0.2018693877141919,-0.13677987220970744,1.141767519963179,-0.006674965663933419,-1.4001570009577424,-1.223387694657123,-1.5242392898964017,0.36198253172389483,-1.1542234126310464,-0.0432496695709186,-0.5385172809397573,-0.22561010953102295,-0.8815368257685243,0.03440737070312135,0.380176200295355,0.5451192543663047,2.1009187284632276,1.2262948214107132,-1.1259771549283395,-0.4092797319064413,0.8238088159521023,2.701443028227148],\"xaxis\":\"x9\",\"y\":[-0.2749675429277293,1.9335738697817635,-0.665119830943065,-0.9252316804236914,1.0778923066152155,0.09614114435062843,-1.3013861632886932,-0.16683601823644134,-0.8287054846972015,-0.5754212693290882,-0.5333213753996034,0.670677131854899,0.6299184200543384,-0.20771670278614038,0.5326574703993484,-0.335603024423566,1.1158322125620264,0.465600987062726,1.2648695639487362,0.9643342871739559,1.0121368707060108,1.2593190048982323,-0.663309963598204,1.644255108143534,-0.9734410059359437,0.4377929440560526,0.8412287490834214,1.130785939539371,-1.6025673570846466,1.0058558286498844,-1.3754887279084487,-2.417982272375856,1.5154293905760403,-0.0770243980088766,0.2518943344359841,-0.49834527210663154,-1.7223016131675526,-0.6071283327981475,0.20026527026858776,-1.1900577442502676,-0.12645879968706566,-1.0640645206341206,-1.1808148826835738,0.9127152879851413,-2.3296362911548396,-0.5082559735896763,-0.523612349427821,0.2825608273518654,-0.5986937853542252,1.5886041083870857,0.5077542474050725,-0.23080366161010027,-1.6616857287890443,-0.7108527760230315,0.28025870639864114,0.032113514679689044,0.13641754500856487,-0.5508822684203448,-0.7516436959296743,-1.5120659105433971,-0.4930572945673687,-1.275143852446616,-0.2825458276470288,1.4905823434824856,2.1551477746808154,-0.9310367567773862,-1.061054264155902,1.0665214541362709,-1.8751765830661236,0.653153059453366,1.4506347515072997,-0.9590560765123353,-0.24383642257046884,1.6048707595410525,0.7071398167413696,0.004568993411117865,0.5129872622888353,-0.39286412014569133,-0.5221150039952728,1.3346594180348332,-0.7024981853269824,-0.11414500595587583,1.2003488756137317,1.7493417681494021,0.6752143546481547,-0.8184935604263186,-0.2581829311970378,0.9280082927314212,-0.6604373754484952,-0.18625962628404644,0.16822538927592579,0.6297523928533115,0.6924571249670833,0.28395965797574535,-1.3144078645262325,0.3839284076826824,-0.1993281290111844,-1.2003550856895944,1.1836024206075546,-0.12913662513353683],\"yaxis\":\"y9\",\"type\":\"scatter\"},{\"line\":{\"color\":\"rgba(128, 128, 128, 1.0)\",\"dash\":\"solid\",\"shape\":\"linear\",\"width\":1.3},\"marker\":{\"size\":2,\"symbol\":\"circle\"},\"mode\":\"markers\",\"name\":\"C\",\"text\":\"\",\"x\":[-0.7453650578061853,-0.732485868230905,2.571440856130466,-1.3288014757770887,-0.37571548259490545,1.353542151236892,1.93286073520079,2.0533955712126146,-0.6382279278868261,1.006911855066834,-0.8508485018441402,-0.3345162882904823,0.8196876101635465,-0.5182830042287909,-0.8872208937328169,-0.6977613360071452,0.8329749491099315,1.6278156329603701,-0.5918599160082817,0.5979676482099805,-0.21096248033595624,0.6580358342875058,0.07754165507905827,-0.3918294815826402,-0.12282736170431181,-0.4380063170871286,0.24626681996064265,-0.4750318627570162,-0.2941999491946126,-1.5270439756558192,-0.18562428035420844,-0.5423611512392887,-1.2264486791305123,0.3676093812347672,1.033419704658409,-0.6567831499467796,-0.7032492021918825,-1.1557532341470151,0.5600311571157386,-0.9334259060271239,-0.5989668140682524,-1.3131661082909658,-0.9527241875250738,2.1076321001344995,0.7907645450042046,0.045317753071620864,-0.5422493792125058,0.09857118965031991,0.6052916763925353,-0.392869883278384,-2.1728167312609594,0.19129452413895515,-0.4482696369760158,0.7536670650604307,3.0297697508518535,-1.4843336527711002,0.24516289995024912,-0.07823342244748287,1.8600695154382882,0.1652695904259634,0.5803836626659503,0.23363792298583005,1.9757625435411996,0.2668853669235514,-0.9279029959151173,-0.4834953930206035,-0.6366637869200468,-0.15419250778739807,-1.0199977291771138,0.927786461653511,0.4029687170081699,0.8255307678139705,0.6168162267979052,0.6284463701216723,-1.9754562759861336,-2.104602026931329,0.9544746502463938,-1.0692132136829424,0.7449650141369406,0.34937979315948636,1.2680493437929372,0.45804927462531686,1.5888458959012468,-0.6233348854103765,-0.46910717109893024,-1.9199036442570905,1.8333260115694225,0.44932592617168915,-0.8415764549515934,-1.8682125418564481,-0.11105533756615614,0.17216434633769956,0.6110137590737573,0.8806559097453874,-1.3571457712679595,1.6712324155356806,-0.9400650924848841,-1.2679553064567328,-0.885456193058384,0.22823409955739418],\"xaxis\":\"x10\",\"y\":[-0.2749675429277293,1.9335738697817635,-0.665119830943065,-0.9252316804236914,1.0778923066152155,0.09614114435062843,-1.3013861632886932,-0.16683601823644134,-0.8287054846972015,-0.5754212693290882,-0.5333213753996034,0.670677131854899,0.6299184200543384,-0.20771670278614038,0.5326574703993484,-0.335603024423566,1.1158322125620264,0.465600987062726,1.2648695639487362,0.9643342871739559,1.0121368707060108,1.2593190048982323,-0.663309963598204,1.644255108143534,-0.9734410059359437,0.4377929440560526,0.8412287490834214,1.130785939539371,-1.6025673570846466,1.0058558286498844,-1.3754887279084487,-2.417982272375856,1.5154293905760403,-0.0770243980088766,0.2518943344359841,-0.49834527210663154,-1.7223016131675526,-0.6071283327981475,0.20026527026858776,-1.1900577442502676,-0.12645879968706566,-1.0640645206341206,-1.1808148826835738,0.9127152879851413,-2.3296362911548396,-0.5082559735896763,-0.523612349427821,0.2825608273518654,-0.5986937853542252,1.5886041083870857,0.5077542474050725,-0.23080366161010027,-1.6616857287890443,-0.7108527760230315,0.28025870639864114,0.032113514679689044,0.13641754500856487,-0.5508822684203448,-0.7516436959296743,-1.5120659105433971,-0.4930572945673687,-1.275143852446616,-0.2825458276470288,1.4905823434824856,2.1551477746808154,-0.9310367567773862,-1.061054264155902,1.0665214541362709,-1.8751765830661236,0.653153059453366,1.4506347515072997,-0.9590560765123353,-0.24383642257046884,1.6048707595410525,0.7071398167413696,0.004568993411117865,0.5129872622888353,-0.39286412014569133,-0.5221150039952728,1.3346594180348332,-0.7024981853269824,-0.11414500595587583,1.2003488756137317,1.7493417681494021,0.6752143546481547,-0.8184935604263186,-0.2581829311970378,0.9280082927314212,-0.6604373754484952,-0.18625962628404644,0.16822538927592579,0.6297523928533115,0.6924571249670833,0.28395965797574535,-1.3144078645262325,0.3839284076826824,-0.1993281290111844,-1.2003550856895944,1.1836024206075546,-0.12913662513353683],\"yaxis\":\"y10\",\"type\":\"scatter\"},{\"histfunc\":\"count\",\"histnorm\":\"\",\"marker\":{\"color\":\"rgba(50, 171, 96, 1.0)\",\"line\":{\"color\":\"#4D5663\",\"width\":1.3}},\"name\":\"C\",\"nbinsx\":10,\"opacity\":0.8,\"orientation\":\"v\",\"x\":[-0.2749675429277293,1.9335738697817635,-0.665119830943065,-0.9252316804236914,1.0778923066152155,0.09614114435062843,-1.3013861632886932,-0.16683601823644134,-0.8287054846972015,-0.5754212693290882,-0.5333213753996034,0.670677131854899,0.6299184200543384,-0.20771670278614038,0.5326574703993484,-0.335603024423566,1.1158322125620264,0.465600987062726,1.2648695639487362,0.9643342871739559,1.0121368707060108,1.2593190048982323,-0.663309963598204,1.644255108143534,-0.9734410059359437,0.4377929440560526,0.8412287490834214,1.130785939539371,-1.6025673570846466,1.0058558286498844,-1.3754887279084487,-2.417982272375856,1.5154293905760403,-0.0770243980088766,0.2518943344359841,-0.49834527210663154,-1.7223016131675526,-0.6071283327981475,0.20026527026858776,-1.1900577442502676,-0.12645879968706566,-1.0640645206341206,-1.1808148826835738,0.9127152879851413,-2.3296362911548396,-0.5082559735896763,-0.523612349427821,0.2825608273518654,-0.5986937853542252,1.5886041083870857,0.5077542474050725,-0.23080366161010027,-1.6616857287890443,-0.7108527760230315,0.28025870639864114,0.032113514679689044,0.13641754500856487,-0.5508822684203448,-0.7516436959296743,-1.5120659105433971,-0.4930572945673687,-1.275143852446616,-0.2825458276470288,1.4905823434824856,2.1551477746808154,-0.9310367567773862,-1.061054264155902,1.0665214541362709,-1.8751765830661236,0.653153059453366,1.4506347515072997,-0.9590560765123353,-0.24383642257046884,1.6048707595410525,0.7071398167413696,0.004568993411117865,0.5129872622888353,-0.39286412014569133,-0.5221150039952728,1.3346594180348332,-0.7024981853269824,-0.11414500595587583,1.2003488756137317,1.7493417681494021,0.6752143546481547,-0.8184935604263186,-0.2581829311970378,0.9280082927314212,-0.6604373754484952,-0.18625962628404644,0.16822538927592579,0.6297523928533115,0.6924571249670833,0.28395965797574535,-1.3144078645262325,0.3839284076826824,-0.1993281290111844,-1.2003550856895944,1.1836024206075546,-0.12913662513353683],\"xaxis\":\"x11\",\"yaxis\":\"y11\",\"type\":\"histogram\"},{\"line\":{\"color\":\"rgba(128, 128, 128, 1.0)\",\"dash\":\"solid\",\"shape\":\"linear\",\"width\":1.3},\"marker\":{\"size\":2,\"symbol\":\"circle\"},\"mode\":\"markers\",\"name\":\"C\",\"text\":\"\",\"x\":[0.3607780144857141,-1.736483245906638,1.370195273582514,-1.5718797598932561,-0.05756355422800969,-0.6772751114683593,-0.07529215899163981,-0.1452912408818085,0.49035405932254233,0.30234597945250474,0.6842480903876552,-0.40599823004490554,1.2582020482948042,0.21291115134881447,-0.015374437747275623,0.6390283572173161,-0.027764230845340396,0.09392743468720419,0.2007828003880154,0.7914466592262185,-0.8818917132934164,-0.5354115159200049,0.9787343037816126,0.9041879207648577,0.580346319482985,0.5587553277693843,-0.5767422132236388,1.7041155268185804,0.35955119695135196,1.4470150968554383,0.5709417055446602,2.517413082856456,-2.41261764029486,0.8167752802539817,-0.950665900490461,0.019441322827203806,1.3445172531158445,0.09164091168883791,-0.9804558464000153,0.9950278644440643,2.040039457635569,0.8233652503576577,0.09320935942000907,0.7824692929688539,-0.033251792009062156,0.8309132583341456,-2.055074057365009,2.3001823769277983,1.4735387567281197,1.0523117396903963,-0.07069267403463227,-0.20586395159910603,-0.2449212954706954,-0.9193848496056759,0.8022003396951617,-0.4274016250026047,-0.8607571099585395,-0.12271895141875051,-1.0896364079342726,0.33004573423334593,2.420637688738529,0.048025965534223704,0.49528546231342674,-0.2778627476477282,-1.849100950543068,-0.0019751977459464398,0.2647954570670259,-0.62459940196595,-0.22351139186585264,-0.4726220462557567,-1.0175813974574868,-0.2703853511514275,0.3392617094139369,2.3134911319417726,0.554213911969139,-0.37538440210672497,-0.3187688768183547,0.9828674479352021,-0.7491799245032438,-0.9399274251094801,-0.1524355810165516,0.617404590362444,-1.4671006696257103,-0.07320755120663704,-0.5423822124016995,0.6862267390834078,0.8431217639131952,0.4796437026135891,-0.6350121466739759,0.003730501791416347,-0.10942054044250821,1.15951300833599,-1.0405210380598184,0.6998039483445962,-0.3150735159220903,-0.7932227671372611,0.8005035393487423,-1.863356499942961,1.779389968330466,-0.1498312213827943],\"xaxis\":\"x12\",\"y\":[-0.2749675429277293,1.9335738697817635,-0.665119830943065,-0.9252316804236914,1.0778923066152155,0.09614114435062843,-1.3013861632886932,-0.16683601823644134,-0.8287054846972015,-0.5754212693290882,-0.5333213753996034,0.670677131854899,0.6299184200543384,-0.20771670278614038,0.5326574703993484,-0.335603024423566,1.1158322125620264,0.465600987062726,1.2648695639487362,0.9643342871739559,1.0121368707060108,1.2593190048982323,-0.663309963598204,1.644255108143534,-0.9734410059359437,0.4377929440560526,0.8412287490834214,1.130785939539371,-1.6025673570846466,1.0058558286498844,-1.3754887279084487,-2.417982272375856,1.5154293905760403,-0.0770243980088766,0.2518943344359841,-0.49834527210663154,-1.7223016131675526,-0.6071283327981475,0.20026527026858776,-1.1900577442502676,-0.12645879968706566,-1.0640645206341206,-1.1808148826835738,0.9127152879851413,-2.3296362911548396,-0.5082559735896763,-0.523612349427821,0.2825608273518654,-0.5986937853542252,1.5886041083870857,0.5077542474050725,-0.23080366161010027,-1.6616857287890443,-0.7108527760230315,0.28025870639864114,0.032113514679689044,0.13641754500856487,-0.5508822684203448,-0.7516436959296743,-1.5120659105433971,-0.4930572945673687,-1.275143852446616,-0.2825458276470288,1.4905823434824856,2.1551477746808154,-0.9310367567773862,-1.061054264155902,1.0665214541362709,-1.8751765830661236,0.653153059453366,1.4506347515072997,-0.9590560765123353,-0.24383642257046884,1.6048707595410525,0.7071398167413696,0.004568993411117865,0.5129872622888353,-0.39286412014569133,-0.5221150039952728,1.3346594180348332,-0.7024981853269824,-0.11414500595587583,1.2003488756137317,1.7493417681494021,0.6752143546481547,-0.8184935604263186,-0.2581829311970378,0.9280082927314212,-0.6604373754484952,-0.18625962628404644,0.16822538927592579,0.6297523928533115,0.6924571249670833,0.28395965797574535,-1.3144078645262325,0.3839284076826824,-0.1993281290111844,-1.2003550856895944,1.1836024206075546,-0.12913662513353683],\"yaxis\":\"y12\",\"type\":\"scatter\"},{\"line\":{\"color\":\"rgba(128, 128, 128, 1.0)\",\"dash\":\"solid\",\"shape\":\"linear\",\"width\":1.3},\"marker\":{\"size\":2,\"symbol\":\"circle\"},\"mode\":\"markers\",\"name\":\"D\",\"text\":\"\",\"x\":[-1.7190432325639267,-1.0444212488203901,-1.2281548596652592,-0.1880998649496823,-0.023666518836465148,0.27316113327019337,0.1392557211801331,-0.1494975001196965,-0.3281889047311518,0.7630128577687965,-0.9887978159070222,1.7602940270080043,-0.2443307029648765,0.0605555077267923,0.1608818236220502,1.4725369594926774,0.7975054750093041,-1.2597645955801993,-0.2836042636557704,-1.3410643134511464,-3.082807509142449,0.10040955668920086,0.1190737877344889,-0.5194247208533813,-0.16041717951496873,-0.42019672544201253,-1.04630908270048,-1.0746470636561334,-0.2507817944882134,1.3128743750521201,0.47677732348050544,-0.5016507885943113,-0.407164342153989,-0.4952068718492648,-1.9667141629945057,0.330738501568156,0.8231660176547433,-0.5410515779966526,-0.46213876737850607,0.7763166570459573,-0.6854161078703633,0.9258852531425174,0.4452776659573741,0.1433919156308816,-0.5098633064390098,-1.6418834096841597,-0.9962361443896429,0.22733971103411632,1.8023099350953908,-0.46223753528257855,1.2024043335033523,-0.021680216105745824,-0.11402535562032319,-1.4421018473008114,-1.9768110804667434,0.771427797107187,-1.0961710380387748,0.5565420326255095,-1.2145782582885567,0.30716424383178914,-0.12051682741956476,0.08116981124048986,0.44409374469694546,0.32083407252942153,0.3284735979520984,1.2192042097398912,-0.08975218466167159,-0.7140739603542511,0.4929877565568179,-1.2495573399079385,-0.6551128437891885,-0.8055926026047565,0.9759313697721583,-0.32086986532559747,0.24938951455511105,1.0442989049164786,-0.21363696146902908,0.570467105783283,0.2018693877141919,-0.13677987220970744,1.141767519963179,-0.006674965663933419,-1.4001570009577424,-1.223387694657123,-1.5242392898964017,0.36198253172389483,-1.1542234126310464,-0.0432496695709186,-0.5385172809397573,-0.22561010953102295,-0.8815368257685243,0.03440737070312135,0.380176200295355,0.5451192543663047,2.1009187284632276,1.2262948214107132,-1.1259771549283395,-0.4092797319064413,0.8238088159521023,2.701443028227148],\"xaxis\":\"x13\",\"y\":[0.3607780144857141,-1.736483245906638,1.370195273582514,-1.5718797598932561,-0.05756355422800969,-0.6772751114683593,-0.07529215899163981,-0.1452912408818085,0.49035405932254233,0.30234597945250474,0.6842480903876552,-0.40599823004490554,1.2582020482948042,0.21291115134881447,-0.015374437747275623,0.6390283572173161,-0.027764230845340396,0.09392743468720419,0.2007828003880154,0.7914466592262185,-0.8818917132934164,-0.5354115159200049,0.9787343037816126,0.9041879207648577,0.580346319482985,0.5587553277693843,-0.5767422132236388,1.7041155268185804,0.35955119695135196,1.4470150968554383,0.5709417055446602,2.517413082856456,-2.41261764029486,0.8167752802539817,-0.950665900490461,0.019441322827203806,1.3445172531158445,0.09164091168883791,-0.9804558464000153,0.9950278644440643,2.040039457635569,0.8233652503576577,0.09320935942000907,0.7824692929688539,-0.033251792009062156,0.8309132583341456,-2.055074057365009,2.3001823769277983,1.4735387567281197,1.0523117396903963,-0.07069267403463227,-0.20586395159910603,-0.2449212954706954,-0.9193848496056759,0.8022003396951617,-0.4274016250026047,-0.8607571099585395,-0.12271895141875051,-1.0896364079342726,0.33004573423334593,2.420637688738529,0.048025965534223704,0.49528546231342674,-0.2778627476477282,-1.849100950543068,-0.0019751977459464398,0.2647954570670259,-0.62459940196595,-0.22351139186585264,-0.4726220462557567,-1.0175813974574868,-0.2703853511514275,0.3392617094139369,2.3134911319417726,0.554213911969139,-0.37538440210672497,-0.3187688768183547,0.9828674479352021,-0.7491799245032438,-0.9399274251094801,-0.1524355810165516,0.617404590362444,-1.4671006696257103,-0.07320755120663704,-0.5423822124016995,0.6862267390834078,0.8431217639131952,0.4796437026135891,-0.6350121466739759,0.003730501791416347,-0.10942054044250821,1.15951300833599,-1.0405210380598184,0.6998039483445962,-0.3150735159220903,-0.7932227671372611,0.8005035393487423,-1.863356499942961,1.779389968330466,-0.1498312213827943],\"yaxis\":\"y13\",\"type\":\"scatter\"},{\"line\":{\"color\":\"rgba(128, 128, 128, 1.0)\",\"dash\":\"solid\",\"shape\":\"linear\",\"width\":1.3},\"marker\":{\"size\":2,\"symbol\":\"circle\"},\"mode\":\"markers\",\"name\":\"D\",\"text\":\"\",\"x\":[-0.7453650578061853,-0.732485868230905,2.571440856130466,-1.3288014757770887,-0.37571548259490545,1.353542151236892,1.93286073520079,2.0533955712126146,-0.6382279278868261,1.006911855066834,-0.8508485018441402,-0.3345162882904823,0.8196876101635465,-0.5182830042287909,-0.8872208937328169,-0.6977613360071452,0.8329749491099315,1.6278156329603701,-0.5918599160082817,0.5979676482099805,-0.21096248033595624,0.6580358342875058,0.07754165507905827,-0.3918294815826402,-0.12282736170431181,-0.4380063170871286,0.24626681996064265,-0.4750318627570162,-0.2941999491946126,-1.5270439756558192,-0.18562428035420844,-0.5423611512392887,-1.2264486791305123,0.3676093812347672,1.033419704658409,-0.6567831499467796,-0.7032492021918825,-1.1557532341470151,0.5600311571157386,-0.9334259060271239,-0.5989668140682524,-1.3131661082909658,-0.9527241875250738,2.1076321001344995,0.7907645450042046,0.045317753071620864,-0.5422493792125058,0.09857118965031991,0.6052916763925353,-0.392869883278384,-2.1728167312609594,0.19129452413895515,-0.4482696369760158,0.7536670650604307,3.0297697508518535,-1.4843336527711002,0.24516289995024912,-0.07823342244748287,1.8600695154382882,0.1652695904259634,0.5803836626659503,0.23363792298583005,1.9757625435411996,0.2668853669235514,-0.9279029959151173,-0.4834953930206035,-0.6366637869200468,-0.15419250778739807,-1.0199977291771138,0.927786461653511,0.4029687170081699,0.8255307678139705,0.6168162267979052,0.6284463701216723,-1.9754562759861336,-2.104602026931329,0.9544746502463938,-1.0692132136829424,0.7449650141369406,0.34937979315948636,1.2680493437929372,0.45804927462531686,1.5888458959012468,-0.6233348854103765,-0.46910717109893024,-1.9199036442570905,1.8333260115694225,0.44932592617168915,-0.8415764549515934,-1.8682125418564481,-0.11105533756615614,0.17216434633769956,0.6110137590737573,0.8806559097453874,-1.3571457712679595,1.6712324155356806,-0.9400650924848841,-1.2679553064567328,-0.885456193058384,0.22823409955739418],\"xaxis\":\"x14\",\"y\":[0.3607780144857141,-1.736483245906638,1.370195273582514,-1.5718797598932561,-0.05756355422800969,-0.6772751114683593,-0.07529215899163981,-0.1452912408818085,0.49035405932254233,0.30234597945250474,0.6842480903876552,-0.40599823004490554,1.2582020482948042,0.21291115134881447,-0.015374437747275623,0.6390283572173161,-0.027764230845340396,0.09392743468720419,0.2007828003880154,0.7914466592262185,-0.8818917132934164,-0.5354115159200049,0.9787343037816126,0.9041879207648577,0.580346319482985,0.5587553277693843,-0.5767422132236388,1.7041155268185804,0.35955119695135196,1.4470150968554383,0.5709417055446602,2.517413082856456,-2.41261764029486,0.8167752802539817,-0.950665900490461,0.019441322827203806,1.3445172531158445,0.09164091168883791,-0.9804558464000153,0.9950278644440643,2.040039457635569,0.8233652503576577,0.09320935942000907,0.7824692929688539,-0.033251792009062156,0.8309132583341456,-2.055074057365009,2.3001823769277983,1.4735387567281197,1.0523117396903963,-0.07069267403463227,-0.20586395159910603,-0.2449212954706954,-0.9193848496056759,0.8022003396951617,-0.4274016250026047,-0.8607571099585395,-0.12271895141875051,-1.0896364079342726,0.33004573423334593,2.420637688738529,0.048025965534223704,0.49528546231342674,-0.2778627476477282,-1.849100950543068,-0.0019751977459464398,0.2647954570670259,-0.62459940196595,-0.22351139186585264,-0.4726220462557567,-1.0175813974574868,-0.2703853511514275,0.3392617094139369,2.3134911319417726,0.554213911969139,-0.37538440210672497,-0.3187688768183547,0.9828674479352021,-0.7491799245032438,-0.9399274251094801,-0.1524355810165516,0.617404590362444,-1.4671006696257103,-0.07320755120663704,-0.5423822124016995,0.6862267390834078,0.8431217639131952,0.4796437026135891,-0.6350121466739759,0.003730501791416347,-0.10942054044250821,1.15951300833599,-1.0405210380598184,0.6998039483445962,-0.3150735159220903,-0.7932227671372611,0.8005035393487423,-1.863356499942961,1.779389968330466,-0.1498312213827943],\"yaxis\":\"y14\",\"type\":\"scatter\"},{\"line\":{\"color\":\"rgba(128, 128, 128, 1.0)\",\"dash\":\"solid\",\"shape\":\"linear\",\"width\":1.3},\"marker\":{\"size\":2,\"symbol\":\"circle\"},\"mode\":\"markers\",\"name\":\"D\",\"text\":\"\",\"x\":[-0.2749675429277293,1.9335738697817635,-0.665119830943065,-0.9252316804236914,1.0778923066152155,0.09614114435062843,-1.3013861632886932,-0.16683601823644134,-0.8287054846972015,-0.5754212693290882,-0.5333213753996034,0.670677131854899,0.6299184200543384,-0.20771670278614038,0.5326574703993484,-0.335603024423566,1.1158322125620264,0.465600987062726,1.2648695639487362,0.9643342871739559,1.0121368707060108,1.2593190048982323,-0.663309963598204,1.644255108143534,-0.9734410059359437,0.4377929440560526,0.8412287490834214,1.130785939539371,-1.6025673570846466,1.0058558286498844,-1.3754887279084487,-2.417982272375856,1.5154293905760403,-0.0770243980088766,0.2518943344359841,-0.49834527210663154,-1.7223016131675526,-0.6071283327981475,0.20026527026858776,-1.1900577442502676,-0.12645879968706566,-1.0640645206341206,-1.1808148826835738,0.9127152879851413,-2.3296362911548396,-0.5082559735896763,-0.523612349427821,0.2825608273518654,-0.5986937853542252,1.5886041083870857,0.5077542474050725,-0.23080366161010027,-1.6616857287890443,-0.7108527760230315,0.28025870639864114,0.032113514679689044,0.13641754500856487,-0.5508822684203448,-0.7516436959296743,-1.5120659105433971,-0.4930572945673687,-1.275143852446616,-0.2825458276470288,1.4905823434824856,2.1551477746808154,-0.9310367567773862,-1.061054264155902,1.0665214541362709,-1.8751765830661236,0.653153059453366,1.4506347515072997,-0.9590560765123353,-0.24383642257046884,1.6048707595410525,0.7071398167413696,0.004568993411117865,0.5129872622888353,-0.39286412014569133,-0.5221150039952728,1.3346594180348332,-0.7024981853269824,-0.11414500595587583,1.2003488756137317,1.7493417681494021,0.6752143546481547,-0.8184935604263186,-0.2581829311970378,0.9280082927314212,-0.6604373754484952,-0.18625962628404644,0.16822538927592579,0.6297523928533115,0.6924571249670833,0.28395965797574535,-1.3144078645262325,0.3839284076826824,-0.1993281290111844,-1.2003550856895944,1.1836024206075546,-0.12913662513353683],\"xaxis\":\"x15\",\"y\":[0.3607780144857141,-1.736483245906638,1.370195273582514,-1.5718797598932561,-0.05756355422800969,-0.6772751114683593,-0.07529215899163981,-0.1452912408818085,0.49035405932254233,0.30234597945250474,0.6842480903876552,-0.40599823004490554,1.2582020482948042,0.21291115134881447,-0.015374437747275623,0.6390283572173161,-0.027764230845340396,0.09392743468720419,0.2007828003880154,0.7914466592262185,-0.8818917132934164,-0.5354115159200049,0.9787343037816126,0.9041879207648577,0.580346319482985,0.5587553277693843,-0.5767422132236388,1.7041155268185804,0.35955119695135196,1.4470150968554383,0.5709417055446602,2.517413082856456,-2.41261764029486,0.8167752802539817,-0.950665900490461,0.019441322827203806,1.3445172531158445,0.09164091168883791,-0.9804558464000153,0.9950278644440643,2.040039457635569,0.8233652503576577,0.09320935942000907,0.7824692929688539,-0.033251792009062156,0.8309132583341456,-2.055074057365009,2.3001823769277983,1.4735387567281197,1.0523117396903963,-0.07069267403463227,-0.20586395159910603,-0.2449212954706954,-0.9193848496056759,0.8022003396951617,-0.4274016250026047,-0.8607571099585395,-0.12271895141875051,-1.0896364079342726,0.33004573423334593,2.420637688738529,0.048025965534223704,0.49528546231342674,-0.2778627476477282,-1.849100950543068,-0.0019751977459464398,0.2647954570670259,-0.62459940196595,-0.22351139186585264,-0.4726220462557567,-1.0175813974574868,-0.2703853511514275,0.3392617094139369,2.3134911319417726,0.554213911969139,-0.37538440210672497,-0.3187688768183547,0.9828674479352021,-0.7491799245032438,-0.9399274251094801,-0.1524355810165516,0.617404590362444,-1.4671006696257103,-0.07320755120663704,-0.5423822124016995,0.6862267390834078,0.8431217639131952,0.4796437026135891,-0.6350121466739759,0.003730501791416347,-0.10942054044250821,1.15951300833599,-1.0405210380598184,0.6998039483445962,-0.3150735159220903,-0.7932227671372611,0.8005035393487423,-1.863356499942961,1.779389968330466,-0.1498312213827943],\"yaxis\":\"y15\",\"type\":\"scatter\"},{\"histfunc\":\"count\",\"histnorm\":\"\",\"marker\":{\"color\":\"rgba(128, 0, 128, 1.0)\",\"line\":{\"color\":\"#4D5663\",\"width\":1.3}},\"name\":\"D\",\"nbinsx\":10,\"opacity\":0.8,\"orientation\":\"v\",\"x\":[0.3607780144857141,-1.736483245906638,1.370195273582514,-1.5718797598932561,-0.05756355422800969,-0.6772751114683593,-0.07529215899163981,-0.1452912408818085,0.49035405932254233,0.30234597945250474,0.6842480903876552,-0.40599823004490554,1.2582020482948042,0.21291115134881447,-0.015374437747275623,0.6390283572173161,-0.027764230845340396,0.09392743468720419,0.2007828003880154,0.7914466592262185,-0.8818917132934164,-0.5354115159200049,0.9787343037816126,0.9041879207648577,0.580346319482985,0.5587553277693843,-0.5767422132236388,1.7041155268185804,0.35955119695135196,1.4470150968554383,0.5709417055446602,2.517413082856456,-2.41261764029486,0.8167752802539817,-0.950665900490461,0.019441322827203806,1.3445172531158445,0.09164091168883791,-0.9804558464000153,0.9950278644440643,2.040039457635569,0.8233652503576577,0.09320935942000907,0.7824692929688539,-0.033251792009062156,0.8309132583341456,-2.055074057365009,2.3001823769277983,1.4735387567281197,1.0523117396903963,-0.07069267403463227,-0.20586395159910603,-0.2449212954706954,-0.9193848496056759,0.8022003396951617,-0.4274016250026047,-0.8607571099585395,-0.12271895141875051,-1.0896364079342726,0.33004573423334593,2.420637688738529,0.048025965534223704,0.49528546231342674,-0.2778627476477282,-1.849100950543068,-0.0019751977459464398,0.2647954570670259,-0.62459940196595,-0.22351139186585264,-0.4726220462557567,-1.0175813974574868,-0.2703853511514275,0.3392617094139369,2.3134911319417726,0.554213911969139,-0.37538440210672497,-0.3187688768183547,0.9828674479352021,-0.7491799245032438,-0.9399274251094801,-0.1524355810165516,0.617404590362444,-1.4671006696257103,-0.07320755120663704,-0.5423822124016995,0.6862267390834078,0.8431217639131952,0.4796437026135891,-0.6350121466739759,0.003730501791416347,-0.10942054044250821,1.15951300833599,-1.0405210380598184,0.6998039483445962,-0.3150735159220903,-0.7932227671372611,0.8005035393487423,-1.863356499942961,1.779389968330466,-0.1498312213827943],\"xaxis\":\"x16\",\"yaxis\":\"y16\",\"type\":\"histogram\"}],                        {\"bargap\":0.02,\"legend\":{\"bgcolor\":\"#F5F6F9\",\"font\":{\"color\":\"#4D5663\"}},\"paper_bgcolor\":\"#F5F6F9\",\"plot_bgcolor\":\"#F5F6F9\",\"showlegend\":false,\"template\":{\"data\":{\"barpolar\":[{\"marker\":{\"line\":{\"color\":\"#E5ECF6\",\"width\":0.5},\"pattern\":{\"fillmode\":\"overlay\",\"size\":10,\"solidity\":0.2}},\"type\":\"barpolar\"}],\"bar\":[{\"error_x\":{\"color\":\"#2a3f5f\"},\"error_y\":{\"color\":\"#2a3f5f\"},\"marker\":{\"line\":{\"color\":\"#E5ECF6\",\"width\":0.5},\"pattern\":{\"fillmode\":\"overlay\",\"size\":10,\"solidity\":0.2}},\"type\":\"bar\"}],\"carpet\":[{\"aaxis\":{\"endlinecolor\":\"#2a3f5f\",\"gridcolor\":\"white\",\"linecolor\":\"white\",\"minorgridcolor\":\"white\",\"startlinecolor\":\"#2a3f5f\"},\"baxis\":{\"endlinecolor\":\"#2a3f5f\",\"gridcolor\":\"white\",\"linecolor\":\"white\",\"minorgridcolor\":\"white\",\"startlinecolor\":\"#2a3f5f\"},\"type\":\"carpet\"}],\"choropleth\":[{\"colorbar\":{\"outlinewidth\":0,\"ticks\":\"\"},\"type\":\"choropleth\"}],\"contourcarpet\":[{\"colorbar\":{\"outlinewidth\":0,\"ticks\":\"\"},\"type\":\"contourcarpet\"}],\"contour\":[{\"colorbar\":{\"outlinewidth\":0,\"ticks\":\"\"},\"colorscale\":[[0.0,\"#0d0887\"],[0.1111111111111111,\"#46039f\"],[0.2222222222222222,\"#7201a8\"],[0.3333333333333333,\"#9c179e\"],[0.4444444444444444,\"#bd3786\"],[0.5555555555555556,\"#d8576b\"],[0.6666666666666666,\"#ed7953\"],[0.7777777777777778,\"#fb9f3a\"],[0.8888888888888888,\"#fdca26\"],[1.0,\"#f0f921\"]],\"type\":\"contour\"}],\"heatmapgl\":[{\"colorbar\":{\"outlinewidth\":0,\"ticks\":\"\"},\"colorscale\":[[0.0,\"#0d0887\"],[0.1111111111111111,\"#46039f\"],[0.2222222222222222,\"#7201a8\"],[0.3333333333333333,\"#9c179e\"],[0.4444444444444444,\"#bd3786\"],[0.5555555555555556,\"#d8576b\"],[0.6666666666666666,\"#ed7953\"],[0.7777777777777778,\"#fb9f3a\"],[0.8888888888888888,\"#fdca26\"],[1.0,\"#f0f921\"]],\"type\":\"heatmapgl\"}],\"heatmap\":[{\"colorbar\":{\"outlinewidth\":0,\"ticks\":\"\"},\"colorscale\":[[0.0,\"#0d0887\"],[0.1111111111111111,\"#46039f\"],[0.2222222222222222,\"#7201a8\"],[0.3333333333333333,\"#9c179e\"],[0.4444444444444444,\"#bd3786\"],[0.5555555555555556,\"#d8576b\"],[0.6666666666666666,\"#ed7953\"],[0.7777777777777778,\"#fb9f3a\"],[0.8888888888888888,\"#fdca26\"],[1.0,\"#f0f921\"]],\"type\":\"heatmap\"}],\"histogram2dcontour\":[{\"colorbar\":{\"outlinewidth\":0,\"ticks\":\"\"},\"colorscale\":[[0.0,\"#0d0887\"],[0.1111111111111111,\"#46039f\"],[0.2222222222222222,\"#7201a8\"],[0.3333333333333333,\"#9c179e\"],[0.4444444444444444,\"#bd3786\"],[0.5555555555555556,\"#d8576b\"],[0.6666666666666666,\"#ed7953\"],[0.7777777777777778,\"#fb9f3a\"],[0.8888888888888888,\"#fdca26\"],[1.0,\"#f0f921\"]],\"type\":\"histogram2dcontour\"}],\"histogram2d\":[{\"colorbar\":{\"outlinewidth\":0,\"ticks\":\"\"},\"colorscale\":[[0.0,\"#0d0887\"],[0.1111111111111111,\"#46039f\"],[0.2222222222222222,\"#7201a8\"],[0.3333333333333333,\"#9c179e\"],[0.4444444444444444,\"#bd3786\"],[0.5555555555555556,\"#d8576b\"],[0.6666666666666666,\"#ed7953\"],[0.7777777777777778,\"#fb9f3a\"],[0.8888888888888888,\"#fdca26\"],[1.0,\"#f0f921\"]],\"type\":\"histogram2d\"}],\"histogram\":[{\"marker\":{\"pattern\":{\"fillmode\":\"overlay\",\"size\":10,\"solidity\":0.2}},\"type\":\"histogram\"}],\"mesh3d\":[{\"colorbar\":{\"outlinewidth\":0,\"ticks\":\"\"},\"type\":\"mesh3d\"}],\"parcoords\":[{\"line\":{\"colorbar\":{\"outlinewidth\":0,\"ticks\":\"\"}},\"type\":\"parcoords\"}],\"pie\":[{\"automargin\":true,\"type\":\"pie\"}],\"scatter3d\":[{\"line\":{\"colorbar\":{\"outlinewidth\":0,\"ticks\":\"\"}},\"marker\":{\"colorbar\":{\"outlinewidth\":0,\"ticks\":\"\"}},\"type\":\"scatter3d\"}],\"scattercarpet\":[{\"marker\":{\"colorbar\":{\"outlinewidth\":0,\"ticks\":\"\"}},\"type\":\"scattercarpet\"}],\"scattergeo\":[{\"marker\":{\"colorbar\":{\"outlinewidth\":0,\"ticks\":\"\"}},\"type\":\"scattergeo\"}],\"scattergl\":[{\"marker\":{\"colorbar\":{\"outlinewidth\":0,\"ticks\":\"\"}},\"type\":\"scattergl\"}],\"scattermapbox\":[{\"marker\":{\"colorbar\":{\"outlinewidth\":0,\"ticks\":\"\"}},\"type\":\"scattermapbox\"}],\"scatterpolargl\":[{\"marker\":{\"colorbar\":{\"outlinewidth\":0,\"ticks\":\"\"}},\"type\":\"scatterpolargl\"}],\"scatterpolar\":[{\"marker\":{\"colorbar\":{\"outlinewidth\":0,\"ticks\":\"\"}},\"type\":\"scatterpolar\"}],\"scatter\":[{\"fillpattern\":{\"fillmode\":\"overlay\",\"size\":10,\"solidity\":0.2},\"type\":\"scatter\"}],\"scatterternary\":[{\"marker\":{\"colorbar\":{\"outlinewidth\":0,\"ticks\":\"\"}},\"type\":\"scatterternary\"}],\"surface\":[{\"colorbar\":{\"outlinewidth\":0,\"ticks\":\"\"},\"colorscale\":[[0.0,\"#0d0887\"],[0.1111111111111111,\"#46039f\"],[0.2222222222222222,\"#7201a8\"],[0.3333333333333333,\"#9c179e\"],[0.4444444444444444,\"#bd3786\"],[0.5555555555555556,\"#d8576b\"],[0.6666666666666666,\"#ed7953\"],[0.7777777777777778,\"#fb9f3a\"],[0.8888888888888888,\"#fdca26\"],[1.0,\"#f0f921\"]],\"type\":\"surface\"}],\"table\":[{\"cells\":{\"fill\":{\"color\":\"#EBF0F8\"},\"line\":{\"color\":\"white\"}},\"header\":{\"fill\":{\"color\":\"#C8D4E3\"},\"line\":{\"color\":\"white\"}},\"type\":\"table\"}]},\"layout\":{\"annotationdefaults\":{\"arrowcolor\":\"#2a3f5f\",\"arrowhead\":0,\"arrowwidth\":1},\"autotypenumbers\":\"strict\",\"coloraxis\":{\"colorbar\":{\"outlinewidth\":0,\"ticks\":\"\"}},\"colorscale\":{\"diverging\":[[0,\"#8e0152\"],[0.1,\"#c51b7d\"],[0.2,\"#de77ae\"],[0.3,\"#f1b6da\"],[0.4,\"#fde0ef\"],[0.5,\"#f7f7f7\"],[0.6,\"#e6f5d0\"],[0.7,\"#b8e186\"],[0.8,\"#7fbc41\"],[0.9,\"#4d9221\"],[1,\"#276419\"]],\"sequential\":[[0.0,\"#0d0887\"],[0.1111111111111111,\"#46039f\"],[0.2222222222222222,\"#7201a8\"],[0.3333333333333333,\"#9c179e\"],[0.4444444444444444,\"#bd3786\"],[0.5555555555555556,\"#d8576b\"],[0.6666666666666666,\"#ed7953\"],[0.7777777777777778,\"#fb9f3a\"],[0.8888888888888888,\"#fdca26\"],[1.0,\"#f0f921\"]],\"sequentialminus\":[[0.0,\"#0d0887\"],[0.1111111111111111,\"#46039f\"],[0.2222222222222222,\"#7201a8\"],[0.3333333333333333,\"#9c179e\"],[0.4444444444444444,\"#bd3786\"],[0.5555555555555556,\"#d8576b\"],[0.6666666666666666,\"#ed7953\"],[0.7777777777777778,\"#fb9f3a\"],[0.8888888888888888,\"#fdca26\"],[1.0,\"#f0f921\"]]},\"colorway\":[\"#636efa\",\"#EF553B\",\"#00cc96\",\"#ab63fa\",\"#FFA15A\",\"#19d3f3\",\"#FF6692\",\"#B6E880\",\"#FF97FF\",\"#FECB52\"],\"font\":{\"color\":\"#2a3f5f\"},\"geo\":{\"bgcolor\":\"white\",\"lakecolor\":\"white\",\"landcolor\":\"#E5ECF6\",\"showlakes\":true,\"showland\":true,\"subunitcolor\":\"white\"},\"hoverlabel\":{\"align\":\"left\"},\"hovermode\":\"closest\",\"mapbox\":{\"style\":\"light\"},\"paper_bgcolor\":\"white\",\"plot_bgcolor\":\"#E5ECF6\",\"polar\":{\"angularaxis\":{\"gridcolor\":\"white\",\"linecolor\":\"white\",\"ticks\":\"\"},\"bgcolor\":\"#E5ECF6\",\"radialaxis\":{\"gridcolor\":\"white\",\"linecolor\":\"white\",\"ticks\":\"\"}},\"scene\":{\"xaxis\":{\"backgroundcolor\":\"#E5ECF6\",\"gridcolor\":\"white\",\"gridwidth\":2,\"linecolor\":\"white\",\"showbackground\":true,\"ticks\":\"\",\"zerolinecolor\":\"white\"},\"yaxis\":{\"backgroundcolor\":\"#E5ECF6\",\"gridcolor\":\"white\",\"gridwidth\":2,\"linecolor\":\"white\",\"showbackground\":true,\"ticks\":\"\",\"zerolinecolor\":\"white\"},\"zaxis\":{\"backgroundcolor\":\"#E5ECF6\",\"gridcolor\":\"white\",\"gridwidth\":2,\"linecolor\":\"white\",\"showbackground\":true,\"ticks\":\"\",\"zerolinecolor\":\"white\"}},\"shapedefaults\":{\"line\":{\"color\":\"#2a3f5f\"}},\"ternary\":{\"aaxis\":{\"gridcolor\":\"white\",\"linecolor\":\"white\",\"ticks\":\"\"},\"baxis\":{\"gridcolor\":\"white\",\"linecolor\":\"white\",\"ticks\":\"\"},\"bgcolor\":\"#E5ECF6\",\"caxis\":{\"gridcolor\":\"white\",\"linecolor\":\"white\",\"ticks\":\"\"}},\"title\":{\"x\":0.05},\"xaxis\":{\"automargin\":true,\"gridcolor\":\"white\",\"linecolor\":\"white\",\"ticks\":\"\",\"title\":{\"standoff\":15},\"zerolinecolor\":\"white\",\"zerolinewidth\":2},\"yaxis\":{\"automargin\":true,\"gridcolor\":\"white\",\"linecolor\":\"white\",\"ticks\":\"\",\"title\":{\"standoff\":15},\"zerolinecolor\":\"white\",\"zerolinewidth\":2}}},\"title\":{\"font\":{\"color\":\"#4D5663\"}},\"xaxis\":{\"anchor\":\"y\",\"domain\":[0.0,0.2125],\"gridcolor\":\"#E1E5ED\",\"showgrid\":false,\"tickfont\":{\"color\":\"#4D5663\"},\"title\":{\"font\":{\"color\":\"#4D5663\"},\"text\":\"\"},\"zerolinecolor\":\"#E1E5ED\"},\"yaxis\":{\"anchor\":\"x\",\"domain\":[0.8025,1.0],\"gridcolor\":\"#E1E5ED\",\"showgrid\":false,\"tickfont\":{\"color\":\"#4D5663\"},\"title\":{\"font\":{\"color\":\"#4D5663\"},\"text\":\"\"},\"zerolinecolor\":\"#E1E5ED\"},\"xaxis2\":{\"anchor\":\"y2\",\"domain\":[0.2625,0.475],\"gridcolor\":\"#E1E5ED\",\"showgrid\":false,\"tickfont\":{\"color\":\"#4D5663\"},\"title\":{\"font\":{\"color\":\"#4D5663\"},\"text\":\"\"},\"zerolinecolor\":\"#E1E5ED\"},\"yaxis2\":{\"anchor\":\"x2\",\"domain\":[0.8025,1.0],\"gridcolor\":\"#E1E5ED\",\"showgrid\":false,\"tickfont\":{\"color\":\"#4D5663\"},\"title\":{\"font\":{\"color\":\"#4D5663\"},\"text\":\"\"},\"zerolinecolor\":\"#E1E5ED\"},\"xaxis3\":{\"anchor\":\"y3\",\"domain\":[0.525,0.7375],\"gridcolor\":\"#E1E5ED\",\"showgrid\":false,\"tickfont\":{\"color\":\"#4D5663\"},\"title\":{\"font\":{\"color\":\"#4D5663\"},\"text\":\"\"},\"zerolinecolor\":\"#E1E5ED\"},\"yaxis3\":{\"anchor\":\"x3\",\"domain\":[0.8025,1.0],\"gridcolor\":\"#E1E5ED\",\"showgrid\":false,\"tickfont\":{\"color\":\"#4D5663\"},\"title\":{\"font\":{\"color\":\"#4D5663\"},\"text\":\"\"},\"zerolinecolor\":\"#E1E5ED\"},\"xaxis4\":{\"anchor\":\"y4\",\"domain\":[0.7875,1.0],\"gridcolor\":\"#E1E5ED\",\"showgrid\":false,\"tickfont\":{\"color\":\"#4D5663\"},\"title\":{\"font\":{\"color\":\"#4D5663\"},\"text\":\"\"},\"zerolinecolor\":\"#E1E5ED\"},\"yaxis4\":{\"anchor\":\"x4\",\"domain\":[0.8025,1.0],\"gridcolor\":\"#E1E5ED\",\"showgrid\":false,\"tickfont\":{\"color\":\"#4D5663\"},\"title\":{\"font\":{\"color\":\"#4D5663\"},\"text\":\"\"},\"zerolinecolor\":\"#E1E5ED\"},\"xaxis5\":{\"anchor\":\"y5\",\"domain\":[0.0,0.2125],\"gridcolor\":\"#E1E5ED\",\"showgrid\":false,\"tickfont\":{\"color\":\"#4D5663\"},\"title\":{\"font\":{\"color\":\"#4D5663\"},\"text\":\"\"},\"zerolinecolor\":\"#E1E5ED\"},\"yaxis5\":{\"anchor\":\"x5\",\"domain\":[0.535,0.7325],\"gridcolor\":\"#E1E5ED\",\"showgrid\":false,\"tickfont\":{\"color\":\"#4D5663\"},\"title\":{\"font\":{\"color\":\"#4D5663\"},\"text\":\"\"},\"zerolinecolor\":\"#E1E5ED\"},\"xaxis6\":{\"anchor\":\"y6\",\"domain\":[0.2625,0.475],\"gridcolor\":\"#E1E5ED\",\"showgrid\":false,\"tickfont\":{\"color\":\"#4D5663\"},\"title\":{\"font\":{\"color\":\"#4D5663\"},\"text\":\"\"},\"zerolinecolor\":\"#E1E5ED\"},\"yaxis6\":{\"anchor\":\"x6\",\"domain\":[0.535,0.7325],\"gridcolor\":\"#E1E5ED\",\"showgrid\":false,\"tickfont\":{\"color\":\"#4D5663\"},\"title\":{\"font\":{\"color\":\"#4D5663\"},\"text\":\"\"},\"zerolinecolor\":\"#E1E5ED\"},\"xaxis7\":{\"anchor\":\"y7\",\"domain\":[0.525,0.7375],\"gridcolor\":\"#E1E5ED\",\"showgrid\":false,\"tickfont\":{\"color\":\"#4D5663\"},\"title\":{\"font\":{\"color\":\"#4D5663\"},\"text\":\"\"},\"zerolinecolor\":\"#E1E5ED\"},\"yaxis7\":{\"anchor\":\"x7\",\"domain\":[0.535,0.7325],\"gridcolor\":\"#E1E5ED\",\"showgrid\":false,\"tickfont\":{\"color\":\"#4D5663\"},\"title\":{\"font\":{\"color\":\"#4D5663\"},\"text\":\"\"},\"zerolinecolor\":\"#E1E5ED\"},\"xaxis8\":{\"anchor\":\"y8\",\"domain\":[0.7875,1.0],\"gridcolor\":\"#E1E5ED\",\"showgrid\":false,\"tickfont\":{\"color\":\"#4D5663\"},\"title\":{\"font\":{\"color\":\"#4D5663\"},\"text\":\"\"},\"zerolinecolor\":\"#E1E5ED\"},\"yaxis8\":{\"anchor\":\"x8\",\"domain\":[0.535,0.7325],\"gridcolor\":\"#E1E5ED\",\"showgrid\":false,\"tickfont\":{\"color\":\"#4D5663\"},\"title\":{\"font\":{\"color\":\"#4D5663\"},\"text\":\"\"},\"zerolinecolor\":\"#E1E5ED\"},\"xaxis9\":{\"anchor\":\"y9\",\"domain\":[0.0,0.2125],\"gridcolor\":\"#E1E5ED\",\"showgrid\":false,\"tickfont\":{\"color\":\"#4D5663\"},\"title\":{\"font\":{\"color\":\"#4D5663\"},\"text\":\"\"},\"zerolinecolor\":\"#E1E5ED\"},\"yaxis9\":{\"anchor\":\"x9\",\"domain\":[0.2675,0.465],\"gridcolor\":\"#E1E5ED\",\"showgrid\":false,\"tickfont\":{\"color\":\"#4D5663\"},\"title\":{\"font\":{\"color\":\"#4D5663\"},\"text\":\"\"},\"zerolinecolor\":\"#E1E5ED\"},\"xaxis10\":{\"anchor\":\"y10\",\"domain\":[0.2625,0.475],\"gridcolor\":\"#E1E5ED\",\"showgrid\":false,\"tickfont\":{\"color\":\"#4D5663\"},\"title\":{\"font\":{\"color\":\"#4D5663\"},\"text\":\"\"},\"zerolinecolor\":\"#E1E5ED\"},\"yaxis10\":{\"anchor\":\"x10\",\"domain\":[0.2675,0.465],\"gridcolor\":\"#E1E5ED\",\"showgrid\":false,\"tickfont\":{\"color\":\"#4D5663\"},\"title\":{\"font\":{\"color\":\"#4D5663\"},\"text\":\"\"},\"zerolinecolor\":\"#E1E5ED\"},\"xaxis11\":{\"anchor\":\"y11\",\"domain\":[0.525,0.7375],\"gridcolor\":\"#E1E5ED\",\"showgrid\":false,\"tickfont\":{\"color\":\"#4D5663\"},\"title\":{\"font\":{\"color\":\"#4D5663\"},\"text\":\"\"},\"zerolinecolor\":\"#E1E5ED\"},\"yaxis11\":{\"anchor\":\"x11\",\"domain\":[0.2675,0.465],\"gridcolor\":\"#E1E5ED\",\"showgrid\":false,\"tickfont\":{\"color\":\"#4D5663\"},\"title\":{\"font\":{\"color\":\"#4D5663\"},\"text\":\"\"},\"zerolinecolor\":\"#E1E5ED\"},\"xaxis12\":{\"anchor\":\"y12\",\"domain\":[0.7875,1.0],\"gridcolor\":\"#E1E5ED\",\"showgrid\":false,\"tickfont\":{\"color\":\"#4D5663\"},\"title\":{\"font\":{\"color\":\"#4D5663\"},\"text\":\"\"},\"zerolinecolor\":\"#E1E5ED\"},\"yaxis12\":{\"anchor\":\"x12\",\"domain\":[0.2675,0.465],\"gridcolor\":\"#E1E5ED\",\"showgrid\":false,\"tickfont\":{\"color\":\"#4D5663\"},\"title\":{\"font\":{\"color\":\"#4D5663\"},\"text\":\"\"},\"zerolinecolor\":\"#E1E5ED\"},\"xaxis13\":{\"anchor\":\"y13\",\"domain\":[0.0,0.2125],\"gridcolor\":\"#E1E5ED\",\"showgrid\":false,\"tickfont\":{\"color\":\"#4D5663\"},\"title\":{\"font\":{\"color\":\"#4D5663\"},\"text\":\"\"},\"zerolinecolor\":\"#E1E5ED\"},\"yaxis13\":{\"anchor\":\"x13\",\"domain\":[0.0,0.1975],\"gridcolor\":\"#E1E5ED\",\"showgrid\":false,\"tickfont\":{\"color\":\"#4D5663\"},\"title\":{\"font\":{\"color\":\"#4D5663\"},\"text\":\"\"},\"zerolinecolor\":\"#E1E5ED\"},\"xaxis14\":{\"anchor\":\"y14\",\"domain\":[0.2625,0.475],\"gridcolor\":\"#E1E5ED\",\"showgrid\":false,\"tickfont\":{\"color\":\"#4D5663\"},\"title\":{\"font\":{\"color\":\"#4D5663\"},\"text\":\"\"},\"zerolinecolor\":\"#E1E5ED\"},\"yaxis14\":{\"anchor\":\"x14\",\"domain\":[0.0,0.1975],\"gridcolor\":\"#E1E5ED\",\"showgrid\":false,\"tickfont\":{\"color\":\"#4D5663\"},\"title\":{\"font\":{\"color\":\"#4D5663\"},\"text\":\"\"},\"zerolinecolor\":\"#E1E5ED\"},\"xaxis15\":{\"anchor\":\"y15\",\"domain\":[0.525,0.7375],\"gridcolor\":\"#E1E5ED\",\"showgrid\":false,\"tickfont\":{\"color\":\"#4D5663\"},\"title\":{\"font\":{\"color\":\"#4D5663\"},\"text\":\"\"},\"zerolinecolor\":\"#E1E5ED\"},\"yaxis15\":{\"anchor\":\"x15\",\"domain\":[0.0,0.1975],\"gridcolor\":\"#E1E5ED\",\"showgrid\":false,\"tickfont\":{\"color\":\"#4D5663\"},\"title\":{\"font\":{\"color\":\"#4D5663\"},\"text\":\"\"},\"zerolinecolor\":\"#E1E5ED\"},\"xaxis16\":{\"anchor\":\"y16\",\"domain\":[0.7875,1.0],\"gridcolor\":\"#E1E5ED\",\"showgrid\":false,\"tickfont\":{\"color\":\"#4D5663\"},\"title\":{\"font\":{\"color\":\"#4D5663\"},\"text\":\"\"},\"zerolinecolor\":\"#E1E5ED\"},\"yaxis16\":{\"anchor\":\"x16\",\"domain\":[0.0,0.1975],\"gridcolor\":\"#E1E5ED\",\"showgrid\":false,\"tickfont\":{\"color\":\"#4D5663\"},\"title\":{\"font\":{\"color\":\"#4D5663\"},\"text\":\"\"},\"zerolinecolor\":\"#E1E5ED\"}},                        {\"showLink\": true, \"linkText\": \"Export to plot.ly\", \"plotlyServerURL\": \"https://plot.ly\", \"responsive\": true}                    ).then(function(){\n",
       "                            \n",
       "var gd = document.getElementById('8f612cf2-5968-4088-99dc-2921eb84912a');\n",
       "var x = new MutationObserver(function (mutations, observer) {{\n",
       "        var display = window.getComputedStyle(gd).display;\n",
       "        if (!display || display === 'none') {{\n",
       "            console.log([gd, 'removed!']);\n",
       "            Plotly.purge(gd);\n",
       "            observer.disconnect();\n",
       "        }}\n",
       "}});\n",
       "\n",
       "// Listen for the removal of the full notebook cells\n",
       "var notebookContainer = gd.closest('#notebook-container');\n",
       "if (notebookContainer) {{\n",
       "    x.observe(notebookContainer, {childList: true});\n",
       "}}\n",
       "\n",
       "// Listen for the clearing of the current output cell\n",
       "var outputEl = gd.closest('.output');\n",
       "if (outputEl) {{\n",
       "    x.observe(outputEl, {childList: true});\n",
       "}}\n",
       "\n",
       "                        })                };                });            </script>        </div>"
      ]
     },
     "metadata": {},
     "output_type": "display_data"
    }
   ],
   "source": [
    "df.scatter_matrix()"
   ]
  },
  {
   "cell_type": "markdown",
   "metadata": {
    "collapsed": true
   },
   "source": [
    "# Great Job!"
   ]
  },
  {
   "cell_type": "markdown",
   "metadata": {},
   "source": []
  },
  {
   "cell_type": "markdown",
   "metadata": {},
   "source": []
  },
  {
   "cell_type": "markdown",
   "metadata": {},
   "source": []
  }
 ],
 "metadata": {
  "kernelspec": {
   "display_name": "Python 3",
   "language": "python",
   "name": "python3"
  },
  "language_info": {
   "codemirror_mode": {
    "name": "ipython",
    "version": 3
   },
   "file_extension": ".py",
   "mimetype": "text/x-python",
   "name": "python",
   "nbconvert_exporter": "python",
   "pygments_lexer": "ipython3",
   "version": "3.11.3"
  }
 },
 "nbformat": 4,
 "nbformat_minor": 0
}
